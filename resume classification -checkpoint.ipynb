{
 "cells": [
  {
   "cell_type": "code",
   "execution_count": 3,
   "id": "174a2612",
   "metadata": {
    "ExecuteTime": {
     "end_time": "2022-09-10T14:03:29.195614Z",
     "start_time": "2022-09-10T14:03:26.205537Z"
    }
   },
   "outputs": [
    {
     "name": "stdout",
     "output_type": "stream",
     "text": [
      "Defaulting to user installation because normal site-packages is not writeable\n",
      "Requirement already satisfied: docx2txt in c:\\users\\user\\appdata\\roaming\\python\\python39\\site-packages (0.8)\n",
      "Note: you may need to restart the kernel to use updated packages.\n"
     ]
    }
   ],
   "source": [
    "pip install docx2txt"
   ]
  },
  {
   "cell_type": "code",
   "execution_count": 4,
   "id": "8ef71deb",
   "metadata": {
    "ExecuteTime": {
     "end_time": "2022-09-10T14:03:29.225586Z",
     "start_time": "2022-09-10T14:03:29.198758Z"
    }
   },
   "outputs": [],
   "source": [
    "import os\n",
    "import docx2txt\n",
    "import warnings\n",
    "warnings.filterwarnings('ignore')"
   ]
  },
  {
   "cell_type": "code",
   "execution_count": 5,
   "id": "b153ab09",
   "metadata": {
    "ExecuteTime": {
     "end_time": "2022-09-10T14:03:29.510533Z",
     "start_time": "2022-09-10T14:03:29.229524Z"
    }
   },
   "outputs": [],
   "source": [
    "file_path = r\"C:\\Users\\User\\Desktop\\PROJECT 2\\Resumes\"\n",
    "extracted_data = []\n",
    "software_names = []\n",
    "def extract_data(file_path):\n",
    "    for file in os.listdir(file_path):\n",
    "        if file == 'developer':\n",
    "            final = os.path.join(file_path, file)\n",
    "            for data in os.listdir(final):\n",
    "                if data.endswith('.docx') :\n",
    "                    final_path = os.path.join(final, data)\n",
    "                    extracted_data.append(docx2txt.process(final_path))\n",
    "                    software_names.append(file)\n",
    "        elif file == 'Peoplesoft resumes':\n",
    "            final = os.path.join(file_path, file)\n",
    "            for data in os.listdir(final) :\n",
    "                if data.endswith('.docx') :\n",
    "                    final_path = os.path.join(final, data)\n",
    "                    extracted_data.append(docx2txt.process(final_path))\n",
    "                    software_names.append(file)\n",
    "        elif file == 'SQL Developer Lightning insight' :\n",
    "            final = os.path.join(file_path, file)\n",
    "            for data in os.listdir(final) :\n",
    "                if data.endswith('.docx'):\n",
    "                     final_path = os.path.join(final, data)\n",
    "                extracted_data.append(docx2txt.process(final_path))\n",
    "                software_names.append(file)\n",
    "        elif file == 'workday resumes':\n",
    "            final = os.path.join(file_path, file)\n",
    "            for data in os.listdir(final) :\n",
    "                if data.endswith('.docx'):\n",
    "                    final_path = os.path.join(final, data)\n",
    "                extracted_data.append(docx2txt.process(final_path))\n",
    "                software_names.append(file)\n",
    "                    \n",
    "                \n",
    "      "
   ]
  },
  {
   "cell_type": "code",
   "execution_count": 6,
   "id": "f6188848",
   "metadata": {
    "ExecuteTime": {
     "end_time": "2022-09-10T14:03:29.732897Z",
     "start_time": "2022-09-10T14:03:29.514675Z"
    }
   },
   "outputs": [
    {
     "name": "stdout",
     "output_type": "stream",
     "text": [
      " Volume in drive C has no label.\n",
      " Volume Serial Number is E05E-93E0\n",
      "\n",
      " Directory of C:\\Users\\User\\PROJECT 2  RESUME\\resume classification\n",
      "\n",
      "19-11-2022  23:26    <DIR>          .\n",
      "19-11-2022  23:26    <DIR>          ..\n",
      "19-11-2022  23:26    <DIR>          .ipynb_checkpoints\n",
      "19-11-2022  23:26             4,661 ddployement.py\n",
      "19-11-2022  23:26           381,214 deploy.ipynb\n",
      "19-11-2022  23:25         1,801,422 resume classification .ipynb\n",
      "19-11-2022  23:26           312,846 resume_data.csv\n",
      "19-11-2022  23:25            15,558 streamlit final deployment.ipynb\n",
      "               5 File(s)      2,515,701 bytes\n",
      "               3 Dir(s)  65,074,622,464 bytes free\n"
     ]
    }
   ],
   "source": [
    "ls"
   ]
  },
  {
   "cell_type": "code",
   "execution_count": 7,
   "id": "9fc2e943",
   "metadata": {
    "ExecuteTime": {
     "end_time": "2022-09-10T14:03:31.902340Z",
     "start_time": "2022-09-10T14:03:29.740010Z"
    }
   },
   "outputs": [],
   "source": [
    "extract_data(file_path)"
   ]
  },
  {
   "cell_type": "code",
   "execution_count": 8,
   "id": "bdbd9ec1",
   "metadata": {
    "ExecuteTime": {
     "end_time": "2022-09-10T14:03:31.928303Z",
     "start_time": "2022-09-10T14:03:31.905018Z"
    }
   },
   "outputs": [
    {
     "data": {
      "text/plain": [
       "45"
      ]
     },
     "execution_count": 8,
     "metadata": {},
     "output_type": "execute_result"
    }
   ],
   "source": [
    "len(extracted_data)"
   ]
  },
  {
   "cell_type": "code",
   "execution_count": 9,
   "id": "24deeaba",
   "metadata": {
    "ExecuteTime": {
     "end_time": "2022-09-10T14:03:32.910613Z",
     "start_time": "2022-09-10T14:03:31.932374Z"
    }
   },
   "outputs": [
    {
     "data": {
      "text/plain": [
       "['Anubhav Kumar Singh\\t\\t\\n\\n\\n\\nCore Competencies:\\n\\n\\n\\nScripting\\t\\t: Shell Scripting\\n\\n\\n\\nApplication\\t\\t: PeopleSoft HCM, FINANCIALS\\n\\n\\n\\nOperating System\\t: Linux ,Windows\\n\\n\\n\\nWeb/App Servers\\t: Weblogic, Tuxedo\\n\\n\\n\\nRDBMS\\t\\t: Oracle\\n\\n\\n\\nRepository \\t\\t: Github\\n\\n\\n\\nCore Competencies:\\n\\n\\n\\nScripting\\t\\t: Shell Scripting\\n\\n\\n\\nApplication\\t\\t: PeopleSoft HCM, FINANCIALS\\n\\n\\n\\nOperating System\\t: Linux ,Windows\\n\\n\\n\\nWeb/App Servers\\t: Weblogic, Tuxedo\\n\\n\\n\\nRDBMS\\t\\t: Oracle\\n\\n\\n\\nRepository \\t\\t: Github\\n\\n\\n\\n  To work in a globally competitive environment on \\n\\n  challenging assignments that shall yield the \\n\\n  twin benefits of the job satisfaction and a steady-paced \\n\\n  professional growth.\\n\\n\\n\\n\\n\\n\\n\\n\\n\\n\\n\\n\\n\\n \\n\\n\\n\\n\\n\\n \\n\\n\\n\\n\\n\\n Professional Experience\\n\\n\\n\\n 06/2019 - Current\\tHCL\\t\\t\\t\\t\\t\\t\\t\\t\\t\\t\\n\\n\\t\\t\\tCurrent Role: System Admin Offshore\\n\\n\\t\\t\\tSkills : Shell Scripting, Linux , PeopleSoft Administration , Github\\n\\n\\n\\nManaging PeopleSoft HCM and PeopleSoft FSCM production environments along with support environments installed on Linux and Windows OS.\\n\\nInvolved in Day to Day activities such as Project Migration, Database Refresh, System admin changes, Tax updates etc.\\n\\nTroubleshooting of various servers like application servers, Web Servers, Process Scheduler Servers.\\n\\nApplying Tuxedo and WebLogic Middleware CPU patches for various applications.\\n\\nWorking on shell scripting used as integration method for exchange of files to external systems\\n\\nInstallation and troubleshooting of 2-tier setup as per requirement.\\n\\nReviewing Vulnerabilities reported by Security Teams.\\n\\nRenewal of SSL in Weblogic.\\n\\nVulnerability remediation whenever a vulnerability is report by RMIS team.\\n\\nWorked on PUM (PeopleSoft Update Manager) and installation through DPK.\\n\\nWorking Knowledge of Ansible and Docker.\\n\\nDeveloping new Shell scripts and troubleshooting Shell Script failures.\\n\\n\\n\\n\\n\\n 07/2017- 06/2019\\tTechMahindra\\t\\t\\t\\t\\t\\t\\t\\t\\t\\n\\n\\t\\t\\tRole/Project: Application Support through Automation/Devops Tools and PeopleSoft Admin\\n\\n\\t\\t\\tSkills : Shell Scripting, Linux , PeopleSoft Administration, Jenkins, Ansible\\n\\n\\t\\t\\t\\n\\n\\t\\t\\tProject 1: People Tools 8.55 Upgrade & HCM 9.2 Application Upgrade\\n\\n\\t\\t\\tProject 2: Migration of Applications from NTT Cloud and On-premises to AWS Cloud\\n\\n\\n\\nWorked on shell scripting for various application requirement.\\n\\nWorking on Ansible and Jenkins to automated start/stop and various activities of application.\\n\\nBasic knowledge of Docker.\\n\\nApplying SSL certificates on new released applications.\\n\\nWorked on Elastic Search Configuration in PeopleSoft.\\n\\nGained knowledge in AWS Resources..\\n\\nStrong understanding of Unix architecture/Command and trouble shooting in Unix/Linux platform.\\n\\nEfficient in using Configuration Management & Deployment Tool like Ansible.\\n\\nGood experience in job scheduling via crontab and IBM Tivoli Workload Scheduler (TWS).\\n\\nHaving good knowledge in automation using shell scripting \\n\\nContinuous integration management using Jenkins, installing and configuring Jenkins.\\n\\nResponsible for writing Ansible playbook to perform various task\\n\\nManaged administration tasks installation, configuration, applications, troubleshooting, and performance related issue.\\n\\nApplying Tuxedo and WebLogic CPU patches for various applications.\\n\\nWorking on Vulnerabilities reported by Security Teams.\\n\\nReviewing the platform certification information of products, platforms, database servers, web and application servers, browsers, and other products for PeopleTools 8.55.\\n\\nServer Migration to AWS (Amazon Web Service).\\n\\nInstallation of PeopleSoft server components Application Servers, Process Scheduler Servers, Tuxedo, Web logic Servers for New release PeopleTools on Unix/Linux Servers.\\n\\nApplying latest patch to PeopleTools.\\n\\nInstalling and configuring Change assistant for various upgrade passes.\\n\\nCreating and running PeopleTools Upgrade Job for PeopleTools 8.55 Upgrade.\\n\\nSetting up Performance monitor.\\n\\nCreating new app, web and process scheduler domains post upgrade on new Linux severs.\\n\\nTroubleshooting common Domain boot problems.\\n\\nIdentifying and configuring source and target databases in CA for HCM 9.2 application upgrade.\\n\\nWorking with HCM PUM Images.\\n\\nCreating Change packages using PUM and applying to Source/Target databases as per requirement.\\n\\nCreating application upgrade job using change assistant.\\n\\n\\n\\n\\n\\n 09/2015 - 07/2017\\tSRDT Pvt Ltd. (SRM GROUP)\\n\\n\\t\\t\\tRole/Project: PeopleSoft application and Database Admin\\n\\n\\t\\t\\tSkills : PeopleSoft Administration, Weblogic, Tuxedo, App designer, PUM, PeopleTools \\t\\t\\t\\t\\tUpgrade, PeopleSoft Campus Application Upgrade.\\t\\t\\t\\n\\n\\n\\nMaintaining 7 Production Environments with 21 supporting environments installed on Windows server 2008 R2 and Oracle 11g.\\n\\nPossess through knowledge and experience in PeopleSoft architecture, administering PeopleSoft server components Application Servers, Process Scheduler Servers, Tuxedo, Web logic Servers, PIA (PeopleSoft Internet Architecture), Integration Broker, Report Nodes, application issues and technical issues.\\n\\nPeopleSoft Skills with experience in Migrations & Production support of PS Applications\\n\\nExposure in applying PeopleSoft Bundle Updates through Change Assistant.\\n\\nExposure in working on both Windows & UNIX/Linux Environments with Oracle database.\\n\\nWorking knowledge of integration broker.\\n\\nRefreshed Testing, DEV and Pre-PROD from PROD environments.\\n\\nExperience in Troubleshooting of various servers like application servers, Web Servers, Process Scheduler Servers.\\n\\nExperienced in providing 24/7 support on production and development environments.\\n\\nInstallation of Database Servers, Web servers and Application Server and PeopleSoft Application (HRMS 9.2,FSCM9.2, CS9.0, CS 9.2,HRMS 9.2) and People Tool (8.53,8.54, 8.55)\\n\\nInstalled and Configured SES (Secure Enterprise Search) for HRMS Instance.\\n\\nExperience in Installing Oracle Policy Automation, Oracle Policy Modelling and creating OPA Database in existing database (Oracle)\\n\\nImplemented Single Sign On between PeopleSoft Applications.\\n\\nImplemented PeopleSoft Interaction Hub to integrate external content and information with PeopleSoft applications.\\n\\nUpgraded People Tool 8.53 to 8.54 for Campus 9.0Production Environment.\\n\\nUpgraded People Tool 8.53 to 8.55 for Finance 9.2 Testing Environment.\\n\\nUpgraded application CS 9.0 to 9.2.\\n\\nConfigured PUM (PeopleSoft Update Manager) for every new Image.\\n\\nApplying Tax Updates, BUGS and Tailored Change Packages through PUM.\\n\\nUpgraded Oracle Database 11.2.0.1 to 11.2.0.4 using DBUA. \\n\\nCreated Instances on People Tools 8.55 to provide Testing environments.\\n\\nPrepared Upgrade Status reports and sheets.\\n\\nCo-ordinated and provided support for offshore projects.\\n\\nImported Self Signed Certificate into WebLogic to provide secure port access of Instances.\\n\\nSet up of Terminal Server to provide a Central access of People Tools for Technical/Developers.\\n\\nCreated tickets to development team and followed up with them to get the resolution for any error occurred. \\n\\n\\n\\n\\n\\n\\t\\t\\tProjects:\\n\\n\\n\\n\\t\\tClient: DRDO\\n\\n\\t\\tProject: Single Sign On\\n\\n\\t\\tRole: PeopleSoft Admin\\n\\n\\t\\tEnvironment: People Tool 8.50, HRMS 9.1, FSCM 9.1\\n\\n\\n\\n\\t\\tDescription:\\n\\n\\t\\tSingle sign-on (SSO) is a property of access control of multiple related, but independent software \\t\\t\\tsystems. With this property a user logs in with a single ID and password to gain access to a \\t\\t\\tconnected system or systems without using different usernames or passwords.\\n\\n\\n\\n\\n\\n\\t\\tClient: NetApp\\n\\n\\t\\tProject: Support and Maintenance\\n\\n\\t\\tRole: PeopleSoft Admin/L2 Support\\n\\n\\t\\tEnvironment: PeopleTool 8.49, HRMS 8.9\\n\\n\\n\\n\\t\\tDescription:\\n\\n\\t\\tHandled IB related issue.\\n\\n\\t\\tClear process scheduler cache as per weekly maintenance process.\\n\\n\\t\\tHandled PSADMIN related activities.\\n\\n\\n\\n\\n\\n 11/2013 - 05/2015\\tACS                                                                                                                           \\n\\n\\n\\n Personal Details\\n\\n\\n\\n\\n\\nFather’s name\\n\\nRajeev Kumar Singh\\n\\nDate of Birth\\n\\n11/09/1990\\n\\nSex\\n\\nMale\\n\\nLanguage (Read And Write)\\n\\nHindi, English\\n\\nReady to relocate\\n\\nYes\\n\\nEducation\\n\\nB.Tech in Electrical & Electronic Engineering 2012',\n",
       " 'Classification: Internal\\n\\nClassification: Internal\\n\\n\\n\\n\\t\\tMurali\\n\\n\\n\\n\\t\\tExperience Summary \\n\\n\\t\\t\\n\\nI have 6 years of experience working in PeopleSoft Administration and performing various infrastructure related activities in PeopleSoft environments. \\n\\n\\n\\nInstalled and configured PeopleSoft 9.0,9.1,9.2 Web server, Application server, Database server and Process scheduler \\n\\nserver on Windows, UNIX and Linux platforms.\\n\\nCreating Domains for Web server, Application server and Process scheduler server.\\n\\nApplied Patches Manually and applied Maintenance Packs through Change Assistant tool.\\n\\nExperience in DPKs installations.\\n\\nApplying TAX UPDATES and fixes using PUM\\n\\nMigrating projects from one environment to another environment using Application Designer and also through CAPI, STAT tools.\\n\\nPerformed Single sign on (SSO)Implementation.\\n\\nExperience in running Compare Reports between pre and Post Migrations.\\n\\nExperience in setting up Client Workstation for Developers and Testers.\\n\\nInvolved in Configuration of Integration Broker setting up Between the Modules for sending the Messages.\\n\\nInvolved 24/7 production Support to Client.\\n\\nInvolved in Running Audit Reports (DDDAUDIT AND SYSAUDIT) for Integrity Checks.\\n\\nExperience in Configuration and Setup the REN server.\\n\\nConfigured and Maintained Report Nodes settings.\\n\\nChecked and Clear Cache for the servers.\\n\\nInvolved in Troubleshooting of the servers like Application server, web server and Process scheduler server. \\n\\nWorked on Peopletools Upgrade PT8.52 to PT8.55 and 8.55 to 8.57.\\n\\nInstalling and configuring Elastic Search 6.1.2\\n\\n\\n\\n\\t\\tCareer Profile:\\n\\n\\tDates\\n\\nOrganization\\n\\nRole\\n\\n\\t22nd  Mar 2021 – 25th May 2021\\n\\nL N T INFOTECH\\n\\nPeopleSoft Administrator\\n\\n\\t\\t\\n\\n\\t\\tClient :Sembcorp , Brazil\\n\\n\\t\\t\\n\\nDescription:\\n\\nThis project involved active production support in the fields of HRMS 9.2. Additionally also involved in maintenance and enhancement of the system.\\n\\n\\t\\t\\n\\nResponsibility:\\n\\n\\n\\n\\n\\n Installation and setup of People Soft HCM & ELM 9.2 on Oracle.\\n\\n Creating database user, assigning roles & privileges to the users.\\n\\n Maintaining various People Soft instances.\\n\\n Debugging and resolving issues related to application server\\\\web server\\\\process    scheduler.\\n\\n Weekly\\\\monthly database maintains.\\n\\nPerformed People tools upgrade from 8.55.14 to 8.57.05.\\n\\nPerforming Post refresh Activities.\\n\\n\\t\\t\\n\\n\\tDates\\n\\nOrganization\\n\\nRole\\n\\n\\t9th Nov 2018 –  19TH Mar 2021\\n\\nRegency Technologies\\n\\nPeopleSoft Administrator\\n\\n\\t\\t\\n\\n\\t\\t\\n\\n\\t\\tClient :Wipro, IND\\n\\nPlatforms : People Tools 8.56, People Soft HCM 9.2.\\n\\n\\n\\nDescription:\\n\\nThis project involved active production support in the fields of HRMS 9.2. Additionally also involved in maintenance and enhancement of the system.\\n\\n\\n\\nResponsibility:\\n\\n Installation and setup of People Soft HCM 9.2 on Oracle.\\n\\n Creating database user, assigning roles & privileges to the users.\\n\\n Maintaining various People Soft instances.\\n\\n Debugging and resolving issues related to application server\\\\web server\\\\process    scheduler.\\n\\n Weekly\\\\monthly database maintains.\\n\\n Creating and modifying data mover scripts.\\n\\n Migrating projects using CAPI.\\n\\n Applying Patches.\\n\\n Setting up a PeopleSoft Reporting environment for reporting.\\n\\n Interacting with the client for various Production related issues.\\n\\nApplying TAX UPDATES using PUM.\\n\\nPerforming Post refresh Activities.\\n\\n\\n\\n\\t\\t\\n\\n\\tDates\\n\\nOrganization\\n\\nRole\\n\\n\\t9th  Nov 2015 –  30th Nov 2017\\n\\nDXC Technologies (Formerly known as CSC)\\n\\nPeopleSoft Administrator\\n\\n\\n\\n\\n\\n Project Title :People Soft HCM Production Support and Enhancement\\n\\nClient : ASG, USA\\n\\nPlatforms : People Tools 8.52,8.54 People Soft HCM 9.0,9.2 DB2\\n\\nAIX 5.1.\\n\\n\\n\\nDescription:\\n\\nThis project involved active production support in the fields of HRMS 9.0. Additionally also involved in maintenance and enhancement of the system.\\n\\n\\n\\nResponsibility:\\n\\n\\n\\n Installation and setup of People Soft HCM 9.0,9.1 on DB2.\\n\\n Creating database user, assigning roles & privileges to the users.\\n\\n Maintaining various People Soft instances.\\n\\n Debugging and resolving issues related to application server\\\\web server\\\\process    scheduler.\\n\\n Weekly\\\\monthly database maintains.\\n\\n Creating and modifying data mover scripts.\\n\\nMigrating projects using STAT,CAPI.\\n\\n Applying Patches.\\n\\n Setting up a PeopleSoft Reporting environment for reporting.\\n\\n Interacting with the client for various Production related issues.\\n\\nApplying TAX UPDATES using PUM.\\n\\nPerforming Post refresh Activities.\\n\\n\\n\\n\\t\\t\\n\\n\\t\\t\\n\\n\\n\\n\\t\\t\\n\\n\\t\\tTechnology\\n\\nOperating Systems\\n\\n All Windows Platforms, Linux\\n\\nERP and Tools\\n\\nPeopleSoft HRMS 9.0, PeopleTools 8.47,8.48, 8.50, 8.52, Putty, sql, TOAD, Beyond Compare.\\n\\n\\n\\nRDBMS\\n\\nOracle 10g,11g\\n\\nScheduling Tool\\n\\nAutosys\\n\\nVersion Control Tool\\n\\nCAPI , STAT\\n\\nLanguages\\n\\nC, C++, SQL\\n\\n\\n\\n\\n\\n\\n\\n\\n\\n\\n\\n\\n\\n\\n\\t\\tPersonal Details\\n\\n\\t\\t\\n\\n\\t\\t\\t\\t\\t\\t\\t\\t\\t\\t\\tDate of Birth\\n\\n\\t\\t\\t\\t\\t\\t\\t\\t\\t\\t\\t15-08-1982\\n\\n\\t\\t\\t\\t\\t\\t\\t\\t\\t\\t\\tNationality\\n\\n\\t\\t\\t\\t\\t\\t\\t\\t\\t\\t\\tIndian\\n\\n\\t\\t\\t\\t\\t\\t\\t\\t\\t\\t\\t\\n\\n\\t\\t\\t\\t\\t\\t\\t\\t\\t\\t\\t\\n\\n\\t\\t\\t\\t\\t\\t\\t\\t\\t\\t\\t\\n\\n\\n\\n\\n\\n\\n\\nDate:\\n\\n\\n\\nPlace:  Hyderabad',\n",
       " \"SIRAZUDDIN M\\n\\n\\tBangalore, INDIA\\t\\n\\n\\n\\n\\n\\nSIRAZUDDIN M\\n\\n\\tBangalore, INDIA\\t\\n\\n\\n\\n\\n\\n\\n\\n\\n\\n\\n\\n\\n\\n\\n\\n\\n\\n\\n\\n\\n\\n\\n\\n\\n\\n\\n\\n\\n\\nPROFILE SUMMARY\\n\\n\\n\\nI have overall 6.8 years’ experience as PeopleSoft Administrator. Installed PeopleTools 8.55 from the scratch including its products. \\n\\nExperience in Peopletools 8.51, 8.54.08, 8.55.07&Application 9.0 and 9.2 (HRMS/FSCM). Deterministic approach towards problem solving & troubleshooting.\\n\\nProficient in Integration Broker.\\n\\nUpgraded FSCM and HCM applications to PeopleTools 8.55.07 from PeopleTools 8.54.08.\\n\\n\\n\\nEDUCATION\\n\\n\\n\\nGraduated B-Tech in Electronics and Communication Engg. from M.V.G.R College of Engineering, Vizianagaram(JNTUK) with an aggregate of 68.93%.\\n\\nAchieved 90% marks in 12th standard. Scored 86% in 10th standard.\\n\\n\\n\\nACHIEVEMENTS\\n\\nAwarded Bravo in 2015 Q3, 2016 Q1 and Pat on Back in Q2, 2016, Q1, 2017 in Techahindra.\\n\\nAwarded Associate of the month award and Innovator of the month (1 time). Awarded spot and pat on back in Capgemini\\n\\n\\n\\nWORK EXPERIENCE\\n\\nCAPGEMINI (MAY’19 – TILL NOW)\\n\\nProduction support for 5 finance environment and their respective non production environments.\\n\\n\\n\\nProject Experience:\\n\\nProject Name \\t\\t\\t\\t: AXA\\n\\nRole\\t\\t\\t\\t\\t: Consultant\\n\\nEnvironment\\t\\t\\t\\t: Windows Server 2012 R2\\n\\n\\n\\nCOGNIZANT TECHNOL OGY SOL UT IONS (AUGUS T ' 1 8 – APRIL’19)\\n\\nVoya Financial Insurance US client project which deals with support and managing Finance applications.\\n\\n\\n\\nProject Experience:\\n\\nProject Name \\t\\t\\t\\t: Voya Financials\\n\\nRole\\t\\t\\t\\t\\t: Associate\\n\\nEnvironment\\t\\t\\t\\t: Windows Server 2012 R2\\n\\n\\n\\n TECH MAHINDRA LIMIT ED (JULY ' 1 4 - AUGUS T ' 18)\\n\\n\\n\\nPeopleSoft 9.2 Implemented for HR and FIN application. PeopleSoft 9.2 Implementation project includes 10 PeopleSoft applications, interfaces with third-party applications and interfaces with live production PeopleSoft 9.2 environment in SDLC.\\n\\n\\n\\nProject Experience: Project Name \\n\\nRole Environment\\n\\n\\n\\n\\n: CIO COMMON\\n\\n: Software Engineer\\n\\n: SOLARIS, Windows Server 2008R2\\n\\n\\n\\n\\n\\nRESPONSIBILITIES:\\n\\nProvided administrative supports for PEOPLESOFT tools version 8.51, 8.54, 8.55.25, 8.56.10 and application HRMS 9.0, 9.2 & Financials/SCM 9.0, 9.2 modules on Windows and UNIX OS\\n\\nCreation of indexes for tables from application designer.\\n\\nPeopleSoft Database Setup, troubleshooting issues and other daily PeopleSoft admin activities\\n\\nConfigured PeopleSoft application server, process scheduler & web server domains, setup Master Scheduler.\\n\\nInstalling Oracle Tuxedo, Weblogic, Java, Application Disk (FSCM and HCM) and Oracle database on UNIX and Windows servers from scratch\\n\\nInstalled PeopleTools 8.55 for HCM and FSCM with a demo database. Upgraded FSCM application to Peopletools 8.55 from PeopleTools 8.54.08. Applied patch 8.55.07 in FSCM\\n\\nConfigured Report Nodes. Bouncing of App, Web and Process schedulers and clearing cache\\n\\nPerformed pre-refresh and post refresh activity during Database cloning activity.\\n\\nRecompilation of COBOL source codes\\n\\nWorked on project migrations using Application Designer and Change Assistant.\\n\\nApplied image 15, 16, 25 and 37 on FSCM 9.2 using PUM and change assistant. Good hands-on experience in application designer, data mover, and change assistant. Well aware of PIA (PeopleSoft Internet Architecture).\\n\\n\\n\\nConfiguring Integration broker and report nodes\\n\\nCreating UDM file transfer Interfaces and monitoring them\\n\\nDeploying gnupg keys and certificates in servers.\\n\\nInstalled and configured Elastic search. \\n\\nTOOLS USED:\\n\\nPeopleTools 8.54.08, 8.56.10, 8.55.25, Application Designer, Data Mover\\n\\nToad, Sqldeveloper, Microsoft SQL Management Studio 2014 \\n\\nOracle 11g,\\xa0Oracle 12c, Microsoft SQL server 2014\\n\\nFilezilla, Winscp, PCOMM, TWS, Service now, Silva\\n\\n\\n\\nTRAINING & CERTIFICATIONS\\n\\nOracle Cloud Infrastructure Architect Associate\\n\\nOracle Cloud Infrastructure Architect Professional\",\n",
       " \"PeopleSoft Admin\\n\\nVARKALA VIKAS\\n\\n\\n\\nCareer Objective:\\n\\n\\n\\nI have total 4.2 Years’ Experience in PeopleSoft Admin and PeopleSoft DBA. I hope to enhance my skill set while adding value to the business, to enable implementation of solutions, which aid the company’s objectives, understanding and anticipating the needs, interests and motivations of the clients and to deliver on time, budget and to quality, delivering value through improving agility, quality and reliability\\n\\n\\n\\nProfessional Summary:\\n\\n\\n\\n\\tHaving 4.2 years of experience in PeopleSoft implementation, Support, People Tools Upgrades, configuration, migrations, maintenance and administration of Application Server Domains, Process Scheduler Servers, Web Server Domains, PUM and Elastic search.\\n\\n\\tInvolved in various Tools and Application Upgrades.\\n\\n\\tExperience in driving Infrastructure Hardware Upgrades, Disaster Recovery Activities.\\n\\n\\tConfigured https and secure web server (SSL) administration.\\n\\n\\tMonitor system by developing and maintaining monitoring Shell scripts\\n\\n\\tExperience in Oracle Database Administration for 11gR2, 12cR1 and 12cR2\\n\\n\\tExperience in Health Check for all the PeopleSoft Environments\\n\\n\\tExperience in PeopleSoft Database Refreshes from Production to Development and Testing Environments\\n\\n\\tExperience in Performance and Tuning of Application Servers, Web Servers\\n\\n\\tExperience in Windows Administration\\n\\n\\tImplemented PeopleSoft Internet Architecture (PIA) on Demo, Test, Development and Production instances.\\n\\n\\tExtensively involved in resolving Performance issues.\\n\\n\\tExperience in PeopleSoft Installations of PeopleTools 8.56,8.57 HCM 9.2, WebLogic 12cr2 Tuxedo 12cR2 and People Books 8.56,8.57 Windows 2012R2\\n\\n\\tIn depth experience on PeopleSoft Update Manager (PUM) for applying PeopleTools patches, Application Bundles on PeopleTools and HRMS 9.2 and FSCM 9.2 Applications\\n\\n\\tIn Depth Experience in Integration Broker setup.\\n\\n\\tExperience in Secure Socket Layer (SSL) implementation on PeopleSoft.\\n\\n\\tProficiency in creation and configuration and administration of Application Server Domains, Process scheduler Domains, Web Server Domains\\n\\n\\tExperience in Reconfiguration of Application Server Domains, Process Scheduler Server Domains and Web Server domains.\\n\\n\\tExperience in Project Migrations using Application Designer and Data Migrations using Data Mover\\n\\n\\tExperience in generating Pre-compare reports and Post Compare Reports between various environments.\\n\\n\\n\\n\\tExperience in setting up client Work Station for developers and testers.\\n\\n\\tExperience in resolving developer issues like resetting passwords, locking and unlocking user accounts.\\n\\n\\tMaintain the workflow of PeopleSoft users.\\n\\n\\tWorked on applying Patches, Bundles and Tax Updates using Change Assistant and\\n\\nPeopleSoft Update Manager (PUM)\\n\\n\\tInstalling and Configuring Change Assistant to apply bundles and tax-updates.\\n\\n\\tInvolved in setup configuration of Integration Broker in Financials and HCM Applications.\\n\\n\\tMaintaining integrity and internal consistency of the database using DDDAUDIT, SYSAUDIT, ALTERAUDIT reports periodically.\\n\\n\\tExperience on clearing the cache of all servers such as Application Server Domains, Web Server Domains and Process Scheduler servers on a regular basis.\\n\\n\\tMonitor the log files to find out bottleneck of the status of servers\\n\\n\\tMaintaining and troubleshooting various servers like Application Server domains, Process Scheduler Domains and Web Server Domains\\n\\n\\tRegularly involved in doing Database Cloning and Refreshing on PeopleSoft Instances.\\n\\n\\tExperience in Installing COBOL Software and compilation.\\n\\n\\tExperience in Tuning of Application Server Domains, Process Scheduler Domains and Web Server Domains.\\n\\n\\tIn Depth Experience in PeopleSoft Database Performance and Tuning\\n\\n\\tExperience in Data Guard (DR) support\\n\\n\\tExperience in Database patching.\\n\\n\\tExperience in PeopleSoft Database Refreshes using RMAN.\\n\\n\\tGood team player and a proven individual contributor\\n\\n\\n\\n\\n\\nArea of Technical Skills:\\n\\n\\n\\nTECHNOLOGY\\n\\nTOOLS\\n\\nERP TOOLS\\n\\nPeople Tools 8.57,8.56,8.55/8.54/8.53,Change Assistant, Integration Broker, Application Designer, Configuration Manager, PeopleSoft Update Manager (PUM) , SES and Data Mover.\\n\\n\\n\\nPeopleSoft HRMS/FSCM/CRM 9.0/9.1/9.2\\n\\nAPPLICATION SERVER\\n\\nTuxedo 10.3.6/12c R1/12c R2\\n\\nWEB SERVER\\n\\nWebLogic10.3/12c R1/12.1.3,12.2.1.3,12.2.1.4\\n\\nOPERATING SYSTEMS\\n\\nWindows Server 2012 R2/2008 R2/2003 Oracle Enterprise Linux 5.5/6.5/7\\n\\nHP-UX 11.31\\n\\nDATABASE\\n\\nOracle 12cR1/12cR2\\n\\nEducational Qualification:\\n\\nB.SC from Osmania university in 2017.\\n\\n\\n\\nProfessional experience:\\n\\n\\tWorked as PeopleSoft Administrator/ PeopleSoft DBA with Progile infotech Pvt LTD from July 2017 to till date.\\n\\nProject Experience and Achievement’s:\\n\\n\\n\\n\\n\\n\\n\\n\\n\\n\\t\\tClient\\t:\\tHartford Insurance Group, Hartford, CT.\\n\\n\\t\\tProject\\t:\\tInstall, Configure and Production Support of PeopleSoft Applications and Databases.\\n\\n\\t\\tEnvironment\\t:\\tPeople Tools 8.57,8.56,8.55 HRMS9.2, FSCM9.2, Oracle 12c,\\n\\nTuxedo 12cR2, Oracle WebLogic 12cR2, Windows Server 2012 R2, Oracle Enterprise Linux 5,6.\\n\\n\\t\\tRole\\t:\\tPeopleSoft Admin/PeopleSoft DBA\\n\\n\\t\\tDuration\\t:\\tJuly 2017 to till date\\n\\n\\n\\nRoles and Responsibilities:\\n\\n\\n\\n\\tMonitoring the day-to-day working of the system.\\n\\n\\tBuild Verification Test – To check proper installation and running of all PeopleSoft components, processes and reports.\\n\\n\\tObject Migration between different instances involving compare reports, building objects etc.\\n\\n\\tInvolved in Implementation of PeopleSoft Internet Architecture (PIA) including Application Servers, Web Servers and Batch Servers.\\n\\n\\tHandled Security Management tasks like creating new user profiles, roles, permission lists and granting privileges.\\n\\n\\tHandled Application Management tasks like Applying Patches & Fixes.\\n\\n\\tConfigured workstation for PeopleSoft developers on their VM's for accessing PeopleTools like Application designer, Data Mover, Administrating Application Server and Process Scheduler Server using PSAdmin utility\\n\\n\\n\\n\\tMigration of all PeopleSoft projects to DEV, TEST and PROD instances.\\n\\n\\tAnalysis of production issues raised by clients and providing solutions.\\n\\n\\tReport Node configurations.\\n\\n\\tWorked on Project Migrations and Data Migrations.\\n\\n\\tGenerating Compare Reports.\\n\\n\\tDownloading Patches, Tax updates & applied to the environments and maintains the customizations for the PeopleSoft.\\n\\n\\tExperience in applying Patches, Bundles and Tax Updates using Change Assistant and\\n\\nPeopleSoft Update Manager (PUM)\\n\\n\\tInstalling and Configuring Change Assistant to apply Change packages and tax-updates.\\n\\n\\tAppling Patches for Demo, Dev, Test and Production Environments.\\n\\n\\tConfiguring and monitoring Process Scheduler and troubleshooting various issues related.\\n\\n\\n\\n\\tInvolved in the Performance of the databases and application by creating multiple domains across the instances\\n\\n\\t\\t\\tTroubleshooting  of  Application  Server  Domains,  Process Scheduler Domains\\tand\\tWeb Server Domains\\n\\n\\tConfigure Https and secure web server (SSL) administration\\n\\n\\tSetup load Balancer configuration and application server clustering setups / Master Process scheduler set up for high availability systems\\n\\n\\tPerformed data migration using data pump and data mover utilities\\n\\n\\tLoad balancing of Application server & Web server.\\n\\n\\tSetup Application Security using User Profiles, Roles and Permission lists.\\n\\n\\tRefreshing PeopleSoft test environment for synchronisation to production.\\n\\n\\t\\tMaintaining   integrity   and   internal   consistency   of   the   database\\tusing DDDAUDIT, SYSAUDIT, ALTERAUDIT reports periodically.\\n\\n\\tInvolved in 24/7 Production Support to clients.\\n\\n\\tChecked and cleared the application server cache on a regular basis as a maintenance process.\\n\\n\\tInstalled People Books and configured the Web Server to access People Books.\\n\\n\\tConfigured and maintained Report Nodes and Settings.\\n\\n\\tGenerating compare reports between various environments.\\n\\n\\tDocumenting all support issues with their resolutions and feedback.\\n\\n\\n\\n\\n\\n.\",\n",
       " 'PeopleSoft Administration\\n\\n \\n\\nVivekanand Sayana                                                                                                                                                                                                           \\t\\n\\n\\n\\nCareer Objective: \\n\\n\\n\\nWith my valid expertise of 7.5 years in PeopleSoft, I hope to enhance my skill set while adding value to the business, to enable implementation of solutions, which aid the company’s objectives, understanding and anticipating the needs, interests and motivations of the clients and to deliver on time, budget and to quality, delivering value through improving agility, quality and reliability\\n\\n\\n\\nProfessional Summary:\\n\\n\\n\\nOver 7.5 years of experience in PeopleSoft implementation, Support, configuration, migrations, maintenance and administration of Application Server Domains, Process Scheduler Servers, Web Server Domains, PeopleTools Upgrades, Application Updates, PUM, SES and Elastic Search. \\n\\nExperience in integration activities between various\\xa0PeopleSoft\\xa0Financials, HRMS, EPM and FSCM environments.\\xa0\\n\\nExtensively involved in resolving Performance issues.\\n\\nExperience in driving Infrastructure Hardware Upgrades, Disaster Recovery Activities.\\xa0\\n\\nExperience in Health Check for all the PeopleSoft Environments\\n\\nExperience in PeopleSoft Database Refreshes from Production to Development and Testing Environments\\n\\nExperience in Performance and Tuning of Application Servers, Web Servers\\n\\nPerformed 3 full life cycle implementations in PeopleSoft.\\n\\nImplemented PeopleSoft Internet Architecture (PIA) on Demo, Test, Development and Production instances.\\n\\nExperience in PeopleSoft Implementation on PeopleTools 8.56, FSCM 9.2, Web Logic 12.2.1, Tuxedo 12.2.2 and Oracle 12c R2 on Oracle Enterprise Linux 7 and Windows 2012 R2.\\n\\nExperience in PeopleSoft Installations of PeopleTools 8.55, HCM 9.2, WebLogic 12.1.3,\\n\\nTuxedo 12.1.3 and People Books 8.55 on Oracle Enterprise Linux 6 and Windows 2012R2\\n\\nExperience in PeopleSoft Installations of PeopleTools 8.54, HCM 9.2, Weblogic 12.1.2, Tuxedo 12.1.0 and People books 8.54 on windows 2012 R2 and Oracle Enterprise Linux 6.\\n\\nExperience in PeopleSoft Installations of PeopleTools 8.53, FSCM 9.2, Weblogic 10.3.6, Tuxedo 10.3 and People Books 8.53 on windows 2008 R2 and Oracle Enterprise Linux 5.4\\n\\nExperience in PeopleSoft Installations of PeopleTools 8.50, HCM 9.1,Weblogic 10.3, Tuxedo 10.3, Oracle 10g R2 and People Books 8.50 on Windows Server 2003 and Oracle Enterprise Linux 5.\\n\\nIn depth experience on PeopleSoft Update Manager (PUM) for applying PeopleTools patches, Application Bundles on PeopleTools 8.53, 8.54 and HRMS 9.2 and FSCM 9.2 Applications, Using DPK’s to deploy PUM latest Images and DPK’s to Install, Middle tier, App Tier and PeopleTools.\\n\\nIn Depth Experience in Integration Broker Troubleshooting.\\n\\nProficiency in creation and configuration and administration of Application Server Domains, Process scheduler Domains, Web Server Domains \\n\\nExperience in Reconfiguration of Application Server Domains, Process Scheduler Server Domains and Web Server domains.\\n\\nExperience in Project Migrations using Application Designer and Data Migrations using Data Mover\\n\\nExperience in generating Pre-compare reports and Post Compare Reports between various environments.\\n\\nExperience in setting up client Work Station for developers and testers.\\n\\nExperience in resolving developer issues like resetting passwords, locking and unlocking user accounts.\\n\\nMaintain the workflow of PeopleSoft users.\\n\\nWorked on applying Patches, Bundles and Tax Updates using Change Assistant and PeopleSoft Update Manager (PUM)\\n\\nInstalling and Configuring Change Assistant to apply bundles and tax-updates.\\n\\nInvolved in setup configuration of Integration Broker in Financials and HCM Applications.\\n\\nMaintaining integrity and internal consistency of the database using DDDAUDIT, SYSAUDIT, ALTERAUDIT reports periodically.\\n\\nExperience in load balancing of Application server domains and Process Scheduler Servers.\\n\\nExperience on clearing the cache of all servers such as Application Server Domains, Web Server Domains and Process Scheduler servers on a regular basis.\\n\\nMonitor the log files to find out bottleneck of the status of servers\\n\\nExperience in Troubleshooting of Data mover while installing PeopleSoft.\\n\\nMaintaining and troubleshooting various servers like Application Server domains, Process Scheduler Domains and Web Server Domains\\n\\nExperience in Tuning of Application Server Domains, Process Scheduler Domains and Web Server Domains.\\n\\nStrong communication, collaboration, team building and inter-personal skills\\n\\nGood team player and a proven Individual contributor\\n\\n\\n\\nArea of Technical Skills:\\n\\n\\t\\t\\n\\n                  TECHNOLOGY\\n\\n                  TOOLS\\n\\nERP TOOLS\\n\\nPeople Tools 8.56/8.55/8.54/8.53/8.50,Change Assistant, Integration Broker, Application Designer, Configuration Manager, PeopleSoft Update Manager (PUM) , SES and Data Mover.\\n\\nAPPLICATIONS\\n\\nPeopleSoft HRMS/FSCM/CRM 9.0/9.1/9.2\\n\\nAPPLICATION SERVER\\n\\nTuxedo 8.1/10.3.6/12c R1/12c R2\\n\\nWEB SERVER\\n\\nWeb Logic 8.1/10.3/12c R1/12.1.3\\n\\nOPERATING SYSTEMS\\n\\nWindows Server 2012 R2/2008 R2/2003\\n\\nRedhat Enterprise Linux 5/6\\n\\nOracle Enterprise Linux 5.5/6/7\\n\\nDATABASE\\n\\nOracle 10gR2/11gR2/12cR1/12cR2\\n\\nEducational Qualification:\\n\\n\\n\\nMBA (HR & Marketing) from KBN College, Nagarjuna University, Vijayawada in 2011.\\n\\n\\n\\nB.Sc (Bachelor of Science) from SRR & CVR College, Nagarjuna University, Vijayawada in 2009.\\n\\nProfessional experience:\\n\\n\\t\\n\\n\\tWorked as PeopleSoft Systems Administrator in Capgemini Technology Services India Limited from Feb 2020 to Sept 2020.\\n\\n\\tWorked as PeopleSoft Systems Administrator in Cognizant Technology Solutions India Pvt Ltd from Oct 2017 to Sept 2019.\\n\\n\\tWorked as Associate - PeopleSoft Administrator with A&A Innovative Solutions Pvt. Ltd from Jan 2013 to Oct 2017.\\n\\n\\t\\n\\nProject Experience and Achievement’s\\n\\n\\n\\nClient\\t\\t\\t: \\tDisney (Fox Entertainment) & Allegis \\n\\n\\n\\nEnvironment \\t\\t:\\tHCM, FSCM & ELM\\xa09.2, People Tools 8.56, Oracle 12c, \\n\\n                                                WebLogic 12.2.1, Tuxedo 12.2.2, Red Hat Enterprise Linux 6.      \\n\\n\\n\\nRole\\t\\t\\t:           Sr. PeopleSoft Admin/PeopleSoft DBA \\n\\n                                                \\n\\nDuration                     :           Feb 2020  to Sept 2020\\n\\n\\n\\n\\n\\nRoles and Responsibilities:\\n\\n\\n\\nInvolved in PeopleTools upgrade from PeopleTools 8.55 to 8.57\\n\\nInvolved in Application update from FSCM 9.2.017 to FSCM 9.2.032\\n\\nStrong experience on\\xa0PeopleSoft\\xa0PUM server installation and troubleshooting.\\n\\nApplying fixes, patches and bundles for\\xa0PeopleSoft\\xa0FSCM92 and HRMS92 using\\xa0PeopleSoft\\xa0PUM.\\xa0\\n\\nWorked intensively on performance tuning of PIA architecture based on load testing and up scaling architecture to support the expected load\\n\\nCreated a dedicated Integration Broker gateway as message volume was high and for easy maintenance.\\xa0\\n\\nRedesigned and Configured High availability and load balancing for existing\\xa0PeopleSoft\\xa0\\nInternet Architecture.\\xa0\\n\\nResponsible for the daily maintenance and troubleshooting of complex hosted solutions\\nMonitoring the day-to-day working of the system.\\n\\nHandled Application Management tasks like Applying Patches & Fixes.\\n\\nLoad balancing of Application server & Web server, Performed Database Refreshes, Imports, Exports and Backups.\\n\\nObject Migration between different instances involving compare reports, building objects etc. \\n\\nMonitoring Application servers, web servers and process scheduler errors\\n\\nCheck the reports for status Blocked, queued, processing, no success etc. Error Log Attached, Check the Reports Ran to Success\\n\\nPerform Remote call test\\n\\nCheck the integration broker\\n\\nCheck the Server Disk space, Load level, PeopleSoft ping under acceptable level\\n\\nStatus of Housekeeping activities (Checking and Cleaning up the logs)\\n\\nDaily perform Project Migrations and Data Migrations.\\n\\nGenerate Compare Reports between various environments.\\n\\nChecked and cleared cache on all servers such as Application Servers, Web Servers, and Process Scheduler Servers on a regular basis as a maintenance process.\\n\\nMaintain the workflow of PeopleSoft users.\\n\\nDownload Updates and Fixes and apply to the environments and maintain the customizations for the PeopleSoft.\\n\\nDownload PeopleSoft Update Image and Apply to the Applications.\\n\\nApplied Patches and Tax Updates.\\n\\nInstalled and Configured Change Assistant to apply PUM image. \\n\\nMaintaining integrity and internal consistency of the database using DDDAUDIT, SYSAUDIT, ALTERAUDIT reports periodically.\\n\\nPerformed Jolt failover and load balancing of Application Server Domains and Process Scheduler Servers Domains.\\n\\nInvolved in the Performance of the databases and application by creating multiple domains across the instances.\\n\\nMonitor the log files to find out bottleneck of the status of servers\\n\\nTroubleshoot of Data mover while installing PeopleSoft.\\n\\nTroubleshooting of Process Scheduler servers if the jobs are stacked on a Queue.\\n\\nMaintain and troubleshoot various servers like Application Servers, Process Scheduler Servers and Web Servers.\\n\\n\\t Involved in doing Refreshing on PeopleSoft instances weekly twice or thrice.\\n\\n\\tDocumenting all support issues with their resolutions and feedback.\\n\\n\\n\\n\\n\\nClient\\t\\t\\t: \\tInter-Continental Hotels Group\\n\\n\\n\\nEnvironment \\t:\\tFSCM\\xa09.2, People Tools 8.56, Oracle 12c, \\n\\n                                                WebLogic 12.2.1, Tuxedo 12.2.2, Red Hat Enterprise Linux 6.      \\n\\n\\n\\nRole\\t:           Sr. PeopleSoft Admin/PeopleSoft DBA \\n\\n                                                \\n\\nDuration                     :           Oct 2017 to Sept 2019\\n\\n\\n\\n\\n\\nRoles and Responsibilities:\\n\\n\\n\\nInvolved in PeopleTools upgrade from PeopleTools 8.54 to 8.55\\n\\nInvolved in Application update from FSCM 9.2.006 to FSCM 9.2.016\\n\\nStrong experience on\\xa0PeopleSoft\\xa0PUM server installation and troubleshooting.\\n\\nApplying fixes, patches and bundles for\\xa0PeopleSoft\\xa0FSCM92 and HRMS92 using\\xa0PeopleSoft\\xa0PUM.\\xa0\\n\\nPerform Remote call test\\n\\nCheck the integration broker\\n\\nCheck the Server Disk space, Load level, PeopleSoft ping under acceptable level\\n\\nStatus of Housekeeping activities (Checking and Cleaning up the logs)\\n\\nDaily perform Project Migrations and Data Migrations.\\n\\nGenerate Compare Reports between various environments.\\n\\nChecked and cleared cache on all servers such as Application Servers, Web Servers, and Process Scheduler Servers on a regular basis as a maintenance process.\\n\\nMaintain the workflow of PeopleSoft users.\\n\\nDownload Updates and Fixes and apply to the environments and maintain the customizations for the PeopleSoft.\\n\\nDownload PeopleSoft Update Image and Apply to the Applications.\\n\\nApplied Patches and Tax Updates.\\n\\nInstalled and Configured Change Assistant to apply PUM image. \\n\\nMaintaining integrity and internal consistency of the database using DDDAUDIT, SYSAUDIT, ALTERAUDIT reports periodically.\\n\\nPerformed Jolt failover and load balancing of Application Server Domains and Process Scheduler Servers Domains.\\n\\nInvolved in the Performance of the databases and application by creating multiple domains across the instances\\n\\nMonitor the log files to find out bottleneck of the status of servers\\n\\nSetup Master/Slave load balance for pub/sub services\\n\\nWorked intensively on performance tuning of PIA architecture based on load testing and up scaling architecture to support the expected load\\n\\nCreated a dedicated Integration Broker gateway as message volume was high and for easy maintenance.\\xa0\\n\\nRedesigned and Configured High availability and load balancing for existing\\xa0PeopleSoft\\xa0\\nInternet Architecture.\\xa0\\n\\nResponsible for the daily maintenance and troubleshooting of complex hosted solutions\\nMonitoring the day-to-day working of the system.\\n\\nHandled Application Management tasks like Applying Patches & Fixes.\\n\\nLoad balancing of Application server & Web server, Performed Database Refreshes, Imports, Exports and Backups.\\n\\nObject Migration between different instances involving compare reports, building objects etc. \\n\\nMonitoring Application servers, web servers and process scheduler errors\\n\\nCheck the reports for status Blocked, queued, processing, no success etc. Error Log Attached, Check the Reports Ran to Success\\n\\nTroubleshoot of Data mover while installing PeopleSoft.\\n\\nTroubleshooting of Process Scheduler servers if the jobs are stacked on a Queue.\\n\\nMaintain and troubleshoot various servers like Application Servers, Process Scheduler Servers and Web Servers.\\n\\n\\t Involved in doing Refreshing on PeopleSoft instances weekly twice or thrice.\\n\\n\\tGenerating weekly status reports on all support issues to delivery manager\\n\\n\\tDocumenting all support issues with their resolutions and feedback.\\n\\n\\n\\n\\n\\nClient\\t\\t\\t: \\tBaylor\\xa0Scott and White\\n\\n\\n\\nEnvironment\\t:           HRMS\\xa09.2, People Tools 8.55, Oracle 12c, \\n\\n                                                WebLogic 12.1.2, Tuxedo 12.1.1, Red Hat Enterprise Linux 6.      \\n\\n                       \\n\\nRole\\t:           Sr. PeopleSoft Admin/PeopleSoft DBA \\n\\n                                                \\n\\nDuration                     :           Jun 2013 to Oct 2017\\n\\n\\n\\nRoles and Responsibilities:\\n\\n\\n\\nStrong experience on\\xa0PeopleSoft\\xa0PUM server installation and troubleshooting.\\n\\nApplying fixes and patches bundles for\\xa0PeopleSoft\\xa0FSCM92 and HRMS92 using\\xa0PeopleSoft\\xa0PUM.\\xa0\\n\\nSetup Master/Slave load balance for pub/sub services\\n\\nWorked intensively on performance tuning of PIA architecture based on load testing and up scaling architecture to support the expected load\\n\\nCreated a dedicated Integration Broker gateway as message volume was high and for easy maintenance.\\xa0\\n\\nRedesigned and Configured High availability and load balancing for existing\\xa0PeopleSoft\\xa0\\nInternet Architecture.\\xa0\\n\\nResponsible for the daily maintenance and troubleshooting of complex hosted solutions\\nMonitoring the day-to-day working of the system.\\n\\nHandled Application Management tasks like Applying Patches & Fixes.\\n\\nLoad balancing of Application server & Web server, Performed Database Refreshes, Imports, Exports and Backups.\\n\\nObject Migration between different instances involving compare reports, building objects etc. \\n\\nMonitoring Application servers, web servers and process scheduler errors\\n\\nCheck the reports for status Blocked, queued, processing, no success etc. Error Log Attached, Check the Reports Ran to Success\\n\\nPerform Remote call test\\n\\nCheck the integration broker\\n\\nCheck the Server Disk space, Load level, PeopleSoft ping under acceptable level\\n\\nStatus of Housekeeping activities (Checking and Cleaning up the logs)\\n\\nDaily perform Project Migrations and Data Migrations.\\n\\nGenerate Compare Reports between various environments.\\n\\nChecked and cleared cache on all servers such as Application Servers, Web Servers, and Process Scheduler Servers on a regular basis as a maintenance process.\\n\\nMaintain the workflow of PeopleSoft users.\\n\\nDownload Updates and Fixes and apply to the environments and maintain the customizations for the PeopleSoft.\\n\\nDownload PeopleSoft Update Image and Apply to the Applications.\\n\\nApplied Patches and Tax Updates.\\n\\nInstalled and Configured Change Assistant to apply PUM image.\\n\\nPerform setup of Integration Broker between various environments for HRMS and FSCM. \\n\\nMaintaining integrity and internal consistency of the database using DDDAUDIT, SYSAUDIT, ALTERAUDIT reports periodically.\\n\\nPerformed Jolt failover and load balancing of Application Server Domains and Process Scheduler Servers Domains.\\n\\nInvolved in the Performance of the databases and application by creating multiple domains across the instances\\n\\nMonitor the log files  to find out bottleneck of the status of servers\\n\\nTroubleshoot of Data mover while installing PeopleSoft.\\n\\nTroubleshooting of Process Scheduler servers if the jobs are stacked on a Queue.\\n\\nMaintain and troubleshoot various servers like Application Servers, Process Scheduler Servers and Web Servers.\\n\\n\\t Involved in doing Refreshing on PeopleSoft instances weekly twice or thrice.\\n\\n\\tGenerating weekly status reports on all support issues to delivery manager\\n\\n\\tDocumenting all support issues with their resolutions and feedback.',\n",
       " 'Hari Narayana \\t\\t              \\n\\n\\t\\n\\n\\n\\n\\n\\n\\n\\n\\n\\n\\n\\n\\n\\n\\n\\nPROFESSIONAL SUMMARY\\n\\nHaving 4.6 years of experience in PeopleSoft application enhancement, implementation, Data conversion, Support and Upgrade projects. Well experienced on People tools and having Functional knowledge HCM and FSCM Applications.\\n\\nSkill\\n\\n\\n\\n\\n\\n\\n\\nPeople Tools\\n\\nApplication Designer, Application Engine, People Code, Application Packages\\n\\nPeopleSoft Application\\n\\nFSCM and HCM Applications\\n\\nFSCM Modules\\n\\nProcurement, PO, AP, AR, Billing and GL\\n\\nHCM Modules\\n\\nRecruiting, Performance Management, WAF, Benefits\\n\\nInterfaces\\n\\nComponent Interface and File Layout\\n\\nOther Languages\\n\\nC, C++\\n\\nDatabase \\n\\nOracle, SQL Server, DB2\\n\\nOperating System\\n\\nWindows, UNIX\\n\\n\\n\\n\\n\\nEDUCATION\\n\\n\\n\\n\\n\\n\\n\\nBachelor of Technology (B-Tech) from JNTU-K\\n\\n\\t   Currently Working as a People Soft Consultant in Randstad, Hyderabad\\n\\n\\n\\n\\n\\nRELEVANT EXPERIENCE\\n\\nPeopleSoft Consultant – Randstad, Hyderabad, Andhra Pradesh, India (June 2020 to till date)\\n\\nProject:  Randstad (Enhancements)\\n\\nClient:    Randstad Staffing \\n\\nResponsibilities:\\n\\n\\tAnalyze the requirement documents to understand the customer business requirement.\\n\\n\\tProvide the technical approach for each FDD assign me.\\n\\n\\tCustomize the system applications and designed many objects from scratch.\\n\\n\\tWrite people code to implement the business logic.\\n\\n\\tDesign custom Application engine programs to process the data.\\n\\n\\tDesign Application engine programs to send notifications.\\n\\n\\tResponsible to prepare unit test cases and technical design documents.\\n\\n\\tResponsible to support SIT and UAT.\\n\\n\\n\\nEnvironment: People Tools (Application Designer, Application Engine, People Code, Component Interface, Application Packages), PeopleSoft HCM, Oracle, Windows.\\n\\n\\n\\n\\n\\n\\n\\n\\n\\n\\n\\nTechnical Associate – Verizon, Hyderabad, Andhra Pradesh, India (Dec 2018 to May-2020)\\n\\nProject:  Verizon Wireless (Development)\\n\\nClient:    Verizon\\n\\nResponsibilities:\\n\\n\\tAnalyze the requirement documents to understand the customer business requirement.\\n\\n\\tProvide the technical approach for each FDD assign me.\\n\\n\\tCustomize the system applications and designed many objects from scratch.\\n\\n\\tWrite people code to implement the business logic.\\n\\n\\tDesign custom Application engine programs to process the data.\\n\\n\\tDesign Application engine programs to send notifications.\\n\\n\\tImplemented component interface program to load data into people soft.\\n\\n\\tUsed file layout in inbound programs.\\n\\n\\tResponsible to prepare unit test cases and technical design documents.\\n\\n\\tResponsible to support SIT and UAT.\\n\\n\\t\\t\\t\\n\\nEnvironment: People Tools (Application Designer, Application Engine, People Code, Component Interface, Application Packages), PeopleSoft FSCM 9.1, Oracle, Windows.\\n\\n\\n\\n\\n\\nSoftware Engineer – HSBC, Hyderabad, India (Aug 2016 to Nov 2018)\\n\\nProject:  HSBC (Upgrade Project)\\n\\nClient:    HSBC Bank\\n\\nResponsibilities:\\n\\n\\tAnalysis and Understand the Source and Target system business process.\\n\\n\\tCompare the objects between source and targets and identify the changes.\\n\\n\\tRetrofit all the objects based on compare reports.  \\n\\n\\tUnit testing and prepare unit Test cases on each retrofit.\\n\\n\\tDesign and Development new modifications required by customer.\\n\\n\\tPrepared Technical design documents on each retrofit and enhancement.\\n\\n\\tAdd new text catalogues for various languages.\\n\\n\\tResponsible for overseeing the Quality procedures related to the project. \\n\\nResponsible for move objects from Development to SIT Environment\\n\\n\\t\\n\\nEnvironment: People Tools (Application Designer, Application Engine, People Code), PeopleSoft HCM 9.1, DB2, Windows, UNIX.\\n\\n\\n\\n\\n\\n\\n\\n\\t\\n\\nPage 1 of 3 \\n\\nPage 1 of 3 \\n\\n\\n\\n\\n\\n\\n\\nPage 1 of 3 \\n\\nPage 1 of 3 \\n\\n© 2012 Ciber, Inc.  All rights reserved.\\n\\n© 2012 Ciber, Inc.  All rights reserved.',\n",
       " 'Murali\\t\\t       \\n\\n\\t\\n\\n\\n\\n\\n\\n\\n\\n\\n\\n\\n\\n\\n\\n\\n\\nPROFESSIONAL SUMMARY\\n\\nHaving 4.6 years of experience in PeopleSoft application enhancement, Support and Upgrade projects. Well experienced on People tools and having Functional knowledge HCM and FSCM Applications.\\n\\nSkill\\n\\n\\n\\n\\n\\n\\n\\nPeople Tools\\n\\nApplication Designer, Application Engine, People Code, Application Packages\\n\\nPeopleSoft Application\\n\\nFSCM and HCM Applications\\n\\nFSCM Modules\\n\\nProcurement, PO, AP, AR, Billing and GL\\n\\nHCM Modules\\n\\nRecruiting, Performance Management, WAF, Benefits\\n\\nInterfaces\\n\\nComponent Interface and File Layout\\n\\nOther Languages\\n\\nC, C++\\n\\nDatabase \\n\\nOracle, SQL Server, DB2\\n\\nOperating System\\n\\nWindows, UNIX\\n\\n\\n\\n\\n\\nEDUCATION\\n\\n\\n\\n\\n\\nMaster of computer applications, Vinayaka Missions University, Chennai, Tamilnadu, India (3year program- 2010).\\n\\n\\n\\nRELEVANT EXPERIENCE\\n\\nSenior Consultant – Randstad, Hyderabad, Andhra Pradesh, India (June 2020 to till date)\\n\\n\\n\\nProject:  Randstad (Enhancements)\\n\\nClient:    Randstad Staffing \\n\\nResponsibilities:\\n\\n\\tAnalyze the requirement documents to understand the customer business requirement.\\n\\n\\tProvide the technical approach for each FDD assign me.\\n\\n\\tCustomize the system applications and designed many objects from scratch.\\n\\n\\tWrite people code to implement the business logic.\\n\\n\\tDesign custom Application engine programs to process the data.\\n\\n\\tDesign Application engine programs to send notifications.\\n\\n\\tResponsible to prepare unit test cases and technical design documents.\\n\\n\\tResponsible to support SIT and UAT.\\n\\n\\n\\nEnvironment: People Tools (Application Designer, Application Engine, People Code, Component Interface, Application Packages), PeopleSoft HCM, Oracle, Windows.\\n\\n\\n\\n\\n\\n\\n\\n\\n\\n\\n\\nSr. Technical Associate – Verizon, Hyderabad, Andhra Pradesh, India (Dec 2018 to May-2020)\\n\\n\\n\\nProject:  Verizon Wireless (Development)\\n\\nClient:    Verizon\\n\\nResponsibilities:\\n\\n\\tAnalyze the requirement documents to understand the customer business requirement.\\n\\n\\tProvide the technical approach for each FDD assign me.\\n\\n\\tCustomize the system applications and designed many objects from scratch.\\n\\n\\tWrite people code to implement the business logic.\\n\\n\\tDesign custom Application engine programs to process the data.\\n\\n\\tDesign Application engine programs to send notifications.\\n\\n\\tImplemented component interface program to load data into people soft.\\n\\n\\tUsed file layout in inbound programs.\\n\\n\\tResponsible to prepare unit test cases and technical design documents.\\n\\n\\tResponsible to support SIT and UAT.\\n\\n\\t\\t\\t\\n\\nEnvironment: People Tools (Application Designer, Application Engine, People Code, Component Interface, Application Packages), PeopleSoft FSCM 9.1, Oracle, Windows.\\n\\n\\n\\nSenior Software Engineer – HSBC, Hyderabad, India (Aug 2016 to Nov 2018)\\n\\n\\n\\nProject:  HSBC (Upgrade Project)\\n\\nClient:    HSBC Bank\\n\\nResponsibilities:\\n\\n\\tAnalysis and Understand the Source and Target system business process.\\n\\n\\tCompare the objects between source and targets and identify the changes.\\n\\n\\tRetrofit all the objects based on compare reports.  \\n\\n\\tUnit testing and prepare unit Test cases on each retrofit.\\n\\n\\tDesign and Development new modifications required by customer.\\n\\n\\tPrepared Technical design documents on each retrofit and enhancement.\\n\\n\\tAdd new text catalogues for various languages.\\n\\n\\tResponsible for overseeing the Quality procedures related to the project. \\n\\nResponsible for move objects from Development to SIT Environment\\n\\n\\t\\n\\nEnvironment: People Tools (Application Designer, Application Engine, People Code), PeopleSoft HCM 9.1, DB2, Windows, UNIX.\\n\\n\\n\\n\\n\\n\\n\\n\\n\\n\\t\\n\\nPage 1 of 3 \\n\\nPage 1 of 3 \\n\\n\\n\\n\\n\\n\\n\\nPage 1 of 3 \\n\\nPage 1 of 3 \\n\\n© 2012 Ciber, Inc.  All rights reserved.\\n\\n© 2012 Ciber, Inc.  All rights reserved.',\n",
       " 'Priyabrata Hota\\n\\n\\n\\n\\n\\nCAREER OBJECTIVE\\t\\t\\n\\n\\n\\nPursuing Peoplesoft Executive role, having an overall experience of 3.6 Years in Financial Supply Chain Management and processes include Modification, Testing, and Supporting in PeopleSoft FSCM modules.\\n\\n\\n\\n PROFESSIONAL SKILL\\t\\t\\n\\n\\n\\nFunctional: Purchasing, Inventory, Billing, Sound knowledge Account Payable, Sound knowledge in Peoplesoft Security\\n\\nTechnical: PS Query, Basic knowledge in Peoplesoft Security, Application Designer, Peoplecode, SQL\\n\\nTOOLS: People Tools, ORACLE SQL Developer\\n\\nDatabase: ORACLE\\n\\n\\n\\nPROFESSIONAL SUMMARY\\n\\nProject # 1\\n\\nModule:   Accounts Payables \\n\\nClient\\t: Accounts Team Aptara \\n\\n\\n\\nRole\\t: Developer\\n\\nTechnologies Used\\t: Crystal Reports, People Tools, Application Designer, Reporting Tools\\n\\n\\n\\n\\n\\nApplication Designer: By using this tool we have created page which contains run control record and that page add in the component and register the component so that its reflected in the PIA(pure internet architecture)\\n\\nPeople Tools:          we have created a permission list by the help of people Tools and that permission                list to a separate role so that selected user can access the page.\\n\\n we have also created a process to run the crystal through this tools so that the output will visible through process monitor.\\n\\nReporting Tools:      we have created PS queries by the help of Reporting Tools for main report and for sub report in the crystal report.\\n\\nCrystal Reports:      by this tool we can used the PS queries, formula fields, running Total fields to get the required output\\n\\n\\n\\nProject # 2\\n\\nModule:   Purchasing\\n\\nClient\\t: Admin Team\\n\\n\\n\\nRole\\t: Developer\\n\\nTechnologies Used\\t: People Tools\\n\\n\\n\\nAs for the client requirement for requisition purpose we have to create a new origin for admin so that any requisition raise through that origin it’s only for Admin purpose.\\n\\nto get the requisition approval flow for admin we have created the origin for admin and add that origin in the route control profile by the help of People Tools. And that route control profile\\n\\nadded in the approver user ids to get the work done.\\n\\n\\n\\n\\n\\n.\\n\\n• Tracking the Defects to Closure and Defects Verification.\\n\\n• Status meetings with Client.\\n\\n• Creating Peoplesoft User id as per the User requirement\\n\\n• creating Origin, route control profile, Roles for requisition.\\n\\n• Handling Requisition, Purchase Order, Receipt and Inventory related issue.\\n\\n• creating Billing specialist etc. as per the requirement from the user, also resolve the bug (e.g. if invoice not get printed etc.).\\n\\n• Handling journal error issues (e.g. its might be combo error, amount difference, open period error or zero line error)\\n\\n\\n\\n\\u200bFUNCTIONAL SUMMARY\\n\\n\\n\\nOracle PeopleSoft Application (Finance) 8.9\\n\\nModules Handled: Resource Management of FSCM\\n\\nPurchasing\\n\\nInventory\\n\\nBilling\\n\\nSound knowledge in Account Payable\\n\\nSound knowledge of PeopleSoft security\\n\\n\\n\\nTECHNICAL SUMMARY\\n\\n\\n\\nPrimary Skills: PS Query, Application Designer (Field, Record, Page, Component, Menu), SQL\\n\\nSecondary Skills: Peoplecode\\n\\nTOOLS: People Tools, ORACLE SQL Developer\\n\\nDatabase: ORACLE\\n\\n\\n\\nEDUCATION\\t\\t\\t\\t\\t\\n\\nB.Tech in Electrical and Electronics Engineering, Indus college of engineering, Biju Patnaik University of Technology, Orissa from0\\n\\n\\n\\nPERSONAL VITAE\\n\\n\\n\\nDate of Birth\\t: 10th Jan 1991\\n\\nLanguages \\t: English, Hindi, Odia\\n\\nNationality\\t: Indian\\n\\nGender\\t\\t: Male\\n\\n.\\n\\n\\n\\nDECLARATION\\n\\n\\n\\nI do hereby declare that the information given above is true and correct to my knowledge and belief.\\n\\n\\t\\t\\t\\t\\t\\t\\n\\nDate:                                         \\t\\t\\t\\t\\t\\t    \\t    Priyabrata Hota.',\n",
       " 'Tanna Sujatha \\n\\n\\n\\n\\n\\n\\n\\nOBJECTIVE\\n\\nSeeking a challenging role in the area of IT to work in an organization where I can utilize my functional knowledge to provide the best solutions to the business.\\n\\n\\n\\nPROFESSIONAL SUMMARY:\\n\\n\\n\\n\\t\\tFunctional Expertise in the below PeopleSoft Finance modules\\n\\n\\tPurchase\\n\\n\\tAccount Payables\\n\\n\\t\\tExperienced in working with Reporting tools like PS-query.\\n\\n\\t\\tEnd-End functional knowledge of AP & PO modules and handled various change requests from the user.\\n\\n\\n\\nSYNOPSIS\\n\\n\\t\\tEnergetic and result oriented professional with 3.6 years of experience in IT. Extended expertise in PeopleSoft Financials 9.2 in the area of design, maintenance and production support. Deep understanding of technology with focus on delivering business solutions. Presently working as Sr. System Engineer\\n\\n\\t\\tExcellent decision-making skills with a positive approach.\\n\\n\\t\\tDedicated and highly ambitious to achieve personal goals as well as the organizational goals.\\n\\n\\t\\tAbility to build new territories and expand opportunities towards the achievement of stated targets.\\n\\n\\n\\n\\n\\nEDUCATION\\n\\n\\n\\n\\tBTECH from KAUSHIK COLLEGE OF ENGINEERING, Visakhapatnam in 2015 with an academic percentage of 63%.\\n\\n\\n\\n\\tPUC from NARAYANA junior college Visakhapatnam in 2011 with an academic percentage of 74.2%.\\n\\n\\n\\n\\tS.S.C from ZP High School, BURJA in 2009 with an academic percentage of 71.1%.\\n\\n\\n\\nSOFTWARE PROFICIENCY\\n\\n\\n\\n\\tPeopleSoft Functional:\\tPurchase, Account Payables, Vendor Management\\n\\n\\tDatabases:\\tOracle SQL Developer.\\n\\n\\tReporting Tools:\\tPS Query \\n\\n\\t\\n\\nWORK HISTORY\\n\\n\\t\\tCompany: Datum Technologies                                                   (Mar’17-Present) \\n\\n\\t\\tDesignation: Sr. System Engineer\\n\\n\\n\\nPROJECTS HANDLED\\n\\n\\n\\nProject- #1:\\n\\n(Jul’17 –Present)\\n\\nProject Name: Datum (PeopleSoft FSCM Maintenance and Support)\\n\\n\\tClient:\\tDATUM\\n\\n\\tRole:\\tSr. System Engineer\\n\\n\\tDuration:\\tJul’17– Present\\n\\n\\tTeam Size:\\t6members\\n\\n\\n\\nDescription:\\n\\nThis is a maintenance and Production Batch Support project. Maintenance involves working on the tickets which needs customization, Setup and enhancements for creating or modifying the PeopleSoft objects. Production support involves monitoring the batch jobs scheduled.\\n\\nRoles and Responsibilities:\\n\\n\\t\\tMonitoring of Batch jobs and resolving the job failures on time.\\n\\n\\t\\tUnit testing and documentation as per organizational requirement.\\n\\n\\t\\tDocumentation of process flow as per the business requirement.\\n\\n\\t\\tInvolved in interactions with users for requirement/change gathering, UATs etc. Handling various requests from the user.\\n\\n\\t\\t\\n\\n\\t\\t\\n\\n\\t\\tPERSONAL DETAILS\\n\\n\\tDate of Birth:\\t1st July, 1994\\n\\n\\tLanguages:\\tEnglish, Telugu\\n\\n\\tGender:\\tFemale\\n\\n\\tMarital Status:\\tMarried\\n\\n\\tNationality\\tIndian\\n\\n\\tPresent Address:\\tPocharam, Hyderabad, Telangana, India.\\n\\n\\n\\nI hereby declare that the information furnished above is true to the best of my knowledge.\\n\\n\\n\\nSujatha Tanna',\n",
       " \"C O N T A C T :\\n\\n\\n\\nAddress: Manyata Tech Park,\\n\\nNagavara, Bangalore 560045\\n\\n\\n\\nLinIn: subha-santosh-b16698139\\n\\n\\n\\nS K I L L S :\\n\\n\\n\\nPeopleSoft Finance FSCM ARIBA\\n\\nJAVA Full Stack Development SQL\\n\\nPower BI\\n\\n\\n\\nI N T E R E S T S :\\n\\n\\n\\nLearning new Technologies. Planting Hybrid Species.\\n\\nCooking. Travelling Singing.\\n\\n\\n\\nS T R E N G T H S :\\n\\n\\n\\nTime Management. Responsible for my deliverables.\\n\\nLeadership qualities.\\n\\n\\n\\nL A N G U A G E S :\\n\\n\\n\\nJapanese.\\n\\nFrench (Started Learning).\\n\\n\\nSRI SUBHA SANTOSH KUMAR JOSYULA\\n\\nA S S O C I A T E C O N S U L T A N T\\n\\nP R O F E S S I O N A L S U M M A R Y :\\n\\n\\n\\nI am having more than 3.2 years of experience in assistance and development for projects like ARIBA and PEOPLESOFT FINANCE . I have successfully completed TOOLS PATCH and TOOLS UPGRADE PROJECT with 0% refuse validations. I am the main Point of contact in Non Regression Testing and User Acceptance Testing. I am responsible to find solutions which makes customer satisfaction.\\n\\n\\n\\nW O R K E X P E R I E N C E :\\n\\n\\n\\nASSOCIATE CONSULTANT\\n\\nCapGemini - AXA | June 2018 - Till Date\\n\\nWorking on modules like Accounts Payable. Accounts Receivable and General Ledger, Expenses, User Profile Self Service (USS), Security along with Application Designer and SQL server .\\n\\nOrganised customer information and account data for business planning and customer service purposes.\\n\\nReceived 97% positive customer survey results. Worked on People Code and Packaging activities.\\n\\nSuccessfully monitored the Process Monitoring for failed jobs.. Collectively worked with the team to maintain 100% SLA. Developed and implemented many JAVA scripts to make the changes as per client's requirement.\\n\\n\\n\\n\\n\\nE D U C A T I O N :\\n\\n\\n\\nBACHELOR OF TECHNOLOGY, ELECTRONICS AND COMMUNICATION\\n\\nVishnu Institute of Technology - JNTUK | 2014 - 2018 Average : 75%\\n\\n\\n\\n\\n\\nA W A R D S A N D\\n\\nC E R T I F I C A T I O N S :\\n\\n\\n\\nBasic Certified Power BI Desktop Manager - Coursera 2021 Agile Software Development - 2021\\n\\nRising Star Award -CapGemini - Q4-2020\\n\\nBEST TEAM AWARD | PeopleSoft Finance Team  | 2019 and 2020\\n\\nOCA-8 JAVA DEVELOPER\\n\\nMicrosoft Office Specialist.\\n\\nJapanese Language Basic Certification.\",\n",
       " 'ANIL KUMAR MADDUKURI  \\t\\t\\n\\nSQL & MSBI Developer   \\n\\n\\n\\n\\t\\t\\n\\n\\n\\nSummary\\n\\n\\n\\n2.4 years of experience in MS SQL Server (SSMS) and creating SSIS packages, SSRS Reports by using Microsoft Business Intelligence (MSBI) tools.\\n\\nExpertise in various types of Joins and Sub Queries for writing complex queries involving multiple tables.\\n\\nHandled data manipulation and data consistency by creating Views, Triggers, and Synonyms.\\n\\nHands on experience in creation, optimization and debugging Stored Procedure and Functions.\\n\\nFamiliar in writing queries using CTE, Temporary Tables and Table Variables.\\n\\nGood experience in using Set Operators like Union, Union All, Except and Intersect to assist required data.\\n\\nExperience in manipulate the data from multiple table and report to the client using Aggregate Functions, Windows Functions and String Functions.\\n\\nWorked extensively on Data Extraction, Transformation and Loading (ETL) process in SQL Server Integration Services.\\n\\nUsed containers such as for each loop container and sequence container to load the data from multiple source file to Database tables.\\n\\nExpertise in using tasks like  Data flow Task, Execute SQL task ,Control Flow task Execute package task, Execute Process task, Bulk insert Task,  Sends Mail task and FTP Task and Script task at the control flow level .\\n\\nExperience in using Data conversion,OLEDB command, Row count, Union All, Derived Column, Merge, Merge Join, Fuzzy lookup, Conditional Split and various other Transformation to manipulate data in SSIS package at the Data Flow Level for moving typical data from source to destination.\\n\\nImplemented SSIS Loggings, check-points Break points and package configurations source system to another source system and ETL operations.\\n\\nGood experience in developing Table Reports, Sub Reports, Matrix Reports, Drill down Reports, Drill through Reports using SQL Server Reporting Services.\\n\\nInvolved in Linked reports, Cache reports, and Snapshot reports in report manager level.\\n\\nExpertise in performing backup and restore the database.\\n\\nCreated Indexes like Clustered Index and Non-Clustered Index to improve the performance.\\n\\n\\n\\nTechnical Skills\\n\\nLanguages\\t           :  SQL, T-SQL\\n\\nRDBMS\\t           :  SQL Server 2016/2012/2008 \\n\\nETL Tools\\t           :  SQL Server Integration Services (SSIS)\\n\\nReporting Tools         :  SQL Server Reporting Tools (SSRS)\\n\\n\\n\\nProfessional Experience\\n\\nCurrently working as Software Engineer in Imagine Technology\\xa0and Services Pvt. Ltd \\n\\n       Since 2019 to till date.\\n\\nProject Experience\\n\\nProject\\t\\t\\t:  Health Insurance\\n\\nClient\\t\\t\\t:  Aetna, USA\\n\\nEnvironment\\t\\t:  MS SQL SERVER 2016, SSIS, SSRS, Visual Studio 2015 \\n\\nDuration\\t\\t:  April 2019 to Till Date\\n\\n\\n\\nDescription: \\n\\nThis project is developed for Aetna Insurance. This is an American managed health care company sells traditional and consumer directed health care insurance and related services, Such as medical, dental, long-term care, and disability plans, primarily through employer-paid (fully or partly) insurance and benefit programs. The main goal of this project Implementing Customer Information into Database and Developing mechanism to revert data from database. \\n\\n\\t\\tResponsibilities: \\n\\n\\n\\nCreate/update indexes, views, Stored Procedures, user defined functions, common table expressions (CTEs) and Triggers. \\n\\nDevelop SSIS Packages by extracting data from diversified sources like Excel, CSV, flat file, Text and load into staging area.\\n\\nUse transformations like Aggregate, Conditional Split, Derived Columns, Row Count, Merge and Merge Join, Multicast, Slowly Changing Dimension to manipulate data in data flow level\\n\\nImplement event handlers for the packages, maintain log information and provide checkpoints in SSIS level. \\n\\nDesign packages in control flow levels based on tasks like Data Flow Task, Execute SQL Task, FTP tasks and used For Each Loop Container, Sequential Container.\\n\\nGenerate reports in the form of Matrix, Table by using SSRS from SQL Server Database and included various reporting features such as drilldown, drill through, sub reports. \\n\\nInvolved in setting up SQL Server Agent Jobs for periodic Backups with backup devices, database maintenance plans and recovery.\\n\\nMaintained / managed database agent jobs, check for failures and resolve failure issues.\\n\\nUsed SQL Profiler and query tuning Wizard to troubleshoot problems and queries.\\n\\n\\n\\nEducation\\n\\nB.Tech - Velagapudi siddhartha engineering college,Vijayawada',\n",
       " 'Aradhana Tripathi\\n\\n\\n\\nCurrent Location: Gachibowli, Hyderabad\\n\\n\\n\\nProfile Summary:\\n\\n\\n\\nAn accomplished data driven analytical professional have more than 4 years of working experience in information technology & Service industry.\\n\\nCurrently working as SQL Database Developer and have 3 years of experience in database design, development, analysis and support of using MS SQL Server, MySQL (MariaDB) and Athena (AWS) in development, testing and production environments.\\n\\nExtensive experience in writing complex queries, creating Tables, Views, Union, Triggers, Stored Procedures, User Defined Functions (UDF’s), System Defined Functions, and other T- SQL statements, Constraints and Indexes using various DDL and DML Commands.\\n\\nExperience in using sub-queries and joins to simplify complex queries involving multiple tables.\\n\\nExperience in working on amazon relational database (AWS RDS).\\n\\nHave basic understanding on using analytical tools and technologies such as SAS, R, Bigdata (Hadoop, Hive, HQL query) etc.\\n\\nHad experience in requirement gathering, stakeholder management, account management and business insights visualization preparing dashboard using tableau and Excel.\\n\\nTechnical Skills:\\n\\n\\n\\nLanguages: SQL, SAS, R, Python\\n\\nDBMS: MS SQL Server, T-SQL, AWS RDS (Athena), MariaDB (Version of MySQL)\\n\\nIDE: SQL Server Management Studio (SSMS), RazorSQL, HeidiSQL, RStudio\\n\\nVisualization Tools: R, Tableau, Excel\\n\\nDomain: Media & Publication, BFSI, Retail\\n\\nEmployment History:\\n\\n\\n\\nCurrently working with Condé Nast (https://www.condenast.com/) as SQL Database Developer through Jigyasa Analytics, LLC Since Aug 2019.\\n\\nWorked with Tech Mahindra as Business Associate from Apr 2015 to Jan 2017.\\n\\nWorked with People Tech Group as IT Consultant from Jun 2013 to Mar 2015.\\n\\nProject Details:\\n\\n\\n\\nProject: Migration of On-Premises SAS Regression Models to Athena (AWS)\\n\\nClient:  Conde Nast\\n\\nRole: MS SQL developer\\n\\nProject Description: This project is about migration of logistic regression models in SAS to Athena (AWS) and development of new code in SQL Server then Athena (AWS). The purpose of Migration is to take advantage of AWS cloud features like cost optimization, scalability and high availability.\\n\\nRoles & Responsibilities: \\n\\nDeveloping and designing SQL code for models in MS SQL Server.\\n\\nDeveloping and designing SQL code for models in MySQL (MariaDB).\\n\\nFinal implementation of model in production environment Athena (AWS).\\n\\nCreated reusable code in Athena to automate model scoring.\\n\\nWriting query to push data on S3.\\n\\nModel Validation in Stagging environment.\\n\\nTechnical Platform: MS SQL Server 2014, MySQL, HeidiSQL, RazorSQL, SAS, Athena (AWS), Excel etc.\\n\\n\\n\\nProject: Retail Sales Portal Development\\n\\nClient:  One of the leading retail Client\\n\\nRole: MS SQL developer\\n\\nProject Description: This project is all about online ecommerce data comprises the details about customer id, country, customer came from source of traffic, which channel used for transactions. Number of purchases made on particular product & services, frequency of visits. Also given the information about total sales, gross profit, net profit made certain period of time and discount offers to customers. Each of these details used to do data analysis that subsequently helps management in decision making.\\n\\nRoles & Responsibilities: \\n\\nUnderstanding existing functionality and database design.\\n\\nDatabase design, creating normalize tables using constraints, functions.\\n\\nDevelop complex SQL queries, views, triggers, stored procedures.\\n\\nMaintaining data quality and integrity.\\n\\nTechnical Platform: MS SQL Server 2014\\n\\n\\n\\nAcademic Project - IIIT Bangalore (Jun 2018 to Jul 2019):\\n\\n\\n\\nProject: Human Resource Database Management Systems\\n\\nProject Description: Human Resource Database Management System creates stores and manages all the data needed to describe the personal and their framework within an organization. It includes definition of various levels of hierarchy in an organization, the salary structure pertaining to every element in this hierarchy, the description of every department functioning in the organization and the overall employee database which integrates elements in all the aforementioned.\\n\\nRoles & Responsibilities: \\n\\nDatabase design and development.\\n\\nEffective data handling.\\n\\nEffective data retrieval and maintenance.\\n\\nCreated features to implemented database security.\\n\\nTechnical Platform: MS SQL Server, MS Excel, Tableau\\n\\n\\n\\nProject: CredX Risk Analytics\\n\\nProject Description:  Business objective is to help CredX to identify the right customer using predictive models. Used past data of bank’s applicants to determine the factors affecting credit risk and create strategies to mitigate the acquisition risk. \\n\\nRoles & Responsibilities: \\n\\nBusiness Understanding, Data cleaning and preparation\\n\\nBuilding predictive models (Logistic regression, random forest, decision tree etc).\\n\\nDeploy the best fitted model.  \\n\\nTechnical Platform: RStudio, MS SQL Server, Excel etc.\\n\\n\\n\\nAcademic Qualification \\n\\n\\n\\nPost Graduate Diploma in Data Science from IIIT - Bangalore’19, CGPA 3.2/4\\n\\nMCA, Computer Applications & Information Technology and Sciences from AKS University.',\n",
       " \"BUDDHA VAMSI                                                            \\n\\n\\n\\nCAREER OBJECTIVE:\\n\\n\\n\\nHave 2.11 years of IT experience as Database Engineer and currently working in Fluentgrid Limited Visakhapatnam from August 2018 as Database Engineer.\\n\\n Having good hands on SQL, PLSQL at various databases like Oracle, MS Sql Server.\\n\\nExpertise in creating/modifying Tables, Views, Stored Procedures, Functions and indexes.\\n\\nHaving knowledge on Triggers, Temporary tables, CTE Recursive Methods.\\n\\nExpertise in writing transformations (ETL) using Business Intelligence tools like Pentaho Kettle.\\n\\n\\n\\n\\n\\n\\n\\nEXPERIENCE : \\n\\nMS-SQL,PL/SQL-Oracle DEVELOPER Aug-2018-Present\\n\\nFLUENTGRID LIMITED, Visakhapatnam\\n\\nDesigned the database architecture for client projects.\\n\\nIm Working with NDMC,KESCO,UPPCL,UGVCL,Bosch Smart electricity Power utility projects.\\n\\nDeveloped  Data Flow Diagrams and data structure diagrams.\\n\\nConfigured,tuned and maintained MS-SQL Server database servers,PL/SQL-Oracle.\\n\\nEnabled required data extract,transform and load procedures and packages.\\n\\nPerformed database development and implementation activities.\\n\\nCreate ETL Jobs And Monitoring The Jobs \\n\\n\\n\\n\\n\\n\\n\\nACADEMIC PROFILE:\\n\\n\\n\\nCourse\\n\\nName of School/College\\n\\nBoard/University\\n\\nPercentage / CGPA\\n\\nYear  of Passing\\n\\n B.Tech.(CSE)\\n\\n\\n\\nDadi Institute of Engineering and Technology.\\n\\nJNTUK University\\n\\n71.71\\n\\n2015\\n\\n\\n\\n\\n\\n   INTERMEDIATE\\n\\nSri Chaitanya Junior College.\\n\\n Board of Intermediate Education\\n\\n78.1\\n\\n2011\\n\\n\\n\\n\\n\\n\\n\\nSSC\\n\\nCambridge Advanced Model High School.\\n\\nState Board of Secondary Education\\n\\n76.8\\n\\n2009\\n\\n\\n\\n\\n\\n\\n\\nTECHNICAL SKILLS:\\n\\n\\n\\nDatabase tools:\\n\\nSybase ASE 15.7 Server,MS-SQL,MS-SQL,Oracle,Devops,PL/SQL-Oracle,Pentaho data integration (ETL) \\n\\nOperating System:\\n\\nWindows7/xp,Linux,CentOS,Ubuntu,VMware Workstation\\n\\nServer connecting Tool:\\n\\nPutty,DB Solo,Dell Sonic Global VPN Client,Spoon\\n\\nFTP:\\n\\nWinSCP\\n\\nHadoop Eco-System:\\n\\nPig,Hive,Sqoop,Hbase,Impla,Scala\\n\\nProgramming Skills:\\n\\nCore Java,html,css,bootstrap,C-language\\n\\n\\n\\n\\n\\n\\n\\n\\n\\nACHIEVEMENTS AND AWARDS:\\n\\n\\n\\nTwo day workshop on SIIMAD(Symbyosis Innovation and Intelligene for Moblie Application Development) at Miracle engineering college ----- Mar 2013\\n\\nInternational workshop on SSE(security and software engineering) at DIET ---- Feb 2013\\n\\nInternational workshop on BITD(Business Intelligence and Test Driven Development) ---- Dec 2012\\n\\nCyber Forensics workshop at NIT warangal ----- Aug 2012\\n\\nEthical Hacking conducted by Cybercure solutions ----- Aug 2012\\n\\n\\n\\nTwo day workshop on cloud computing technology at DIET----Jan 2015\\n\\n\\n\\nI   Achieve IBM Bluemix certificate  in cloud computing technology for creating app in cloud\\n\\nI actively participated in DIET-NSS UNIT\\n\\n\\n\\nPERSONAL PROFILE:\\n\\nName \\t\\t:  Buddha Vamsi\\n\\nFather’s Name\\t:  B.Dharma Raju\\n\\nMother’s Name      :  B.Jaya Lakshmi \\n\\nDOB\\t\\t\\t :  22-08-1994\\n\\nSex\\t\\t\\t : male    \\n\\nMarital Status\\t : Single\\n\\nNationality\\t\\t :  Indian\\n\\nLanguages Known\\t :  English, Telugu\\n\\nHobbies \\t\\t :  Playing Cricket\\n\\n\\n\\nDECLARATION:\\n\\n\\n\\n              I hereby declare that the above information's are true to best of my knowledge.\",\n",
       " 'KAMBALLA PRADEEP                                                                   \\n\\nSYNOPSIS\\n\\n\\n\\nLooking forward to aspire a challenging career, where in enhancing my technical   knowledge and work hardly towards the growth of the organization.\\n\\nSUMMARY\\n\\n\\n\\nHaving 2.8 years of Professional Software development experience in the areas of developing and supporting applications based on Microsoft SQL Server.\\n\\nProficient in Relational Database Management Systems (RDBMS).\\n\\nExpertise in Transact-SQL (DDL, DML, DCL) and in Design and Normalization of the database tables.\\n\\nExperience in implementing business logic using Triggers, Indexes, Views and Stored Procedures.\\n\\nExtensive knowledge of advance query concepts (e.g. group By, having clause, union so on).\\n\\nExperience with tools like SQL Server management studio and SQL Server2008r2/2012 Integration (SSIS).\\n\\nExperience in Creating and Updating Clustered and Non-Clustered Indexes to keep up the SQL Server Performance.\\n\\nSelf-motivated and ability to learn and grasp new technologies and domain knowledge.\\n\\nExcellent analytical, communication and interpersonal skills. Proficient in technical writing and presentations and a good team player.\\n\\nExperienced in authoring and deploying SQL Server Integration Services (SSIS) packages.\\n\\nGood Experience in optimizing the queries by creating various clustered, non-clustered indexes and indexed views\\n\\nExtensive experience with SQL Server and T-SQL in constructing Procedures, triggers, Tables, Table variables, user defined functions, views, indexes, CTE, temp tables, relational database models.\\n\\n\\n\\nEducation Details\\n\\n                        Graduated in B.sc  from Sri Venkateshwara University, Tirupathi,2018.\\n\\n\\tWORK EXPERIENCE\\n\\n\\n\\nCurrently working as a software Engineering in Coginic Technologies pvt Ltd., from JUN-2018 to 04th feb 2021 in Hyderabad.\\n\\nTECHNICAL SKILLS\\n\\n\\n\\nLanguages                            \\n\\nSQL, T-SQL, SSIS, MY SQL\\n\\nTechnologies                       \\n\\nMS SQL Sever \\n\\nOperating Systems\\n\\nWindows 10\\n\\nDBMS\\n\\nSQL Server 2012, 2016\\n\\nOLAP Tools\\n\\nSQL Server Analysis Services\\n\\nETL Tools\\n\\nSQL Server Integration Services\\n\\nReporting Tools\\n\\nSQL Server Reporting Services, Report Builder\\n\\n\\n\\n\\tProject Details:\\n\\nProject 1:\\n\\n\\n\\nProject Name\\n\\nCapital Finance & Core Accounting system\\n\\nClient Name\\n\\nL & T Finance Services\\n\\nEnvironment\\n\\nT-SQL, SQL Server, SQL Server 2012,2016, SSIS\\n\\nRole\\n\\nSQL Developer\\n\\nDescription\\n\\nPrecise is an information management system custom built in the late – 1990s. Precise is a system of record for Wells Fargo Capital Finance client information. It is modular in design and houses a suite of 7 applications. 1)Appraisal 2)Client information profile 3)Compliance tracking module 4) Document tracking system 5) Field Exam 6)Participants 7) Trends, terms and comments\\n\\nThe Enterprise Management System (“EMS”) is the system of record for the management of application access and distribution of business tools for Wells Fargo Capital Finance (WFCF) team members. It is used to capture all employee functional data , such as team member’s\\n\\nJob title, Division, Contact information, Business tools, Levels of system access and Emergency contact information in a central repository.\\n\\niReports Application is a web based centralized reporting application provides a consolidated view of all the reports related to Wells Fargo Capital Finance. iReports application is a 3 tier application, consisting with UI, Service and Data Access Layer. UI layer is developed in AngularJS mainly highlighting the UI layout of the Application. In the Data Access layer, it is responsible to communicate with respective application database, and we use ADO.Net to implement the DAL layer. \\n\\nFor showing the reports we are using the SSRS report viewer control to fetch the report from the respective SSRS server.\\n\\nResponsibility\\n\\nAnalyzing and Understanding the business requirements.\\n\\nCreated and manipulated many Packages.\\n\\nImplemented ETL and business logic with various tasks and transformations.\\n\\nWritten many customized queries, implemented many performance improvements across packages.\\n\\nPopulating the Data from different source systems into DW using SSIS. \\n\\nInvolved in unit testing against the developed packages.  \\n\\nResponsible for security and roles.\\n\\nWriting Adhoc queries for migration and Report Purpose.\\n\\nResponsible for development of\\xa0Procedures, Functions\\xa0and database\\xa0Triggers.\\n\\nCreated\\xa0indexes\\xa0and analyzed its role for\\xa0optimizations.\\n\\nCreating various types of reports like drill down, drill through, sub reports.\\n\\nWriting Migration Queries based on Requirement and data related issues.\\n\\nDeveloped Dynamic SQL queries and results with manipulated data.\\n\\nCoordinating the Developing activities with the development team and QA team\\n\\nEnhancements of the existing code according to client requirements.',\n",
       " 'KAMBALLA PRADEEP                                                                   \\n\\nSYNOPSIS\\n\\n\\n\\nLooking forward to aspire a challenging career, where in enhancing my technical   knowledge and work hardly towards the growth of the organization.\\n\\nSUMMARY\\n\\n\\n\\nHaving 2.8 years of Professional Software development experience in the areas of developing and supporting applications based on Microsoft SQL Server.\\n\\nProficient in Relational Database Management Systems (RDBMS).\\n\\nExpertise in Transact-SQL (DDL, DML, DCL) and in Design and Normalization of the database tables.\\n\\nExperience in implementing business logic using Triggers, Indexes, Views and Stored Procedures.\\n\\nExtensive knowledge of advance query concepts (e.g. group By, having clause, union so on).\\n\\nExperience with tools like SQL Server management studio and SQL Server2008r2/2012 Integration (SSIS).\\n\\nExperience in Creating and Updating Clustered and Non-Clustered Indexes to keep up the SQL Server Performance.\\n\\nSelf-motivated and ability to learn and grasp new technologies and domain knowledge.\\n\\nExcellent analytical, communication and interpersonal skills. Proficient in technical writing and presentations and a good team player.\\n\\nExperienced in authoring and deploying SQL Server Integration Services (SSIS) packages.\\n\\nGood Experience in optimizing the queries by creating various clustered, non-clustered indexes and indexed views\\n\\nExtensive experience with SQL Server and T-SQL in constructing Procedures, triggers, Tables, Table variables, user defined functions, views, indexes, CTE, temp tables, relational database models.\\n\\n\\n\\nEducation Details\\n\\n                        Graduated in B.sc  from Sri Venkateshwara University, Tirupathi,2018.\\n\\n\\tWORK EXPERIENCE\\n\\n\\n\\nCurrently working as a software Engineering in Coginic Technologies pvt Ltd., from JUN-2018 to 04th feb 2021 in Hyderabad.\\n\\nTECHNICAL SKILLS\\n\\n\\n\\nLanguages                            \\n\\nSQL, T-SQL, SSIS, MY SQL\\n\\nTechnologies                       \\n\\nMS SQL Sever \\n\\nOperating Systems\\n\\nWindows 10\\n\\nDBMS\\n\\nSQL Server 2012, 2016\\n\\nOLAP Tools\\n\\nSQL Server Analysis Services\\n\\nETL Tools\\n\\nSQL Server Integration Services\\n\\nReporting Tools\\n\\nSQL Server Reporting Services, Report Builder\\n\\n\\n\\n\\tProject Details:\\n\\nProject 1:\\n\\n\\n\\nProject Name\\n\\nCapital Finance & Core Accounting system\\n\\nClient Name\\n\\nL & T Finance Services\\n\\nEnvironment\\n\\nT-SQL, SQL Server, SQL Server 2012,2016, SSIS\\n\\nRole\\n\\nSQL Developer\\n\\nDescription\\n\\nPrecise is an information management system custom built in the late – 1990s. Precise is a system of record for Wells Fargo Capital Finance client information. It is modular in design and houses a suite of 7 applications. 1)Appraisal 2)Client information profile 3)Compliance tracking module 4) Document tracking system 5) Field Exam 6)Participants 7) Trends, terms and comments\\n\\nThe Enterprise Management System (“EMS”) is the system of record for the management of application access and distribution of business tools for Wells Fargo Capital Finance (WFCF) team members. It is used to capture all employee functional data , such as team member’s\\n\\nJob title, Division, Contact information, Business tools, Levels of system access and Emergency contact information in a central repository.\\n\\niReports Application is a web based centralized reporting application provides a consolidated view of all the reports related to Wells Fargo Capital Finance. iReports application is a 3 tier application, consisting with UI, Service and Data Access Layer. UI layer is developed in AngularJS mainly highlighting the UI layout of the Application. In the Data Access layer, it is responsible to communicate with respective application database, and we use ADO.Net to implement the DAL layer. \\n\\nFor showing the reports we are using the SSRS report viewer control to fetch the report from the respective SSRS server.\\n\\nResponsibility\\n\\nAnalyzing and Understanding the business requirements.\\n\\nCreated and manipulated many Packages.\\n\\nImplemented ETL and business logic with various tasks and transformations.\\n\\nWritten many customized queries, implemented many performance improvements across packages.\\n\\nPopulating the Data from different source systems into DW using SSIS. \\n\\nInvolved in unit testing against the developed packages.  \\n\\nResponsible for security and roles.\\n\\nWriting Adhoc queries for migration and Report Purpose.\\n\\nResponsible for development of\\xa0Procedures, Functions\\xa0and database\\xa0Triggers.\\n\\nCreated\\xa0indexes\\xa0and analyzed its role for\\xa0optimizations.\\n\\nCreating various types of reports like drill down, drill through, sub reports.\\n\\nWriting Migration Queries based on Requirement and data related issues.\\n\\nDeveloped Dynamic SQL queries and results with manipulated data.\\n\\nCoordinating the Developing activities with the development team and QA team\\n\\nEnhancements of the existing code according to client requirements.',\n",
       " 'Resume\\n\\nName     :  Neeraj Mishra\\n\\n\\n\\nExperience Summary\\n\\n\\n\\nHaving 3 year  6 Month of Experience on Oracle Developer.\\n\\nExperience in Oracle 11g, 12c, SQL and PL/SQL programming.\\n\\nExperience in Creation of Tables, Indexes using SQL and PL\\\\SQL.\\n\\nExtensively worked on Backend Programming using PL/SQL\\n\\n Stored Procedures, Functions, Packages, triggers, Exception Handling.\\n\\nExpertise in creating Oracle Tables, Views, Joins.\\n\\nExperience in Writing SQL Queries, Understanding Requirements.\\n\\nKnowledge on implementing securities using Roles, Privileges and Grants.\\n\\nGood Knowledge on Recursive Query Techniques, Pseudo Column implementations, SET Operators, Understanding Transaction Control, Materialized Views.\\n\\nExtensively worked with DDL, DML and TCL statements.\\n\\nAbility and willingness to learn new technology and acclimatize to any work culture.\\n\\nAble to adapt quickly to the environment and willing to work in shifts.\\n\\n\\n\\n\\n\\nQualification\\n\\n\\n\\nI have completed B.E from RGPV Bhopal in 2013.\\n\\n\\n\\nWorked Experience\\n\\n\\n\\nI am working in oracle developer in Fabex tech solution pvt Ltd from 2017 Till.\\n\\nSkills\\n\\n\\n\\nOperating system             : \\xa0Windows \\n\\nDatabase                            :  Oracle 11g, 18c.\\n\\nProgramming Languages:  SQL, PL/SQL, UNIX \\n\\nTechnical Skill                    :  Oracle Sql , PL/SQL\\n\\nTools                                    :  SQL Developer, CRM, Sql* loader\\n\\nEnvironment                      :   Oracle 11g, Window\\n\\n\\n\\n\\n\\n\\n\\n\\n\\n \\n\\nProject Summary\\n\\n\\n\\n#           Project Name:  BOLT (Back Office Legacy Transition)\\n\\nTechnology     :  SQL, PL/SQL, Oracle\\n\\nTool\\t             :  SQL, Plsql Developer, CRM, Sql*loader\\n\\nRole                  :   Sql & PLSql developer\\n\\nEnvironment :   Oracle 11g, Windows\\n\\nTeam Size        :  8\\n\\nDuration          :  March 2019 to till \\n\\n\\n\\nDescription:  BOLT, Back Office Legacy Transition is an application which processes all the orders coming Into D&B through various order entry systems. BOLT is the heart of the back-office application. It is the prime application that is responsible for offers, pricing, transaction, billing and invoicing and doing the revenue recognition. Transaction records from several other systems come into BOLT and get processed. BOLT also Sends feeds to several other systems such as AR, Quantum, and GL etc.\\n\\n\\n\\nRoles &Responsibilities:\\n\\nInvolved in writing complex SQL Queries, PLSQL code to implement the business requirements.\\n\\nPerform DML, DDL Operations as per the Business Requirements.\\n\\nInvolved in the Development Backend Code, Altered Tables to Add New Columns, Constraints, Sequences and Indexes as per Business Requirements.\\n\\nResolved Production issues by modifying backend codes as and when required.\\n\\nInvolved in Creating the Procedures, Functions, Trigger and Views.\\n\\nAll these details we are updating in our database throw the help of sql*loader.\\n\\nWorked with Joins, Sub-Queries/Co-related Sub-queries .\\n\\nDetailed analysis of the change request or project requests received from the users or back end applications, development and implementation of the changes.\\n\\nExperience in Client interaction.\\n\\n\\n\\n\\n\\n#   Project Name:   M-ONE services\\n\\n    Technology    :  SQL, P L/SQL, Oracle \\n\\n    Tool\\t                :  SQL, Plsql Developer, CRM, Sql*loader\\n\\n    Role                 :   sql & plsql developer\\n\\n   Environment  :   Oracle 11g, Windows\\n\\n   Team Size        :  8\\n\\n   Duration          :   Oct 2017 to Feb 2019\\n\\n\\tDescription:  M-ONE is a web application, exclusively designed for the client MOT. They produce Website Designs and Products to Internet Users. In the process they offer Complete Graphic Design, Website Design and Development, Web Hosting & Maintenance, e Solutions, Various types of Online Requests, etc.\\n\\n\\t  It consists of Services & Admin Module. Services Module deals with maintenance of the user information. MOT provides services to the users based on the information which is maintained in this module from the Database.\\n\\n\\t\\n\\nRoles & Responsibilities:\\n\\nGathering the requirements from the business users and analyzing them to implement.  Analysis of the Problem Statement and Requirement Gathering.\\n\\nWorking upon production incidents, analyzing & resolving them.\\n\\nWorking on Change / Business Requirements.\\n\\n Extensively used the Procedures, Functions, Views, Materialized views, Packages.\\n\\nTriggers and Indexes etc to fulfill the business requirements. \\n\\nUsed SQL* Loader to load data into different tables.\\n\\nCoordinated with DBA in improving Database Performance. \\n\\nEnhancement of current functionality to improve system performance \\n\\n \\n\\n\\n\\nDeclaration\\n\\n\\n\\nI hereby declare that the information furnished above is true and correct to the best of my knowledge.\\n\\n\\n\\nDate:\\t                                                                                                                       Néeraj Mishra\\n\\nPlace:                                                                                                                         Bangalore',\n",
       " 'SQL DEVELOPER\\n\\nName: -   Bandi prem sai\\n\\n\\n\\nCareer Objective :-\\n\\n\\n\\nWilling to work under a challenging and professional environment with exposure to new Technologies as a T-SQL in the area of SQL SERVER 2012/2016 with Enterprise Portal and where there is ample scope for Organizational growth as well as individual growth.\\n\\n\\n\\nProfessional Experience :-\\n\\n\\n\\n2.6 years of experience in Microsoft SQL Server environment, with thorough knowledge of SQL Server 2012/2016 databases. \\n\\nExpertise in scripting T-SQL queries, Stored Procedures, User Defined Functions and Triggers.\\n\\nHands on experience in performing Error Handling and performance tuning in Stored Procedure.\\n\\nGood experienced in creating and using Temporary table, Table Variable and CTE’s (Common table Expressions)\\n\\nUsed Sub-Queries, Derived table and Joins to simplify complex queries involving multiple tables.\\n\\nExpertise in creating, maintaining database objects like Indexes, Functions, views, UDF’s, constraints.\\n\\nGood experience in using Ranking Functions, Date Functions, String Functions and Aggregate Functions\\n\\nGood Knowledge in Transactions, Isolation level, Concurrency Problems\\n\\nVery good experience in building the Relationship using Constraints.\\n\\nGood Knowledge in Creating Jobs to automate process using SQL Server Agent.\\n\\nGood Knowledge on new features in SQL Server 2016, 2019.\\n\\n\\n\\n\\n\\n\\n\\nTechnical skills :-\\n\\n\\n\\n\\n\\nRelational Databases\\n\\n\\n\\nSQL SERVER 2012/2016\\n\\n\\n\\nTools and packages\\n\\n\\n\\nSSMS\\n\\n\\n\\nLanguages \\n\\n\\n\\nSQL, T-SQL \\n\\n\\n\\nOperating System\\n\\n\\n\\nWindows 8/10\\n\\n\\n\\nApplication Packages\\n\\n\\n\\nMS-Outlook, Microsoft office suite \\n\\n\\n\\n\\n\\nEducation:-\\n\\n\\n\\n\\n\\nB.C.A from Sri Venkateswara University,Tirupathi.\\n\\n\\t\\n\\nProfessional Experience:- \\n\\n\\n\\nWorked At TECHASOFT PVT LTD as Software Engineer, Bangalore since OCT-2018 to till date.\\n\\n\\n\\nProject Details:-\\n\\n\\n\\n Project II:-\\n\\n\\n\\n\\tProject Name: -   Haematology Solutions\\n\\n\\tClient Name \\t : -   BRAVO PHARMA\\n\\n\\tDomain\\t : -    Health Care \\n\\n\\tDuration            : -    Feb/2019 – Till date\\n\\n\\tRole\\t\\t : -    SQL Developer \\n\\n\\t\\n\\n\\tDescription      :- \\n\\n\\t\\tBravo Pharma cares for the protection and enhancement of human health and well-being on all levels. The spectrum of our activities ranges from supporting education in life sciences and strengthening start-ups in health technologies, offering novel solutions for diagnostics and personalized treatment to production and sales of pharmaceuticals.\\n\\n\\tResponsibilities:- \\n\\nDeveloped and optimized database structures, stored procedures, views, and user-defined functions for the Application.\\n\\nCreated some T-SQL queries, Stored Procedures.\\n\\nDesign and create SQL tables, indexes. \\n\\nResponsible for Query optimization and Performance tuning. Performing query plans and making sure each and every query is using appropriate useful indexes.\\n\\nDesign and create SQL tables, indexes. \\n\\nResponsible for Query optimization and Performance tuning. Performing query plans and making sure each and every query is using appropriate useful indexes.\\n\\nCreated Constraints mainly Primary Key and Foreign key.\\n\\n\\n\\n\\n\\n\\n\\n\\n\\n\\n\\n\\n\\n\\n\\n\\n\\n\\n\\nProject I:-\\n\\n\\n\\n\\tProject Name: -   Integrated Simple Commerce Solution\\n\\n\\tClient Name \\t : -   CODI\\n\\n\\tDomain\\t : -    E- Commerce \\n\\n\\tDuration            : -    Nov/2018 – Feb/2019\\n\\n\\tRole\\t\\t : -    SQL Developer \\n\\n\\t\\n\\n\\tDescription      :- \\n\\n\\t\\tIntegrated Simple Commerce Solution is an Ecommerce application to sell products (such as Laptop, Printers etc.) through online. Integrated Simple Commerce Solution built with high end technology and it is integrated with many upstream and downstream systems to handle the business and full fill customer needs. Integrated Simple Commerce Solution having millions of customers around 16 countries and provides an easy way to find and buy the products.\\n\\n\\tResponsibilities:- \\n\\nDeveloped and optimized database structures, stored procedures, views, and user-defined functions for the Application.\\n\\nCreated some T-SQL queries, Stored Procedures.\\n\\nDesign and create SQL tables, indexes. \\n\\nResponsible for Query optimization and Performance tuning. Performing query plans and making sure each and every query is using appropriate useful indexes.\\n\\nDesign and create SQL tables, indexes. \\n\\nResponsible for Query optimization and Performance tuning. Performing query plans and making sure each and every query is using appropriate useful indexes.\\n\\nCreated Constraints mainly Primary Key and Foreign key.',\n",
       " 'SQL DEVELOPER\\n\\nName: -   Bandi prem sai\\n\\n\\n\\nCareer Objective :-\\n\\n\\n\\nWilling to work under a challenging and professional environment with exposure to new Technologies as a T-SQL in the area of SQL SERVER 2012/2016 with Enterprise Portal and where there is ample scope for Organizational growth as well as individual growth.\\n\\n\\n\\nProfessional Experience :-\\n\\n\\n\\n2.6 years of experience in Microsoft SQL Server environment, with thorough knowledge of SQL Server 2012/2016 databases. \\n\\nExpertise in scripting T-SQL queries, Stored Procedures, User Defined Functions and Triggers.\\n\\nHands on experience in performing Error Handling and performance tuning in Stored Procedure.\\n\\nGood experienced in creating and using Temporary table, Table Variable and CTE’s (Common table Expressions)\\n\\nUsed Sub-Queries, Derived table and Joins to simplify complex queries involving multiple tables.\\n\\nExpertise in creating, maintaining database objects like Indexes, Functions, views, UDF’s, constraints.\\n\\nGood experience in using Ranking Functions, Date Functions, String Functions and Aggregate Functions\\n\\nGood Knowledge in Transactions, Isolation level, Concurrency Problems\\n\\nVery good experience in building the Relationship using Constraints.\\n\\nGood Knowledge in Creating Jobs to automate process using SQL Server Agent.\\n\\nGood Knowledge on new features in SQL Server 2016, 2019.\\n\\n\\n\\n\\n\\n\\n\\nTechnical skills :-\\n\\n\\n\\n\\n\\nRelational Databases\\n\\n\\n\\nSQL SERVER 2012/2016\\n\\n\\n\\nTools and packages\\n\\n\\n\\nSSMS\\n\\n\\n\\nLanguages \\n\\n\\n\\nSQL, T-SQL \\n\\n\\n\\nOperating System\\n\\n\\n\\nWindows 8/10\\n\\n\\n\\nApplication Packages\\n\\n\\n\\nMS-Outlook, Microsoft office suite \\n\\n\\n\\n\\n\\nEducation:-\\n\\n\\n\\n\\n\\nB.C.A from Sri Venkateswara University,Tirupathi.\\n\\n\\t\\n\\nProfessional Experience:- \\n\\n\\n\\nWorked At TECHASOFT PVT LTD as Software Engineer, Bangalore since OCT-2018 to till date.\\n\\n\\n\\nProject Details:-\\n\\n\\n\\n Project II:-\\n\\n\\n\\n\\tProject Name: -   Haematology Solutions\\n\\n\\tClient Name \\t : -   BRAVO PHARMA\\n\\n\\tDomain\\t : -    Health Care \\n\\n\\tDuration            : -    Feb/2019 – Till date\\n\\n\\tRole\\t\\t : -    SQL Developer \\n\\n\\t\\n\\n\\tDescription      :- \\n\\n\\t\\tBravo Pharma cares for the protection and enhancement of human health and well-being on all levels. The spectrum of our activities ranges from supporting education in life sciences and strengthening start-ups in health technologies, offering novel solutions for diagnostics and personalized treatment to production and sales of pharmaceuticals.\\n\\n\\tResponsibilities:- \\n\\nDeveloped and optimized database structures, stored procedures, views, and user-defined functions for the Application.\\n\\nCreated some T-SQL queries, Stored Procedures.\\n\\nDesign and create SQL tables, indexes. \\n\\nResponsible for Query optimization and Performance tuning. Performing query plans and making sure each and every query is using appropriate useful indexes.\\n\\nDesign and create SQL tables, indexes. \\n\\nResponsible for Query optimization and Performance tuning. Performing query plans and making sure each and every query is using appropriate useful indexes.\\n\\nCreated Constraints mainly Primary Key and Foreign key.\\n\\n\\n\\n\\n\\n\\n\\n\\n\\n\\n\\n\\n\\n\\n\\n\\n\\n\\n\\nProject I:-\\n\\n\\n\\n\\tProject Name: -   Integrated Simple Commerce Solution\\n\\n\\tClient Name \\t : -   CODI\\n\\n\\tDomain\\t : -    E- Commerce \\n\\n\\tDuration            : -    Nov/2018 – Feb/2019\\n\\n\\tRole\\t\\t : -    SQL Developer \\n\\n\\t\\n\\n\\tDescription      :- \\n\\n\\t\\tIntegrated Simple Commerce Solution is an Ecommerce application to sell products (such as Laptop, Printers etc.) through online. Integrated Simple Commerce Solution built with high end technology and it is integrated with many upstream and downstream systems to handle the business and full fill customer needs. Integrated Simple Commerce Solution having millions of customers around 16 countries and provides an easy way to find and buy the products.\\n\\n\\tResponsibilities:- \\n\\nDeveloped and optimized database structures, stored procedures, views, and user-defined functions for the Application.\\n\\nCreated some T-SQL queries, Stored Procedures.\\n\\nDesign and create SQL tables, indexes. \\n\\nResponsible for Query optimization and Performance tuning. Performing query plans and making sure each and every query is using appropriate useful indexes.\\n\\nDesign and create SQL tables, indexes. \\n\\nResponsible for Query optimization and Performance tuning. Performing query plans and making sure each and every query is using appropriate useful indexes.\\n\\nCreated Constraints mainly Primary Key and Foreign key.',\n",
       " 'SQL SERVER DEVELOPER\\n\\n\\n\\n\\n\\nP. Syam Kumar              \\t\\t\\t          \\t\\t\\n\\n\\n\\n\\n\\nProfessional summary:\\n\\n\\n\\nHaving 2.3+ years of professional experience in IT industry. Involved in Microsoft SQL SERVER 2008, 2012, 2017 and have trained on ETL tools of SSIS.\\n\\nGood in designing objects of Tables with Constraints, Views.\\n\\nExperience in writing SQL Joins and Set Operators for data pulling and combining from multiple tables.\\n\\n\\t\\tExperience in using system functions (String functions, Date functions, Aggregate functions, Rank functions) to meet business requirement.  \\n\\n\\t\\tExperience with SQL Server in constructing Subqueries, Common Table Expressions (CTE), Temp Tables, and Table Variable with proper naming convention.\\n\\n\\t\\tGood working experience in T-SQL Concepts Stored Procedures, User Defined Functions, while loops, Cursors and Triggers.\\n\\n\\t\\tKnowledge on TCL , Error Handling and using of Magic Tables.\\n\\n\\tKnowledge in creating Indexes and Performance Tuning\\n\\nWorked on data flow transformations like Look up, Sort, Data conversion, union-all and SCD’s.\\n\\nGood in Data Bases Backups, Restores, and Changing Synonyms.\\n\\nTrained on data extraction, transformation and loading (ETL) using SQL server integration services (SSIS) tool using different kinds of Sources and Destinations.\\n\\nDesign the packages using Control Flow, Extract the data from source using of different transformations.\\n\\n\\n\\nTechnical Profile:\\n\\n\\n\\n\\tDatabases\\t\\t          : SQL Server 2008, 2012, 2017\\n\\n\\tIDE\\t\\t\\t          : MS Visual Studio 2013, SSMS.  \\n\\n\\tOther Tools \\t\\t          : MS Office Suite (Excel, Word, Notepad).\\n\\n\\tETL Tool\\t\\t          : SQL Server Integration Services (SSIS).\\n\\n\\t\\n\\n\\t\\n\\n\\t\\n\\n\\n\\n\\n\\n\\n\\nCompany’s\\xa0Information:\\n\\n\\n\\nCurrently working as Software Engineer in Volaris Group-Tarantula India Pvt.Ltd from April 2019 to till date.\\n\\n\\n\\nEducational Qualification:\\n\\n\\n\\nM.C.A from S.V. University, Tirupathi from 2014- June 2017.\\n\\n\\n\\nProject summary:\\n\\n\\n\\nProject\\n\\n\\n\\n\\tProject/ Client\\t\\t: ATC - American Tower Company.\\n\\nRole\\t\\t\\t: SQL Developer.\\n\\nTeam size\\t\\t: 10.\\n\\nDuration\\t\\t: April 2019 to till date in Tarantula.\\n\\n\\n\\nDescription:\\n\\n\\n\\nATC is publicly held company, owner and operator of wireless and broadcast communication infrastructure in several countries. The application is built in Software as a Service (SAAS) proposition. It acts as a medium between OpCo and TowerCo to manage mobile towers. The solution comprises innovative workflow-integrated end-to-end software applications. The provided application is completely based on windows authentication.\\n\\n\\n\\nResponsibilities:\\n\\n \\n\\nInvolved in developing the new enhancements for the Application.\\n\\nAnalyzing the change request (CR’s) requirements and discussed with managers and leads on Functionality.\\n\\nInvolved in Production releases for database.\\n\\nInvolved in impact analysis, requirement gathering, effort discussions and effort preparations for the new requirement. \\n\\nInvolved to create views, writing complex stored procedures, Functions, Tables, using SQL Server 2012.\\n\\nInvolved in Configuration of the Jobs as per the requirement and run the reports for QA checking purpose.\\n\\nWorked with integration services for transferring data from sources like flat file, CSV file, Excel file.\\n\\nProject deployment in all environments (Test, UAT, Live).\\n\\n\\n\\n\\n\\n\\n\\nCoordinating the Developing activities with the development team And QA team.\\n\\nParticipate in discussions involving the application creation and understand the requirements and provide the back-end functionality for the applications.\\n\\n\\n\\n\\n\\n\\n\\nDeclaration:\\n\\n\\n\\nI hereby declare that the information and facts stated above are true and correct to the best of my knowledge and belief.\\n\\n\\n\\n                    \\t\\t\\t\\t\\t\\t\\t                    \\n\\n (P. Syam Kumar)',\n",
       " 'RAJU PAVANA KUMARI\\n\\n\\n\\n\\t\\n\\n\\tProfessional Summary:\\n\\nHaving 2.10 years of Professional experience in SQL Server 2014/2017.\\n\\nHaving experience in creating database objects such as Stored Procedures, Functions, Views,Indexes,Joins to facilitate efficient data Manipulation and Data Consistency.\\n\\nHaving good experience in writing complex queries using Derived Table, Sub-Queries, Set Operators and Joins.\\n\\nHaving Proficient Experience on Temporary Objects in SQL like CTE,Temporary Table, Table Variable.\\n\\n I have very good experience with SQL Profile by Debugging the Query.\\n\\nExperience in Creating and Updating Clustered and Non-Clustered Indexes to keep up the SQL Server Performance.\\n\\n\\n\\nProfessional Experience:\\n\\n\\n\\nCurrently working as Software Developer at Square Bridge Technologies PVT LTD, Bangalore since SEP 2018 to till date.\\n\\nAcademic Profile: \\n\\n\\t B.Tech in Electronics and communication engineering(ECE) From JNTU Hyderabad.\\n\\n\\t Intermediate in M.P.C from  Narayana Junior College, Hyderabad\\n\\n\\t SSC from   Secondary School Education,  Vardhana school,  Hyderabad\\n\\nTechnical Skills:\\n\\n       Microsoft Technologies              :  SQL Server 2014/2012/2017.\\n\\n       Languages\\t\\t    \\t             :  MySQL\\n\\n       Operating Systems\\t   \\t   :  Windows 2008 Server, Windows XP/   Windows 7.\\n\\n\\n\\n\\n\\nProjects\\n\\n\\n\\nProject#2\\t: Healthcare Management\\n\\nClient\\t               : Aetna\\n\\nDuration\\t: Feb-2020 to Till Date\\n\\nRole\\t\\t: Sql Developer\\n\\n\\n\\nDescription: Aetna is an American\\xa0managed health care\\xa0company that sells traditional and consumer directed health care\\xa0\\xa0insurance plans and related services, such as medical, pharmaceutical, dental, behavioral health, long-term care, and disability plans, primarily through employer-paid (fully or partly) insurance and benefit programs, and through Medicare\\xa0.\\n\\nResponsibilities:\\n\\nDeveloped physical data models and created DDL scripts to create database schema and database objects\\n\\nWrote user requirement documents based on functional specification.\\n\\nCreated new tables, written stored procedures, triggers for Application Developers and some user defined functions. Created SQL scripts for tuning and scheduling.\\n\\nDeveloped source to target specifications for Data Transformation Services.\\n\\nDeveloped functions, views and triggers for automation\\n\\nExtensively used Joins and sub-Queries to simplify complex queries involving multiple tables and also optimized the procedures and triggers to be used in production.\\n\\nProvided\\xa0disaster recovery\\xa0procedures and policies for\\xa0backup and recovery\\xa0of Databases.\\n\\nPerformance Tuning\\xa0in SQL Server using\\xa0SQL Profiler\\xa0and\\xa0Data Loading.\\n\\nProject#1\\t: Workers Compensation management:\\n\\nClient\\t               : Stone wood Insurance\\n\\nDuration\\t: Sep-2018 to Feb-2020\\n\\nRole\\t\\t: Software Developer\\n\\n\\n\\nDescription: Worker’s compensation\\xa0is a form of insurance providing wage replacement and medical benefits to employees injured in the course of employment in exchange for mandatory relinquishment of the employee\\'s right to sue their employer for the\\xa0tort\\xa0of negligence. The trade-off between assured, limited coverage and lack of recourse outside the worker compensation system is known as \"the compensation bargain\". One of the problems that the compensation bargain solved is the problem of employers becoming insolvent as a result of high damage awards.\\n\\n\\n\\nResponsibilities:\\n\\nInvolved in Design, Development and testing of the system\\n\\nDeveloped SQL Server Stored Procedures, Tuned SQL Queries (using Indexes and Execution Plan)\\n\\nDeveloped User Defined Functions and created Views\\n\\nCreated Triggers to maintain the Referential Integrity.\\n\\nReviewed existing business procedures and recommended and implemented changes.\\n\\nResponsible for setting preferences for various ad-hoc requests and distribution of tasks.\\n\\nDeclaration\\n\\n\\t\\tI hereby declare that the information that is provided above is up to date and true. I would be more than happy to provide any additional information, if required.\\n\\n\\n\\nDate:\\t\\n\\nPlace: Hyderabad\\t\\t\\t\\t\\t\\t\\t                  Pavana Kumari',\n",
       " 'resume\\n\\n\\n\\n\\n\\n\\t\\t\\t\\t\\t\\t\\t\\t\\t\\t\\t\\tRamalakshmi K\\t\\t\\t\\t  \\n\\n\\t\\t\\t\\t\\t\\t\\t\\t\\t\\t\\t\\t \\n\\n\\t\\n\\n\\tCareer Objective :\\n\\n\\t    Professional objective is to pursue a career as Software Developer in the IT Industry and a position that utilizes my education and experience in the field of Information Technology, so that I can contribute to the organization and further enhances my professional skills.\\n\\n\\n\\nExperience Summary:\\n\\n\\n\\n\\t2.5 year of working experience in Microsoft SQLServer /Microsoft BI, AWS-Redshift.\\n\\n\\t Motivated and result-driven BI Developer with a proven track record in Business Intelligence (BI), Data Warehouse (DWH) and Data Analytics related projects. Proven ability to identify business needs and develop valuable solutions to drive accuracy and process efficiency. \\n\\n\\tHave exposure to work in tools such as SQL Server Management Studio, Microsoft Visual Studio, Business Intelligence Development Studio, SQL Server Profiler, SSIS.\\n\\n\\tWrote scripts and indexing strategy for a migration to Confidential Redshift from SQL Server and MySQL databases.\\n\\n\\tHands-on experience to creating a packages in SSIS and used different kind of data flow transformations, control flow tasks and maintained.\\n\\n\\tWriting complex SQL queries, joins, importing & exporting the data from one database to another database and through files to databases.\\n\\n\\t\\n\\n\\t\\n\\n\\n\\n\\t\\t\\t\\t\\t\\t\\t\\t\\t\\t\\t\\t\\t\\t\\t\\t\\n\\nTechnical Skills:\\n\\n\\n\\nLanguages/Technologies - Python,SQL\\n\\nLibraries - Numpy,Pandas,Matplotlib\\n\\nRDBMS - SQL Server,Mysql,Teradata\\n\\nETL Tool - SSIS\\n\\nCloud Platform - AWS Redshift\\n\\n\\t\\t\\t\\t\\t\\t\\t\\t\\t\\t\\t\\t\\t\\t\\t\\t\\n\\n\\t\\t\\t\\t\\t\\t\\t\\t\\t\\t\\t\\t\\t\\t\\t\\n\\n\\t\\t\\t\\t\\t\\t\\t\\t\\t\\t\\t\\t\\t\\t\\t\\n\\n\\t\\t\\t\\t\\t\\t\\t\\t\\t\\t\\t\\t\\t\\t\\t\\n\\n\\t\\t\\t\\t\\t\\t\\t\\t\\t\\t\\t\\t\\t\\t\\t\\n\\n\\t\\t\\t\\t\\t\\t\\t\\t\\t\\t\\t\\t\\t\\t\\t\\n\\n\\t\\t\\t\\t\\t\\t\\t\\t\\t\\t\\t\\t\\t\\t\\tEducational Qualifications:\\n\\n\\t\\t\\t\\t\\t\\t\\t\\t\\t\\t\\t\\t\\t\\t\\t\\n\\n\\t\\t\\t\\t\\t\\t\\t\\t\\t\\t\\t\\t\\t\\t\\t\\n\\nDegree\\n\\nInstitute\\n\\nPercentage(%)\\n\\nHigh School\\n\\nCompleted Board of secondary education in Maths,Physics,Chemistry at Chandra Reddy junior College,Nellore,AP.(2011-2013)\\n\\n81.3%\\n\\nB.Tech\\n\\nCompleted Bachelor of Engineering in Computer Science at Brahmaiah College of Engineering,Nellore,AP. (2013-2017)\\n\\n72%\\n\\n\\n\\n\\n\\nProject Details:\\n\\n \\n\\n \\n\\nEmployer : Bixware Technologies \\n\\nProject Title : ETL, Cube\\n\\nClient  : More \\n\\nProject Role : Software Developer\\n\\nPeriod : Jan 2019 - Till date \\n\\n\\n\\n \\n\\nProject Description : \\n\\n\\n\\nMore Retail Limited is a retail store brand which was earlier known as Aditya Birla Retail Limited, when it was part of Aditya Birla Group. More Retail Limited (MRL) is the retail formley Aditya Birla Group, a $43 billion corporation. The company ventured into food and grocery retail sectors in 2007 and subsequently expanded its presence across t he country under the brand more with two formats - Supermarkets and Hypermarkets. There are currently 750 Supermarkets and 30 Hypermarkets and Brands aimed to offer a shopping experience that delivers unbeatable value and quality. More is the fourth largest supermarket & Hypermaket chain in the country after Future Group.The company head office stores and maintains all the supermarkets & Hypermarkets stores data into the largest data warehouse and then processing and  provides those data through data marts.Sales Cube is to provide a sales summary to the users efficiently. Inventory Cube is to provide a data of “Inventory on Hand “and “Low Stock” to the users through Office Data Connection (ODC).\\n\\n\\n\\n\\n\\nRole and Responsibilities :\\n\\n\\n\\n • Implementing and Managing ETL solutions and automating operational processes.\\n\\n • Was responsible for ETL and data validation using SQL Server Integration Services\\n\\n • Developing and monitoring the jobs as per daily basis.\\n\\n • Analyzing the daily reports sales data and inventory.\\n\\n • working on Databases for updation of Business required data.\\n\\n • Querying, creating stored procedures and writing T-SQL join to address various reporting operations and also random data requests.\\n\\n • Involved detailed plan describing how to develop, maintain, Deploy, replace and alter or enhance  sales and inventory cube. \\n\\n • Defined and deployed monitoring, metrics, and logging systems on AWS.\\n\\n • Designed and Developed ETL jobs to extract data and load it in data mart in Redshift.\\n\\n\\n\\n\\n\\n\\n\\nPersonal Information:\\n\\n\\n\\nFather’s Name\\t\\t: \\tK Narasimha Rao\\n\\nDate of Birth\\t\\t\\t:\\t12-May-1996\\n\\nGender\\t            \\t:\\tFemale\\n\\nLanguages Known\\t\\t:\\tTelugu,Hindi,English\\n\\nPermanent address               :           Tipparajuvari Street,VRC center,\\n\\n                                                            Nellore,AP.\\n\\n                                                             \\n\\nDeclaration:\\n\\n\\n\\nI hereby declare that all information mentioned above are true and correct to best of my knowledge and belief.\\n\\n\\n\\n\\n\\n\\n\\n\\tPlace: Mumbai\\t\\t\\t\\t\\t\\t\\t\\n\\n\\tRamalakshmi K',\n",
       " 'Name: Ramesh\\n\\n\\t\\n\\n\\tCareer Objective: \\n\\n\\t                To contribute an organization that provides an opportunity to showcase my technical skills and helps me to gain knowledge in domain and technology.\\n\\n\\tProfessional Summary:\\n\\n\\t3.5 Years of experience in system Design, Development and Support of Microsoft SQL server 2008, 8R2 and 2012.\\n\\n\\t\\tExtensive experience on Joins, Set Operators, Temporary Tables, Table Variables, CTE/Derived Tables, sub-Queries.\\n\\nExtensive experience on constructing Tables, Views, Indexes, Synonyms, Functions, Cursors and Stored Procedures.\\n\\nExperience on ETL (Data Extraction Transforming and Loading) in BIDS (Business intelligence development studio)/ SSDT (SQL Server Data Tools) using SSIS (SQL Server Integration Services), Bulk Insert, BCP (bulk copy program).\\n\\nExperience on Design and Development of SQL Server Integration Services (SSIS) packages and using various control flow tasks like Data Flow Task, for-each Loop Container, For Loop Container.\\n\\nExperience on different transformations like Data Conversion, Conditional Split, Merge, Merge Join, Union All, Derived Column, Multi-Cast, SCD, Fuzzy Lookup etc.\\n\\nExperience on providing Logging, Error Handling by using Event Handler, Checkpoints, and logging for SSIS Packages.\\n\\nDesigned different types of Bulk Insert task, Execute SQL task, FTP task and Send mail tasks.\\n\\nExperience on Deploying the SSIS Packages\\n\\nExperience on all types of reports like Table, Matrix, Sub-Reports, Image etc.,\\n\\nGenerated multiple reports using SSRS from SQL Server Database (OLTP) and included various reporting features such as Group-by, Drill-Down, Drill-Through, Cascading Reports, Parameterized Reports and Report builder.\\n\\nExperience on Created Linked Reports, cache Reports.\\n\\nDeployed and processed SSIS packages and SSRS reports weekly to update information (as per business logic) by using SQL server agent and windows scheduler.\\n\\nKnowledge on SQL profiler, performance tuning, Query tuning and new features of advanced versions in SQL server.\\n\\nExcellent Report creation skills using Microsoft Reporting Services (SSRS) 2008/2012.\\n\\nWilling to learn new things and hard working.\\n\\nExcellent communication, ability to deal with different people, interpersonal and analytical skills, and a highly motivated team player with the ability to work independently.\\n\\n\\n\\n\\n\\nEducation:  Master of Computer Applications (2018)\\n\\n\\t\\n\\n\\tTechnical Skills:\\n\\nOperating Systems\\t:   Windows, Unix \\n\\nDatabase Tools             :  SQL server Management   Studio (SSMS)\\n\\nLanguages\\t\\t:  SQL and T-SQL\\n\\nETL Tools\\t\\t:  SQL Server Integration Services (SSIS)\\n\\nReporting Tools           :  SQL Server Reporting Services\\xa0(SSRS)\\n\\nDatabases\\t\\t:   MS SQL Server\\n\\n\\n\\nProfessional Experience:\\n\\n\\n\\nCurrently working as SQL Developer for Tietoevryindia In Bangalore from Feb 2018 To Till Date\\n\\n\\n\\n\\n\\nProject Details:\\n\\nProject# 2\\t\\n\\nTitle                     :    T-Mobile\\n\\n Client\\t                :    T-Mobile\\n\\nDuration            :    April-2020 to till date (1 year 2 months)\\n\\nSkills Used        :     SQL ,SSIS,SSRS\\n\\nRole Played\\t :   SQL Server& MSBI Developer \\n\\n\\n\\n\\n\\nAbstract:\\t\\n\\n\\tIt is an E-commerce web application, consists of two main modules admin module and User module. Inside user module it has multiple components like cart, orders, payment etc. and in Admin module have a component like category, sub-category, products and etc.\\n\\n\\n\\nResponsibilities:\\n\\n\\n\\nExcellent report creation skills using Microsoft SQL Server Reporting Services (SSRS).\\n\\nCreated SQL Server Reports based on the requirements by.\\n\\nDeveloped reports and deployed them on server using SQL Server Reporting Services (SSRS).\\n\\nDeveloped Complex Stored Procedures, Views and Temporary Tables as per the requirement.\\n\\nWrote complex SQL queries using joins, sub queries and correlated sub queries to retrieve data from different SQL Server Databases and Excel files, apply business logic, load in table and create view for end users.\\n\\nCreated DDL scripts to create database schema and database objects like tables, stored procedures, views, functions, and triggers using T- SQL.\\n\\n\\t\\tCreate the clustered/non-clustered indexes on tables; Trace out for any table required any indexes and determine the type of index on it.\\n\\nCreated complex reports which involve more number of groupings and multi-value parameters\\n\\nDeveloped reports like Claim Statements, Fee Bills Transactions, and some end request user reports on periodic basis.\\n\\nProvided technical guidance and support to end-users by developing documentations required.\\n\\nExperience in creating complex SSIS packages using proper control and data flow elements.\\n\\n\\t\\tWorked extensively on SSIS Package designs for Import/Export from various Data Source Flat file, Excel to MS SQL Server and vice versa and schedule the jobs.\\n\\n\\t\\t\\n\\n\\t\\tUsed various Transformations such as Slowly Changing Dimension, Multicast, Merge Join, Lookup, Fuzzy Lookup, Conditional Split, Aggregate, Derived Column, and Data Conversion Transformations.\\n\\nGenerated matrix reports, drill down, drill through, sub reports, multi parameterized reports in SSRS\\n\\nRendering the reports to PDF formats as per the requirement and printing all the reports in a batch process for Monthly Statements. Scheduling the SSIS packages and Jobs.\\n\\n\\t\\n\\n\\n\\n\\n\\nProject #1\\t\\t\\n\\n\\n\\n       Title                 :   Sales Flash                               \\n\\n       Client\\t    :   British Gas\\n\\n       Duration        :   May-2018 to feb-2020(1 year 10 months)\\n\\n       Skills Used    :   MS-SQL SERVER \\n\\n       Role played  :   Associate Software Engineer\\n\\nAbstract:\\t\\n\\n\\t\\tBritish Gas is an energy and home services provider in the United Kingdom. It is the trading name of British Gas Services Limited and British Gas New Heating Limited, both subsidiaries of Centrica. Serving around 12 million homes in the UK, British Gas is the biggest UK energy supplier and is considered one of the Six which dominate the gas and electricity market in the United Kingdom\\n\\nResponsibilities:\\n\\nDetermined the SQL Server Installation. Installed SQL Server Management tools using SQL Server Setup Program and Tested the Installation of SQL Server.\\n\\nCreate database objects such as tables, views, stored procedures, Triggers etc.\\n\\nImplemented Triggers for checking complex business conditions, providing security for the tables.\\n\\nCreated check constraints to maintain data integrity.\\n\\nCreated stored procedures and functions to support efficient data storage and manipulation.\\n\\nPlanned complete Back-up of Database and Restored the Database from Disaster Recovery.\\n\\n\\t\\tCreate the clustered/non-clustered indexes on tables; Trace out for any table required any indexes and determine the type of index on it.',\n",
       " 'Name: Ramesh\\n\\n\\t\\n\\n\\tCareer Objective: \\n\\n\\t                To contribute an organization that provides an opportunity to showcase my technical skills and helps me to gain knowledge in domain and technology.\\n\\n\\tProfessional Summary:\\n\\n\\t3.5 Years of experience in system Design, Development and Support of Microsoft SQL server 2008, 8R2 and 2012.\\n\\n\\t\\tExtensive experience on Joins, Set Operators, Temporary Tables, Table Variables, CTE/Derived Tables, sub-Queries.\\n\\nExtensive experience on constructing Tables, Views, Indexes, Synonyms, Functions, Cursors and Stored Procedures.\\n\\nExperience on ETL (Data Extraction Transforming and Loading) in BIDS (Business intelligence development studio)/ SSDT (SQL Server Data Tools) using SSIS (SQL Server Integration Services), Bulk Insert, BCP (bulk copy program).\\n\\nExperience on Design and Development of SQL Server Integration Services (SSIS) packages and using various control flow tasks like Data Flow Task, for-each Loop Container, For Loop Container.\\n\\nExperience on different transformations like Data Conversion, Conditional Split, Merge, Merge Join, Union All, Derived Column, Multi-Cast, SCD, Fuzzy Lookup etc.\\n\\nExperience on providing Logging, Error Handling by using Event Handler, Checkpoints, and logging for SSIS Packages.\\n\\nDesigned different types of Bulk Insert task, Execute SQL task, FTP task and Send mail tasks.\\n\\nExperience on Deploying the SSIS Packages\\n\\nExperience on all types of reports like Table, Matrix, Sub-Reports, Image etc.,\\n\\nGenerated multiple reports using SSRS from SQL Server Database (OLTP) and included various reporting features such as Group-by, Drill-Down, Drill-Through, Cascading Reports, Parameterized Reports and Report builder.\\n\\nExperience on Created Linked Reports, cache Reports.\\n\\nDeployed and processed SSIS packages and SSRS reports weekly to update information (as per business logic) by using SQL server agent and windows scheduler.\\n\\nKnowledge on SQL profiler, performance tuning, Query tuning and new features of advanced versions in SQL server.\\n\\nExcellent Report creation skills using Microsoft Reporting Services (SSRS) 2008/2012.\\n\\nWilling to learn new things and hard working.\\n\\nExcellent communication, ability to deal with different people, interpersonal and analytical skills, and a highly motivated team player with the ability to work independently.\\n\\n\\n\\n\\n\\nEducation:  Master of Computer Applications (2018)\\n\\n\\t\\n\\n\\tTechnical Skills:\\n\\nOperating Systems\\t:   Windows, Unix \\n\\nDatabase Tools             :  SQL server Management   Studio (SSMS)\\n\\nLanguages\\t\\t:  SQL and T-SQL\\n\\nETL Tools\\t\\t:  SQL Server Integration Services (SSIS)\\n\\nReporting Tools           :  SQL Server Reporting Services\\xa0(SSRS)\\n\\nDatabases\\t\\t:   MS SQL Server\\n\\n\\n\\nProfessional Experience:\\n\\n\\n\\nCurrently working as SQL Developer for Tietoevryindia In Bangalore from Feb 2018 To Till Date\\n\\n\\n\\n\\n\\nProject Details:\\n\\nProject# 2\\t\\n\\nTitle                     :    T-Mobile\\n\\n Client\\t                :    T-Mobile\\n\\nDuration            :    April-2020 to till date (1 year 2 months)\\n\\nSkills Used        :     SQL ,SSIS,SSRS\\n\\nRole Played\\t :   SQL Server& MSBI Developer \\n\\n\\n\\n\\n\\nAbstract:\\t\\n\\n\\tIt is an E-commerce web application, consists of two main modules admin module and User module. Inside user module it has multiple components like cart, orders, payment etc. and in Admin module have a component like category, sub-category, products and etc.\\n\\n\\n\\nResponsibilities:\\n\\n\\n\\nExcellent report creation skills using Microsoft SQL Server Reporting Services (SSRS).\\n\\nCreated SQL Server Reports based on the requirements by.\\n\\nDeveloped reports and deployed them on server using SQL Server Reporting Services (SSRS).\\n\\nDeveloped Complex Stored Procedures, Views and Temporary Tables as per the requirement.\\n\\nWrote complex SQL queries using joins, sub queries and correlated sub queries to retrieve data from different SQL Server Databases and Excel files, apply business logic, load in table and create view for end users.\\n\\nCreated DDL scripts to create database schema and database objects like tables, stored procedures, views, functions, and triggers using T- SQL.\\n\\n\\t\\tCreate the clustered/non-clustered indexes on tables; Trace out for any table required any indexes and determine the type of index on it.\\n\\nCreated complex reports which involve more number of groupings and multi-value parameters\\n\\nDeveloped reports like Claim Statements, Fee Bills Transactions, and some end request user reports on periodic basis.\\n\\nProvided technical guidance and support to end-users by developing documentations required.\\n\\nExperience in creating complex SSIS packages using proper control and data flow elements.\\n\\n\\t\\tWorked extensively on SSIS Package designs for Import/Export from various Data Source Flat file, Excel to MS SQL Server and vice versa and schedule the jobs.\\n\\n\\t\\t\\n\\n\\t\\tUsed various Transformations such as Slowly Changing Dimension, Multicast, Merge Join, Lookup, Fuzzy Lookup, Conditional Split, Aggregate, Derived Column, and Data Conversion Transformations.\\n\\nGenerated matrix reports, drill down, drill through, sub reports, multi parameterized reports in SSRS\\n\\nRendering the reports to PDF formats as per the requirement and printing all the reports in a batch process for Monthly Statements. Scheduling the SSIS packages and Jobs.\\n\\n\\t\\n\\n\\n\\n\\n\\nProject #1\\t\\t\\n\\n\\n\\n       Title                 :   Sales Flash                               \\n\\n       Client\\t    :   British Gas\\n\\n       Duration        :   May-2018 to feb-2020(1 year 10 months)\\n\\n       Skills Used    :   MS-SQL SERVER \\n\\n       Role played  :   Associate Software Engineer\\n\\nAbstract:\\t\\n\\n\\t\\tBritish Gas is an energy and home services provider in the United Kingdom. It is the trading name of British Gas Services Limited and British Gas New Heating Limited, both subsidiaries of Centrica. Serving around 12 million homes in the UK, British Gas is the biggest UK energy supplier and is considered one of the Six which dominate the gas and electricity market in the United Kingdom\\n\\nResponsibilities:\\n\\nDetermined the SQL Server Installation. Installed SQL Server Management tools using SQL Server Setup Program and Tested the Installation of SQL Server.\\n\\nCreate database objects such as tables, views, stored procedures, Triggers etc.\\n\\nImplemented Triggers for checking complex business conditions, providing security for the tables.\\n\\nCreated check constraints to maintain data integrity.\\n\\nCreated stored procedures and functions to support efficient data storage and manipulation.\\n\\nPlanned complete Back-up of Database and Restored the Database from Disaster Recovery.\\n\\n\\t\\tCreate the clustered/non-clustered indexes on tables; Trace out for any table required any indexes and determine the type of index on it.',\n",
       " 'SQL AND MSBI DEVELOPER\\n\\nSQL AND MSBI DEVELOPER\\n\\nB. vinod kumar\\n\\n\\n\\nOBJECTIVE:\\n\\nWilling to work under a challenging and professional environment with exposure to new technologies as an SQL and MSBI developer in the area of SQL SERVER 2014, 2016 with Enterprise Portal and where there is a scope for Organizational growth as well as individual growth.\\n\\nProfessional summary:\\n\\n\\t\\tHaving around 2.2Years of IT Experience in Microsoft Business Intelligence (MSBI) under SQL server environment, with through knowledge of SQL server 2014,2016 databases.\\n\\n\\t\\tExtensive experience on Joins, Set Operators, Table Variables, Temporary Tables, CTE & Sub Queries.\\n\\n\\t\\tGood experience in writing Simple and sample SQL queries.\\n\\n\\t\\tExperience in Developing Stored Procedures and User defined functions.\\n\\n\\t\\tHands on Experience Triggers , views, cursor and synonyms.\\n\\n\\t\\tExperience on Writing SQL using joins, sub queries.\\n\\n\\t\\tGood at generating multiple reports using SSRS from SQL server database and included various reporting features such as Drill-Down, Drill-Through, Cascading Reports and Sub Reports.\\n\\n\\t\\tExperience in importing/exporting data between different sources like Excel/Flatfile etc.\\n\\n\\t\\tGood experience on Backups & Restoring into different Servers.\\n\\n\\t\\tHands on Exeperience on different transformations like Data conversion, Derived coloumn, Look up, Merge join, Union All, Sort, Fuzzy lookup.\\n\\n\\t\\tGood Experience on Ranking, Aggregate and String Functions.\\n\\n\\t\\tExperience on Design and development of SQL Server Integration Services(SSIS) packages and using various control flow tasks like Data floe task and Excute SQL task and containres like For Loop container and sequence container and For -each container.\\n\\n\\t\\tExperience on deploying the reports and creating subscriptions to send the reports on schedule basis.\\n\\n\\n\\nEDUCATIONAL BACKGROUND:\\n\\n\\t\\tB.Tech (computer science and engineering),JNTU,Ananthapuramu.\\n\\n\\n\\nPROFESSIONAL EXPERIENCE:\\n\\n\\t\\tWorking in united health group as a Software Engineer, Bangalore since may-2019 to till date.\\n\\n\\n\\n\\n\\nTECHNICAL SKILLS:\\n\\n\\t\\t\\tTechnologies\\t: Microsoft Business Intelligence Tools (MSBI)\\n\\n\\t\\t\\tLanguages\\t: SQL, T-SQL.\\n\\n\\t\\t\\tETL Tools\\t: SQL Server Integration Services.\\n\\n\\t\\t\\tReporting Tools\\t: SQL Server Reporting Services\\n\\n\\n\\nPROJECT DETAILS:\\n\\n\\t\\tClient: Uk\\n\\n\\t\\tProject: National skill Development corporation\\n\\n\\t\\tRole: SQL Server and SSIS developer\\n\\n\\t\\tEnvirnoment : SSIS, SSRS and MS SQL Server.\\n\\nProject 1: National Skill Development Corporation (NSDC)\\n\\n\\tClient\\t: National Skill Development Corporation (INDIA) Role\\t: SQL Developer\\n\\n\\tEnvironment\\t: SQL Server, Nano-BI. Duration\\t: May 2019 to till now.\\n\\n\\n\\nDescription:\\n\\nNSDC Provides training / placements to people across the country through SIP across specific skill sets. Under NSDC there are multiple scheme types like PMKVY, Non-PMKVY and Fee-Based, Based on scheme type candidates will enroll to the batches under particular training centres. In every batch minimum 10 candidates can enroll. After enrolling candidates will go for Training then these candidates will go for assessment and Failed candidates can apply for re-assessment and the candidates who are passed will go for the certification. And the certified candidates will get placement through NSDC.\\n\\n\\n\\nROLES AND RESPONSIBILITIES:\\n\\n\\t\\tBy using NANO BI Analytical tool creating tables.\\n\\n\\t\\tDeveloped ETL Scripts to populate the data from different tables by using joins, CTE’s and Date functions.\\n\\n\\t\\tBy using NANO BI Analytical tool creating tables.\\n\\n\\t\\tInvolved in Creating analytics with measures and dimensions to populate data and created dashboard to clients by their requirement.\\n\\n\\t\\tResponsible for Creating and Modifying T-SQL stored procedures for validating the integrity of the data.\\n\\n\\t\\tResponsible for writing complex SQL Queries, Joins, Constraints, DDL, DML Date Functions to implement the business logic.\\n\\n\\n\\n\\t\\tExperience in creating different types of Reports according to the user request by using NANO BI Analytical tool.\\n\\n\\t\\tInvolved in deploying and scheduling the reports using Report Emailer.\\n\\n\\t\\tInvolved in scheduling the Stored procedures to refresh the data on every day using Workflows in NANO BI.\\n\\n\\n\\n\\n\\n\\n\\n\\n\\nB. Vinod kumar',\n",
       " 'Chinna Subbarayudu M\\n\\nDOB: 06th March 1994\\n\\nNationality: Indian\\n\\n\\t\\t\\n\\n\\t\\t\\tPROFILE SUMMARY:\\n\\n\\n\\n\\n\\n\\n\\nHaving around 5.1 years of IT experience in developing and Implementation of ERP technology by using Workday HCM and ETL (informatica) technologies.\\n\\n3.6 years of experience as Workday Integration Consultant and involved in a maintenance and implementation.\\n\\nExperience in all phases in Workday like requirements gathering, Analysis, Design, Development and Testing.\\n\\nHands on experience in inbound/ outbound integrations using core connector, Workday studio, managing business processes, working with EIB, report writer.\\n\\nDeveloped and maintained custom-report types (Advanced, Matrix, Composite) using report writer tool.\\n\\nInvolved in transformation of XML into XSLT for presenting data for different web Services.\\n\\nBuilding Workday Integration (EIB), calculated fields, Custom Reports and Writing XSLT transformation code.\\n\\nDeveloped testing\\xa0strategies and validation scenarios along with project Scope and Requirement documents\\n\\nPrioritizing, reproducing and verifying bug fixes in different Workday integrations.\\n\\nHaving knowledge in XML, WD-SOAP Web Service, and WD- REST Web Service and experienced in using tools such as Soap, XML Exchanger\\n\\nInvolved in writing transformation code for converting XML into XSLT\\n\\nfor different web services.\\n\\nPerformed validation testing and end to end testing and also involved in integration testing\\n\\nHaving good experiences in testing, we perform UAT and end to end validation testing\\n\\nKnowledge in Software Development Life Cycle process (Analysis, Design, Development, Testing) for Implementation and Support in different application domain.\\n\\nExperience of working in Production support model.\\n\\nExcellent client interaction skills and proven experience in working independently as well as in a team.\\n\\n\\n\\nTECHNICAL SKILLS:\\n\\n\\n\\n\\n\\n\\n\\nWORKDAY SKILLS\\n\\nWorkday HCM, Workday Advanced Report Writer, Core connectors PICOF, Document Transformation and Workday Studio, EIB, Workday Web Services, Workday Security.\\n\\nProgramming Languages\\n\\nXML, SQL, Basic shell scripting.\\n\\nETL tools\\n\\nInformatica 9 &10 ,Teradata\\n\\nOperating systems\\n\\nLinux, Windows\\n\\nTools\\n\\nSQL developer, Talend, Putty, Appworx, Maestro, Winscp\\n\\n\\n\\n\\t\\t\\tEducation Details:\\n\\n\\n\\n\\n\\n\\tBsc(Computers) from Yogi Vemana University,Kadapa.\\n\\n\\t\\t\\tWork Experience:\\n\\n\\n\\n\\n\\nWorking as a Workday Technical Consultant for Progile Infotech pvt ltd  from June - 2016 to till date.        \\n\\n\\t\\t\\tProjects under taken:\\n\\n\\n\\n\\n\\n\\n\\n\\n\\nClient: South West Airlines                                                                                   June2019- Present\\n\\nRole: Workday Technical  Consultant\\n\\n\\n\\nResponsibilities:\\n\\n\\t\\tIntegrations in Workday using different tools like CCW, EIB, DT, Custom Report and Workday Studio, Responsible for developing Integrations and testing them.\\n\\n\\t\\tResponsible for supporting the new change requests and enhancements in the project\\n\\n\\t\\tCreated calculated fields and Worked on Simple and Advanced Reports.\\n\\n\\t\\tWorked on Integration Systems (EIBs, Core Connectors).\\n\\n\\t\\tDay to day support of Workday Integrations, Security, and Reporting issues.\\n\\nHad knowledge on hire, terminate, data changes etc. of employees\\n\\nExpertise in developing Payroll interfaces using PICOF, PECI with the help of Workday Studio and Document Transformation to meet client’s complex payroll requirements.\\n\\nDesign of web services to send/receive data between Workday and Third party system.\\n\\nDeveloped analytics dashboards utilizing multiple data sources to provide actionable reporting and embedded analytics.\\n\\nExperienced in analyzing and preparing Project Deliverables such as Technical Design Document (TDD) and Functional Design Document (FDD).\\n\\nCreated test scripts and coordinated the testing\\xa0effort with all the stakeholders for System and UAT. \\n\\n\\n\\n\\n\\nClient:  Arbella Insurance Group\\t\\t\\t\\t                                Dec2017– May2019\\n\\nRole:  Workday Integration Consultant\\n\\n\\n\\nResponsibilities:\\n\\nAnalyzed client’s HCM/Payroll business needs through client working sessions and supported development of new business processes and a future state design.\\n\\n\\t\\tWorked as an Integration Developer for Analysis, design, development, testing and implementation of Workday HCM solutions for Global Implementation in GE. \\n\\n\\t\\tPerformance Tuning in Population (2 lakh employees) and Complexity Perspective.\\n\\n\\t\\tCreated Multiple CCW Integrations for Demographical data with DT, EIBs with reports\\n\\n\\t\\tSupported on both Inbound and Outbound Studio Integrations, Created security groups, users and configured required security policies in Domain and BP level..\\n\\n\\t\\tUtilize in-depth knowledge of functional and Technical experience in Workday and other leading-edge products and technology in conjunction with industry and business skills to deliver solutions to customer.\\n\\n\\t\\tBuilt Integrations in Workday using different tools like CCW, EIB, and Reports. Identifying Testing strategy getting sign-off on all project deliverables.\\n\\n\\t\\tCollaborate with the ST (System Testing) and UAT (User Acceptance Testing) teams to test the integration builds. Fix issues encountered in ST and UAT phase.\\n\\nDeveloped Several Complex Integrations using Workday Studio and EIB.\\n\\nDay to day support of Workday HCM, Security, Payroll, Benefits, Compensation and Reporting issues\\n\\nInvolved in the design phase and prototyping for further discussions with the client.\\n\\nCreated and used calculated fields in reporting, business processes, integrations and other areas within Workday.\\n\\n\\n\\nClient:  News Technologies  \\t\\t\\t          \\t\\t\\t     June 2016 –Nov 2017\\n\\nRole:  Peoplesoft Consultant          \\n\\n\\n\\nResponsibilities:\\n\\n\\n\\nInvolved in design and customization of tables and panels and adding new option using People Tools.\\n\\nResponsible for Test Plan, Defect Report Status, and Knowledge Transfer Documents.\\n\\nUploading the test scripts from MS Excel to Test Director.\\n\\nDeveloped and executed the SQL queries to fetch the data from PeopleSoft HRMS (Oracle).\\n\\nThe fetched data has to be analyzed against the bridge database and it should be reported if there is any deviation.\\n\\nIntegrated third party hiring application with PeopleSoft System using Component Interface program and loaded data into PS tables.\\n\\nUnit tested the developed application and created test scripts and test cases for the Unit Testing and System Testing\\n\\n\\t\\t\\tDeclaration:\\n\\n\\n\\n\\n\\n\\t                  I hereby declare that the information provided above is true to the best of my knowledge.\\n\\n\\n\\n\\n\\nDate : \\t\\t\\t\\t\\t\\t\\t\\t\\tName: M Chinna Subbarayudus\\n\\n\\n\\n\\n\\n\\t\\tPage 2',\n",
       " 'Name         : Gopi Krishna Reddy\\n\\n\\t\\t\\t\\t                       \\n\\n\\n\\nPROFESSIONAL SUMMERY:\\n\\nWorking as a Workday Consultant with 3+ years as\\xa0Workday Consultant\\xa0and good experience on Report Writing, Integration of HCM. \\n\\n\\n\\nKnowledge of the software development life cycle from design through scoping, requirements gathering, analysis, development, testing, user acceptance, deployment, maintenance/support and change management.\\xa0\\n\\nGood working knowledge on Inbound and Outbound EIB Integration concepts and created various EIB Integrations.\\n\\nBuilding Core Connector integrations for extracting worker, position, status, leave and absence delta changes.\\n\\nDesigned and built all types of integrations using Document Transformation, EIB, PICOF, Cloud Connectors and Custom Report Writer.\\xa0\\n\\nHaving  good knowledge on Workday Studio \\n\\nExperience with XML, XPATH and XSLT and Expert in designing/development of Interfaces with legacy and third party systems.\\xa0\\n\\nHands-on experience In Migrating the XSLT Code, Reports from Lower tenant to Sandbox and Production using Object Transporter.\\n\\nExperienced in developing Custom Reports, Advanced Reports using Report Writer.\\n\\nStrong experience using technologies involving\\xa0Workday applications, reporting and analytics.\\xa0\\n\\nGood experience on create Report Groups and Workbooks to create Excel worksheet groups and create Dashboards.\\n\\nStrong Knowledge on working with CR-Change Requests as per business requirement and Building and moving changes to production.\\n\\nWorked closely with Business and Development Teams for Designed and Documented Enhancements as well as conducted Production Support Troubleshooting around Integrations for Global Workday HCM System.\\n\\nExcellent Interpersonal, Presentation and Communication Skills with the ability to work in a team and a Stand-alone Environment.\\xa0\\n\\nEDUCATIONAL DETAILS:\\n\\n\\n\\nCompleted Bachelor of Degree from JNTU - K University in 2014.\\n\\n\\n\\nTECHNICAL SKILLS:           \\n\\nSoftware/ Products\\n\\nWorkday HCM, Reporting and Integrations.\\n\\nLanguages\\n\\nXML, XSLT, MVEL Web Services SOAP & REST.\\n\\nHCM Modules\\n\\nCore HR, Benefits, Compensation, Time Tracking, Absence Management, Studio, Core Connectors, Calculated Fields, Change Deduction, ReportWriting, Integration, EIB Inbound/Outbound, Sup Orgs, Business Objects.\\n\\nIDE\\n\\nWorkday Studio\\n\\n\\n\\n\\n\\nPROJECT DETAILS:           \\n\\nCompany: Tyson Foods, Bangalore                 (May 2018 to Present)\\n\\nProject: Workday Support and Enhancement\\t\\t\\t\\t\\t\\t\\t\\n\\nRole: Workday Technical Consultant\\n\\n\\n\\nResponsibilities:\\n\\nInvolved in Workday HCM for various HR modules such as Benefits, Compensation, Time Tracking and Absence Management.\\n\\nWorked on Calculated Fields to create Report level and Global level.\\n\\nMonitor daily Schedulers and Report Errors as needed.\\n\\nDesign and Build Integrations and worked closely with testing and production teams to solve issues with integrations.\\n\\nCreated Custom Reports like Simple, Advanced Reports as per the client requirements and shared with the security groups.\\n\\nCreated Reports against the Worker business object and worked on Headcount, Turnover and Compensation Reports.\\n\\nGood experience with Core Connector Worker to work on Employee Demographics and build Benefit Integrations and Account Provisioning Integrations.\\n\\nCreated Inbound/Outbound integrations using Workday Studio, Core/Cloud Connectors, EIB’s and Document Transformation Process.\\n\\nInvolved in Unit Test on Integrations, UAT support and end user training.\\n\\nDesign, build or maintain integrations of all types: Reports, EIB, Core Connectors, Payroll Connectors or Studio.\\n\\nWrite / Modify Technical Design/ Specifications as needed\\n\\nParticipate in Integration Testing and Peer Testing.\\n\\nWork independently or with minimal supervision with various Stakeholders including the Functional Consultants.\\n\\nMonitor and update ticketing tool on daily basis. Manage work activities and ticket volumes to meet required SLA’s and service delivery measures.\\n\\nDeveloped Core Connector and Document Transformation integrations to get changes file of CSV format from XML Output.\\n\\n\\n\\n\\n\\nUsed sequence generators, generating templates and validating inbound integration system results.\\n\\nDay to day support for Workday HCM, Integrations and Reporting issues.\\n\\n\\n\\nTechnical Environment: Workday 30/31/32, Workday Studio, Workday EIB, Workday BIRT, Core Concepts, Document Transformation, Calculated Fields, Oxygen Editor, Workday Report Writer, XML, XSLT.\\n\\n\\n\\n\\n\\nPERSONAL INFORMATION\\n\\n\\n\\nFull Name\\t\\t\\t: \\tGopi Krishna Reddy \\n\\nGender\\t\\t\\t               : \\tMale \\n\\nD.O.B\\t\\t  \\t               : \\t19-04-1993 \\n\\nMarital Status\\t                             : \\tMarried\\t \\n\\nNationality\\t\\t\\t: \\tIndian \\n\\nLanguages Known\\t\\t: \\t English, Telugu and Kannada.',\n",
       " 'Name         : Gopi Krishna Reddy\\n\\n\\t\\t\\t\\t                       \\n\\n\\n\\nPROFESSIONAL SUMMERY:\\n\\nWorking as a Workday Consultant with 3+ years as\\xa0Workday Consultant\\xa0and good experience on Report Writing, Integration of HCM. \\n\\n\\n\\nKnowledge of the software development life cycle from design through scoping, requirements gathering, analysis, development, testing, user acceptance, deployment, maintenance/support and change management.\\xa0\\n\\nGood working knowledge on Inbound and Outbound EIB Integration concepts and created various EIB Integrations.\\n\\nBuilding Core Connector integrations for extracting worker, position, status, leave and absence delta changes.\\n\\nDesigned and built all types of integrations using Document Transformation, EIB, PICOF, Cloud Connectors and Custom Report Writer.\\xa0\\n\\nHaving  good knowledge on Workday Studio \\n\\nExperience with XML, XPATH and XSLT and Expert in designing/development of Interfaces with legacy and third party systems.\\xa0\\n\\nHands-on experience In Migrating the XSLT Code, Reports from Lower tenant to Sandbox and Production using Object Transporter.\\n\\nExperienced in developing Custom Reports, Advanced Reports using Report Writer.\\n\\nStrong experience using technologies involving\\xa0Workday applications, reporting and analytics.\\xa0\\n\\nGood experience on create Report Groups and Workbooks to create Excel worksheet groups and create Dashboards.\\n\\nStrong Knowledge on working with CR-Change Requests as per business requirement and Building and moving changes to production.\\n\\nWorked closely with Business and Development Teams for Designed and Documented Enhancements as well as conducted Production Support Troubleshooting around Integrations for Global Workday HCM System.\\n\\nExcellent Interpersonal, Presentation and Communication Skills with the ability to work in a team and a Stand-alone Environment.\\xa0\\n\\nEDUCATIONAL DETAILS:\\n\\n\\n\\nCompleted Bachelor of Degree from JNTU - K University in 2014.\\n\\n\\n\\nTECHNICAL SKILLS:           \\n\\nSoftware/ Products\\n\\nWorkday HCM, Reporting and Integrations.\\n\\nLanguages\\n\\nXML, XSLT, MVEL Web Services SOAP & REST.\\n\\nHCM Modules\\n\\nCore HR, Benefits, Compensation, Time Tracking, Absence Management, Studio, Core Connectors, Calculated Fields, Change Deduction, ReportWriting, Integration, EIB Inbound/Outbound, Sup Orgs, Business Objects.\\n\\nIDE\\n\\nWorkday Studio\\n\\n\\n\\n\\n\\nPROJECT DETAILS:           \\n\\nCompany: Tyson Foods, Bangalore                 (May 2018 to Present)\\n\\nProject: Workday Support and Enhancement\\t\\t\\t\\t\\t\\t\\t\\n\\nRole: Workday Technical Consultant\\n\\n\\n\\nResponsibilities:\\n\\nInvolved in Workday HCM for various HR modules such as Benefits, Compensation, Time Tracking and Absence Management.\\n\\nWorked on Calculated Fields to create Report level and Global level.\\n\\nMonitor daily Schedulers and Report Errors as needed.\\n\\nDesign and Build Integrations and worked closely with testing and production teams to solve issues with integrations.\\n\\nCreated Custom Reports like Simple, Advanced Reports as per the client requirements and shared with the security groups.\\n\\nCreated Reports against the Worker business object and worked on Headcount, Turnover and Compensation Reports.\\n\\nGood experience with Core Connector Worker to work on Employee Demographics and build Benefit Integrations and Account Provisioning Integrations.\\n\\nCreated Inbound/Outbound integrations using Workday Studio, Core/Cloud Connectors, EIB’s and Document Transformation Process.\\n\\nInvolved in Unit Test on Integrations, UAT support and end user training.\\n\\nDesign, build or maintain integrations of all types: Reports, EIB, Core Connectors, Payroll Connectors or Studio.\\n\\nWrite / Modify Technical Design/ Specifications as needed\\n\\nParticipate in Integration Testing and Peer Testing.\\n\\nWork independently or with minimal supervision with various Stakeholders including the Functional Consultants.\\n\\nMonitor and update ticketing tool on daily basis. Manage work activities and ticket volumes to meet required SLA’s and service delivery measures.\\n\\nDeveloped Core Connector and Document Transformation integrations to get changes file of CSV format from XML Output.\\n\\n\\n\\n\\n\\nUsed sequence generators, generating templates and validating inbound integration system results.\\n\\nDay to day support for Workday HCM, Integrations and Reporting issues.\\n\\n\\n\\nTechnical Environment: Workday 30/31/32, Workday Studio, Workday EIB, Workday BIRT, Core Concepts, Document Transformation, Calculated Fields, Oxygen Editor, Workday Report Writer, XML, XSLT.\\n\\n\\n\\n\\n\\nPERSONAL INFORMATION\\n\\n\\n\\nFull Name\\t\\t\\t: \\tGopi Krishna Reddy \\n\\nGender\\t\\t\\t               : \\tMale \\n\\nD.O.B\\t\\t  \\t               : \\t19-04-1993 \\n\\nMarital Status\\t                             : \\tMarried\\t \\n\\nNationality\\t\\t\\t: \\tIndian \\n\\nLanguages Known\\t\\t: \\t English, Telugu and Kannada.',\n",
       " 'Name         : Gopi Krishna Reddy\\n\\n\\t\\t\\t\\t                       \\n\\n\\n\\nPROFESSIONAL SUMMERY:\\n\\nWorking as a Workday Consultant with 3+ years as\\xa0Workday Consultant\\xa0and good experience on Report Writing, Integration of HCM. \\n\\n\\n\\nKnowledge of the software development life cycle from design through scoping, requirements gathering, analysis, development, testing, user acceptance, deployment, maintenance/support and change management.\\xa0\\n\\nGood working knowledge on Inbound and Outbound EIB Integration concepts and created various EIB Integrations.\\n\\nBuilding Core Connector integrations for extracting worker, position, status, leave and absence delta changes.\\n\\nDesigned and built all types of integrations using Document Transformation, EIB, PICOF, Cloud Connectors and Custom Report Writer.\\xa0\\n\\nHaving  good knowledge on Workday Studio \\n\\nExperience with XML, XPATH and XSLT and Expert in designing/development of Interfaces with legacy and third party systems.\\xa0\\n\\nHands-on experience In Migrating the XSLT Code, Reports from Lower tenant to Sandbox and Production using Object Transporter.\\n\\nExperienced in developing Custom Reports, Advanced Reports using Report Writer.\\n\\nStrong experience using technologies involving\\xa0Workday applications, reporting and analytics.\\xa0\\n\\nGood experience on create Report Groups and Workbooks to create Excel worksheet groups and create Dashboards.\\n\\nStrong Knowledge on working with CR-Change Requests as per business requirement and Building and moving changes to production.\\n\\nWorked closely with Business and Development Teams for Designed and Documented Enhancements as well as conducted Production Support Troubleshooting around Integrations for Global Workday HCM System.\\n\\nExcellent Interpersonal, Presentation and Communication Skills with the ability to work in a team and a Stand-alone Environment.\\xa0\\n\\nEDUCATIONAL DETAILS:\\n\\n\\n\\nCompleted Bachelor of Degree from JNTU - K University in 2014.\\n\\n\\n\\nTECHNICAL SKILLS:           \\n\\nSoftware/ Products\\n\\nWorkday HCM, Reporting and Integrations.\\n\\nLanguages\\n\\nXML, XSLT, MVEL Web Services SOAP & REST.\\n\\nHCM Modules\\n\\nCore HR, Benefits, Compensation, Time Tracking, Absence Management, Studio, Core Connectors, Calculated Fields, Change Deduction, ReportWriting, Integration, EIB Inbound/Outbound, Sup Orgs, Business Objects.\\n\\nIDE\\n\\nWorkday Studio\\n\\n\\n\\n\\n\\nPROJECT DETAILS:           \\n\\nCompany: Tyson Foods, Bangalore                 (May 2018 to Present)\\n\\nProject: Workday Support and Enhancement\\t\\t\\t\\t\\t\\t\\t\\n\\nRole: Workday Technical Consultant\\n\\n\\n\\nResponsibilities:\\n\\nInvolved in Workday HCM for various HR modules such as Benefits, Compensation, Time Tracking and Absence Management.\\n\\nWorked on Calculated Fields to create Report level and Global level.\\n\\nMonitor daily Schedulers and Report Errors as needed.\\n\\nDesign and Build Integrations and worked closely with testing and production teams to solve issues with integrations.\\n\\nCreated Custom Reports like Simple, Advanced Reports as per the client requirements and shared with the security groups.\\n\\nCreated Reports against the Worker business object and worked on Headcount, Turnover and Compensation Reports.\\n\\nGood experience with Core Connector Worker to work on Employee Demographics and build Benefit Integrations and Account Provisioning Integrations.\\n\\nCreated Inbound/Outbound integrations using Workday Studio, Core/Cloud Connectors, EIB’s and Document Transformation Process.\\n\\nInvolved in Unit Test on Integrations, UAT support and end user training.\\n\\nDesign, build or maintain integrations of all types: Reports, EIB, Core Connectors, Payroll Connectors or Studio.\\n\\nWrite / Modify Technical Design/ Specifications as needed\\n\\nParticipate in Integration Testing and Peer Testing.\\n\\nWork independently or with minimal supervision with various Stakeholders including the Functional Consultants.\\n\\nMonitor and update ticketing tool on daily basis. Manage work activities and ticket volumes to meet required SLA’s and service delivery measures.\\n\\nDeveloped Core Connector and Document Transformation integrations to get changes file of CSV format from XML Output.\\n\\n\\n\\n\\n\\nUsed sequence generators, generating templates and validating inbound integration system results.\\n\\nDay to day support for Workday HCM, Integrations and Reporting issues.\\n\\n\\n\\nTechnical Environment: Workday 30/31/32, Workday Studio, Workday EIB, Workday BIRT, Core Concepts, Document Transformation, Calculated Fields, Oxygen Editor, Workday Report Writer, XML, XSLT.\\n\\n\\n\\n\\n\\nPERSONAL INFORMATION\\n\\n\\n\\nFull Name\\t\\t\\t: \\tGopi Krishna Reddy \\n\\nGender\\t\\t\\t               : \\tMale \\n\\nD.O.B\\t\\t  \\t               : \\t19-04-1993 \\n\\nMarital Status\\t                             : \\tMarried\\t \\n\\nNationality\\t\\t\\t: \\tIndian \\n\\nLanguages Known\\t\\t: \\t English, Telugu and Kannada.',\n",
       " 'Name         : Gopi Krishna Reddy\\n\\n\\t\\t\\t\\t                       \\n\\n\\n\\nPROFESSIONAL SUMMERY:\\n\\nWorking as a Workday Consultant with 3+ years as\\xa0Workday Consultant\\xa0and good experience on Report Writing, Integration of HCM. \\n\\n\\n\\nKnowledge of the software development life cycle from design through scoping, requirements gathering, analysis, development, testing, user acceptance, deployment, maintenance/support and change management.\\xa0\\n\\nGood working knowledge on Inbound and Outbound EIB Integration concepts and created various EIB Integrations.\\n\\nBuilding Core Connector integrations for extracting worker, position, status, leave and absence delta changes.\\n\\nDesigned and built all types of integrations using Document Transformation, EIB, PICOF, Cloud Connectors and Custom Report Writer.\\xa0\\n\\nHaving  good knowledge on Workday Studio \\n\\nExperience with XML, XPATH and XSLT and Expert in designing/development of Interfaces with legacy and third party systems.\\xa0\\n\\nHands-on experience In Migrating the XSLT Code, Reports from Lower tenant to Sandbox and Production using Object Transporter.\\n\\nExperienced in developing Custom Reports, Advanced Reports using Report Writer.\\n\\nStrong experience using technologies involving\\xa0Workday applications, reporting and analytics.\\xa0\\n\\nGood experience on create Report Groups and Workbooks to create Excel worksheet groups and create Dashboards.\\n\\nStrong Knowledge on working with CR-Change Requests as per business requirement and Building and moving changes to production.\\n\\nWorked closely with Business and Development Teams for Designed and Documented Enhancements as well as conducted Production Support Troubleshooting around Integrations for Global Workday HCM System.\\n\\nExcellent Interpersonal, Presentation and Communication Skills with the ability to work in a team and a Stand-alone Environment.\\xa0\\n\\nEDUCATIONAL DETAILS:\\n\\n\\n\\nCompleted Bachelor of Degree from JNTU - K University in 2014.\\n\\n\\n\\nTECHNICAL SKILLS:           \\n\\nSoftware/ Products\\n\\nWorkday HCM, Reporting and Integrations.\\n\\nLanguages\\n\\nXML, XSLT, MVEL Web Services SOAP & REST.\\n\\nHCM Modules\\n\\nCore HR, Benefits, Compensation, Time Tracking, Absence Management, Studio, Core Connectors, Calculated Fields, Change Deduction, ReportWriting, Integration, EIB Inbound/Outbound, Sup Orgs, Business Objects.\\n\\nIDE\\n\\nWorkday Studio\\n\\n\\n\\n\\n\\nPROJECT DETAILS:           \\n\\nCompany: Tyson Foods, Bangalore                 (May 2018 to Present)\\n\\nProject: Workday Support and Enhancement\\t\\t\\t\\t\\t\\t\\t\\n\\nRole: Workday Technical Consultant\\n\\n\\n\\nResponsibilities:\\n\\nInvolved in Workday HCM for various HR modules such as Benefits, Compensation, Time Tracking and Absence Management.\\n\\nWorked on Calculated Fields to create Report level and Global level.\\n\\nMonitor daily Schedulers and Report Errors as needed.\\n\\nDesign and Build Integrations and worked closely with testing and production teams to solve issues with integrations.\\n\\nCreated Custom Reports like Simple, Advanced Reports as per the client requirements and shared with the security groups.\\n\\nCreated Reports against the Worker business object and worked on Headcount, Turnover and Compensation Reports.\\n\\nGood experience with Core Connector Worker to work on Employee Demographics and build Benefit Integrations and Account Provisioning Integrations.\\n\\nCreated Inbound/Outbound integrations using Workday Studio, Core/Cloud Connectors, EIB’s and Document Transformation Process.\\n\\nInvolved in Unit Test on Integrations, UAT support and end user training.\\n\\nDesign, build or maintain integrations of all types: Reports, EIB, Core Connectors, Payroll Connectors or Studio.\\n\\nWrite / Modify Technical Design/ Specifications as needed\\n\\nParticipate in Integration Testing and Peer Testing.\\n\\nWork independently or with minimal supervision with various Stakeholders including the Functional Consultants.\\n\\nMonitor and update ticketing tool on daily basis. Manage work activities and ticket volumes to meet required SLA’s and service delivery measures.\\n\\nDeveloped Core Connector and Document Transformation integrations to get changes file of CSV format from XML Output.\\n\\n\\n\\n\\n\\nUsed sequence generators, generating templates and validating inbound integration system results.\\n\\nDay to day support for Workday HCM, Integrations and Reporting issues.\\n\\n\\n\\nTechnical Environment: Workday 30/31/32, Workday Studio, Workday EIB, Workday BIRT, Core Concepts, Document Transformation, Calculated Fields, Oxygen Editor, Workday Report Writer, XML, XSLT.\\n\\n\\n\\n\\n\\nPERSONAL INFORMATION\\n\\n\\n\\nFull Name\\t\\t\\t: \\tGopi Krishna Reddy \\n\\nGender\\t\\t\\t               : \\tMale \\n\\nD.O.B\\t\\t  \\t               : \\t19-04-1993 \\n\\nMarital Status\\t                             : \\tMarried\\t \\n\\nNationality\\t\\t\\t: \\tIndian \\n\\nLanguages Known\\t\\t: \\t English, Telugu and Kannada.',\n",
       " 'G Himaja\\n\\n                                                                                                            \\n\\n\\n\\n\\n\\nCareer Objective\\n\\n\\n\\nTo work towards achieving the greater success in my career through hard work, consistency and the ability to work with others to achieve organizational goals, aims and objectives.   \\n\\n    \\n\\nProfessional Summary\\n\\n\\n\\nHaving around 3 Years of IT ERP experience which include 2+ years as workday Integration Consultant and Remaining as HR.\\n\\n\\n\\n\\tGood Involvement in Workday Projects full life cycle, Development / deployment, upgrades, Integrations etc.\\n\\n\\n\\n\\tGood knowledge in the Functional Workday includes HCM, Compensation, Payroll interface, Business Process configurations, etc.\\n\\n\\n\\n\\tExtensively worked on calculated fields used in developing various custom reports.\\n\\n\\n\\nStrong Knowledge on Involved in CR-Change Request as for business requirement and Building and moving changes to production.\\n\\n\\n\\n\\tGood Exposure in Integrations- Inbound and Outbound, Payroll interface implementations.\\n\\n\\n\\n\\tGood Experience in Workday Integration Tools - Connectors, PICOF/PECI, RAAS, EIB, API, Reporting, Document Transformation, STUDIO, XSLT, HTML, Data Load etc., and Third party Integrations for client for various vendors like ADP etc.\\n\\n\\n\\n\\tWorked on Functional Data Inbound data loads via EIB for (Applicant, Dependent, Compensation Data Loads).\\n\\n\\n\\n\\tGood Experience in Outbound integrations using EIB and Document Transformation for sending Demographic data to end vendors.\\n\\n\\n\\nExperience on getting requirement from the client and sharing the work across team.\\n\\n\\n\\nGood Experience in BIRT to generate Bonus Letters using workday Studio. \\n\\n\\n\\nGood Experience in Report designing using workday Studio. \\n\\n\\n\\nStrong Knowledge on Deploy reports in multiple environments (Dev-QA-Prod) Using solution.\\n\\n\\n\\n\\tProven communication and interpersonal skills.\\n\\n\\n\\n\\t\\n\\n\\n\\nTechnical- Skills:\\n\\n\\n\\nWorkday Skills\\n\\nWorkday HCM, Workday Advanced Report Writer, Calculated Fields, Core connectors, PICOF, Document Transformation and Workday Studio, EIB, Workday Web Services.\\n\\nProgramming Languages\\n\\nXML, XSLT, X-Path\\n\\nWeb Technologies\\n\\nSOAP, XML, XSD, Web Services (WSDL & SOAP), XSLT.\\n\\nOperating Systems\\n\\nWindows XP/Vista/Windows7/8\\n\\n\\n\\nExperience Summary:\\n\\n\\n\\nWorked as Software Engineer in Thermo Fisher Scientific from June 2018 – Till date.\\n\\nEducation:\\n\\nCompleted Degree (BSc. computer science) from S V University, Tirupathi-2018.\\n\\nProject:\\n\\n        Project\\t          :     Support &Implementation of workday HCM\\n\\n       Client                 :     Thermo fisher scientific\\n\\n       Role\\t          :    Workday Integration Consultant\\n\\nRoles & Responsibilities\\n\\n\\n\\n\\tUnderstanding the Business Requirements by studying the Functional Documents.\\n\\n\\tCreation of Advanced Custom reports for End user for reporting on Demographic Information.. \\n\\n\\tHands-on experience in creating the calculated fields using different functions for complete logics. \\n\\n\\tCreated EIB Inbound Integrations for loading the employees personal Information like, Emergency contacts, Compensation, One time payments, Bank account information, cost center information.\\n\\n\\tCreated EIB outbound Integrations, written XSLT code and sending data from workday to downstream systems.\\n\\n\\tModified the XSLT code as per CR-request and adding the new XSLT code for Different info types.\\n\\n\\tCreated the new outbound integrations to sending the Payroll Information from workday to ADP payroll system.\\n\\n\\tCreated Workday Studio inbound studio programs to load compensation information from ADP to workday.\\n\\n\\tHands-on experience In Migrating the XSLT Code, Reports from Lower tenant to Sandbox and Production using Object Transporter\\n\\n\\t\\n\\n\\tSupporting the Different teams in UAT phase as well as with test factory teams during integration testing phase.\\n\\n\\tInvolved in calls with client and update the work status as well as clarifications if any.\\n\\n\\t\\n\\n\\t\\n\\n\\tProject    \\n\\n      Client                 :     Thermo fisher scientific\\n\\n       Role\\t          :    HR-Executive\\n\\nRoles & Responsibilities\\n\\n\\n\\n\\t• Handling end to end recruitment activities.\\n•   Uploading the profiles on internal recruitment portal to check the duplicity of the profiles.\\n•   Track of all the open requirements.\\n•   Discussion with business about the job requirements/plan of hire.\\n•   Decision on mode and channel of hire based on the requirements.\\n•   Sourcing the profiles through social network, employee references, references from the   \\n\\n\\t  Candidates, Vendors, etc \\n•   Sourcing the profiles through vendors for contract hiring requirements.\\n•   Initial screening and shortlist the profiles for the interview process.\\n•   Interview schedule for the shortlisted candidates.\\n•   Arrangement of logistics for the interviews.\\n•   Arrangement of panels for the Non-technical and managerial interviews.\\n•   Interview coordination.\\n•   Discussion with project team/business unit about the requirements and initiate sourcing as \\n\\n\\t  per the requirement.\\n•   Preparing the report and submitted to Business.\\n\\n\\t\\n\\nPersonal Information\\n\\n\\n\\n\\n\\n\\tMarital Status \\t                    \\n\\n:  Unmarried \\n\\nNationality                                     \\n\\n:  Indian \\n\\n\\tLanguages known \\t                    \\n\\n \\n\\n:  English, Telugu, Hindi. \\n\\n\\n\\nDeclaration:      \\n\\n                   \\n\\nI hereby declare that the information furnished above is true to the best of my Knowledge. \\n\\n                                                                          \\n\\n                                                                                                                                      Yours Faithfully\\n\\n                                                                                                                       G Himaja',\n",
       " 'G Himaja\\n\\n                                                                                                            \\n\\n\\n\\n\\n\\nCareer Objective\\n\\n\\n\\nTo work towards achieving the greater success in my career through hard work, consistency and the ability to work with others to achieve organizational goals, aims and objectives.   \\n\\n    \\n\\nProfessional Summary\\n\\n\\n\\nHaving around 3 Years of IT ERP experience which include 2+ years as workday Integration Consultant and Remaining as HR.\\n\\n\\n\\n\\tGood Involvement in Workday Projects full life cycle, Development / deployment, upgrades, Integrations etc.\\n\\n\\n\\n\\tGood knowledge in the Functional Workday includes HCM, Compensation, Payroll interface, Business Process configurations, etc.\\n\\n\\n\\n\\tExtensively worked on calculated fields used in developing various custom reports.\\n\\n\\n\\nStrong Knowledge on Involved in CR-Change Request as for business requirement and Building and moving changes to production.\\n\\n\\n\\n\\tGood Exposure in Integrations- Inbound and Outbound, Payroll interface implementations.\\n\\n\\n\\n\\tGood Experience in Workday Integration Tools - Connectors, PICOF/PECI, RAAS, EIB, API, Reporting, Document Transformation, STUDIO, XSLT, HTML, Data Load etc., and Third party Integrations for client for various vendors like ADP etc.\\n\\n\\n\\n\\tWorked on Functional Data Inbound data loads via EIB for (Applicant, Dependent, Compensation Data Loads).\\n\\n\\n\\n\\tGood Experience in Outbound integrations using EIB and Document Transformation for sending Demographic data to end vendors.\\n\\n\\n\\nExperience on getting requirement from the client and sharing the work across team.\\n\\n\\n\\nGood Experience in BIRT to generate Bonus Letters using workday Studio. \\n\\n\\n\\nGood Experience in Report designing using workday Studio. \\n\\n\\n\\nStrong Knowledge on Deploy reports in multiple environments (Dev-QA-Prod) Using solution.\\n\\n\\n\\n\\tProven communication and interpersonal skills.\\n\\n\\n\\n\\t\\n\\n\\n\\nTechnical- Skills:\\n\\n\\n\\nWorkday Skills\\n\\nWorkday HCM, Workday Advanced Report Writer, Calculated Fields, Core connectors, PICOF, Document Transformation and Workday Studio, EIB, Workday Web Services.\\n\\nProgramming Languages\\n\\nXML, XSLT, X-Path\\n\\nWeb Technologies\\n\\nSOAP, XML, XSD, Web Services (WSDL & SOAP), XSLT.\\n\\nOperating Systems\\n\\nWindows XP/Vista/Windows7/8\\n\\n\\n\\nExperience Summary:\\n\\n\\n\\nWorked as Software Engineer in Thermo Fisher Scientific from June 2018 – Till date.\\n\\nEducation:\\n\\nCompleted Degree (BSc. computer science) from S V University, Tirupathi-2018.\\n\\nProject:\\n\\n        Project\\t          :     Support &Implementation of workday HCM\\n\\n       Client                 :     Thermo fisher scientific\\n\\n       Role\\t          :    Workday Integration Consultant\\n\\nRoles & Responsibilities\\n\\n\\n\\n\\tUnderstanding the Business Requirements by studying the Functional Documents.\\n\\n\\tCreation of Advanced Custom reports for End user for reporting on Demographic Information.. \\n\\n\\tHands-on experience in creating the calculated fields using different functions for complete logics. \\n\\n\\tCreated EIB Inbound Integrations for loading the employees personal Information like, Emergency contacts, Compensation, One time payments, Bank account information, cost center information.\\n\\n\\tCreated EIB outbound Integrations, written XSLT code and sending data from workday to downstream systems.\\n\\n\\tModified the XSLT code as per CR-request and adding the new XSLT code for Different info types.\\n\\n\\tCreated the new outbound integrations to sending the Payroll Information from workday to ADP payroll system.\\n\\n\\tCreated Workday Studio inbound studio programs to load compensation information from ADP to workday.\\n\\n\\tHands-on experience In Migrating the XSLT Code, Reports from Lower tenant to Sandbox and Production using Object Transporter\\n\\n\\t\\n\\n\\tSupporting the Different teams in UAT phase as well as with test factory teams during integration testing phase.\\n\\n\\tInvolved in calls with client and update the work status as well as clarifications if any.\\n\\n\\t\\n\\n\\t\\n\\n\\tProject    \\n\\n      Client                 :     Thermo fisher scientific\\n\\n       Role\\t          :    HR-Executive\\n\\nRoles & Responsibilities\\n\\n\\n\\n\\t• Handling end to end recruitment activities.\\n•   Uploading the profiles on internal recruitment portal to check the duplicity of the profiles.\\n•   Track of all the open requirements.\\n•   Discussion with business about the job requirements/plan of hire.\\n•   Decision on mode and channel of hire based on the requirements.\\n•   Sourcing the profiles through social network, employee references, references from the   \\n\\n\\t  Candidates, Vendors, etc \\n•   Sourcing the profiles through vendors for contract hiring requirements.\\n•   Initial screening and shortlist the profiles for the interview process.\\n•   Interview schedule for the shortlisted candidates.\\n•   Arrangement of logistics for the interviews.\\n•   Arrangement of panels for the Non-technical and managerial interviews.\\n•   Interview coordination.\\n•   Discussion with project team/business unit about the requirements and initiate sourcing as \\n\\n\\t  per the requirement.\\n•   Preparing the report and submitted to Business.\\n\\n\\t\\n\\nPersonal Information\\n\\n\\n\\n\\n\\n\\tMarital Status \\t                    \\n\\n:  Unmarried \\n\\nNationality                                     \\n\\n:  Indian \\n\\n\\tLanguages known \\t                    \\n\\n \\n\\n:  English, Telugu, Hindi. \\n\\n\\n\\nDeclaration:      \\n\\n                   \\n\\nI hereby declare that the information furnished above is true to the best of my Knowledge. \\n\\n                                                                          \\n\\n                                                                                                                                      Yours Faithfully\\n\\n                                                                                                                       G Himaja',\n",
       " 'JYOTI VERMA\\t\\t\\t\\t\\t\\n\\n\\n\\nPROFESSIONAL SUMMARY\\n\\nPROFESSIONAL SUMMARY\\n\\n\\n\\n\\n\\n\\t\\t3 years of Experience in Workday as Functional HCM Consultant.\\n\\n\\t\\tGood exposure in working on business improvements and process activities.\\n\\n\\t\\tExceptional ability in understanding the business needs and improving the process.\\n\\n\\t\\tExcellent communication skills and proven experience in working independently as well as in a team.\\n\\n\\t\\tInvolved in preparing business requirement documents and analysis of client functional requirements.\\n\\n\\t\\tExtensive knowledge on Complete Tenant configurations – (Supervisory Organizations, Roles, Business Processes)\\n\\n\\tExperience in performing HCM tasks like defining Job Profiles, position creations, employee hiring, transfers, promotions, demotions and terminations etc., as part of Workday Testing requirements.\\n\\n\\tConfiguration of Supervisory Organizations, Business Process.\\n\\n\\tExperience working on Workday HCM Global roll out and Support projects\\n\\n\\t\\tProficient in analyzing and translating business requirements to technical requirements and architectures.\\n\\n\\t\\tDay to day support of Workday HCM, reporting issues and implementing enhancements when needed.\\n\\n\\t\\tCreated Custom Reports and scheduled reports as requested by end-users.\\n\\n\\t\\tExposure on modifying/troubleshooting/enhancing existing custom reports using Calculated Fields.\\n\\n\\t\\tCreated and used calculated fields in reporting, business processes, and integrations within Workday.\\n\\n\\t\\tUnderstanding and careful analysis of the Internal HR team requirements.\\n\\n\\t\\tExposure on object management skills in Workday like configuring Supervisory/Matrix Organizations (Divide organizations, Inactivate Organizations, create subordinates).\\n\\n\\t\\tExperience in creating Job Profiles, Job Families and Job Family Groups, also worked with the creation and maintenance of position and job staffing models.\\n\\n\\t\\tExperience in maintenance and creation of Workday Supervisory Organizations, Locations, Positions, Cost centers, Cost Center hierarchies\\n\\n\\t\\tExcellent interpersonal skills with a strong desire to achieve specified goals.\\n\\n\\t\\tKnowledge on Compensation (salary plans based on different grades, grade profiles and allowances).\\n\\n\\n\\nQUALIFICATION:\\n\\nQUALIFICATION:\\n\\n\\n\\n\\t\\n\\n\\t\\n\\n\\tDegree/Exams\\n\\n\\tYear\\n\\n\\tInstitute/Board\\n\\n\\t%Percentage\\n\\n\\tB. E in MECHANICAL ENGINEERING\\t\\n\\n\\t2009\\n\\n\\tGOVT. ENGINEERING COLLEGE AJMER\\n\\n\\t65.68%\\n\\n12\\u200bth (R.B.S.E)\\n\\n\\t2004\\n\\n\\tALL SAINTS SR. SEC. SCHOOL,AJMER(RAJ)\\n\\n\\t58%\\n\\n10\\u200bth (R.B.S.E)\\n\\n\\t2002\\n\\n\\tALL SAINTS SR. SEC. SCHOOL AJMER(RAJ)\\n\\n\\t77%\\n\\n\\t\\n\\n\\n\\n\\t\\t\\n\\n\\n\\n\\n\\n\\n\\nEXPERIENCE DETAILS:\\n\\nEXPERIENCE DETAILS:\\n\\n\\n\\n\\t\\tCurrently working as a Workday HCM Functional Consultant in Icroz Solutions Pvt Ltd, Hyderabad from September 2018 to till date.\\n\\n\\t\\n\\n\\tYEAR\\n\\n\\tINDUSTRY\\n\\n\\tROLE\\n\\n\\t JAN2015 – OCT 2016\\n\\n\\tEDUCATION (JAIPUR ENGINEERING COLLEGE AND RESEARCH CENTRE)JAIPUR.\\n\\n\\tSenior Lecturer.\\n\\n\\tDomain\\n\\n\\tMechanical Deptt.\\n\\n\\t\\n\\n\\tYEAR\\n\\n\\tINDUSTRY\\n\\n\\tROLE\\n\\n\\tAug2012 – AUG 2014\\n\\n\\tEDUCATION(YAGVALKYA  INSTITUTE OF TECHNOLOGY)JAIPUR.\\n\\n\\tLecturer and counselor \\n\\n\\tDomain\\n\\n\\tMechanical Deptt.\\n\\n\\t\\n\\n\\tYEAR\\n\\n\\tINDUSTRY\\n\\n\\tROLE\\n\\n\\tMarch2011 – July2012\\n\\n\\tEDUCATION(Mayurakshi Institute Of Engineering &Technology)Jodhpur\\n\\n\\tLecturer\\n\\n\\tDomain\\n\\n\\tMechanical Deptt.\\n\\n\\t\\n\\n\\tYEAR\\n\\n\\tINDUSTRY\\n\\n\\tROLE\\n\\n\\tOct2009– Feb2011\\n\\n\\tReligare\\n\\n\\tMaintenance  Engineer\\n\\n\\tDomain\\n\\n\\tMechanical Deptt.\\n\\n\\t\\n\\n\\t\\t\\n\\n\\n\\nPROFESSIONAL EXPERIENCE:\\n\\nPROFESSIONAL EXPERIENCE:\\n\\n\\t\\tProject-1\\t:\\tSupport of Workday HCM\\n\\n\\t\\tClient\\t:\\tElectronic Arts\\n\\n\\t\\tRole\\t:\\tWorkday Consultant Duration\\t:\\tSept 2018 to Till Date\\n\\n\\n\\nROLES&RESPONSIBILITIES:\\n\\nROLES&RESPONSIBILITIES:\\n\\n\\n\\n\\t\\tWorked extensively on creating calculated fields and setting up validation rules to  accomplish the Client needs for BP Setup and Reporting needs.\\n\\n\\t\\tInvolved in setting up Eligibility Criteria, Workflows and Security Groups to support Business Processes for Core HR.\\n\\n\\t\\tExposure in developing Standard, Advanced, custom reports  and  thorough understanding  of Workday data sources and business objects.\\n\\n\\t\\tDay to day support of Workday HCM\\n\\n\\t\\tCreated Supervisory Organizations, Cost Centers, Cost Center Hierarchies, and location hierarchies and modification of Workday Business Processes and definitions.\\n\\n\\t\\tCreating and maintaining Workday Custom reports like Simple, Advance Reports.\\n\\n\\t\\tCreating supervisory Organizations, creating sub ordinates, assign superior, Move workers, Creating Locations\\n\\n\\t\\tKnowledge on Workday Standard Reports and Custom Reports.\\n\\n\\t\\tKnowledge on Calculated Fields, System wide and Report Specific Fields.\\n\\n\\t\\tKnowledge on Staffing Models, Job profiles, Positions.\\n\\n\\t\\tKnowledge on security policies and security groups\\n\\n\\t\\tKnowledge on EIB integrations\\n\\n\\n\\n\\n\\n\\t Declaration:\\t\\n\\n\\n\\nI hereby declare that the information furnished above is true to the best of my Knowledge.\\n\\n\\n\\n     Yours faithfully\\n\\nJYOTI VERMA',\n",
       " 'JYOTI VERMA\\t\\t\\t\\t\\t\\n\\n\\n\\nPROFESSIONAL SUMMARY\\n\\nPROFESSIONAL SUMMARY\\n\\n\\n\\n\\n\\n\\t\\t3 years of Experience in Workday as Functional HCM Consultant.\\n\\n\\t\\tGood exposure in working on business improvements and process activities.\\n\\n\\t\\tExceptional ability in understanding the business needs and improving the process.\\n\\n\\t\\tExcellent communication skills and proven experience in working independently as well as in a team.\\n\\n\\t\\tInvolved in preparing business requirement documents and analysis of client functional requirements.\\n\\n\\t\\tExtensive knowledge on Complete Tenant configurations – (Supervisory Organizations, Roles, Business Processes)\\n\\n\\tExperience in performing HCM tasks like defining Job Profiles, position creations, employee hiring, transfers, promotions, demotions and terminations etc., as part of Workday Testing requirements.\\n\\n\\tConfiguration of Supervisory Organizations, Business Process.\\n\\n\\tExperience working on Workday HCM Global roll out and Support projects\\n\\n\\t\\tProficient in analyzing and translating business requirements to technical requirements and architectures.\\n\\n\\t\\tDay to day support of Workday HCM, reporting issues and implementing enhancements when needed.\\n\\n\\t\\tCreated Custom Reports and scheduled reports as requested by end-users.\\n\\n\\t\\tExposure on modifying/troubleshooting/enhancing existing custom reports using Calculated Fields.\\n\\n\\t\\tCreated and used calculated fields in reporting, business processes, and integrations within Workday.\\n\\n\\t\\tUnderstanding and careful analysis of the Internal HR team requirements.\\n\\n\\t\\tExposure on object management skills in Workday like configuring Supervisory/Matrix Organizations (Divide organizations, Inactivate Organizations, create subordinates).\\n\\n\\t\\tExperience in creating Job Profiles, Job Families and Job Family Groups, also worked with the creation and maintenance of position and job staffing models.\\n\\n\\t\\tExperience in maintenance and creation of Workday Supervisory Organizations, Locations, Positions, Cost centers, Cost Center hierarchies\\n\\n\\t\\tExcellent interpersonal skills with a strong desire to achieve specified goals.\\n\\n\\t\\tKnowledge on Compensation (salary plans based on different grades, grade profiles and allowances).\\n\\n\\n\\nQUALIFICATION:\\n\\nQUALIFICATION:\\n\\n\\n\\n\\t\\n\\n\\t\\n\\n\\tDegree/Exams\\n\\n\\tYear\\n\\n\\tInstitute/Board\\n\\n\\t%Percentage\\n\\n\\tB. E in MECHANICAL ENGINEERING\\t\\n\\n\\t2009\\n\\n\\tGOVT. ENGINEERING COLLEGE AJMER\\n\\n\\t65.68%\\n\\n12\\u200bth (R.B.S.E)\\n\\n\\t2004\\n\\n\\tALL SAINTS SR. SEC. SCHOOL,AJMER(RAJ)\\n\\n\\t58%\\n\\n10\\u200bth (R.B.S.E)\\n\\n\\t2002\\n\\n\\tALL SAINTS SR. SEC. SCHOOL AJMER(RAJ)\\n\\n\\t77%\\n\\n\\t\\n\\n\\n\\n\\t\\t\\n\\n\\n\\n\\n\\n\\n\\nEXPERIENCE DETAILS:\\n\\nEXPERIENCE DETAILS:\\n\\n\\n\\n\\t\\tCurrently working as a Workday HCM Functional Consultant in Icroz Solutions Pvt Ltd, Hyderabad from September 2018 to till date.\\n\\n\\t\\n\\n\\tYEAR\\n\\n\\tINDUSTRY\\n\\n\\tROLE\\n\\n\\t JAN2015 – OCT 2016\\n\\n\\tEDUCATION (JAIPUR ENGINEERING COLLEGE AND RESEARCH CENTRE)JAIPUR.\\n\\n\\tSenior Lecturer.\\n\\n\\tDomain\\n\\n\\tMechanical Deptt.\\n\\n\\t\\n\\n\\tYEAR\\n\\n\\tINDUSTRY\\n\\n\\tROLE\\n\\n\\tAug2012 – AUG 2014\\n\\n\\tEDUCATION(YAGVALKYA  INSTITUTE OF TECHNOLOGY)JAIPUR.\\n\\n\\tLecturer and counselor \\n\\n\\tDomain\\n\\n\\tMechanical Deptt.\\n\\n\\t\\n\\n\\tYEAR\\n\\n\\tINDUSTRY\\n\\n\\tROLE\\n\\n\\tMarch2011 – July2012\\n\\n\\tEDUCATION(Mayurakshi Institute Of Engineering &Technology)Jodhpur\\n\\n\\tLecturer\\n\\n\\tDomain\\n\\n\\tMechanical Deptt.\\n\\n\\t\\n\\n\\tYEAR\\n\\n\\tINDUSTRY\\n\\n\\tROLE\\n\\n\\tOct2009– Feb2011\\n\\n\\tReligare\\n\\n\\tMaintenance  Engineer\\n\\n\\tDomain\\n\\n\\tMechanical Deptt.\\n\\n\\t\\n\\n\\t\\t\\n\\n\\n\\nPROFESSIONAL EXPERIENCE:\\n\\nPROFESSIONAL EXPERIENCE:\\n\\n\\t\\tProject-1\\t:\\tSupport of Workday HCM\\n\\n\\t\\tClient\\t:\\tElectronic Arts\\n\\n\\t\\tRole\\t:\\tWorkday Consultant Duration\\t:\\tSept 2018 to Till Date\\n\\n\\n\\nROLES&RESPONSIBILITIES:\\n\\nROLES&RESPONSIBILITIES:\\n\\n\\n\\n\\t\\tWorked extensively on creating calculated fields and setting up validation rules to  accomplish the Client needs for BP Setup and Reporting needs.\\n\\n\\t\\tInvolved in setting up Eligibility Criteria, Workflows and Security Groups to support Business Processes for Core HR.\\n\\n\\t\\tExposure in developing Standard, Advanced, custom reports  and  thorough understanding  of Workday data sources and business objects.\\n\\n\\t\\tDay to day support of Workday HCM\\n\\n\\t\\tCreated Supervisory Organizations, Cost Centers, Cost Center Hierarchies, and location hierarchies and modification of Workday Business Processes and definitions.\\n\\n\\t\\tCreating and maintaining Workday Custom reports like Simple, Advance Reports.\\n\\n\\t\\tCreating supervisory Organizations, creating sub ordinates, assign superior, Move workers, Creating Locations\\n\\n\\t\\tKnowledge on Workday Standard Reports and Custom Reports.\\n\\n\\t\\tKnowledge on Calculated Fields, System wide and Report Specific Fields.\\n\\n\\t\\tKnowledge on Staffing Models, Job profiles, Positions.\\n\\n\\t\\tKnowledge on security policies and security groups\\n\\n\\t\\tKnowledge on EIB integrations\\n\\n\\n\\n\\n\\n\\t Declaration:\\t\\n\\n\\n\\nI hereby declare that the information furnished above is true to the best of my Knowledge.\\n\\n\\n\\n     Yours faithfully\\n\\nJYOTI VERMA',\n",
       " 'Mooraboyina Guravaiah\\n\\nWorkday Integration Specialist\\t\\t\\t\\t                            \\n\\n\\t\\n\\nCARRIER OBJECTIVE: \\n\\nMy intention at this step would be to learn new things related to my profession. As it is a    technical field, one has to be updated because the technology changes often. It is my         responsibility to learn and adopt the new technology. It would be profitable for me as well as for my company\\n\\n\\n\\nPROFESSIONAL SUMMARY\\n\\n\\n\\nHaving 5+ years of experience in the field of IT, in which 3+ years of experience in providing Workday Technical Development in Workday Support and Enhancement Project.  \\n\\n\\n\\nTechnically proficient in customizations, enhancements and Reports using various tools like Report writer, EIB, Core Connector and Studio.\\n\\n\\n\\nGood working knowledge on Inbound and Outbound EIB integration concepts and created various EIB integrations.\\n\\n\\n\\nBuilding Core Connector integrations for extracting worker, position, status, leave and absence delta changes.\\n\\n\\n\\nDesigned and built all types of integrations using Document Transformation, EIB, PICOF, Cloud Connectors and Custom Report Writer.\\xa0\\n\\n\\n\\nExperience with XML, XPATH and XSLT, and Expert in designing/development of Interfaces with legacy and third party systems.\\xa0\\n\\n\\n\\nHands-on experience In Migrating the XSLT Code, Reports from Lower tenet to Sandbox and Production using Object Transporter.\\n\\n\\n\\nExperienced in developing Custom Reports, Advanced Reports using Report writer\\n\\n\\n\\nStrong experience using technologies involving\\xa0Workday applications, reporting and analytics.\\xa0\\n\\n\\n\\nGood experience on create Report Groups and Workbooks to create Excel worksheet groups. And creating Dashboards.\\n\\n\\n\\nStrong Knowledge on working with CR-Change Requests as per business requirement and Building and moving changes to production.\\n\\n\\n\\nWorked closely with business and development teams, designed and documented\\xa0\\nenhancements as well as conducted production support troubleshooting around integrations for Global\\xa0Workday\\xa0HCM system.\\n\\n\\n\\nExcellent interpersonal, presentation and communication skills with the ability to work in a team and a stand-alone environment.\\xa0\\n\\n\\n\\nEDUCATION QUALIFICATION\\n\\n\\n\\nCompleted B.Sc (Bachelor of Science) from Nagarjuna University - 2013 \\n\\n\\n\\nTECHNICAL SKILLS:   \\n\\n\\n\\nTechnical Expertise\\t              :  \\tXML, XSLT, EIB, Core Connectors, \\n\\nFunctional Expertise\\t               :  \\tCore HCM\\n\\nReporting Tools\\t\\t:  \\tReport Writer, Crystal Reports11, XMLP\\n\\nTechnical Skills\\t\\t:  \\tEIB, Core Connector, DT and Studio\\n\\n\\n\\nWork Experience \\n\\n\\n\\nCurrently Working as Workday Consultant in Jade Global, Pune from May’2016 to Till Date \\n\\nProject Details \\n\\n\\n\\nJade Global, PUNE     ( Apr’2018 to Till Date)\\n\\nProject:                Workday Support and Enhancement \\n\\nDesignation:\\t Workday Consultant \\n\\nRESPONSIBILITIES\\n\\n\\n\\nInvolved in Workday HCM for various HR modules such as Benefits, Compensation, Time tracking and Absence Management.\\n\\n\\n\\nWorking on Calculated Fields to create Report level and Global calculated Fields.\\n\\n\\n\\nMonitor daily schedulers and report errors as needed.\\n\\n\\n\\nDesign and build integrations and worked closely with testing and production teams to solve issue with integrations.\\n\\n\\n\\nCreated Custom reports like Simple, Advanced Reports as per the client requirements and shared with the security groups.\\n\\n\\n\\nWorked on Calculated Fields to create Report level and Global cal Fields.\\n\\n\\n\\nGood experience with Core Connector worker to work on employee demographics and build Benefit integrations and Account provisioning integrations.\\n\\n\\n\\nCreated complex Inbound/Outbound integrations using workday studio, core/cloud connectors, using EIB’s, document transformation process.\\n\\n\\n\\nInvolved in unit test on Integrations, UAT support and end user training.\\n\\n\\n\\nDesign, build or maintain integrations of all types: reports, EIB, Core Connectors, payroll connectors, or Studio.\\n\\n\\n\\nWrite / modify Technical Design/ Specifications as needed\\n\\n\\n\\nParticipate in integration testing and peer testing.\\n\\n\\n\\nWork independently or with minimal supervision with various stakeholders including the functional consultants.\\n\\n\\n\\nMonitor and update ticketing tool on daily basis. Manage work activities and ticket volumes to meet required SLA’s and service delivery measures.\\n\\n\\n\\nDeveloped Core connector and Document Transformation integrations to get changes file of CSV format from XML Output.\\n\\n\\n\\nUsed sequence generators, generating templates and validating inbound integration system results.\\n\\n\\n\\nDay to day support for Workday HCM, Integrations and Reporting issues.\\n\\n\\n\\nTECHNICAL ENVIRONMENT: Workday 30/31/32/33/34, Workday studio, workday EIB, Workday BIRT, Core concepts, Document transformation, Calculated fields, Oxygen Editor, Workday report writer, XML, XSLT.\\n\\n\\n\\n\\n\\n2.  Jade Global, Pune    (May’16 to Mar’2018)\\n\\n     Project                  :      PeopleSoft Support and Enhancement \\n\\n     Designation         :\\tConsultant\\n\\n\\n\\nHave Customized and developed Application engines for loading bulk data from external systems.\\n\\n\\n\\nTrack and resolve user support issues with current system Maintain good working relationships with project team members, internal customers (e.g. AP,PO,BI and GL), and external service vendors\\n\\n\\n\\nHave designed technical documents and have worked towards development of interfaces and conversions based on design documents.\\n\\n\\n\\nModified, designed, configured and built fields, records, sub records, setting up keys to records, assign table edits like prompt table.\\n\\n\\n\\nInvolved in online changes to the delivered pages, components, menus and translate values.\\n\\n\\n\\nHave Customized and developed Application engines for loading bulk data from external systems.\\n\\n\\n\\nDeveloped and modified People Code to implement specific business rules and validations to enable the System to perform the business process.\\n\\n\\n\\nUsed File Layout Definition to get data from the legacy system to PeopleSoft tables.\\n\\n\\n\\nManaged and monitored process scheduler for any issues while scheduled interfaces/processes ran and resolved the issues\\n\\n\\n\\nDeveloped/Modified various PS queries in order to help the client day-to-day activity.\\n\\n\\n\\nInvolved in creating PS Query’s and sending it through email to different country FSCM heads.\\n\\n\\n\\nWorked on the reporting tools like PS Query, XML Publisher\\n\\n\\n\\nHave worked on File Layout, Application Engine, Component Interface, File layout, Excel to CI, XML Report\\n\\n\\n\\n\\t\\n\\n\\t\\n\\n\\t\\n\\n\\t\\n\\n\\t\\n\\n\\t\\n\\nPERSANAL DETAILS:\\n\\n\\t\\n\\n\\t\\tFather’s Name\\t         : Danaiah M\\n\\n\\t\\tDate of Birth\\t         : 15-02-1992\\n\\n\\t                     Gender                                 : Male\\n\\n                     Nationality                          : Indian \\n\\n                       Marital Status                   : Married\\n\\n\\n\\n\\n\\nDeclaration:  \\n\\n      I here by declare that all the information furnished is true to by best of my knowledge.\\n\\n\\n\\nPlace :\\n\\nDate  :                                                       \\n\\n                       \\t\\t\\t\\t\\t\\t\\t\\t\\t         (Guravaiah M)',\n",
       " 'Mooraboyina Guravaiah\\n\\nWorkday Integration Specialist\\t\\t\\t\\t                            \\n\\n\\t\\n\\nCARRIER OBJECTIVE: \\n\\nMy intention at this step would be to learn new things related to my profession. As it is a    technical field, one has to be updated because the technology changes often. It is my         responsibility to learn and adopt the new technology. It would be profitable for me as well as for my company\\n\\n\\n\\nPROFESSIONAL SUMMARY\\n\\n\\n\\nHaving 5+ years of experience in the field of IT, in which 3+ years of experience in providing Workday Technical Development in Workday Support and Enhancement Project.  \\n\\n\\n\\nTechnically proficient in customizations, enhancements and Reports using various tools like Report writer, EIB, Core Connector and Studio.\\n\\n\\n\\nGood working knowledge on Inbound and Outbound EIB integration concepts and created various EIB integrations.\\n\\n\\n\\nBuilding Core Connector integrations for extracting worker, position, status, leave and absence delta changes.\\n\\n\\n\\nDesigned and built all types of integrations using Document Transformation, EIB, PICOF, Cloud Connectors and Custom Report Writer.\\xa0\\n\\n\\n\\nExperience with XML, XPATH and XSLT, and Expert in designing/development of Interfaces with legacy and third party systems.\\xa0\\n\\n\\n\\nHands-on experience In Migrating the XSLT Code, Reports from Lower tenet to Sandbox and Production using Object Transporter.\\n\\n\\n\\nExperienced in developing Custom Reports, Advanced Reports using Report writer\\n\\n\\n\\nStrong experience using technologies involving\\xa0Workday applications, reporting and analytics.\\xa0\\n\\n\\n\\nGood experience on create Report Groups and Workbooks to create Excel worksheet groups. And creating Dashboards.\\n\\n\\n\\nStrong Knowledge on working with CR-Change Requests as per business requirement and Building and moving changes to production.\\n\\n\\n\\nWorked closely with business and development teams, designed and documented\\xa0\\nenhancements as well as conducted production support troubleshooting around integrations for Global\\xa0Workday\\xa0HCM system.\\n\\n\\n\\nExcellent interpersonal, presentation and communication skills with the ability to work in a team and a stand-alone environment.\\xa0\\n\\n\\n\\nEDUCATION QUALIFICATION\\n\\n\\n\\nCompleted B.Sc (Bachelor of Science) from Nagarjuna University - 2013 \\n\\n\\n\\nTECHNICAL SKILLS:   \\n\\n\\n\\nTechnical Expertise\\t              :  \\tXML, XSLT, EIB, Core Connectors, \\n\\nFunctional Expertise\\t               :  \\tCore HCM\\n\\nReporting Tools\\t\\t:  \\tReport Writer, Crystal Reports11, XMLP\\n\\nTechnical Skills\\t\\t:  \\tEIB, Core Connector, DT and Studio\\n\\n\\n\\nWork Experience \\n\\n\\n\\nCurrently Working as Workday Consultant in Jade Global, Pune from May’2016 to Till Date \\n\\nProject Details \\n\\n\\n\\nJade Global, PUNE     ( Apr’2018 to Till Date)\\n\\nProject:                Workday Support and Enhancement \\n\\nDesignation:\\t Workday Consultant \\n\\nRESPONSIBILITIES\\n\\n\\n\\nInvolved in Workday HCM for various HR modules such as Benefits, Compensation, Time tracking and Absence Management.\\n\\n\\n\\nWorking on Calculated Fields to create Report level and Global calculated Fields.\\n\\n\\n\\nMonitor daily schedulers and report errors as needed.\\n\\n\\n\\nDesign and build integrations and worked closely with testing and production teams to solve issue with integrations.\\n\\n\\n\\nCreated Custom reports like Simple, Advanced Reports as per the client requirements and shared with the security groups.\\n\\n\\n\\nWorked on Calculated Fields to create Report level and Global cal Fields.\\n\\n\\n\\nGood experience with Core Connector worker to work on employee demographics and build Benefit integrations and Account provisioning integrations.\\n\\n\\n\\nCreated complex Inbound/Outbound integrations using workday studio, core/cloud connectors, using EIB’s, document transformation process.\\n\\n\\n\\nInvolved in unit test on Integrations, UAT support and end user training.\\n\\n\\n\\nDesign, build or maintain integrations of all types: reports, EIB, Core Connectors, payroll connectors, or Studio.\\n\\n\\n\\nWrite / modify Technical Design/ Specifications as needed\\n\\n\\n\\nParticipate in integration testing and peer testing.\\n\\n\\n\\nWork independently or with minimal supervision with various stakeholders including the functional consultants.\\n\\n\\n\\nMonitor and update ticketing tool on daily basis. Manage work activities and ticket volumes to meet required SLA’s and service delivery measures.\\n\\n\\n\\nDeveloped Core connector and Document Transformation integrations to get changes file of CSV format from XML Output.\\n\\n\\n\\nUsed sequence generators, generating templates and validating inbound integration system results.\\n\\n\\n\\nDay to day support for Workday HCM, Integrations and Reporting issues.\\n\\n\\n\\nTECHNICAL ENVIRONMENT: Workday 30/31/32/33/34, Workday studio, workday EIB, Workday BIRT, Core concepts, Document transformation, Calculated fields, Oxygen Editor, Workday report writer, XML, XSLT.\\n\\n\\n\\n\\n\\n2.  Jade Global, Pune    (May’16 to Mar’2018)\\n\\n     Project                  :      PeopleSoft Support and Enhancement \\n\\n     Designation         :\\tConsultant\\n\\n\\n\\nHave Customized and developed Application engines for loading bulk data from external systems.\\n\\n\\n\\nTrack and resolve user support issues with current system Maintain good working relationships with project team members, internal customers (e.g. AP,PO,BI and GL), and external service vendors\\n\\n\\n\\nHave designed technical documents and have worked towards development of interfaces and conversions based on design documents.\\n\\n\\n\\nModified, designed, configured and built fields, records, sub records, setting up keys to records, assign table edits like prompt table.\\n\\n\\n\\nInvolved in online changes to the delivered pages, components, menus and translate values.\\n\\n\\n\\nHave Customized and developed Application engines for loading bulk data from external systems.\\n\\n\\n\\nDeveloped and modified People Code to implement specific business rules and validations to enable the System to perform the business process.\\n\\n\\n\\nUsed File Layout Definition to get data from the legacy system to PeopleSoft tables.\\n\\n\\n\\nManaged and monitored process scheduler for any issues while scheduled interfaces/processes ran and resolved the issues\\n\\n\\n\\nDeveloped/Modified various PS queries in order to help the client day-to-day activity.\\n\\n\\n\\nInvolved in creating PS Query’s and sending it through email to different country FSCM heads.\\n\\n\\n\\nWorked on the reporting tools like PS Query, XML Publisher\\n\\n\\n\\nHave worked on File Layout, Application Engine, Component Interface, File layout, Excel to CI, XML Report\\n\\n\\n\\n\\t\\n\\n\\t\\n\\n\\t\\n\\n\\t\\n\\n\\t\\n\\n\\t\\n\\nPERSANAL DETAILS:\\n\\n\\t\\n\\n\\t\\tFather’s Name\\t         : Danaiah M\\n\\n\\t\\tDate of Birth\\t         : 15-02-1992\\n\\n\\t                     Gender                                 : Male\\n\\n                     Nationality                          : Indian \\n\\n                       Marital Status                   : Married\\n\\n\\n\\n\\n\\nDeclaration:  \\n\\n      I here by declare that all the information furnished is true to by best of my knowledge.\\n\\n\\n\\nPlace :\\n\\nDate  :                                                       \\n\\n                       \\t\\t\\t\\t\\t\\t\\t\\t\\t         (Guravaiah M)',\n",
       " 'VENKATA SAIKRISHNA\\n\\n Workday Consultant\\n\\n\\n\\n\\n\\nPROFSSIONAL SUMMARY:\\n\\n\\t\\n\\nOver all 3 years of IT experience as a Workday Consultant.\\n\\nIntegral in maintenance and creation of Workday Supervisory Organizations, Business Process, Locations, Positions, Company, Cost centers, and Hierarchies.\\n\\nExperience in understanding the Client Business Requirements, Organizational Hierarchy Setup, Configurable Security Setup and Tenant Setup.\\n\\nWorked with different Staffing Models, defining Hire restrictions to Job Management, Position Management.\\n\\nHands on experience with Compensation Module like creating Compensation Grades, Compensation Eligibility Rules, Allowance Plans, Salary Plans, Hourly Plans.\\n\\nExperience in creating Job Profiles, Job Families, and Job Family Group.\\n\\nExperience with Workday security groups like Role based security, User based Security, Intersection, and Job based Security.\\n\\nExperience with creating Staffing models for Supervisory Orgs, Reorganizations and business process framework, Organization Types, Organization Hierarchies.\\n\\nStrong Experience with Workday Report Writer - Custom Reporting (Calculated Fields, Advanced, Standard Reports).\\n\\nHands on experience in inbound/ outbound integrations using EIB and core connectors.\\n\\nTroubleshooted day to day issues arising in Workday, reporting issues to identify and fix root causes.\\n\\n\\n\\nTECHNICAL SKILLS:\\n\\n\\n\\nERP Systems\\n\\nWorkday\\n\\nWorkday Modules\\n\\nCore HCM, Workday Reports\\n\\nWorkday Skills\\n\\nBusiness Processes, Notifications, Alerts, Security, Integrations-EIB, Core Connectors, Reports, Calculated Fields, Compensation,\\n\\nWindows\\n\\nWindows 7, Windows 8/8.1, Windows 10\\n\\n\\n\\nPROFESSIONAL EXPERIENCE:\\n\\n\\n\\nWorking as Workday Consultant in Value Momentum, from Aug-2018 to Till Date.\\n\\nRole: Workday Consultant\\n\\nResponsibilities:\\n\\nCreated Supervisory Organizations, Cost Centers, Cost Centre Hierarchies, and location hierarchies’ maintenance, Staffing Models, Job details Positions and Job Requisitions.\\n\\nSetup end to end recruiting process for clients from creating business processes like job application, Offer, Hire, and Onboarding, setup external career site, questionnaires, offer letters and review documents. \\n\\nStaffing Movements, An employee changes in position, inbound process and outbound process.\\n\\nTermination Process, initiate termination process, review termination process, to do tasks\\n\\nWorked on the creation of benefit plans, job profiles, and job families.\\n\\nConfigured Workday compensation packages including salary, bonus, allowance, commission, and compensation eligibility rules based on management levels, job profile, and job family.\\n\\nManaged job description and workflow of employee data for compensation module including job families, pay ranges and supervisor setup.\\n\\nSetup Merit plans including merit and bonus plan processing and created the business process for bonus plan, merit plan, salary plan and hourly plan.\\n\\nWorked on several calculated fields like look up related value, Evaluate Expression, True or false conditions, Arithmetic Calculation, formatting date fields etc... \\n\\nPerformed arithmetic calculation in Matrix report for counting, averaging, summing, ranging between maximum and minimum. \\n\\nWorked with Simple and Advanced Reports, defining columns, business objects, fields.\\n\\nSetup security groups, domain security policies and business process security policies.\\n\\nWorked with Business Process and configurations various business process on Compensation, Talent Management, Recruiting, Benefits. \\n\\nConfiguration of Workday’s business process framework configured conditional rules to guide workflow or validate data as required to accommodate desired outcomes.\\n\\nDeveloping the integrations using tool Enterprise Interface Builder (EIB), Core connector\\n\\nDesigned and built both inbound and outbound EIB in various segments of Workday system.\\n\\nEnvironment: EIB, Web services, Workday Report Writing, custom Reports, calculated fields, compensation, MS PowerPoint, MS Excel, Windows.\\n\\n\\n\\n\\n\\n\\n\\nEDUCATION:\\n\\nMBA in HR and Marketing from KL University in 2018.\\n\\n\\t\\t\\t\\t\\t\\t\\t\\t\\t\\n\\n\\n\\nDECLARATION:\\n\\n\\n\\nI do here by declare that all particulars mentioned above are true to the best of my knowledge.\\n\\n\\n\\n\\n\\n\\n\\n\\n\\n\\n\\n\\n\\n\\n\\n\\n\\n\\n\\nHyderabad',\n",
       " 'VENKATA SAIKRISHNA\\n\\n Workday Consultant\\n\\n\\n\\n\\n\\nPROFSSIONAL SUMMARY:\\n\\n\\t\\n\\nOver all 3 years of IT experience as a Workday Consultant.\\n\\nIntegral in maintenance and creation of Workday Supervisory Organizations, Business Process, Locations, Positions, Company, Cost centers, and Hierarchies.\\n\\nExperience in understanding the Client Business Requirements, Organizational Hierarchy Setup, Configurable Security Setup and Tenant Setup.\\n\\nWorked with different Staffing Models, defining Hire restrictions to Job Management, Position Management.\\n\\nHands on experience with Compensation Module like creating Compensation Grades, Compensation Eligibility Rules, Allowance Plans, Salary Plans, Hourly Plans.\\n\\nExperience in creating Job Profiles, Job Families, and Job Family Group.\\n\\nExperience with Workday security groups like Role based security, User based Security, Intersection, and Job based Security.\\n\\nExperience with creating Staffing models for Supervisory Orgs, Reorganizations and business process framework, Organization Types, Organization Hierarchies.\\n\\nStrong Experience with Workday Report Writer - Custom Reporting (Calculated Fields, Advanced, Standard Reports).\\n\\nHands on experience in inbound/ outbound integrations using EIB and core connectors.\\n\\nTroubleshooted day to day issues arising in Workday, reporting issues to identify and fix root causes.\\n\\n\\n\\nTECHNICAL SKILLS:\\n\\n\\n\\nERP Systems\\n\\nWorkday\\n\\nWorkday Modules\\n\\nCore HCM, Workday Reports\\n\\nWorkday Skills\\n\\nBusiness Processes, Notifications, Alerts, Security, Integrations-EIB, Core Connectors, Reports, Calculated Fields, Compensation,\\n\\nWindows\\n\\nWindows 7, Windows 8/8.1, Windows 10\\n\\n\\n\\nPROFESSIONAL EXPERIENCE:\\n\\n\\n\\nWorking as Workday Consultant in Value Momentum, from Aug-2018 to Till Date.\\n\\nRole: Workday Consultant\\n\\nResponsibilities:\\n\\nCreated Supervisory Organizations, Cost Centers, Cost Centre Hierarchies, and location hierarchies’ maintenance, Staffing Models, Job details Positions and Job Requisitions.\\n\\nSetup end to end recruiting process for clients from creating business processes like job application, Offer, Hire, and Onboarding, setup external career site, questionnaires, offer letters and review documents. \\n\\nStaffing Movements, An employee changes in position, inbound process and outbound process.\\n\\nTermination Process, initiate termination process, review termination process, to do tasks\\n\\nWorked on the creation of benefit plans, job profiles, and job families.\\n\\nConfigured Workday compensation packages including salary, bonus, allowance, commission, and compensation eligibility rules based on management levels, job profile, and job family.\\n\\nManaged job description and workflow of employee data for compensation module including job families, pay ranges and supervisor setup.\\n\\nSetup Merit plans including merit and bonus plan processing and created the business process for bonus plan, merit plan, salary plan and hourly plan.\\n\\nWorked on several calculated fields like look up related value, Evaluate Expression, True or false conditions, Arithmetic Calculation, formatting date fields etc... \\n\\nPerformed arithmetic calculation in Matrix report for counting, averaging, summing, ranging between maximum and minimum. \\n\\nWorked with Simple and Advanced Reports, defining columns, business objects, fields.\\n\\nSetup security groups, domain security policies and business process security policies.\\n\\nWorked with Business Process and configurations various business process on Compensation, Talent Management, Recruiting, Benefits. \\n\\nConfiguration of Workday’s business process framework configured conditional rules to guide workflow or validate data as required to accommodate desired outcomes.\\n\\nDeveloping the integrations using tool Enterprise Interface Builder (EIB), Core connector\\n\\nDesigned and built both inbound and outbound EIB in various segments of Workday system.\\n\\nEnvironment: EIB, Web services, Workday Report Writing, custom Reports, calculated fields, compensation, MS PowerPoint, MS Excel, Windows.\\n\\n\\n\\n\\n\\n\\n\\nEDUCATION:\\n\\nMBA in HR and Marketing from KL University in 2018.\\n\\n\\t\\t\\t\\t\\t\\t\\t\\t\\t\\n\\n\\n\\nDECLARATION:\\n\\n\\n\\nI do here by declare that all particulars mentioned above are true to the best of my knowledge.\\n\\n\\n\\n\\n\\n\\n\\n\\n\\n\\n\\n\\n\\n\\n\\n\\n\\n\\n\\nHyderabad',\n",
       " 'Workday HCM  Techno functional Consultant                       \\n\\nRahul  (Techno Functional Consultant)  \\n\\n\\tProfessional Summary\\t\\n\\nHaving Around 5+ years of experience in ERP Experience including 3 years in workday HCM and Expertise in Workday HCM , Benefits, Leave of Absence, Integration , Reporting , workday studio .\\n\\n\\tCore Qualifications & Skills\\t\\n\\nInvolved in Full life cycle Workday implementation experience from requirement gathering to post deployment product support for HCM modules as well as various integrations in workday.\\n\\nHands on configuring the Various Core HCM, Benefits ,Recruiting, Payroll ,Talent Modules .\\n\\nExpertise in Report writer, EIB, PICOF, DT, Workday Studio, CCW,CCB,BIRT, Calc Fields. \\n\\nExpertise in Payroll integrations from workday to ADP , PS, by using PICOF and PECI .\\n\\nDeveloped and maintained custom-report types (Advanced, Matrix) using report writer tool.\\n\\nHands on experience in creating BIRT layouts using Report Designer, for Using Report Designer.\\n\\nInvolved in transformation of XML into XSLT for presenting data for different web Services.\\n\\nExpertise In Workday Security, leave absence, recruiting and Configuring the Befit 401 Plan etc.\\n\\nGood Knowledge  Creating leave families , Leave types , and absence condition rules in Module.\\n\\nExperience in inbound/outbound integration using EIB, CCW/CCB, Report Writing, creating Workday Cal fields, Custom report, (Matrix, Composite, trending, Advanced) BIRT tool .\\n\\nConfigured the custom Dashboard and Created Reports and added to the various dash boards.\\n\\nConfigured BP for leave of absence , Recuring , core HCM, written condition rules for steps etc.\\n\\nExpertise in building EIBs (Enterprise Interface Builder) integration within WD for sending Data\\n\\nPrioritizing, reproducing, and verifying bug fixes in different Workday integrations, reports BP’s.\\n\\nAbility to work creatively , analytically in a problem-solving workday Production environment,\\n\\nInteraction with all work streams including functional, conversion and project management.\\n\\nExpertise in developing Payroll interfaces using PICOF/ PECI with the help of Workday Studio and Document Transformation to  meet client’s complex payroll requirements using DT, Studio.\\n\\nExperience in understanding and gathering the business requirements, translating Functional\\n\\nspecifications and develop code along with detailed design, Performed UTP test cases in wd.\\n\\nExcellent client interaction skills and experience in working independently as well as in a team.\\n\\nDeveloped Several Complex Integrations using Workday Studio and EIB CCW, PICOF, DT.\\n\\nHave good knowledge ETV/XTT functions in Document transformation for validating the data.\\n\\nHaving knowledge in XML, WD-SOAP Web Service, and WD- REST Web Service and\\n\\nExperienced in  using such as Soap UI , Postman , XML Exchanger tools for testing API call .\\n\\nExperience on getting requirement from the client and handing sharing the work across team.\\n\\nHands on experience in creating New security groups,  or updating security groups with various domains , security polices, activating security policies and identifying the security Objects .\\n\\nProfessional Experience\\n\\nWorking As software Engineer in  Infosys  From Jun 2016 – Till date.\\n\\n\\n\\n\\n\\nTechnical- Skills.\\n\\n\\n\\nWorkday Skills\\n\\nWorkday HCM, Workday Advanced Report Writer, Core connectors PICOF, Document Transformation and Workday Studio, EIB, Workday Web Services, Business Process, Security ,BIRT, Absence, Talent.\\n\\nProgramming Languages\\n\\nXML, XSLT, X-Path\\n\\nWeb Technologies\\n\\nSOAP, XML, XSD, Web Services (WSDL & SOAP), XSLT.\\n\\nOperating Systems\\n\\nWindows XP/Vista/Windows7/8\\n\\n\\n\\nEducation Details:\\n\\nCompleted B-Tech from JNTU Anantapur 2016  with 70 %.\\n\\nProject Profile:-\\n\\nProject-2\\t   :   Implementation & Support  workday HCM\\n\\nClient\\t                 :  CDK Global .\\n\\nRole\\t\\t   :  Workday Techno Functional Consultant.\\n\\n\\n\\nDescription: CDK Global is the largest global provider of integrated information technology and digital marketing solutions to automotive dealerships and manufacturers in more than 100 countries worldwide for the world’s biggest car brands Although we operate on a global scale we are small by comparison and that is a good thing It means that we are still a business where every person matters and where anyone can make an impact on our growth and success We have opportunities in a wide range of business areas so wherever in the world you join us you will get the support training and tools you need to make significant\\n\\n\\n\\nRole and Responsibilities:\\n\\nUnderstanding the Business Requirements by studying the Functional Documents.\\n\\nModified the XSLT code as per CR-request and adding the new XSLT for Different info types. \\n\\nCreate the new WD studio programs to sending AI-Statement to worker documents using BIRT.\\n\\nCreating the custom reports as per the client requirement and preparing the UTP documents.\\n\\nCreated Workday Studio programs to load compensation data from ADP to workday.\\n\\nCreated EIB Inbound Integrations for loading the employees personal Information like, Emergency contacts, , One-time payments, Bank account information, cost center information.\\n\\nCreated EIB Integrations, written XSLT code and sending data from WD to downstream systems.\\n\\nHands-on experience in creating the calculated fields using different functions complete logics. \\n\\nSupporting the Different teams in UAT phase as with test factory teams during integration testing.\\n\\nInvolved in calls with client and update the work status as well as clarifications if any.\\n\\nHandled Workday Service Upgrade Testing (WD29, WD30) for all the existing integrations\\n\\nResponsible for supporting the new change requests and enhancements in the project.\\n\\nCreated calculated fields and worked on simple and advanced, matrix , Trending  reports.\\n\\nWorked on integrations systems (EIB’s, Core Connectors, PICOF.DT, Workday Studio).\\n\\nDay to day support of workday integrations, security, Business Process, and reporting issues.\\n\\nCoordinated with Onshore on requirements gathering, implementation, testing and enhancement of Integration, reports , business Process, EIB,BIRT and  workday studio integrations .\\n\\nConfigured various business processes and created notifications to integrations, Reports etc.\\n\\nDesign of web services to send/receive between Workday and Third-party system using API call .\\n\\nDeveloped analytics dashboards , data sources to provide actionable reporting  analytics.\\n\\nDeployed workday objects using Solutions from implementation to UAT, production tenants by following the change management process, solving the migration issues by using OX.\\n\\nConfigured Leave family, leave type, Absence rules for countries as per business requirements\\n\\nInvolved in Workday version upgrade testing and Scheduling and Monitoring Integrations.\\n\\nExpertise in developing Payroll interfaces using PICOF, PECI with the help of Workday Studio and DT to meet client’s complex payroll requirements sending to Diff payroll Vendors.\\n\\nExperienced in analyzing and preparing Project Deliverables Technical Design Document (TDD).\\n\\nHands-on experience In Migrating the XSLT Code, Reports from Lower tenet to Sandbox and Production using Object Transporter. \\n\\nCreated the new outbound integrations to sending the time off corrections Information from workday to ADP payroll system.\\n\\nProject-2\\t   :   Implementation & Support  workday HCM\\n\\nClient\\t                 :  CDK Global .\\n\\nRole\\t\\t   :  Workday  PS  Consultant.\\n\\n\\n\\nDescription: CDK Global is the largest global provider of integrated information technology and digital marketing solutions to automotive dealerships and manufacturers in more than 100 countries worldwide for the world’s biggest car brands Although we operate on a global scale we are small by comparison and that is a good thing It means that we are still a business where every person matters and where anyone can make an impact on our growth and success We have opportunities in a wide range of business areas so wherever in the world you join us you will get the support training and tools you need to make significant\\n\\n\\n\\n      Role and Responsibilities:\\n\\nResponsible for various customizations of fields, records, pages, components and menus as per the client requirements by using Application Designer\\n\\nCustomized JOB DATA component to accommodate few more fields which are using as inputs for other systems and worked on APP engine, SQER, PS query, component Interface .\\n\\nCreated CI with AE to import the JOB Requisitions data into PeopleSoft system from file and performed some validations before inserting to PS system.\\n\\nWas involved in functionality of sending Emails notifications through users with help of Send Mail Function.\\n\\nUsed Process Scheduler to run scheduled process at a specific time and/or run recursively at a specific interval and used process Monitor to view status of the process.\\n\\nCreating new application engine program for sending employees data to third party system.\\n\\nGenerating the Relocation Letters As per HR request and sending to the Daily Process Report to the client.\\n\\nDeveloped People Code to implement specific business rules and validations to enable the system to perform the business process.',\n",
       " 'Ramesh A\\t\\t\\t\\t\\t\\t\\t\\t\\t\\t\\t\\t\\t\\t\\t\\t\\t\\t\\t\\n\\n\\t\\t(Workday HCM Consultant)\\n\\n\\n\\n\\n\\nPROFESSIONAL SUMMARY:\\n\\nAn ERP Consultant with overall\\xa05+ years\\xa0of professional IT experience with\\xa03+ years\\xa0of extensive\\xa0Workday experience.\\n\\nExceptional experience in Workday’s\\xa0Core HR, Staffing and Compensation Functional areas.\\n\\nHands on experience in Configuring Organizations, Business process and creation of Custom Reports.\\n\\nExperienced on Compensation elements configurations and updates.\\n\\nInvolved in requirements analysis, integrations, testing and system documentation support.\\n\\nCreation of various\\xa0calculated fields\\xa0to use in custom reports.\\n\\nConfiguring\\xa0EIB Inbound and Load data into workday with webservices.\\n\\nCreation of various custom reports as per the requirements.\\n\\nWorking on various enhancements related to EIB Integrations, Custom Reports and Configuration changes.\\n\\nExperience with creating\\xa0Staffing models for Supervisory Orgs, Reorganizations and business process framework, Organization Types, Organization Hierarchies.\\n\\nGood experienced in developing technical solutions for the Workday platform using\\xa0EIB and Web Services.\\n\\nWorkday training includes Fundamentals, Simple Inbound Integrations, Business Processes, Calculated Fields, Report Writer, and Security Fundamentals.\\n\\nExperience in writing SQL queries and have exposure to different databases, includes SQL Server.\\n\\nPossess Good communication skills, keen to adapt to new technologies and effective Team Player. \\n\\n\\n\\nTECHNICAL SKILLS:\\n\\n\\n\\nWorkday Functional Areas\\n\\nWorkday HCM, Staffing and Compensation\\n\\n\\tWorkday Integration Inbounds\\n\\nEIB\\n\\n\\tWorkday Other Skills\\n\\nBusiness Process, Calculated Fields and Report Writer\\n\\n\\tWorkday Security\\n\\nDomain security for functional area and Business process, Security groups (Constrained and Unconstrained)\\n\\n\\n\\nEDUCATION:\\n\\nBachelor of Technology: Mechanical Engineering from Jawaharlal Nehru Technological University – Kakinada.\\n\\n\\tPROFESSIONAL EXPERIENCE:\\n\\nTata Consultancy Services  \\t\\t\\t \\n\\nProject: Support/Enhancement of Workday HCM\\t                               \\t\\t\\t      (May’ 19 – Till date) \\n\\nAIMS Community College, USA\\n\\nWorkday HCM Functional Consultant\\n\\n\\t\\n\\nRoles and Responsibilities:\\n\\nResponsible to work on workday application incidents raised by business end users.\\n\\nTroubleshoot the issue to find the root cause of the incident and provide them a solution.\\n\\nWritten custom validations on business process object as per business requirement.\\n\\nModified Business process as add/remove steps from the existing configurations.\\n\\nChanged the security groups on business process security policy functional areas.\\n\\nModified step condition rules for existing business processes.\\n\\nDeveloped custom Integrations to update Compensation Eligibility rules, Grade and Grade profiles.\\n\\nDeveloped Inbound integrations to load job profile and matrix organization per business requirement.\\n\\nClarify the end user queries and guide new users about workday system functionality.\\n\\nCommunicate end users for better understand of the case and update the status of incident.\\n\\nResponsible to Loaded new set of setup data through EIB.\\n\\nCreate and modify condition rules as per new business policy changes.\\n\\nConfigured new work schedules as requested by the business operations user.\\n\\n\\n\\n\\n\\n\\t\\t\\t\\t\\t\\t\\t\\t\\t\\t\\t\\t\\tProject: Support of Workday HCM                       \\t\\t\\t\\t\\t(Nov’17 – May’ 19)\\n\\n\\t\\t\\t\\t\\t\\t\\t\\t\\t\\t\\t\\t\\tSafeway, Phoenix, AZ       \\t\\t\\t\\t\\t\\t\\n\\nWorkday Reports Developer.\\n\\n\\t\\n\\nRoles and Responsibilities:\\n\\n\\t\\t\\t\\t\\t\\t\\t\\t\\t\\t\\t\\t\\tWorked on Reports to create custom reports using\\xa0Workday\\xa0Report Writer to meet the business needs of HR application report consumer groups.\\xa0\\n\\n\\t\\t\\t\\t\\t\\t\\t\\t\\t\\t\\t\\t\\tGenerate different kinds of\\xa0reports\\xa0- Simple, Advanced and Matrix\\xa0reports\\xa0to meet client requirements within the\\xa0workday\\xa0tenant. \\n\\n\\t\\t\\t\\t\\t\\t\\t\\t\\t\\t\\t\\t\\tCreate calculated fields for Custom\\xa0Reports\\xa0to ensure required report delivery.\\xa0\\n\\nDeveloped advanced custom reports, composite reports and matrix reports in Workday and test developed reports.\\n\\nDesignedand built both inbound and outbound EIB integrations in various segments of Workday system.\\n\\n\\t\\t\\t\\t\\t\\t\\t\\t\\t\\t\\t\\t\\t\\t\\t\\tCreated Organizations (Locations, Supervisory Orgs, Business Units, Cost Centers, Custom orgs, Organization Hierarchy (Location Hierarchy).\\n\\nCreate reports by using appropriate data source and business objects to deliver output for end users.\\n\\n\\t\\t\\t\\t\\t\\t\\t\\t\\t\\t\\t\\t\\t\\t\\t\\tCreated report on Employee Convert to Contract to full time Employee List.\\n\\n\\t\\t\\t\\t\\t\\t\\t\\t\\t\\t\\t\\t\\t\\t\\t\\tCreated report on Contingent workers, converting the contingent workers into employees.\\n\\nExtensively worked on Workday application in creating\\xa0reports, calculated fields, basic integrations using EIB, data conversion and Migrations.\\n\\nDeveloped custom reports for the hcm modules like Core HR.\\n\\n\\t\\t\\t\\t\\t\\t\\t\\t\\t\\t\\t\\t\\tUsed Report Writer to create new Custom reports with appropriate Data Sources, Objects and Fields\\n\\n\\t\\t\\t\\t\\t\\t\\t\\t\\t\\t\\t\\t\\tSupported Customer resources in development and troubleshooting of reports and integrations.\\n\\n\\n\\n\\t\\t\\t\\t\\t\\t\\t\\t\\t\\t\\t\\t\\t\\n\\n\\t\\t\\t\\t\\t\\t\\t\\t\\t\\t\\t\\t\\tProject: Support of PeopleSoft HCM\\t\\t\\t\\t\\t\\t\\t(April’16 – Oct’17)\\n\\n\\t\\t\\t\\t\\t\\t\\t\\t\\t\\t\\t\\t\\tAmdocs\\n\\nPeopleSoft Developer\\n\\n\\n\\nResponsibilities:\\n\\nAnalyzed the requirement documents to understand the customer business requirement.\\n\\nCustomized system applications and designed many applications as scratch.\\n\\nWork with incident request raised at user end.\\n\\nInteract with onsite team to know status of project on daily basis.\\n\\nResponsible to work on support issues.\\n\\nConsulting with the Solution Architect on business prospective implementation workflow.\\n\\nCollaborating with overseas team-mates on daily/weekly discussions.\\n\\nAnalyzing the issues and providing resolutions reported by users\\n\\nWorking on Incidents, Service Request and EWO’s (Enhancement Work Orders).\\n\\nDeveloped custom advanced custom reports, calculated fields, complex xslt logic \\n\\nCoordinate with other team members for defect deliveries and production support activities.\\n\\nConduct knowledge sharing sessions to newly joined team members.',\n",
       " 'Ramesh A\\t\\t\\t\\t\\t\\t\\t\\t\\t\\t\\t\\t\\t\\t\\t\\t\\t\\t\\t\\n\\n\\t\\t(Workday HCM Consultant)\\n\\n\\n\\n\\n\\nPROFESSIONAL SUMMARY:\\n\\nAn ERP Consultant with overall\\xa05+ years\\xa0of professional IT experience with\\xa03+ years\\xa0of extensive\\xa0Workday experience.\\n\\nExceptional experience in Workday’s\\xa0Core HR, Staffing and Compensation Functional areas.\\n\\nHands on experience in Configuring Organizations, Business process and creation of Custom Reports.\\n\\nExperienced on Compensation elements configurations and updates.\\n\\nInvolved in requirements analysis, integrations, testing and system documentation support.\\n\\nCreation of various\\xa0calculated fields\\xa0to use in custom reports.\\n\\nConfiguring\\xa0EIB Inbound and Load data into workday with webservices.\\n\\nCreation of various custom reports as per the requirements.\\n\\nWorking on various enhancements related to EIB Integrations, Custom Reports and Configuration changes.\\n\\nExperience with creating\\xa0Staffing models for Supervisory Orgs, Reorganizations and business process framework, Organization Types, Organization Hierarchies.\\n\\nGood experienced in developing technical solutions for the Workday platform using\\xa0EIB and Web Services.\\n\\nWorkday training includes Fundamentals, Simple Inbound Integrations, Business Processes, Calculated Fields, Report Writer, and Security Fundamentals.\\n\\nExperience in writing SQL queries and have exposure to different databases, includes SQL Server.\\n\\nPossess Good communication skills, keen to adapt to new technologies and effective Team Player. \\n\\n\\n\\nTECHNICAL SKILLS:\\n\\n\\n\\nWorkday Functional Areas\\n\\nWorkday HCM, Staffing and Compensation\\n\\n\\tWorkday Integration Inbounds\\n\\nEIB\\n\\n\\tWorkday Other Skills\\n\\nBusiness Process, Calculated Fields and Report Writer\\n\\n\\tWorkday Security\\n\\nDomain security for functional area and Business process, Security groups (Constrained and Unconstrained)\\n\\n\\n\\nEDUCATION:\\n\\nBachelor of Technology: Mechanical Engineering from Jawaharlal Nehru Technological University – Kakinada.\\n\\n\\tPROFESSIONAL EXPERIENCE:\\n\\nTata Consultancy Services  \\t\\t\\t \\n\\nProject: Support/Enhancement of Workday HCM\\t                               \\t\\t\\t      (May’ 19 – Till date) \\n\\nAIMS Community College, USA\\n\\nWorkday HCM Functional Consultant\\n\\n\\t\\n\\nRoles and Responsibilities:\\n\\nResponsible to work on workday application incidents raised by business end users.\\n\\nTroubleshoot the issue to find the root cause of the incident and provide them a solution.\\n\\nWritten custom validations on business process object as per business requirement.\\n\\nModified Business process as add/remove steps from the existing configurations.\\n\\nChanged the security groups on business process security policy functional areas.\\n\\nModified step condition rules for existing business processes.\\n\\nDeveloped custom Integrations to update Compensation Eligibility rules, Grade and Grade profiles.\\n\\nDeveloped Inbound integrations to load job profile and matrix organization per business requirement.\\n\\nClarify the end user queries and guide new users about workday system functionality.\\n\\nCommunicate end users for better understand of the case and update the status of incident.\\n\\nResponsible to Loaded new set of setup data through EIB.\\n\\nCreate and modify condition rules as per new business policy changes.\\n\\nConfigured new work schedules as requested by the business operations user.\\n\\n\\n\\n\\n\\n\\t\\t\\t\\t\\t\\t\\t\\t\\t\\t\\t\\t\\tProject: Support of Workday HCM                       \\t\\t\\t\\t\\t(Nov’17 – May’ 19)\\n\\n\\t\\t\\t\\t\\t\\t\\t\\t\\t\\t\\t\\t\\tSafeway, Phoenix, AZ       \\t\\t\\t\\t\\t\\t\\n\\nWorkday Reports Developer.\\n\\n\\t\\n\\nRoles and Responsibilities:\\n\\n\\t\\t\\t\\t\\t\\t\\t\\t\\t\\t\\t\\t\\tWorked on Reports to create custom reports using\\xa0Workday\\xa0Report Writer to meet the business needs of HR application report consumer groups.\\xa0\\n\\n\\t\\t\\t\\t\\t\\t\\t\\t\\t\\t\\t\\t\\tGenerate different kinds of\\xa0reports\\xa0- Simple, Advanced and Matrix\\xa0reports\\xa0to meet client requirements within the\\xa0workday\\xa0tenant. \\n\\n\\t\\t\\t\\t\\t\\t\\t\\t\\t\\t\\t\\t\\tCreate calculated fields for Custom\\xa0Reports\\xa0to ensure required report delivery.\\xa0\\n\\nDeveloped advanced custom reports, composite reports and matrix reports in Workday and test developed reports.\\n\\nDesignedand built both inbound and outbound EIB integrations in various segments of Workday system.\\n\\n\\t\\t\\t\\t\\t\\t\\t\\t\\t\\t\\t\\t\\t\\t\\t\\tCreated Organizations (Locations, Supervisory Orgs, Business Units, Cost Centers, Custom orgs, Organization Hierarchy (Location Hierarchy).\\n\\nCreate reports by using appropriate data source and business objects to deliver output for end users.\\n\\n\\t\\t\\t\\t\\t\\t\\t\\t\\t\\t\\t\\t\\t\\t\\t\\tCreated report on Employee Convert to Contract to full time Employee List.\\n\\n\\t\\t\\t\\t\\t\\t\\t\\t\\t\\t\\t\\t\\t\\t\\t\\tCreated report on Contingent workers, converting the contingent workers into employees.\\n\\nExtensively worked on Workday application in creating\\xa0reports, calculated fields, basic integrations using EIB, data conversion and Migrations.\\n\\nDeveloped custom reports for the hcm modules like Core HR.\\n\\n\\t\\t\\t\\t\\t\\t\\t\\t\\t\\t\\t\\t\\tUsed Report Writer to create new Custom reports with appropriate Data Sources, Objects and Fields\\n\\n\\t\\t\\t\\t\\t\\t\\t\\t\\t\\t\\t\\t\\tSupported Customer resources in development and troubleshooting of reports and integrations.\\n\\n\\n\\n\\t\\t\\t\\t\\t\\t\\t\\t\\t\\t\\t\\t\\t\\n\\n\\t\\t\\t\\t\\t\\t\\t\\t\\t\\t\\t\\t\\tProject: Support of PeopleSoft HCM\\t\\t\\t\\t\\t\\t\\t(April’16 – Oct’17)\\n\\n\\t\\t\\t\\t\\t\\t\\t\\t\\t\\t\\t\\t\\tAmdocs\\n\\nPeopleSoft Developer\\n\\n\\n\\nResponsibilities:\\n\\nAnalyzed the requirement documents to understand the customer business requirement.\\n\\nCustomized system applications and designed many applications as scratch.\\n\\nWork with incident request raised at user end.\\n\\nInteract with onsite team to know status of project on daily basis.\\n\\nResponsible to work on support issues.\\n\\nConsulting with the Solution Architect on business prospective implementation workflow.\\n\\nCollaborating with overseas team-mates on daily/weekly discussions.\\n\\nAnalyzing the issues and providing resolutions reported by users\\n\\nWorking on Incidents, Service Request and EWO’s (Enhancement Work Orders).\\n\\nDeveloped custom advanced custom reports, calculated fields, complex xslt logic \\n\\nCoordinate with other team members for defect deliveries and production support activities.\\n\\nConduct knowledge sharing sessions to newly joined team members.',\n",
       " 'Ramesh A\\t\\t\\t\\t\\t\\t\\t\\t\\t\\t\\t\\t\\t\\t\\t\\t\\t\\t\\t\\n\\n\\t\\t(Workday HCM Consultant)\\n\\n\\n\\n\\n\\nPROFESSIONAL SUMMARY:\\n\\nAn ERP Consultant with overall\\xa05+ years\\xa0of professional IT experience with\\xa03+ years\\xa0of extensive\\xa0Workday experience.\\n\\nExceptional experience in Workday’s\\xa0Core HR, Staffing and Compensation Functional areas.\\n\\nHands on experience in Configuring Organizations, Business process and creation of Custom Reports.\\n\\nExperienced on Compensation elements configurations and updates.\\n\\nInvolved in requirements analysis, integrations, testing and system documentation support.\\n\\nCreation of various\\xa0calculated fields\\xa0to use in custom reports.\\n\\nConfiguring\\xa0EIB Inbound and Load data into workday with webservices.\\n\\nCreation of various custom reports as per the requirements.\\n\\nWorking on various enhancements related to EIB Integrations, Custom Reports and Configuration changes.\\n\\nExperience with creating\\xa0Staffing models for Supervisory Orgs, Reorganizations and business process framework, Organization Types, Organization Hierarchies.\\n\\nGood experienced in developing technical solutions for the Workday platform using\\xa0EIB and Web Services.\\n\\nWorkday training includes Fundamentals, Simple Inbound Integrations, Business Processes, Calculated Fields, Report Writer, and Security Fundamentals.\\n\\nExperience in writing SQL queries and have exposure to different databases, includes SQL Server.\\n\\nPossess Good communication skills, keen to adapt to new technologies and effective Team Player. \\n\\n\\n\\nTECHNICAL SKILLS:\\n\\n\\n\\nWorkday Functional Areas\\n\\nWorkday HCM, Staffing and Compensation\\n\\n\\tWorkday Integration Inbounds\\n\\nEIB\\n\\n\\tWorkday Other Skills\\n\\nBusiness Process, Calculated Fields and Report Writer\\n\\n\\tWorkday Security\\n\\nDomain security for functional area and Business process, Security groups (Constrained and Unconstrained)\\n\\n\\n\\nEDUCATION:\\n\\nBachelor of Technology: Mechanical Engineering from Jawaharlal Nehru Technological University – Kakinada.\\n\\n\\tPROFESSIONAL EXPERIENCE:\\n\\nTata Consultancy Services  \\t\\t\\t \\n\\nProject: Support/Enhancement of Workday HCM\\t                               \\t\\t\\t      (May’ 19 – Till date) \\n\\nAIMS Community College, USA\\n\\nWorkday HCM Functional Consultant\\n\\n\\t\\n\\nRoles and Responsibilities:\\n\\nResponsible to work on workday application incidents raised by business end users.\\n\\nTroubleshoot the issue to find the root cause of the incident and provide them a solution.\\n\\nWritten custom validations on business process object as per business requirement.\\n\\nModified Business process as add/remove steps from the existing configurations.\\n\\nChanged the security groups on business process security policy functional areas.\\n\\nModified step condition rules for existing business processes.\\n\\nDeveloped custom Integrations to update Compensation Eligibility rules, Grade and Grade profiles.\\n\\nDeveloped Inbound integrations to load job profile and matrix organization per business requirement.\\n\\nClarify the end user queries and guide new users about workday system functionality.\\n\\nCommunicate end users for better understand of the case and update the status of incident.\\n\\nResponsible to Loaded new set of setup data through EIB.\\n\\nCreate and modify condition rules as per new business policy changes.\\n\\nConfigured new work schedules as requested by the business operations user.\\n\\n\\n\\n\\n\\n\\t\\t\\t\\t\\t\\t\\t\\t\\t\\t\\t\\t\\tProject: Support of Workday HCM                       \\t\\t\\t\\t\\t(Nov’17 – May’ 19)\\n\\n\\t\\t\\t\\t\\t\\t\\t\\t\\t\\t\\t\\t\\tSafeway, Phoenix, AZ       \\t\\t\\t\\t\\t\\t\\n\\nWorkday Reports Developer.\\n\\n\\t\\n\\nRoles and Responsibilities:\\n\\n\\t\\t\\t\\t\\t\\t\\t\\t\\t\\t\\t\\t\\tWorked on Reports to create custom reports using\\xa0Workday\\xa0Report Writer to meet the business needs of HR application report consumer groups.\\xa0\\n\\n\\t\\t\\t\\t\\t\\t\\t\\t\\t\\t\\t\\t\\tGenerate different kinds of\\xa0reports\\xa0- Simple, Advanced and Matrix\\xa0reports\\xa0to meet client requirements within the\\xa0workday\\xa0tenant. \\n\\n\\t\\t\\t\\t\\t\\t\\t\\t\\t\\t\\t\\t\\tCreate calculated fields for Custom\\xa0Reports\\xa0to ensure required report delivery.\\xa0\\n\\nDeveloped advanced custom reports, composite reports and matrix reports in Workday and test developed reports.\\n\\nDesignedand built both inbound and outbound EIB integrations in various segments of Workday system.\\n\\n\\t\\t\\t\\t\\t\\t\\t\\t\\t\\t\\t\\t\\t\\t\\t\\tCreated Organizations (Locations, Supervisory Orgs, Business Units, Cost Centers, Custom orgs, Organization Hierarchy (Location Hierarchy).\\n\\nCreate reports by using appropriate data source and business objects to deliver output for end users.\\n\\n\\t\\t\\t\\t\\t\\t\\t\\t\\t\\t\\t\\t\\t\\t\\t\\tCreated report on Employee Convert to Contract to full time Employee List.\\n\\n\\t\\t\\t\\t\\t\\t\\t\\t\\t\\t\\t\\t\\t\\t\\t\\tCreated report on Contingent workers, converting the contingent workers into employees.\\n\\nExtensively worked on Workday application in creating\\xa0reports, calculated fields, basic integrations using EIB, data conversion and Migrations.\\n\\nDeveloped custom reports for the hcm modules like Core HR.\\n\\n\\t\\t\\t\\t\\t\\t\\t\\t\\t\\t\\t\\t\\tUsed Report Writer to create new Custom reports with appropriate Data Sources, Objects and Fields\\n\\n\\t\\t\\t\\t\\t\\t\\t\\t\\t\\t\\t\\t\\tSupported Customer resources in development and troubleshooting of reports and integrations.\\n\\n\\n\\n\\t\\t\\t\\t\\t\\t\\t\\t\\t\\t\\t\\t\\t\\n\\n\\t\\t\\t\\t\\t\\t\\t\\t\\t\\t\\t\\t\\tProject: Support of PeopleSoft HCM\\t\\t\\t\\t\\t\\t\\t(April’16 – Oct’17)\\n\\n\\t\\t\\t\\t\\t\\t\\t\\t\\t\\t\\t\\t\\tAmdocs\\n\\nPeopleSoft Developer\\n\\n\\n\\nResponsibilities:\\n\\nAnalyzed the requirement documents to understand the customer business requirement.\\n\\nCustomized system applications and designed many applications as scratch.\\n\\nWork with incident request raised at user end.\\n\\nInteract with onsite team to know status of project on daily basis.\\n\\nResponsible to work on support issues.\\n\\nConsulting with the Solution Architect on business prospective implementation workflow.\\n\\nCollaborating with overseas team-mates on daily/weekly discussions.\\n\\nAnalyzing the issues and providing resolutions reported by users\\n\\nWorking on Incidents, Service Request and EWO’s (Enhancement Work Orders).\\n\\nDeveloped custom advanced custom reports, calculated fields, complex xslt logic \\n\\nCoordinate with other team members for defect deliveries and production support activities.\\n\\nConduct knowledge sharing sessions to newly joined team members.',\n",
       " 'Srikanth (WORKDAY hCM Consultant)\\t                          \\n\\n\\t\\t\\t\\t\\t                         \\t\\n\\n\\t\\t\\t\\t\\n\\nSeeking suitable positions in Workday HCM  as Techno functional consultant with a reputed organization that would help me utilize my skills and grow as an individual to deliver more for the organization’s growth.                                                                                  \\t\\t\\t                     \\n\\n\\tPROFESSIONAL EXPERIENCE – 4 + years (Serving  Notice).\\n\\n\\tHIGHLIGHTS\\n\\n\\tWorkday Integration, Studio, Core HCM, Recruiting, Benefits, Leave of absence. \\n\\n\\tTrainings on Core Financials Integration, Workday Studio.\\n\\n\\tStrong in EIB Inbound & Outbound, Reports, Calculated Fields, Custom Objects, Business Process, Dashboards, CCW/PICOF, Calc Fields, BIRT,\\n\\n\\tWorked on Implementations and Configuration, security, Business Process.\\n\\n\\tAchievements:\\n\\n\\tSuccessfully completed 2 major Project’s implementations.\\n\\n\\tKT to the new hires, Provide training Internally  .\\n\\nTECHNICAL SKILLS:\\n\\n\\n\\n\\tWorkday HCM, Core HCM, Recruiting , LMS , Report Writer, EIB, Calc Fields, Payment Connectors, Workday Studio, Business process, Security, DT. Benefits , Talent etc.\\n\\n\\tCore Connectors, PICOF, Document Transformation, BIRT.\\n\\n\\tPeople code, App engine, CI.XML, XSLT. \\n\\nWork Experience :\\n\\n\\n\\nWorking As a Workday consultant  at  Wipro technologies from  2018 to till .\\n\\nWorked as Software engineer in Infosys  from  2017 AUG  to JULY  2018.\\n\\n\\n\\nWorkDay consultant \\n\\n\\n\\nWIPRO\\n\\n\\n\\n               2018 AUG to Till Date\\n\\n\\t\\n\\n\\tHaving 4+ years of experience in ERP Experience and including 3 years in workday HCM, completed Workday Integration and Support to the previous project.\\n\\n\\tExcellent functional skills HCM  modules like Core HCM, Leave of Absence, Recruiting, setup etc.\\n\\n\\tExpertise in Configuring business Process for various business process adding steps condition rules.\\n\\n\\tInvolved in the project Implementation, Testing, Managing Business, Troubleshooting the issues during the implementation and post implementation support and involved end to end Implementation .\\n\\n\\tConfigured various business process related to Leave of Absence ,Condition rule , business process. \\n\\n\\tGood Knowledge ion Creating leave families , Leave types , and absence condition rules in absence.\\n\\n\\tHands on experience in inbound/ outbound integrations using connectors, Workday studio, BIRT tools.\\n\\n\\tDeveloped and maintained custom-report types  like advanced, matrix, Composite using report writer. \\n\\n\\tExpertise in Payroll integrations from WD to ADP , PS, NGA  by using PICOF and PECI connectors.\\n\\n\\tParticipate in all activities of Workday Project while working with customers during alignment sessions, discovery meetings, touchpoint meetings, customer configuration, testing production support.\\n\\n\\tFamiliar with Ticketing tools like Service now and Salesforce, HPLM  for the incidents and CR’s.\\n\\n\\tExpertise in building EIBs (Enterprise Interface Builder) for integration within WD for sending Data.\\n\\n\\tGood knowledge on ETV/XTT functions in DT while sending data from WD to payroll.\\n\\n\\tHands on experience in Workday security, Functional area, Security polices, Domains Etc.\\n\\n\\tExpertise In workday Leave of absence, recruiting modules and Configuring the Befit 401 Plan etc.\\n\\n\\tConfigured business process for leave of absence , Recuring , core HCM, condition rules for steps  etc.\\n\\n\\tCreated complex integration using studio for data syncope integration from WD to Different system.  \\n\\n\\tExperience in inbound/outbound integration using EIB, Core Connector, Report Writing, creating Workday Calculated fields, Custom report, (Matrix, Composite Advanced) and BIRT tool .\\n\\n\\tMonitor Workday community portal to find new enhancements that are delivered during new upgrade and implement required enhancements for our business requirement, identifying the updated changes \\n\\n\\tExcellent analytical, problem solving, communication and interpersonal skills with ability to interact with individuals at all levels.  Consistently meets goals, objectives, and target dates.\\n\\n\\tInvolved in Workday update testing for all integrations , Supporting to HRIT team based on request.\\n\\n\\tMotivated team player willing to accept exciting challenges with sound of the IT industry.\\n\\n\\tInvolved in transformation of XML into XSLT for presenting data for different web Services.\\n\\n\\tHands on experience in creating New security groups,  or updating security groups with various domains security polices, activating security policies ,identifying the security for business obj\\n\\n\\tHaving knowledge in XML, WD-SOAP Web Service, and WD- REST Web Services.\\n\\n\\n\\nWorkday Consultant \\n\\n\\n\\nInfosys \\n\\n\\n\\n   from 2017 AUG TO 2018 JULY           \\n\\n\\t\\n\\nResponsibilities:\\n\\n\\t\\n\\nCreated various EIB outbound integrations for sending employees data from WD to external GDW  .\\n\\nWorked on development to add additional functionalities to the existing different PICOF Integrations either in the Workday Studio code level or Configuration level.\\n\\nDeveloped various Custom Reports for compensation, transfer, etc.\\n\\nCreated New matrix Report and sharing to HRIS team and creating ISU and ISSG for reports.\\n\\nCoordinate with users in UAT phase while testing Change request .\\n\\nDeveloped the studio integration for merging the multiple reports for STI and LTI Amount using workday studio.\\n\\nCreated the PICOF Outbound integration to generate the multiple files like Hire, termination, OTP, Allowance details to third party Payroll system.\\n\\nAs per SFDC cases, provided the “Start proxy access “to the KL HRSS team to perform transactions. \\n\\nWorked on  migration of data from Sandbox to Production.\\n\\n\\n\\nPS Consultant \\n\\n\\n\\nInfosys\\n\\n\\n\\n                  AUG-2017 to JULY-2018\\n\\n\\n\\n\\t\\n\\nResponsibilities:\\n\\n\\n\\n\\tCreate various reports as per business (Advanced, Matrix, Composite, Trending, Dash Boards , BIRT).\\n\\n\\t Prepare business requirement specification document and technical documents\\n\\n\\tResponsible for creating custom reports Advance, Matrix, Search, trending and box reports\\n\\n\\tInvolved in building EIB outbound integrations for recruitment, core HCM, compensation modules.\\n\\n\\tWorked on building CCW/PECI integrations for extracting the delta changes from workday To ADP.\\n\\n\\tHaving good experience in building Studio inbound and outbound integrations.\\n\\n\\tUtilized DT for converting the CCW, PICOF output XML files into text files\\n\\n\\tHaving good knowledge on Functional concepts like Business processes , condition rules , To do steps.\\n\\n\\tHands-on experience In Migrating the XSLT Code, Reports from  Sandbox and Production \\n\\n\\tInvolved in configuring security, roles and access restrictions at domain level and BP level.\\n\\n\\tProvide Day to day support of Workday Integrations, and Reporting issues.\\n\\n\\n\\nLanguages known\\n\\n\\n\\n\\n\\n\\tEnglish, Hindi & Telugu.',\n",
       " 'WORKDAY | HCM | FCM\\n\\nName \\t\\t: Kumar S.S\\n\\nRole \\t\\t: Workday Consultant \\n\\n\\n\\nProfessional Summary:\\n\\n\\n\\nHaving 6+ years of experience in Workday as a Workday Consultant, and involved in Workday HCM|FCM,  security ,support and enhancement Projects.\\n\\n\\n\\nHaving good understand of various Functional areas in HCM as well as Workday Financial.\\n\\n\\n\\nHCM – Core HCM, Absence, Time Tracking, Recruiting, and Benefits.\\n\\n\\n\\nFCM – Procure to Pay, Payables, Business Assets , Expense, Billing and  Revenue. \\n\\n\\n\\nTechnically proficient in customizations, enhancements using various tools like Report writer, Calculated Fields, EIB, Core Connector, DT and Workday Studio. \\n\\n\\n\\nHave good experience in various core connector templates like Core Connector worker, PICOFF and PECI.\\n\\n\\n\\nGood Working knowledge workday studio components like workday-In, workday-out Rest, Workday-out Soap, A-sync mediation, Splitter, aggregator, MVEL, Store, CSV-to-XML in Workday Studio.\\n\\n\\n\\nGood Working knowledge in technologies XML, XSLT, SOAP, Web services.\\n\\n\\n\\nHave working experience on PECI (payroll interface effective changes ) and creating custom objects.\\n\\n\\n\\nHave worked on, business process configurations and security areas based on business requirement.\\n\\n\\n\\nExpertise in Report analyst with using Advanced, Matrix and Composite reports. \\n\\n\\n\\nHave worked with incident and change requests for BAU.\\n\\n\\n\\nWorked on creating Complex Calculated Fields using Single Instance, lookup related Value, Lookup As of date fields in Custom reports in Workday HCM. \\n\\n\\n\\nWorked on EIB Inbound to load the data from file to workday system using Web services for cost center, OTP, transfer, Change Emergency contact information etc.\\n\\n\\n\\nWork experience in configuring Business Processes, Security configurations and Developing Reports.\\n\\n\\n\\nWorking experience on creating custom object and custom fields As per requirement. \\n\\n\\n\\nGood working experience on security configurations and creating ISU and creating security groups.\\n\\n\\n\\nGood knowledge in migrating reports from lower tenant to sandbox and production using object transporter.\\n\\nGood problem solving and communication skills.\\n\\n\\n\\nExperience Summary:\\n\\n\\t\\n\\nCurrently working as workday consultant in ITC InfoTech, Bengaluru from  Oct’2017 to Till date.\\n\\nWorked as senior software engineer in Wipro from July 2014 to Sep 2017.\\n\\nTechnical Skills:\\n\\n\\t\\t\\t\\t\\t    \\n\\n\\tERP\\n\\n\\tWorkday HCM|FCM\\n\\n\\tTechnical Skills\\n\\n\\t\\t\\tReport writer, calculated fields, EIB, PICOF and Workday Studio, Core connector, Web services, Document Transformation,SQL, Workday Security Configuration.\\n\\n\\n\\nLanguages\\n\\n\\t\\t\\tXml, XSLT, People Code.\\n\\n\\tOperating Systems\\n\\nWindows, Linux .\\n\\n\\t\\t\\t\\t\\t\\n\\n\\t\\t\\t\\t\\t\\n\\nProject Summary:\\n\\n\\t\\n\\nMajor Projects executed:\\n\\nProject 3# : \\n\\n        \\n\\nProject Name\\n\\nWorkday Support and Enhancement\\n\\n Client\\n\\nITC InfoTech. \\n\\nDuration\\n\\n Oct  2017 to Till date \\n\\n Role Sr.Workday Consultant\\n\\n Environment\\n\\n EIB , PECI, Core connector, Web services, DT, Studio\\n\\n\\n\\n\\n\\n\\n\\nRoles and Responsibilities:\\xa0\\n\\n\\n\\nCreated new integration to pull the new hires information using Core Connector Worker and Document Transformation, which uses connector integrations XML Output as its data source input.\\n\\n\\n\\nCreated EIB inbound integration for loading data. \\n\\n\\n\\nCreating core connectors integration using  PECI ( payroll effective change interface) template.\\n\\n\\n\\nDeveloped simple and secure integrations using Workday Enterprise Interface Builder (EIB).\\n\\n\\n\\nCreating custom objects and custom fields and calculated fields as per requirements. \\n\\n\\n\\nInbound/Outbound Integration Creation using Workday EIB, Core Connectors.\\n\\n\\n\\nDeveloped the custom reports for sending the Job Anniversary alerts to the Workers managers for initiation the OTP Plan.\\n\\n\\n\\nDeveloped various Custom Reports such as Lookup and Audit Reports using Calculated Fields.\\n\\n\\n\\nCreating security groups and adding permissions in domain security policies.\\n\\n\\n\\nInvolved in creating the inbound integration using Workday studio and Workday out SOAP, router component to load the Compensation data into workday system.\\n\\n\\n\\nInvolved in Loading the data for Emergency contacts, cost center, one time payments, bank account details data through enterprise interface builder(EIB) using web services like add updated org, onetime payments etc.\\n\\n\\t\\t\\n\\nModified\\xa0the XSLT code as per CR-request and adding the new XSLT code for Different info types.\\n\\n\\n\\nHands on experience in using ETV and XTT functions in Document transformation.\\n\\n\\n\\nHands-on experience In Migrating the XSLT Code, Reports from Lower tenet to Sandbox and Production using Object Transporter.\\n\\n\\n\\nUnderstanding the Business Requirements by studying the Functional Documents.\\n\\n\\tPROJECT  2#\\n\\n Project\\n\\nWorkday Support and Enhancement\\n\\n Client\\n\\nWipro\\n\\nDuration\\n\\n Jun 2016 to Sep 2017\\n\\n Role\\n\\n Sr. software Engineer\\n\\n Environment\\n\\n EIB, PICOF and Workday Studio, Core connector, Web services, DT\\n\\n\\n\\n\\n\\nRoles and Responsibilities:\\n\\n\\n\\nCreated various EIB outbound integrations for sending customer contract data from workday system to all sales mangers email group.\\n\\n\\n\\nInvolved in creating the inbound integration using workday studio and workday out soap, router component to load the currency rates into workday system.\\n\\n\\n\\nWorked on worktag configurations and arrange a posting rule set based on worktag functionality.\\n\\n\\n\\nHave worked custom validations in maintain custom validations based on business requirement. \\n\\n\\n\\nDeveloped the new custom reports for capturing all business process and transactions based on the client requirement and creating the calculated field for transfer, promotion etc.\\n\\n\\n\\nDeveloped the new custom reports for Supplier and Customer Aging reports and Trail balance and Cash basis reports based on spend and revenue categories.\\n\\n\\n\\nScheduling the custom reports on daily, weekly, monthly basis based on client requirement.\\n\\n\\n\\nUnderstanding the requirements from the client and developing new integrations. Experienced to work with Workday Report Writer and creating custom integrations with third party applications using Enterprise Interface Builder (EIB).\\n\\n\\n\\nTrack and resolve user support issues with current system Maintain good working relationships with project team members, internal customers (e.g. BI, AR and AP, PO), and external service vendors.\\n\\n\\n\\nInvolved in Finance Audit phase and provide access and created audit report based on business need.\\n\\n\\n\\nHave tested for AP and PO modules for newly created Company.\\n\\n\\n\\n Used sequence generators, generating templates and validating inbound integration system results.\\n\\n\\n\\nCreated and used calculated fields in reporting, business processes, integrations and other areas within Workday.\\n\\n\\n\\nInvolved in Setup security  and  Workday Business process Configuration.\\n\\n\\t\\n\\n\\t\\n\\n\\tPROJECT  1#\\n\\n Project Name\\n\\nPeopleSoft  Support \\n\\n Client\\n\\nWipro\\n\\nDuration\\n\\n July 2014 to May 2016\\n\\n Role\\n\\n software Engineer\\n\\n Environment\\n\\n PT-8.53,SQR,AE ,CI and People Code\\n\\n\\n\\nRoles and Responsibilities:\\n\\n\\n\\nWorked on Application Engine, File Layout, Component Interface and Integration Broker.\\n\\nDesigned technical documents and have worked towards development of interfaces and conversions based on design documents.\\n\\nModified, designed, configured and built fields, records, sub records, setting up keys to records, assign table edits like prompt table.\\n\\nInvolved in online changes to the delivered pages, components, menus and translate values.\\n\\nHave Customized and developed Application engines for loading bulk data from external systems.\\n\\nDeveloped and modified People Code to implement specific business rules and validations to enable the System to perform the business process.\\n\\nUsed File Layout Definition to get data from the legacy system to PeopleSoft tables.\\n\\nManaged and monitored process scheduler for any issues while scheduled interfaces/processes ran and resolved the issues.\\n\\nDeveloped/Modified various PS queries in order to help the client day-to-day activity.\\n\\nInvolved in creating PS Query’s and sending it through email to different country FSCM heads.\\n\\nWorked on the reporting tools like PS Query, XML Publisher.\\n\\nHave worked on File Layout, Application Engine, Component Interface, File layout, Excel to CI, XML Report.\\n\\n\\n\\nEducational Summary:\\n\\n\\n\\nM.Tech in computer science and Engineering (C.S.E) from Bharath  University, Chennai in 2009.\\n\\nB.Tech (PE) from Nagarjuna University, Guntur in 2006.',\n",
       " 'WORKDAY | HCM | FCM\\n\\nName \\t\\t: Kumar S.S\\n\\nRole \\t\\t: Workday Consultant \\n\\n\\n\\nProfessional Summary:\\n\\n\\n\\nHaving 6+ years of experience in Workday as a Workday Consultant, and involved in Workday HCM|FCM,  security ,support and enhancement Projects.\\n\\n\\n\\nHaving good understand of various Functional areas in HCM as well as Workday Financial.\\n\\n\\n\\nHCM – Core HCM, Absence, Time Tracking, Recruiting, and Benefits.\\n\\n\\n\\nFCM – Procure to Pay, Payables, Business Assets , Expense, Billing and  Revenue. \\n\\n\\n\\nTechnically proficient in customizations, enhancements using various tools like Report writer, Calculated Fields, EIB, Core Connector, DT and Workday Studio. \\n\\n\\n\\nHave good experience in various core connector templates like Core Connector worker, PICOFF and PECI.\\n\\n\\n\\nGood Working knowledge workday studio components like workday-In, workday-out Rest, Workday-out Soap, A-sync mediation, Splitter, aggregator, MVEL, Store, CSV-to-XML in Workday Studio.\\n\\n\\n\\nGood Working knowledge in technologies XML, XSLT, SOAP, Web services.\\n\\n\\n\\nHave working experience on PECI (payroll interface effective changes ) and creating custom objects.\\n\\n\\n\\nHave worked on, business process configurations and security areas based on business requirement.\\n\\n\\n\\nExpertise in Report analyst with using Advanced, Matrix and Composite reports. \\n\\n\\n\\nHave worked with incident and change requests for BAU.\\n\\n\\n\\nWorked on creating Complex Calculated Fields using Single Instance, lookup related Value, Lookup As of date fields in Custom reports in Workday HCM. \\n\\n\\n\\nWorked on EIB Inbound to load the data from file to workday system using Web services for cost center, OTP, transfer, Change Emergency contact information etc.\\n\\n\\n\\nWork experience in configuring Business Processes, Security configurations and Developing Reports.\\n\\n\\n\\nWorking experience on creating custom object and custom fields As per requirement. \\n\\n\\n\\nGood working experience on security configurations and creating ISU and creating security groups.\\n\\n\\n\\nGood knowledge in migrating reports from lower tenant to sandbox and production using object transporter.\\n\\nGood problem solving and communication skills.\\n\\n\\n\\nExperience Summary:\\n\\n\\t\\n\\nCurrently working as workday consultant in ITC InfoTech, Bengaluru from  Oct’2017 to Till date.\\n\\nWorked as senior software engineer in Wipro from July 2014 to Sep 2017.\\n\\nTechnical Skills:\\n\\n\\t\\t\\t\\t\\t    \\n\\n\\tERP\\n\\n\\tWorkday HCM|FCM\\n\\n\\tTechnical Skills\\n\\n\\t\\t\\tReport writer, calculated fields, EIB, PICOF and Workday Studio, Core connector, Web services, Document Transformation,SQL, Workday Security Configuration.\\n\\n\\n\\nLanguages\\n\\n\\t\\t\\tXml, XSLT, People Code.\\n\\n\\tOperating Systems\\n\\nWindows, Linux .\\n\\n\\t\\t\\t\\t\\t\\n\\n\\t\\t\\t\\t\\t\\n\\nProject Summary:\\n\\n\\t\\n\\nMajor Projects executed:\\n\\nProject 3# : \\n\\n        \\n\\nProject Name\\n\\nWorkday Support and Enhancement\\n\\n Client\\n\\nITC InfoTech. \\n\\nDuration\\n\\n Oct  2017 to Till date \\n\\n Role Sr.Workday Consultant\\n\\n Environment\\n\\n EIB , PECI, Core connector, Web services, DT, Studio\\n\\n\\n\\n\\n\\n\\n\\nRoles and Responsibilities:\\xa0\\n\\n\\n\\nCreated new integration to pull the new hires information using Core Connector Worker and Document Transformation, which uses connector integrations XML Output as its data source input.\\n\\n\\n\\nCreated EIB inbound integration for loading data. \\n\\n\\n\\nCreating core connectors integration using  PECI ( payroll effective change interface) template.\\n\\n\\n\\nDeveloped simple and secure integrations using Workday Enterprise Interface Builder (EIB).\\n\\n\\n\\nCreating custom objects and custom fields and calculated fields as per requirements. \\n\\n\\n\\nInbound/Outbound Integration Creation using Workday EIB, Core Connectors.\\n\\n\\n\\nDeveloped the custom reports for sending the Job Anniversary alerts to the Workers managers for initiation the OTP Plan.\\n\\n\\n\\nDeveloped various Custom Reports such as Lookup and Audit Reports using Calculated Fields.\\n\\n\\n\\nCreating security groups and adding permissions in domain security policies.\\n\\n\\n\\nInvolved in creating the inbound integration using Workday studio and Workday out SOAP, router component to load the Compensation data into workday system.\\n\\n\\n\\nInvolved in Loading the data for Emergency contacts, cost center, one time payments, bank account details data through enterprise interface builder(EIB) using web services like add updated org, onetime payments etc.\\n\\n\\t\\t\\n\\nModified\\xa0the XSLT code as per CR-request and adding the new XSLT code for Different info types.\\n\\n\\n\\nHands on experience in using ETV and XTT functions in Document transformation.\\n\\n\\n\\nHands-on experience In Migrating the XSLT Code, Reports from Lower tenet to Sandbox and Production using Object Transporter.\\n\\n\\n\\nUnderstanding the Business Requirements by studying the Functional Documents.\\n\\n\\tPROJECT  2#\\n\\n Project\\n\\nWorkday Support and Enhancement\\n\\n Client\\n\\nWipro\\n\\nDuration\\n\\n Jun 2016 to Sep 2017\\n\\n Role\\n\\n Sr. software Engineer\\n\\n Environment\\n\\n EIB, PICOF and Workday Studio, Core connector, Web services, DT\\n\\n\\n\\n\\n\\nRoles and Responsibilities:\\n\\n\\n\\nCreated various EIB outbound integrations for sending customer contract data from workday system to all sales mangers email group.\\n\\n\\n\\nInvolved in creating the inbound integration using workday studio and workday out soap, router component to load the currency rates into workday system.\\n\\n\\n\\nWorked on worktag configurations and arrange a posting rule set based on worktag functionality.\\n\\n\\n\\nHave worked custom validations in maintain custom validations based on business requirement. \\n\\n\\n\\nDeveloped the new custom reports for capturing all business process and transactions based on the client requirement and creating the calculated field for transfer, promotion etc.\\n\\n\\n\\nDeveloped the new custom reports for Supplier and Customer Aging reports and Trail balance and Cash basis reports based on spend and revenue categories.\\n\\n\\n\\nScheduling the custom reports on daily, weekly, monthly basis based on client requirement.\\n\\n\\n\\nUnderstanding the requirements from the client and developing new integrations. Experienced to work with Workday Report Writer and creating custom integrations with third party applications using Enterprise Interface Builder (EIB).\\n\\n\\n\\nTrack and resolve user support issues with current system Maintain good working relationships with project team members, internal customers (e.g. BI, AR and AP, PO), and external service vendors.\\n\\n\\n\\nInvolved in Finance Audit phase and provide access and created audit report based on business need.\\n\\n\\n\\nHave tested for AP and PO modules for newly created Company.\\n\\n\\n\\n Used sequence generators, generating templates and validating inbound integration system results.\\n\\n\\n\\nCreated and used calculated fields in reporting, business processes, integrations and other areas within Workday.\\n\\n\\n\\nInvolved in Setup security  and  Workday Business process Configuration.\\n\\n\\t\\n\\n\\t\\n\\n\\tPROJECT  1#\\n\\n Project Name\\n\\nPeopleSoft  Support \\n\\n Client\\n\\nWipro\\n\\nDuration\\n\\n July 2014 to May 2016\\n\\n Role\\n\\n software Engineer\\n\\n Environment\\n\\n PT-8.53,SQR,AE ,CI and People Code\\n\\n\\n\\nRoles and Responsibilities:\\n\\n\\n\\nWorked on Application Engine, File Layout, Component Interface and Integration Broker.\\n\\nDesigned technical documents and have worked towards development of interfaces and conversions based on design documents.\\n\\nModified, designed, configured and built fields, records, sub records, setting up keys to records, assign table edits like prompt table.\\n\\nInvolved in online changes to the delivered pages, components, menus and translate values.\\n\\nHave Customized and developed Application engines for loading bulk data from external systems.\\n\\nDeveloped and modified People Code to implement specific business rules and validations to enable the System to perform the business process.\\n\\nUsed File Layout Definition to get data from the legacy system to PeopleSoft tables.\\n\\nManaged and monitored process scheduler for any issues while scheduled interfaces/processes ran and resolved the issues.\\n\\nDeveloped/Modified various PS queries in order to help the client day-to-day activity.\\n\\nInvolved in creating PS Query’s and sending it through email to different country FSCM heads.\\n\\nWorked on the reporting tools like PS Query, XML Publisher.\\n\\nHave worked on File Layout, Application Engine, Component Interface, File layout, Excel to CI, XML Report.\\n\\n\\n\\nEducational Summary:\\n\\n\\n\\nM.Tech in computer science and Engineering (C.S.E) from Bharath  University, Chennai in 2009.\\n\\nB.Tech (PE) from Nagarjuna University, Guntur in 2006.',\n",
       " 'Vinay kumar .v\\nWorkday Functional Consultant\\n\\n\\n\\nEXPERTISE SUMMARY\\t\\n\\nHaving 4.2 years of Total Experience in as a Workday  Functional Consultant.\\n\\nKnowledge on the functional modules of Workday (Core HCM, Supervisory Organization, Delegation, Cost Center, Locations and Knowledge on Security).\\n\\nExperience in implementing Workday Functional and Integrations for various modules including HCM Core, Compensation, Time Tracking and Absence Management, Payroll, Benefits and Performance Management.\\n\\nHaving good knowledge on Security Groups: Role Based, User Based & Job Based.\\n\\nExperienced in Report Writing, Custom Reports (Simple, Advanced, Matrix and Composite), Calculated Fields, Integrations, EIB, Connectors, XML, XSLT, Workday web services, Organization Structure & Custom Objects. \\n\\nHands-on experience In Migrating the XSLT Code, Reports from Lower tenant to Sandbox and Production using Object Transporter.  \\n\\nExcellent object management skills in Workday like configuring Supervisory Organizations, Matrix Organizations, Compensation (salary based on different grades, allowances), Performance Management, Time Management, Business Process (Hiring and Termination).\\n\\nStrong team player with excellent interpersonal, communication and leadership skills and ready to take an independent challenge and has the ability to work in a team.\\n\\nTECHNICAL SKILLS\\n\\nWorkday Skills                   : Reports, Studio, Workday Business Processes, Security, Staffing, Report\\n\\nWriter,          ……………………….Calculated Fields, EIB, Core Connector, Web Services, etc.\\n\\nLanguages / Tools             : XML, XSLT & Studio.\\n\\nDocument Processing     : Microsoft Excel, Microsoft Word, Microsoft PowerPoint.\\n\\n\\n\\nEDUCATION SUMMARY\\t\\n\\n\\tMaster of business administration from Narayana engineering College in 2017 with  80%\\n\\n\\t\\n\\nWORK EXPERIENCE\\t\\n\\n\\tWorking as a Workday Consultant in Tech Mahindra from Sep 2017 to Till Date.\\n\\n\\t\\n\\nPROFESSIONAL SUMMARY\\t:\\n\\n\\t\\n\\n\\tProject #1:\\n\\n\\tCompany        : Tech Mahindra\\n\\n\\tProject Type  : Workday Support and Enhancements\\n\\n\\tDesignation   : Workday Consultant\\n\\n\\n\\nRoles and Responsibilities:\\n\\n\\t\\n\\n\\tDevelop new Integrations ( EIB, Core connector) and Custom Reports based on business requirements.\\n\\n\\tModifications and implementing multiple enhancements to existing, Custom Reports, Calculated field and XSLT.\\n\\n\\tHands-on experience In Migrating the Reports from Lower tenet to Sandbox and Production using Object Transporter.\\n\\n\\tWorked on Core connector for Template Location, worker, and Document Transformation.\\n\\n\\tWorked on Integration system User for transfer the ownership of reports, schedule and Integration.\\n\\n\\tWorked on Inbound and Outbound EIB Integration concepts and created the various EIB integrations.\\n\\n\\tConfigure workday configurable security as per client’s business requirements.\\n\\n\\tCreated EIB Inbound Integrations for loading the employees personal Information like Emergency contacts, Compensation, One-time payments, Bank account, cost center information.\\n\\n\\tMonitor daily schedulers and report errors as needed.\\n\\n\\tDeveloped Core Connector and Document Transformation integrations to get changes file of CSV format from XML Output.\\n\\n\\tStrong Knowledge on working with CR-Change Requests as per business requirement and building and moving changes to production.\\n\\n\\tInvolved in performing Mass Loading of data using EIBs.\\n\\n\\tInvolved in calls with client and update the work status as well as clarifications if any. \\n\\n\\tDay to day support for Workday HCM, Integrations and Reporting issues.\\n\\n\\t\\n\\n\\tProject #2:\\n\\n\\tCompany        : Tech Mahindra\\n\\n\\tProject Type  : PeopleSoft Support and Enhancements\\n\\n\\tDesignation   : Analyst\\n\\n\\n\\nRoles and Responsibilities:\\n\\n\\n\\n\\tHave Customized and developed Application engines for loading bulk data from external systems.\\n\\n\\tTrack and resolve user support issues with current system Maintain good working relationships with project team members, internal customers, and external service vendors\\n\\n\\tHave designed technical documents and have worked towards development of interfaces and conversions based on design documents.\\n\\n\\tModified, designed, configured and built fields, records, sub records, setting up keys to records, assign table edits like prompt table.\\n\\n\\tInvolved in online changes to the delivered pages, components, menus and translate values.\\n\\n\\tHave Customized and developed Application engines for loading bulk data from external systems.\\n\\n\\tDeveloped and modified People Code to implement specific business rules and validations to enable the System to perform the business process.\\n\\n\\tUsed File Layout Definition to get data from the legacy system to PeopleSoft tables.\\n\\n\\tManaged and monitored process scheduler for any issues while scheduled interfaces/processes ran and resolved the issues\\n\\n\\tDeveloped/Modified various PS queries in order to help the client day-to-day activity.\\n\\n\\tWorked on the reporting tools like PS Query, XML Publisher\\n\\n\\tHave worked on File Layout, Application Engine, Component Interface, File layout, Excel to CI, XML Report\\n\\n\\n\\n\\t\\n\\n\\n\\nDECLARATION:\\n\\n           I hereby declare that all the information furnished is true to by best of my knowledge.']"
      ]
     },
     "execution_count": 9,
     "metadata": {},
     "output_type": "execute_result"
    }
   ],
   "source": [
    "extracted_data"
   ]
  },
  {
   "cell_type": "code",
   "execution_count": 10,
   "id": "5213b250",
   "metadata": {
    "ExecuteTime": {
     "end_time": "2022-09-10T14:03:33.584094Z",
     "start_time": "2022-09-10T14:03:32.912865Z"
    }
   },
   "outputs": [],
   "source": [
    "import pandas as pd"
   ]
  },
  {
   "cell_type": "code",
   "execution_count": 11,
   "id": "d9fba621",
   "metadata": {
    "ExecuteTime": {
     "end_time": "2022-09-10T14:03:33.599976Z",
     "start_time": "2022-09-10T14:03:33.588353Z"
    }
   },
   "outputs": [],
   "source": [
    "resume_data=pd.DataFrame()\n",
    "resume_data['content']=extracted_data\n",
    "resume_data['result']=software_names"
   ]
  },
  {
   "cell_type": "code",
   "execution_count": 12,
   "id": "c6231c49",
   "metadata": {
    "ExecuteTime": {
     "end_time": "2022-09-10T14:03:35.153086Z",
     "start_time": "2022-09-10T14:03:33.603707Z"
    }
   },
   "outputs": [
    {
     "data": {
      "text/html": [
       "<div>\n",
       "<style scoped>\n",
       "    .dataframe tbody tr th:only-of-type {\n",
       "        vertical-align: middle;\n",
       "    }\n",
       "\n",
       "    .dataframe tbody tr th {\n",
       "        vertical-align: top;\n",
       "    }\n",
       "\n",
       "    .dataframe thead th {\n",
       "        text-align: right;\n",
       "    }\n",
       "</style>\n",
       "<table border=\"1\" class=\"dataframe\">\n",
       "  <thead>\n",
       "    <tr style=\"text-align: right;\">\n",
       "      <th></th>\n",
       "      <th>content</th>\n",
       "      <th>result</th>\n",
       "    </tr>\n",
       "  </thead>\n",
       "  <tbody>\n",
       "    <tr>\n",
       "      <th>0</th>\n",
       "      <td>Anubhav Kumar Singh\\t\\t\\n\\n\\n\\nCore Competenci...</td>\n",
       "      <td>Peoplesoft resumes</td>\n",
       "    </tr>\n",
       "    <tr>\n",
       "      <th>1</th>\n",
       "      <td>Classification: Internal\\n\\nClassification: In...</td>\n",
       "      <td>Peoplesoft resumes</td>\n",
       "    </tr>\n",
       "    <tr>\n",
       "      <th>2</th>\n",
       "      <td>SIRAZUDDIN M\\n\\n\\tBangalore, INDIA\\t\\n\\n\\n\\n\\n...</td>\n",
       "      <td>Peoplesoft resumes</td>\n",
       "    </tr>\n",
       "    <tr>\n",
       "      <th>3</th>\n",
       "      <td>PeopleSoft Admin\\n\\nVARKALA VIKAS\\n\\n\\n\\nCaree...</td>\n",
       "      <td>Peoplesoft resumes</td>\n",
       "    </tr>\n",
       "    <tr>\n",
       "      <th>4</th>\n",
       "      <td>PeopleSoft Administration\\n\\n \\n\\nVivekanand S...</td>\n",
       "      <td>Peoplesoft resumes</td>\n",
       "    </tr>\n",
       "    <tr>\n",
       "      <th>5</th>\n",
       "      <td>Hari Narayana \\t\\t              \\n\\n\\t\\n\\n\\n\\n...</td>\n",
       "      <td>Peoplesoft resumes</td>\n",
       "    </tr>\n",
       "    <tr>\n",
       "      <th>6</th>\n",
       "      <td>Murali\\t\\t       \\n\\n\\t\\n\\n\\n\\n\\n\\n\\n\\n\\n\\n\\n\\...</td>\n",
       "      <td>Peoplesoft resumes</td>\n",
       "    </tr>\n",
       "    <tr>\n",
       "      <th>7</th>\n",
       "      <td>Priyabrata Hota\\n\\n\\n\\n\\n\\nCAREER OBJECTIVE\\t\\...</td>\n",
       "      <td>Peoplesoft resumes</td>\n",
       "    </tr>\n",
       "    <tr>\n",
       "      <th>8</th>\n",
       "      <td>Tanna Sujatha \\n\\n\\n\\n\\n\\n\\n\\nOBJECTIVE\\n\\nSee...</td>\n",
       "      <td>Peoplesoft resumes</td>\n",
       "    </tr>\n",
       "    <tr>\n",
       "      <th>9</th>\n",
       "      <td>C O N T A C T :\\n\\n\\n\\nAddress: Manyata Tech P...</td>\n",
       "      <td>Peoplesoft resumes</td>\n",
       "    </tr>\n",
       "    <tr>\n",
       "      <th>10</th>\n",
       "      <td>ANIL KUMAR MADDUKURI  \\t\\t\\n\\nSQL &amp; MSBI Devel...</td>\n",
       "      <td>SQL Developer Lightning insight</td>\n",
       "    </tr>\n",
       "    <tr>\n",
       "      <th>11</th>\n",
       "      <td>Aradhana Tripathi\\n\\n\\n\\nCurrent Location: Gac...</td>\n",
       "      <td>SQL Developer Lightning insight</td>\n",
       "    </tr>\n",
       "    <tr>\n",
       "      <th>12</th>\n",
       "      <td>BUDDHA VAMSI                                  ...</td>\n",
       "      <td>SQL Developer Lightning insight</td>\n",
       "    </tr>\n",
       "    <tr>\n",
       "      <th>13</th>\n",
       "      <td>KAMBALLA PRADEEP                              ...</td>\n",
       "      <td>SQL Developer Lightning insight</td>\n",
       "    </tr>\n",
       "    <tr>\n",
       "      <th>14</th>\n",
       "      <td>KAMBALLA PRADEEP                              ...</td>\n",
       "      <td>SQL Developer Lightning insight</td>\n",
       "    </tr>\n",
       "    <tr>\n",
       "      <th>15</th>\n",
       "      <td>Resume\\n\\nName     :  Neeraj Mishra\\n\\n\\n\\nExp...</td>\n",
       "      <td>SQL Developer Lightning insight</td>\n",
       "    </tr>\n",
       "    <tr>\n",
       "      <th>16</th>\n",
       "      <td>SQL DEVELOPER\\n\\nName: -   Bandi prem sai\\n\\n\\...</td>\n",
       "      <td>SQL Developer Lightning insight</td>\n",
       "    </tr>\n",
       "    <tr>\n",
       "      <th>17</th>\n",
       "      <td>SQL DEVELOPER\\n\\nName: -   Bandi prem sai\\n\\n\\...</td>\n",
       "      <td>SQL Developer Lightning insight</td>\n",
       "    </tr>\n",
       "    <tr>\n",
       "      <th>18</th>\n",
       "      <td>SQL SERVER DEVELOPER\\n\\n\\n\\n\\n\\nP. Syam Kumar ...</td>\n",
       "      <td>SQL Developer Lightning insight</td>\n",
       "    </tr>\n",
       "    <tr>\n",
       "      <th>19</th>\n",
       "      <td>RAJU PAVANA KUMARI\\n\\n\\n\\n\\t\\n\\n\\tProfessional...</td>\n",
       "      <td>SQL Developer Lightning insight</td>\n",
       "    </tr>\n",
       "    <tr>\n",
       "      <th>20</th>\n",
       "      <td>resume\\n\\n\\n\\n\\n\\n\\t\\t\\t\\t\\t\\t\\t\\t\\t\\t\\t\\tRama...</td>\n",
       "      <td>SQL Developer Lightning insight</td>\n",
       "    </tr>\n",
       "    <tr>\n",
       "      <th>21</th>\n",
       "      <td>Name: Ramesh\\n\\n\\t\\n\\n\\tCareer Objective: \\n\\n...</td>\n",
       "      <td>SQL Developer Lightning insight</td>\n",
       "    </tr>\n",
       "    <tr>\n",
       "      <th>22</th>\n",
       "      <td>Name: Ramesh\\n\\n\\t\\n\\n\\tCareer Objective: \\n\\n...</td>\n",
       "      <td>SQL Developer Lightning insight</td>\n",
       "    </tr>\n",
       "    <tr>\n",
       "      <th>23</th>\n",
       "      <td>SQL AND MSBI DEVELOPER\\n\\nSQL AND MSBI DEVELOP...</td>\n",
       "      <td>SQL Developer Lightning insight</td>\n",
       "    </tr>\n",
       "    <tr>\n",
       "      <th>24</th>\n",
       "      <td>Chinna Subbarayudu M\\n\\nDOB: 06th March 1994\\n...</td>\n",
       "      <td>workday resumes</td>\n",
       "    </tr>\n",
       "    <tr>\n",
       "      <th>25</th>\n",
       "      <td>Name         : Gopi Krishna Reddy\\n\\n\\t\\t\\t\\t ...</td>\n",
       "      <td>workday resumes</td>\n",
       "    </tr>\n",
       "    <tr>\n",
       "      <th>26</th>\n",
       "      <td>Name         : Gopi Krishna Reddy\\n\\n\\t\\t\\t\\t ...</td>\n",
       "      <td>workday resumes</td>\n",
       "    </tr>\n",
       "    <tr>\n",
       "      <th>27</th>\n",
       "      <td>Name         : Gopi Krishna Reddy\\n\\n\\t\\t\\t\\t ...</td>\n",
       "      <td>workday resumes</td>\n",
       "    </tr>\n",
       "    <tr>\n",
       "      <th>28</th>\n",
       "      <td>Name         : Gopi Krishna Reddy\\n\\n\\t\\t\\t\\t ...</td>\n",
       "      <td>workday resumes</td>\n",
       "    </tr>\n",
       "    <tr>\n",
       "      <th>29</th>\n",
       "      <td>G Himaja\\n\\n                                  ...</td>\n",
       "      <td>workday resumes</td>\n",
       "    </tr>\n",
       "    <tr>\n",
       "      <th>30</th>\n",
       "      <td>G Himaja\\n\\n                                  ...</td>\n",
       "      <td>workday resumes</td>\n",
       "    </tr>\n",
       "    <tr>\n",
       "      <th>31</th>\n",
       "      <td>JYOTI VERMA\\t\\t\\t\\t\\t\\n\\n\\n\\nPROFESSIONAL SUMM...</td>\n",
       "      <td>workday resumes</td>\n",
       "    </tr>\n",
       "    <tr>\n",
       "      <th>32</th>\n",
       "      <td>JYOTI VERMA\\t\\t\\t\\t\\t\\n\\n\\n\\nPROFESSIONAL SUMM...</td>\n",
       "      <td>workday resumes</td>\n",
       "    </tr>\n",
       "    <tr>\n",
       "      <th>33</th>\n",
       "      <td>Mooraboyina Guravaiah\\n\\nWorkday Integration S...</td>\n",
       "      <td>workday resumes</td>\n",
       "    </tr>\n",
       "    <tr>\n",
       "      <th>34</th>\n",
       "      <td>Mooraboyina Guravaiah\\n\\nWorkday Integration S...</td>\n",
       "      <td>workday resumes</td>\n",
       "    </tr>\n",
       "    <tr>\n",
       "      <th>35</th>\n",
       "      <td>VENKATA SAIKRISHNA\\n\\n Workday Consultant\\n\\n\\...</td>\n",
       "      <td>workday resumes</td>\n",
       "    </tr>\n",
       "    <tr>\n",
       "      <th>36</th>\n",
       "      <td>VENKATA SAIKRISHNA\\n\\n Workday Consultant\\n\\n\\...</td>\n",
       "      <td>workday resumes</td>\n",
       "    </tr>\n",
       "    <tr>\n",
       "      <th>37</th>\n",
       "      <td>Workday HCM  Techno functional Consultant     ...</td>\n",
       "      <td>workday resumes</td>\n",
       "    </tr>\n",
       "    <tr>\n",
       "      <th>38</th>\n",
       "      <td>Ramesh A\\t\\t\\t\\t\\t\\t\\t\\t\\t\\t\\t\\t\\t\\t\\t\\t\\t\\t\\t...</td>\n",
       "      <td>workday resumes</td>\n",
       "    </tr>\n",
       "    <tr>\n",
       "      <th>39</th>\n",
       "      <td>Ramesh A\\t\\t\\t\\t\\t\\t\\t\\t\\t\\t\\t\\t\\t\\t\\t\\t\\t\\t\\t...</td>\n",
       "      <td>workday resumes</td>\n",
       "    </tr>\n",
       "    <tr>\n",
       "      <th>40</th>\n",
       "      <td>Ramesh A\\t\\t\\t\\t\\t\\t\\t\\t\\t\\t\\t\\t\\t\\t\\t\\t\\t\\t\\t...</td>\n",
       "      <td>workday resumes</td>\n",
       "    </tr>\n",
       "    <tr>\n",
       "      <th>41</th>\n",
       "      <td>Srikanth (WORKDAY hCM Consultant)\\t           ...</td>\n",
       "      <td>workday resumes</td>\n",
       "    </tr>\n",
       "    <tr>\n",
       "      <th>42</th>\n",
       "      <td>WORKDAY | HCM | FCM\\n\\nName \\t\\t: Kumar S.S\\n\\...</td>\n",
       "      <td>workday resumes</td>\n",
       "    </tr>\n",
       "    <tr>\n",
       "      <th>43</th>\n",
       "      <td>WORKDAY | HCM | FCM\\n\\nName \\t\\t: Kumar S.S\\n\\...</td>\n",
       "      <td>workday resumes</td>\n",
       "    </tr>\n",
       "    <tr>\n",
       "      <th>44</th>\n",
       "      <td>Vinay kumar .v\\nWorkday Functional Consultant\\...</td>\n",
       "      <td>workday resumes</td>\n",
       "    </tr>\n",
       "  </tbody>\n",
       "</table>\n",
       "</div>"
      ],
      "text/plain": [
       "                                              content  \\\n",
       "0   Anubhav Kumar Singh\\t\\t\\n\\n\\n\\nCore Competenci...   \n",
       "1   Classification: Internal\\n\\nClassification: In...   \n",
       "2   SIRAZUDDIN M\\n\\n\\tBangalore, INDIA\\t\\n\\n\\n\\n\\n...   \n",
       "3   PeopleSoft Admin\\n\\nVARKALA VIKAS\\n\\n\\n\\nCaree...   \n",
       "4   PeopleSoft Administration\\n\\n \\n\\nVivekanand S...   \n",
       "5   Hari Narayana \\t\\t              \\n\\n\\t\\n\\n\\n\\n...   \n",
       "6   Murali\\t\\t       \\n\\n\\t\\n\\n\\n\\n\\n\\n\\n\\n\\n\\n\\n\\...   \n",
       "7   Priyabrata Hota\\n\\n\\n\\n\\n\\nCAREER OBJECTIVE\\t\\...   \n",
       "8   Tanna Sujatha \\n\\n\\n\\n\\n\\n\\n\\nOBJECTIVE\\n\\nSee...   \n",
       "9   C O N T A C T :\\n\\n\\n\\nAddress: Manyata Tech P...   \n",
       "10  ANIL KUMAR MADDUKURI  \\t\\t\\n\\nSQL & MSBI Devel...   \n",
       "11  Aradhana Tripathi\\n\\n\\n\\nCurrent Location: Gac...   \n",
       "12  BUDDHA VAMSI                                  ...   \n",
       "13  KAMBALLA PRADEEP                              ...   \n",
       "14  KAMBALLA PRADEEP                              ...   \n",
       "15  Resume\\n\\nName     :  Neeraj Mishra\\n\\n\\n\\nExp...   \n",
       "16  SQL DEVELOPER\\n\\nName: -   Bandi prem sai\\n\\n\\...   \n",
       "17  SQL DEVELOPER\\n\\nName: -   Bandi prem sai\\n\\n\\...   \n",
       "18  SQL SERVER DEVELOPER\\n\\n\\n\\n\\n\\nP. Syam Kumar ...   \n",
       "19  RAJU PAVANA KUMARI\\n\\n\\n\\n\\t\\n\\n\\tProfessional...   \n",
       "20  resume\\n\\n\\n\\n\\n\\n\\t\\t\\t\\t\\t\\t\\t\\t\\t\\t\\t\\tRama...   \n",
       "21  Name: Ramesh\\n\\n\\t\\n\\n\\tCareer Objective: \\n\\n...   \n",
       "22  Name: Ramesh\\n\\n\\t\\n\\n\\tCareer Objective: \\n\\n...   \n",
       "23  SQL AND MSBI DEVELOPER\\n\\nSQL AND MSBI DEVELOP...   \n",
       "24  Chinna Subbarayudu M\\n\\nDOB: 06th March 1994\\n...   \n",
       "25  Name         : Gopi Krishna Reddy\\n\\n\\t\\t\\t\\t ...   \n",
       "26  Name         : Gopi Krishna Reddy\\n\\n\\t\\t\\t\\t ...   \n",
       "27  Name         : Gopi Krishna Reddy\\n\\n\\t\\t\\t\\t ...   \n",
       "28  Name         : Gopi Krishna Reddy\\n\\n\\t\\t\\t\\t ...   \n",
       "29  G Himaja\\n\\n                                  ...   \n",
       "30  G Himaja\\n\\n                                  ...   \n",
       "31  JYOTI VERMA\\t\\t\\t\\t\\t\\n\\n\\n\\nPROFESSIONAL SUMM...   \n",
       "32  JYOTI VERMA\\t\\t\\t\\t\\t\\n\\n\\n\\nPROFESSIONAL SUMM...   \n",
       "33  Mooraboyina Guravaiah\\n\\nWorkday Integration S...   \n",
       "34  Mooraboyina Guravaiah\\n\\nWorkday Integration S...   \n",
       "35  VENKATA SAIKRISHNA\\n\\n Workday Consultant\\n\\n\\...   \n",
       "36  VENKATA SAIKRISHNA\\n\\n Workday Consultant\\n\\n\\...   \n",
       "37  Workday HCM  Techno functional Consultant     ...   \n",
       "38  Ramesh A\\t\\t\\t\\t\\t\\t\\t\\t\\t\\t\\t\\t\\t\\t\\t\\t\\t\\t\\t...   \n",
       "39  Ramesh A\\t\\t\\t\\t\\t\\t\\t\\t\\t\\t\\t\\t\\t\\t\\t\\t\\t\\t\\t...   \n",
       "40  Ramesh A\\t\\t\\t\\t\\t\\t\\t\\t\\t\\t\\t\\t\\t\\t\\t\\t\\t\\t\\t...   \n",
       "41  Srikanth (WORKDAY hCM Consultant)\\t           ...   \n",
       "42  WORKDAY | HCM | FCM\\n\\nName \\t\\t: Kumar S.S\\n\\...   \n",
       "43  WORKDAY | HCM | FCM\\n\\nName \\t\\t: Kumar S.S\\n\\...   \n",
       "44  Vinay kumar .v\\nWorkday Functional Consultant\\...   \n",
       "\n",
       "                             result  \n",
       "0                Peoplesoft resumes  \n",
       "1                Peoplesoft resumes  \n",
       "2                Peoplesoft resumes  \n",
       "3                Peoplesoft resumes  \n",
       "4                Peoplesoft resumes  \n",
       "5                Peoplesoft resumes  \n",
       "6                Peoplesoft resumes  \n",
       "7                Peoplesoft resumes  \n",
       "8                Peoplesoft resumes  \n",
       "9                Peoplesoft resumes  \n",
       "10  SQL Developer Lightning insight  \n",
       "11  SQL Developer Lightning insight  \n",
       "12  SQL Developer Lightning insight  \n",
       "13  SQL Developer Lightning insight  \n",
       "14  SQL Developer Lightning insight  \n",
       "15  SQL Developer Lightning insight  \n",
       "16  SQL Developer Lightning insight  \n",
       "17  SQL Developer Lightning insight  \n",
       "18  SQL Developer Lightning insight  \n",
       "19  SQL Developer Lightning insight  \n",
       "20  SQL Developer Lightning insight  \n",
       "21  SQL Developer Lightning insight  \n",
       "22  SQL Developer Lightning insight  \n",
       "23  SQL Developer Lightning insight  \n",
       "24                  workday resumes  \n",
       "25                  workday resumes  \n",
       "26                  workday resumes  \n",
       "27                  workday resumes  \n",
       "28                  workday resumes  \n",
       "29                  workday resumes  \n",
       "30                  workday resumes  \n",
       "31                  workday resumes  \n",
       "32                  workday resumes  \n",
       "33                  workday resumes  \n",
       "34                  workday resumes  \n",
       "35                  workday resumes  \n",
       "36                  workday resumes  \n",
       "37                  workday resumes  \n",
       "38                  workday resumes  \n",
       "39                  workday resumes  \n",
       "40                  workday resumes  \n",
       "41                  workday resumes  \n",
       "42                  workday resumes  \n",
       "43                  workday resumes  \n",
       "44                  workday resumes  "
      ]
     },
     "execution_count": 12,
     "metadata": {},
     "output_type": "execute_result"
    }
   ],
   "source": [
    "resume_data"
   ]
  },
  {
   "cell_type": "code",
   "execution_count": 13,
   "id": "8f7f0a23",
   "metadata": {
    "ExecuteTime": {
     "end_time": "2022-09-10T14:03:35.249870Z",
     "start_time": "2022-09-10T14:03:35.154654Z"
    }
   },
   "outputs": [],
   "source": [
    "resume_data.to_csv('resume_data.csv',encoding='utf=8',index=True) ##unicode transformation format (8-bit)"
   ]
  },
  {
   "cell_type": "markdown",
   "id": "33b166ce",
   "metadata": {},
   "source": [
    "# importing dataset"
   ]
  },
  {
   "cell_type": "code",
   "execution_count": 15,
   "id": "affec01a",
   "metadata": {
    "ExecuteTime": {
     "end_time": "2022-09-10T14:03:38.260781Z",
     "start_time": "2022-09-10T14:03:35.271156Z"
    }
   },
   "outputs": [],
   "source": [
    "import pandas as pd\n",
    "from sklearn.feature_extraction.text import TfidfVectorizer\n",
    "import numpy as np\n",
    "from sklearn.preprocessing import MinMaxScaler\n",
    "from sklearn.model_selection import train_test_split\n",
    "from sklearn.linear_model import LogisticRegression\n",
    "from sklearn.naive_bayes import MultinomialNB\n",
    "from sklearn.ensemble import RandomForestClassifier,GradientBoostingClassifier\n",
    "from sklearn.metrics import classification_report,confusion_matrix,accuracy_score\n",
    "import warnings\n",
    "warnings.filterwarnings('ignore')\n",
    "\n"
   ]
  },
  {
   "cell_type": "code",
   "execution_count": 16,
   "id": "d5ddbed0",
   "metadata": {
    "ExecuteTime": {
     "end_time": "2022-09-10T14:03:38.366951Z",
     "start_time": "2022-09-10T14:03:38.269100Z"
    }
   },
   "outputs": [
    {
     "data": {
      "text/html": [
       "<div>\n",
       "<style scoped>\n",
       "    .dataframe tbody tr th:only-of-type {\n",
       "        vertical-align: middle;\n",
       "    }\n",
       "\n",
       "    .dataframe tbody tr th {\n",
       "        vertical-align: top;\n",
       "    }\n",
       "\n",
       "    .dataframe thead th {\n",
       "        text-align: right;\n",
       "    }\n",
       "</style>\n",
       "<table border=\"1\" class=\"dataframe\">\n",
       "  <thead>\n",
       "    <tr style=\"text-align: right;\">\n",
       "      <th></th>\n",
       "      <th>Unnamed: 0</th>\n",
       "      <th>content</th>\n",
       "      <th>result</th>\n",
       "    </tr>\n",
       "  </thead>\n",
       "  <tbody>\n",
       "    <tr>\n",
       "      <th>0</th>\n",
       "      <td>0</td>\n",
       "      <td>Anubhav Kumar Singh\\t\\t\\n\\n\\n\\nCore Competenci...</td>\n",
       "      <td>Peoplesoft resumes</td>\n",
       "    </tr>\n",
       "    <tr>\n",
       "      <th>1</th>\n",
       "      <td>1</td>\n",
       "      <td>Classification: Internal\\n\\nClassification: In...</td>\n",
       "      <td>Peoplesoft resumes</td>\n",
       "    </tr>\n",
       "    <tr>\n",
       "      <th>2</th>\n",
       "      <td>2</td>\n",
       "      <td>SIRAZUDDIN M\\n\\n\\tBangalore, INDIA\\t\\n\\n\\n\\n\\n...</td>\n",
       "      <td>Peoplesoft resumes</td>\n",
       "    </tr>\n",
       "    <tr>\n",
       "      <th>3</th>\n",
       "      <td>3</td>\n",
       "      <td>PeopleSoft Admin\\n\\nVARKALA VIKAS\\n\\n\\n\\nCaree...</td>\n",
       "      <td>Peoplesoft resumes</td>\n",
       "    </tr>\n",
       "    <tr>\n",
       "      <th>4</th>\n",
       "      <td>4</td>\n",
       "      <td>PeopleSoft Administration\\n\\n \\n\\nVivekanand S...</td>\n",
       "      <td>Peoplesoft resumes</td>\n",
       "    </tr>\n",
       "    <tr>\n",
       "      <th>5</th>\n",
       "      <td>5</td>\n",
       "      <td>Hari Narayana \\t\\t              \\n\\n\\t\\n\\n\\n\\n...</td>\n",
       "      <td>Peoplesoft resumes</td>\n",
       "    </tr>\n",
       "    <tr>\n",
       "      <th>6</th>\n",
       "      <td>6</td>\n",
       "      <td>Murali\\t\\t       \\n\\n\\t\\n\\n\\n\\n\\n\\n\\n\\n\\n\\n\\n\\...</td>\n",
       "      <td>Peoplesoft resumes</td>\n",
       "    </tr>\n",
       "    <tr>\n",
       "      <th>7</th>\n",
       "      <td>7</td>\n",
       "      <td>Priyabrata Hota\\n\\n\\n\\n\\n\\nCAREER OBJECTIVE\\t\\...</td>\n",
       "      <td>Peoplesoft resumes</td>\n",
       "    </tr>\n",
       "    <tr>\n",
       "      <th>8</th>\n",
       "      <td>8</td>\n",
       "      <td>Tanna Sujatha \\n\\n\\n\\n\\n\\n\\n\\nOBJECTIVE\\n\\nSee...</td>\n",
       "      <td>Peoplesoft resumes</td>\n",
       "    </tr>\n",
       "    <tr>\n",
       "      <th>9</th>\n",
       "      <td>9</td>\n",
       "      <td>C O N T A C T :\\n\\n\\n\\nAddress: Manyata Tech P...</td>\n",
       "      <td>Peoplesoft resumes</td>\n",
       "    </tr>\n",
       "    <tr>\n",
       "      <th>10</th>\n",
       "      <td>10</td>\n",
       "      <td>ANIL KUMAR MADDUKURI  \\t\\t\\n\\nSQL &amp; MSBI Devel...</td>\n",
       "      <td>SQL Developer Lightning insight</td>\n",
       "    </tr>\n",
       "    <tr>\n",
       "      <th>11</th>\n",
       "      <td>11</td>\n",
       "      <td>Aradhana Tripathi\\n\\n\\n\\nCurrent Location: Gac...</td>\n",
       "      <td>SQL Developer Lightning insight</td>\n",
       "    </tr>\n",
       "    <tr>\n",
       "      <th>12</th>\n",
       "      <td>12</td>\n",
       "      <td>BUDDHA VAMSI                                  ...</td>\n",
       "      <td>SQL Developer Lightning insight</td>\n",
       "    </tr>\n",
       "    <tr>\n",
       "      <th>13</th>\n",
       "      <td>13</td>\n",
       "      <td>KAMBALLA PRADEEP                              ...</td>\n",
       "      <td>SQL Developer Lightning insight</td>\n",
       "    </tr>\n",
       "    <tr>\n",
       "      <th>14</th>\n",
       "      <td>14</td>\n",
       "      <td>KAMBALLA PRADEEP                              ...</td>\n",
       "      <td>SQL Developer Lightning insight</td>\n",
       "    </tr>\n",
       "    <tr>\n",
       "      <th>15</th>\n",
       "      <td>15</td>\n",
       "      <td>Resume\\n\\nName     :  Neeraj Mishra\\n\\n\\n\\nExp...</td>\n",
       "      <td>SQL Developer Lightning insight</td>\n",
       "    </tr>\n",
       "    <tr>\n",
       "      <th>16</th>\n",
       "      <td>16</td>\n",
       "      <td>SQL DEVELOPER\\n\\nName: -   Bandi prem sai\\n\\n\\...</td>\n",
       "      <td>SQL Developer Lightning insight</td>\n",
       "    </tr>\n",
       "    <tr>\n",
       "      <th>17</th>\n",
       "      <td>17</td>\n",
       "      <td>SQL DEVELOPER\\n\\nName: -   Bandi prem sai\\n\\n\\...</td>\n",
       "      <td>SQL Developer Lightning insight</td>\n",
       "    </tr>\n",
       "    <tr>\n",
       "      <th>18</th>\n",
       "      <td>18</td>\n",
       "      <td>SQL SERVER DEVELOPER\\n\\n\\n\\n\\n\\nP. Syam Kumar ...</td>\n",
       "      <td>SQL Developer Lightning insight</td>\n",
       "    </tr>\n",
       "    <tr>\n",
       "      <th>19</th>\n",
       "      <td>19</td>\n",
       "      <td>RAJU PAVANA KUMARI\\n\\n\\n\\n\\t\\n\\n\\tProfessional...</td>\n",
       "      <td>SQL Developer Lightning insight</td>\n",
       "    </tr>\n",
       "    <tr>\n",
       "      <th>20</th>\n",
       "      <td>20</td>\n",
       "      <td>resume\\n\\n\\n\\n\\n\\n\\t\\t\\t\\t\\t\\t\\t\\t\\t\\t\\t\\tRama...</td>\n",
       "      <td>SQL Developer Lightning insight</td>\n",
       "    </tr>\n",
       "    <tr>\n",
       "      <th>21</th>\n",
       "      <td>21</td>\n",
       "      <td>Name: Ramesh\\n\\n\\t\\n\\n\\tCareer Objective: \\n\\n...</td>\n",
       "      <td>SQL Developer Lightning insight</td>\n",
       "    </tr>\n",
       "    <tr>\n",
       "      <th>22</th>\n",
       "      <td>22</td>\n",
       "      <td>Name: Ramesh\\n\\n\\t\\n\\n\\tCareer Objective: \\n\\n...</td>\n",
       "      <td>SQL Developer Lightning insight</td>\n",
       "    </tr>\n",
       "    <tr>\n",
       "      <th>23</th>\n",
       "      <td>23</td>\n",
       "      <td>SQL AND MSBI DEVELOPER\\n\\nSQL AND MSBI DEVELOP...</td>\n",
       "      <td>SQL Developer Lightning insight</td>\n",
       "    </tr>\n",
       "    <tr>\n",
       "      <th>24</th>\n",
       "      <td>24</td>\n",
       "      <td>Chinna Subbarayudu M\\n\\nDOB: 06th March 1994\\n...</td>\n",
       "      <td>workday resumes</td>\n",
       "    </tr>\n",
       "    <tr>\n",
       "      <th>25</th>\n",
       "      <td>25</td>\n",
       "      <td>Name         : Gopi Krishna Reddy\\n\\n\\t\\t\\t\\t ...</td>\n",
       "      <td>workday resumes</td>\n",
       "    </tr>\n",
       "    <tr>\n",
       "      <th>26</th>\n",
       "      <td>26</td>\n",
       "      <td>Name         : Gopi Krishna Reddy\\n\\n\\t\\t\\t\\t ...</td>\n",
       "      <td>workday resumes</td>\n",
       "    </tr>\n",
       "    <tr>\n",
       "      <th>27</th>\n",
       "      <td>27</td>\n",
       "      <td>Name         : Gopi Krishna Reddy\\n\\n\\t\\t\\t\\t ...</td>\n",
       "      <td>workday resumes</td>\n",
       "    </tr>\n",
       "    <tr>\n",
       "      <th>28</th>\n",
       "      <td>28</td>\n",
       "      <td>Name         : Gopi Krishna Reddy\\n\\n\\t\\t\\t\\t ...</td>\n",
       "      <td>workday resumes</td>\n",
       "    </tr>\n",
       "    <tr>\n",
       "      <th>29</th>\n",
       "      <td>29</td>\n",
       "      <td>G Himaja\\n\\n                                  ...</td>\n",
       "      <td>workday resumes</td>\n",
       "    </tr>\n",
       "    <tr>\n",
       "      <th>30</th>\n",
       "      <td>30</td>\n",
       "      <td>G Himaja\\n\\n                                  ...</td>\n",
       "      <td>workday resumes</td>\n",
       "    </tr>\n",
       "    <tr>\n",
       "      <th>31</th>\n",
       "      <td>31</td>\n",
       "      <td>JYOTI VERMA\\t\\t\\t\\t\\t\\n\\n\\n\\nPROFESSIONAL SUMM...</td>\n",
       "      <td>workday resumes</td>\n",
       "    </tr>\n",
       "    <tr>\n",
       "      <th>32</th>\n",
       "      <td>32</td>\n",
       "      <td>JYOTI VERMA\\t\\t\\t\\t\\t\\n\\n\\n\\nPROFESSIONAL SUMM...</td>\n",
       "      <td>workday resumes</td>\n",
       "    </tr>\n",
       "    <tr>\n",
       "      <th>33</th>\n",
       "      <td>33</td>\n",
       "      <td>Mooraboyina Guravaiah\\n\\nWorkday Integration S...</td>\n",
       "      <td>workday resumes</td>\n",
       "    </tr>\n",
       "    <tr>\n",
       "      <th>34</th>\n",
       "      <td>34</td>\n",
       "      <td>Mooraboyina Guravaiah\\n\\nWorkday Integration S...</td>\n",
       "      <td>workday resumes</td>\n",
       "    </tr>\n",
       "    <tr>\n",
       "      <th>35</th>\n",
       "      <td>35</td>\n",
       "      <td>VENKATA SAIKRISHNA\\n\\n Workday Consultant\\n\\n\\...</td>\n",
       "      <td>workday resumes</td>\n",
       "    </tr>\n",
       "    <tr>\n",
       "      <th>36</th>\n",
       "      <td>36</td>\n",
       "      <td>VENKATA SAIKRISHNA\\n\\n Workday Consultant\\n\\n\\...</td>\n",
       "      <td>workday resumes</td>\n",
       "    </tr>\n",
       "    <tr>\n",
       "      <th>37</th>\n",
       "      <td>37</td>\n",
       "      <td>Workday HCM  Techno functional Consultant     ...</td>\n",
       "      <td>workday resumes</td>\n",
       "    </tr>\n",
       "    <tr>\n",
       "      <th>38</th>\n",
       "      <td>38</td>\n",
       "      <td>Ramesh A\\t\\t\\t\\t\\t\\t\\t\\t\\t\\t\\t\\t\\t\\t\\t\\t\\t\\t\\t...</td>\n",
       "      <td>workday resumes</td>\n",
       "    </tr>\n",
       "    <tr>\n",
       "      <th>39</th>\n",
       "      <td>39</td>\n",
       "      <td>Ramesh A\\t\\t\\t\\t\\t\\t\\t\\t\\t\\t\\t\\t\\t\\t\\t\\t\\t\\t\\t...</td>\n",
       "      <td>workday resumes</td>\n",
       "    </tr>\n",
       "    <tr>\n",
       "      <th>40</th>\n",
       "      <td>40</td>\n",
       "      <td>Ramesh A\\t\\t\\t\\t\\t\\t\\t\\t\\t\\t\\t\\t\\t\\t\\t\\t\\t\\t\\t...</td>\n",
       "      <td>workday resumes</td>\n",
       "    </tr>\n",
       "    <tr>\n",
       "      <th>41</th>\n",
       "      <td>41</td>\n",
       "      <td>Srikanth (WORKDAY hCM Consultant)\\t           ...</td>\n",
       "      <td>workday resumes</td>\n",
       "    </tr>\n",
       "    <tr>\n",
       "      <th>42</th>\n",
       "      <td>42</td>\n",
       "      <td>WORKDAY | HCM | FCM\\n\\nName \\t\\t: Kumar S.S\\n\\...</td>\n",
       "      <td>workday resumes</td>\n",
       "    </tr>\n",
       "    <tr>\n",
       "      <th>43</th>\n",
       "      <td>43</td>\n",
       "      <td>WORKDAY | HCM | FCM\\n\\nName \\t\\t: Kumar S.S\\n\\...</td>\n",
       "      <td>workday resumes</td>\n",
       "    </tr>\n",
       "    <tr>\n",
       "      <th>44</th>\n",
       "      <td>44</td>\n",
       "      <td>Vinay kumar .v\\nWorkday Functional Consultant\\...</td>\n",
       "      <td>workday resumes</td>\n",
       "    </tr>\n",
       "  </tbody>\n",
       "</table>\n",
       "</div>"
      ],
      "text/plain": [
       "    Unnamed: 0                                            content  \\\n",
       "0            0  Anubhav Kumar Singh\\t\\t\\n\\n\\n\\nCore Competenci...   \n",
       "1            1  Classification: Internal\\n\\nClassification: In...   \n",
       "2            2  SIRAZUDDIN M\\n\\n\\tBangalore, INDIA\\t\\n\\n\\n\\n\\n...   \n",
       "3            3  PeopleSoft Admin\\n\\nVARKALA VIKAS\\n\\n\\n\\nCaree...   \n",
       "4            4  PeopleSoft Administration\\n\\n \\n\\nVivekanand S...   \n",
       "5            5  Hari Narayana \\t\\t              \\n\\n\\t\\n\\n\\n\\n...   \n",
       "6            6  Murali\\t\\t       \\n\\n\\t\\n\\n\\n\\n\\n\\n\\n\\n\\n\\n\\n\\...   \n",
       "7            7  Priyabrata Hota\\n\\n\\n\\n\\n\\nCAREER OBJECTIVE\\t\\...   \n",
       "8            8  Tanna Sujatha \\n\\n\\n\\n\\n\\n\\n\\nOBJECTIVE\\n\\nSee...   \n",
       "9            9  C O N T A C T :\\n\\n\\n\\nAddress: Manyata Tech P...   \n",
       "10          10  ANIL KUMAR MADDUKURI  \\t\\t\\n\\nSQL & MSBI Devel...   \n",
       "11          11  Aradhana Tripathi\\n\\n\\n\\nCurrent Location: Gac...   \n",
       "12          12  BUDDHA VAMSI                                  ...   \n",
       "13          13  KAMBALLA PRADEEP                              ...   \n",
       "14          14  KAMBALLA PRADEEP                              ...   \n",
       "15          15  Resume\\n\\nName     :  Neeraj Mishra\\n\\n\\n\\nExp...   \n",
       "16          16  SQL DEVELOPER\\n\\nName: -   Bandi prem sai\\n\\n\\...   \n",
       "17          17  SQL DEVELOPER\\n\\nName: -   Bandi prem sai\\n\\n\\...   \n",
       "18          18  SQL SERVER DEVELOPER\\n\\n\\n\\n\\n\\nP. Syam Kumar ...   \n",
       "19          19  RAJU PAVANA KUMARI\\n\\n\\n\\n\\t\\n\\n\\tProfessional...   \n",
       "20          20  resume\\n\\n\\n\\n\\n\\n\\t\\t\\t\\t\\t\\t\\t\\t\\t\\t\\t\\tRama...   \n",
       "21          21  Name: Ramesh\\n\\n\\t\\n\\n\\tCareer Objective: \\n\\n...   \n",
       "22          22  Name: Ramesh\\n\\n\\t\\n\\n\\tCareer Objective: \\n\\n...   \n",
       "23          23  SQL AND MSBI DEVELOPER\\n\\nSQL AND MSBI DEVELOP...   \n",
       "24          24  Chinna Subbarayudu M\\n\\nDOB: 06th March 1994\\n...   \n",
       "25          25  Name         : Gopi Krishna Reddy\\n\\n\\t\\t\\t\\t ...   \n",
       "26          26  Name         : Gopi Krishna Reddy\\n\\n\\t\\t\\t\\t ...   \n",
       "27          27  Name         : Gopi Krishna Reddy\\n\\n\\t\\t\\t\\t ...   \n",
       "28          28  Name         : Gopi Krishna Reddy\\n\\n\\t\\t\\t\\t ...   \n",
       "29          29  G Himaja\\n\\n                                  ...   \n",
       "30          30  G Himaja\\n\\n                                  ...   \n",
       "31          31  JYOTI VERMA\\t\\t\\t\\t\\t\\n\\n\\n\\nPROFESSIONAL SUMM...   \n",
       "32          32  JYOTI VERMA\\t\\t\\t\\t\\t\\n\\n\\n\\nPROFESSIONAL SUMM...   \n",
       "33          33  Mooraboyina Guravaiah\\n\\nWorkday Integration S...   \n",
       "34          34  Mooraboyina Guravaiah\\n\\nWorkday Integration S...   \n",
       "35          35  VENKATA SAIKRISHNA\\n\\n Workday Consultant\\n\\n\\...   \n",
       "36          36  VENKATA SAIKRISHNA\\n\\n Workday Consultant\\n\\n\\...   \n",
       "37          37  Workday HCM  Techno functional Consultant     ...   \n",
       "38          38  Ramesh A\\t\\t\\t\\t\\t\\t\\t\\t\\t\\t\\t\\t\\t\\t\\t\\t\\t\\t\\t...   \n",
       "39          39  Ramesh A\\t\\t\\t\\t\\t\\t\\t\\t\\t\\t\\t\\t\\t\\t\\t\\t\\t\\t\\t...   \n",
       "40          40  Ramesh A\\t\\t\\t\\t\\t\\t\\t\\t\\t\\t\\t\\t\\t\\t\\t\\t\\t\\t\\t...   \n",
       "41          41  Srikanth (WORKDAY hCM Consultant)\\t           ...   \n",
       "42          42  WORKDAY | HCM | FCM\\n\\nName \\t\\t: Kumar S.S\\n\\...   \n",
       "43          43  WORKDAY | HCM | FCM\\n\\nName \\t\\t: Kumar S.S\\n\\...   \n",
       "44          44  Vinay kumar .v\\nWorkday Functional Consultant\\...   \n",
       "\n",
       "                             result  \n",
       "0                Peoplesoft resumes  \n",
       "1                Peoplesoft resumes  \n",
       "2                Peoplesoft resumes  \n",
       "3                Peoplesoft resumes  \n",
       "4                Peoplesoft resumes  \n",
       "5                Peoplesoft resumes  \n",
       "6                Peoplesoft resumes  \n",
       "7                Peoplesoft resumes  \n",
       "8                Peoplesoft resumes  \n",
       "9                Peoplesoft resumes  \n",
       "10  SQL Developer Lightning insight  \n",
       "11  SQL Developer Lightning insight  \n",
       "12  SQL Developer Lightning insight  \n",
       "13  SQL Developer Lightning insight  \n",
       "14  SQL Developer Lightning insight  \n",
       "15  SQL Developer Lightning insight  \n",
       "16  SQL Developer Lightning insight  \n",
       "17  SQL Developer Lightning insight  \n",
       "18  SQL Developer Lightning insight  \n",
       "19  SQL Developer Lightning insight  \n",
       "20  SQL Developer Lightning insight  \n",
       "21  SQL Developer Lightning insight  \n",
       "22  SQL Developer Lightning insight  \n",
       "23  SQL Developer Lightning insight  \n",
       "24                  workday resumes  \n",
       "25                  workday resumes  \n",
       "26                  workday resumes  \n",
       "27                  workday resumes  \n",
       "28                  workday resumes  \n",
       "29                  workday resumes  \n",
       "30                  workday resumes  \n",
       "31                  workday resumes  \n",
       "32                  workday resumes  \n",
       "33                  workday resumes  \n",
       "34                  workday resumes  \n",
       "35                  workday resumes  \n",
       "36                  workday resumes  \n",
       "37                  workday resumes  \n",
       "38                  workday resumes  \n",
       "39                  workday resumes  \n",
       "40                  workday resumes  \n",
       "41                  workday resumes  \n",
       "42                  workday resumes  \n",
       "43                  workday resumes  \n",
       "44                  workday resumes  "
      ]
     },
     "execution_count": 16,
     "metadata": {},
     "output_type": "execute_result"
    }
   ],
   "source": [
    "resume_content = pd.read_csv('resume_data.csv',encoding = 'utf-8')\n",
    "resume_content"
   ]
  },
  {
   "cell_type": "code",
   "execution_count": 17,
   "id": "4650cb06",
   "metadata": {
    "ExecuteTime": {
     "end_time": "2022-09-10T14:03:38.876807Z",
     "start_time": "2022-09-10T14:03:38.373211Z"
    }
   },
   "outputs": [],
   "source": [
    "##deleting with unnamed column\n",
    "resume_content.drop('Unnamed: 0',axis=1,inplace=True)"
   ]
  },
  {
   "cell_type": "code",
   "execution_count": 18,
   "id": "8a6c6c8c",
   "metadata": {
    "ExecuteTime": {
     "end_time": "2022-09-10T14:03:39.523561Z",
     "start_time": "2022-09-10T14:03:38.881624Z"
    }
   },
   "outputs": [
    {
     "data": {
      "text/html": [
       "<div>\n",
       "<style scoped>\n",
       "    .dataframe tbody tr th:only-of-type {\n",
       "        vertical-align: middle;\n",
       "    }\n",
       "\n",
       "    .dataframe tbody tr th {\n",
       "        vertical-align: top;\n",
       "    }\n",
       "\n",
       "    .dataframe thead th {\n",
       "        text-align: right;\n",
       "    }\n",
       "</style>\n",
       "<table border=\"1\" class=\"dataframe\">\n",
       "  <thead>\n",
       "    <tr style=\"text-align: right;\">\n",
       "      <th></th>\n",
       "      <th>content</th>\n",
       "      <th>result</th>\n",
       "    </tr>\n",
       "  </thead>\n",
       "  <tbody>\n",
       "    <tr>\n",
       "      <th>0</th>\n",
       "      <td>Anubhav Kumar Singh\\t\\t\\n\\n\\n\\nCore Competenci...</td>\n",
       "      <td>Peoplesoft resumes</td>\n",
       "    </tr>\n",
       "    <tr>\n",
       "      <th>1</th>\n",
       "      <td>Classification: Internal\\n\\nClassification: In...</td>\n",
       "      <td>Peoplesoft resumes</td>\n",
       "    </tr>\n",
       "    <tr>\n",
       "      <th>2</th>\n",
       "      <td>SIRAZUDDIN M\\n\\n\\tBangalore, INDIA\\t\\n\\n\\n\\n\\n...</td>\n",
       "      <td>Peoplesoft resumes</td>\n",
       "    </tr>\n",
       "    <tr>\n",
       "      <th>3</th>\n",
       "      <td>PeopleSoft Admin\\n\\nVARKALA VIKAS\\n\\n\\n\\nCaree...</td>\n",
       "      <td>Peoplesoft resumes</td>\n",
       "    </tr>\n",
       "    <tr>\n",
       "      <th>4</th>\n",
       "      <td>PeopleSoft Administration\\n\\n \\n\\nVivekanand S...</td>\n",
       "      <td>Peoplesoft resumes</td>\n",
       "    </tr>\n",
       "  </tbody>\n",
       "</table>\n",
       "</div>"
      ],
      "text/plain": [
       "                                             content              result\n",
       "0  Anubhav Kumar Singh\\t\\t\\n\\n\\n\\nCore Competenci...  Peoplesoft resumes\n",
       "1  Classification: Internal\\n\\nClassification: In...  Peoplesoft resumes\n",
       "2  SIRAZUDDIN M\\n\\n\\tBangalore, INDIA\\t\\n\\n\\n\\n\\n...  Peoplesoft resumes\n",
       "3  PeopleSoft Admin\\n\\nVARKALA VIKAS\\n\\n\\n\\nCaree...  Peoplesoft resumes\n",
       "4  PeopleSoft Administration\\n\\n \\n\\nVivekanand S...  Peoplesoft resumes"
      ]
     },
     "execution_count": 18,
     "metadata": {},
     "output_type": "execute_result"
    }
   ],
   "source": [
    "resume_content.head()"
   ]
  },
  {
   "cell_type": "code",
   "execution_count": 19,
   "id": "69762b83",
   "metadata": {
    "ExecuteTime": {
     "end_time": "2022-09-10T14:03:40.590182Z",
     "start_time": "2022-09-10T14:03:39.534718Z"
    }
   },
   "outputs": [
    {
     "data": {
      "text/plain": [
       "(45, 2)"
      ]
     },
     "execution_count": 19,
     "metadata": {},
     "output_type": "execute_result"
    }
   ],
   "source": [
    "resume_content.shape"
   ]
  },
  {
   "cell_type": "markdown",
   "id": "2d0c1be9",
   "metadata": {},
   "source": [
    "# Text cleaning"
   ]
  },
  {
   "cell_type": "code",
   "execution_count": 20,
   "id": "486834d4",
   "metadata": {
    "ExecuteTime": {
     "end_time": "2022-09-10T14:03:41.847799Z",
     "start_time": "2022-09-10T14:03:40.603136Z"
    }
   },
   "outputs": [],
   "source": [
    "import nltk"
   ]
  },
  {
   "cell_type": "code",
   "execution_count": 21,
   "id": "97330a7e",
   "metadata": {
    "ExecuteTime": {
     "end_time": "2022-09-10T14:03:41.867864Z",
     "start_time": "2022-09-10T14:03:41.852796Z"
    }
   },
   "outputs": [],
   "source": [
    "import re\n",
    "import string \n",
    "import nltk\n",
    "from nltk.tokenize import RegexpTokenizer\n",
    "from nltk.stem import WordNetLemmatizer\n",
    "from nltk.corpus import stopwords\n",
    "from nltk.corpus import stopwords \n",
    "wnl = WordNetLemmatizer()\n",
    "\n"
   ]
  },
  {
   "cell_type": "code",
   "execution_count": 22,
   "id": "80c88519",
   "metadata": {
    "ExecuteTime": {
     "end_time": "2022-09-10T14:03:43.073364Z",
     "start_time": "2022-09-10T14:03:41.872380Z"
    }
   },
   "outputs": [
    {
     "name": "stderr",
     "output_type": "stream",
     "text": [
      "[nltk_data] Downloading package wordnet to\n",
      "[nltk_data]     C:\\Users\\User\\AppData\\Roaming\\nltk_data...\n"
     ]
    },
    {
     "data": {
      "text/plain": [
       "True"
      ]
     },
     "execution_count": 22,
     "metadata": {},
     "output_type": "execute_result"
    }
   ],
   "source": [
    "nltk.download('wordnet')"
   ]
  },
  {
   "cell_type": "code",
   "execution_count": 23,
   "id": "798b39cb",
   "metadata": {
    "ExecuteTime": {
     "end_time": "2022-09-10T14:03:43.105263Z",
     "start_time": "2022-09-10T14:03:43.074360Z"
    }
   },
   "outputs": [],
   "source": [
    "def preprocess(sentence):\n",
    "    sentence=str(sentence)\n",
    "    sentence = sentence.lower()\n",
    "    sentence=sentence.replace('{html}',\"\") \n",
    "    cleanr = re.compile('<.*?>')\n",
    "    cleantext = re.sub(cleanr, '', sentence)\n",
    "    rem_url=re.sub(r'http\\S+', '',cleantext)\n",
    "    rem_num = re.sub('[0-9]+', '', rem_url)\n",
    "    tokenizer = RegexpTokenizer(r'\\w+')\n",
    "    tokens = tokenizer.tokenize(rem_num)  \n",
    "    filtered_words = [w for w in tokens if len(w) > 2 if not w in stopwords.words('english')]\n",
    "    lemmatizer= WordNetLemmatizer()\n",
    "    lemma_words=[lemmatizer.lemmatize(w) for w in filtered_words]\n",
    "    return \" \".join(lemma_words)"
   ]
  },
  {
   "cell_type": "code",
   "execution_count": 24,
   "id": "23d3fae0",
   "metadata": {
    "ExecuteTime": {
     "end_time": "2022-09-10T14:03:44.146300Z",
     "start_time": "2022-09-10T14:03:43.110328Z"
    }
   },
   "outputs": [],
   "source": [
    "def preprocess(sentence):\n",
    "    sentence=re.sub('[^a-zA-Z]','',str(sentence))\n",
    "    sentence=sentence.split()\n",
    "    sentence=[wnl.lemmatize(word)for word in sentence]\n",
    "    sentence=[word for word in sentence if word not in set(stopwords.words('english'))]\n",
    "    sentence = \" \".join(sentence)\n",
    "    return sentence"
   ]
  },
  {
   "cell_type": "code",
   "execution_count": 25,
   "id": "67a82090",
   "metadata": {
    "ExecuteTime": {
     "end_time": "2022-09-10T14:03:47.721640Z",
     "start_time": "2022-09-10T14:03:44.159966Z"
    }
   },
   "outputs": [
    {
     "ename": "LookupError",
     "evalue": "\n**********************************************************************\n  Resource \u001b[93momw-1.4\u001b[0m not found.\n  Please use the NLTK Downloader to obtain the resource:\n\n  \u001b[31m>>> import nltk\n  >>> nltk.download('omw-1.4')\n  \u001b[0m\n  For more information see: https://www.nltk.org/data.html\n\n  Attempted to load \u001b[93mcorpora/omw-1.4\u001b[0m\n\n  Searched in:\n    - 'C:\\\\Users\\\\User/nltk_data'\n    - 'C:\\\\ProgramData\\\\Anaconda3\\\\nltk_data'\n    - 'C:\\\\ProgramData\\\\Anaconda3\\\\share\\\\nltk_data'\n    - 'C:\\\\ProgramData\\\\Anaconda3\\\\lib\\\\nltk_data'\n    - 'C:\\\\Users\\\\User\\\\AppData\\\\Roaming\\\\nltk_data'\n    - 'C:\\\\nltk_data'\n    - 'D:\\\\nltk_data'\n    - 'E:\\\\nltk_data'\n**********************************************************************\n",
     "output_type": "error",
     "traceback": [
      "\u001b[1;31m---------------------------------------------------------------------------\u001b[0m",
      "\u001b[1;31mLookupError\u001b[0m                               Traceback (most recent call last)",
      "\u001b[1;32mC:\\ProgramData\\Anaconda3\\lib\\site-packages\\nltk\\corpus\\util.py\u001b[0m in \u001b[0;36m__load\u001b[1;34m(self)\u001b[0m\n\u001b[0;32m     83\u001b[0m                 \u001b[1;32mtry\u001b[0m\u001b[1;33m:\u001b[0m\u001b[1;33m\u001b[0m\u001b[1;33m\u001b[0m\u001b[0m\n\u001b[1;32m---> 84\u001b[1;33m                     \u001b[0mroot\u001b[0m \u001b[1;33m=\u001b[0m \u001b[0mnltk\u001b[0m\u001b[1;33m.\u001b[0m\u001b[0mdata\u001b[0m\u001b[1;33m.\u001b[0m\u001b[0mfind\u001b[0m\u001b[1;33m(\u001b[0m\u001b[1;34mf\"{self.subdir}/{zip_name}\"\u001b[0m\u001b[1;33m)\u001b[0m\u001b[1;33m\u001b[0m\u001b[1;33m\u001b[0m\u001b[0m\n\u001b[0m\u001b[0;32m     85\u001b[0m                 \u001b[1;32mexcept\u001b[0m \u001b[0mLookupError\u001b[0m\u001b[1;33m:\u001b[0m\u001b[1;33m\u001b[0m\u001b[1;33m\u001b[0m\u001b[0m\n",
      "\u001b[1;32mC:\\ProgramData\\Anaconda3\\lib\\site-packages\\nltk\\data.py\u001b[0m in \u001b[0;36mfind\u001b[1;34m(resource_name, paths)\u001b[0m\n\u001b[0;32m    582\u001b[0m     \u001b[0mresource_not_found\u001b[0m \u001b[1;33m=\u001b[0m \u001b[1;34mf\"\\n{sep}\\n{msg}\\n{sep}\\n\"\u001b[0m\u001b[1;33m\u001b[0m\u001b[1;33m\u001b[0m\u001b[0m\n\u001b[1;32m--> 583\u001b[1;33m     \u001b[1;32mraise\u001b[0m \u001b[0mLookupError\u001b[0m\u001b[1;33m(\u001b[0m\u001b[0mresource_not_found\u001b[0m\u001b[1;33m)\u001b[0m\u001b[1;33m\u001b[0m\u001b[1;33m\u001b[0m\u001b[0m\n\u001b[0m\u001b[0;32m    584\u001b[0m \u001b[1;33m\u001b[0m\u001b[0m\n",
      "\u001b[1;31mLookupError\u001b[0m: \n**********************************************************************\n  Resource \u001b[93momw-1.4\u001b[0m not found.\n  Please use the NLTK Downloader to obtain the resource:\n\n  \u001b[31m>>> import nltk\n  >>> nltk.download('omw-1.4')\n  \u001b[0m\n  For more information see: https://www.nltk.org/data.html\n\n  Attempted to load \u001b[93mcorpora/omw-1.4.zip/omw-1.4/\u001b[0m\n\n  Searched in:\n    - 'C:\\\\Users\\\\User/nltk_data'\n    - 'C:\\\\ProgramData\\\\Anaconda3\\\\nltk_data'\n    - 'C:\\\\ProgramData\\\\Anaconda3\\\\share\\\\nltk_data'\n    - 'C:\\\\ProgramData\\\\Anaconda3\\\\lib\\\\nltk_data'\n    - 'C:\\\\Users\\\\User\\\\AppData\\\\Roaming\\\\nltk_data'\n    - 'C:\\\\nltk_data'\n    - 'D:\\\\nltk_data'\n    - 'E:\\\\nltk_data'\n**********************************************************************\n",
      "\nDuring handling of the above exception, another exception occurred:\n",
      "\u001b[1;31mLookupError\u001b[0m                               Traceback (most recent call last)",
      "\u001b[1;32m~\\AppData\\Local\\Temp\\ipykernel_9028\\3593611364.py\u001b[0m in \u001b[0;36m<module>\u001b[1;34m\u001b[0m\n\u001b[1;32m----> 1\u001b[1;33m \u001b[0mresume_content\u001b[0m\u001b[1;33m[\u001b[0m\u001b[1;34m'lemmatized_content'\u001b[0m\u001b[1;33m]\u001b[0m\u001b[1;33m=\u001b[0m\u001b[0mresume_content\u001b[0m\u001b[1;33m[\u001b[0m\u001b[1;34m'content'\u001b[0m\u001b[1;33m]\u001b[0m\u001b[1;33m.\u001b[0m\u001b[0mapply\u001b[0m\u001b[1;33m(\u001b[0m\u001b[0mpreprocess\u001b[0m\u001b[1;33m)\u001b[0m\u001b[1;33m\u001b[0m\u001b[1;33m\u001b[0m\u001b[0m\n\u001b[0m\u001b[0;32m      2\u001b[0m \u001b[0mresume_content\u001b[0m\u001b[1;33m[\u001b[0m\u001b[1;34m'lemmatized_content'\u001b[0m\u001b[1;33m]\u001b[0m\u001b[1;33m\u001b[0m\u001b[1;33m\u001b[0m\u001b[0m\n",
      "\u001b[1;32mC:\\ProgramData\\Anaconda3\\lib\\site-packages\\pandas\\core\\series.py\u001b[0m in \u001b[0;36mapply\u001b[1;34m(self, func, convert_dtype, args, **kwargs)\u001b[0m\n\u001b[0;32m   4431\u001b[0m         \u001b[0mdtype\u001b[0m\u001b[1;33m:\u001b[0m \u001b[0mfloat64\u001b[0m\u001b[1;33m\u001b[0m\u001b[1;33m\u001b[0m\u001b[0m\n\u001b[0;32m   4432\u001b[0m         \"\"\"\n\u001b[1;32m-> 4433\u001b[1;33m         \u001b[1;32mreturn\u001b[0m \u001b[0mSeriesApply\u001b[0m\u001b[1;33m(\u001b[0m\u001b[0mself\u001b[0m\u001b[1;33m,\u001b[0m \u001b[0mfunc\u001b[0m\u001b[1;33m,\u001b[0m \u001b[0mconvert_dtype\u001b[0m\u001b[1;33m,\u001b[0m \u001b[0margs\u001b[0m\u001b[1;33m,\u001b[0m \u001b[0mkwargs\u001b[0m\u001b[1;33m)\u001b[0m\u001b[1;33m.\u001b[0m\u001b[0mapply\u001b[0m\u001b[1;33m(\u001b[0m\u001b[1;33m)\u001b[0m\u001b[1;33m\u001b[0m\u001b[1;33m\u001b[0m\u001b[0m\n\u001b[0m\u001b[0;32m   4434\u001b[0m \u001b[1;33m\u001b[0m\u001b[0m\n\u001b[0;32m   4435\u001b[0m     def _reduce(\n",
      "\u001b[1;32mC:\\ProgramData\\Anaconda3\\lib\\site-packages\\pandas\\core\\apply.py\u001b[0m in \u001b[0;36mapply\u001b[1;34m(self)\u001b[0m\n\u001b[0;32m   1086\u001b[0m             \u001b[1;32mreturn\u001b[0m \u001b[0mself\u001b[0m\u001b[1;33m.\u001b[0m\u001b[0mapply_str\u001b[0m\u001b[1;33m(\u001b[0m\u001b[1;33m)\u001b[0m\u001b[1;33m\u001b[0m\u001b[1;33m\u001b[0m\u001b[0m\n\u001b[0;32m   1087\u001b[0m \u001b[1;33m\u001b[0m\u001b[0m\n\u001b[1;32m-> 1088\u001b[1;33m         \u001b[1;32mreturn\u001b[0m \u001b[0mself\u001b[0m\u001b[1;33m.\u001b[0m\u001b[0mapply_standard\u001b[0m\u001b[1;33m(\u001b[0m\u001b[1;33m)\u001b[0m\u001b[1;33m\u001b[0m\u001b[1;33m\u001b[0m\u001b[0m\n\u001b[0m\u001b[0;32m   1089\u001b[0m \u001b[1;33m\u001b[0m\u001b[0m\n\u001b[0;32m   1090\u001b[0m     \u001b[1;32mdef\u001b[0m \u001b[0magg\u001b[0m\u001b[1;33m(\u001b[0m\u001b[0mself\u001b[0m\u001b[1;33m)\u001b[0m\u001b[1;33m:\u001b[0m\u001b[1;33m\u001b[0m\u001b[1;33m\u001b[0m\u001b[0m\n",
      "\u001b[1;32mC:\\ProgramData\\Anaconda3\\lib\\site-packages\\pandas\\core\\apply.py\u001b[0m in \u001b[0;36mapply_standard\u001b[1;34m(self)\u001b[0m\n\u001b[0;32m   1141\u001b[0m                 \u001b[1;31m# List[Union[Callable[..., Any], str]]]]]\"; expected\u001b[0m\u001b[1;33m\u001b[0m\u001b[1;33m\u001b[0m\u001b[0m\n\u001b[0;32m   1142\u001b[0m                 \u001b[1;31m# \"Callable[[Any], Any]\"\u001b[0m\u001b[1;33m\u001b[0m\u001b[1;33m\u001b[0m\u001b[0m\n\u001b[1;32m-> 1143\u001b[1;33m                 mapped = lib.map_infer(\n\u001b[0m\u001b[0;32m   1144\u001b[0m                     \u001b[0mvalues\u001b[0m\u001b[1;33m,\u001b[0m\u001b[1;33m\u001b[0m\u001b[1;33m\u001b[0m\u001b[0m\n\u001b[0;32m   1145\u001b[0m                     \u001b[0mf\u001b[0m\u001b[1;33m,\u001b[0m  \u001b[1;31m# type: ignore[arg-type]\u001b[0m\u001b[1;33m\u001b[0m\u001b[1;33m\u001b[0m\u001b[0m\n",
      "\u001b[1;32mC:\\ProgramData\\Anaconda3\\lib\\site-packages\\pandas\\_libs\\lib.pyx\u001b[0m in \u001b[0;36mpandas._libs.lib.map_infer\u001b[1;34m()\u001b[0m\n",
      "\u001b[1;32m~\\AppData\\Local\\Temp\\ipykernel_9028\\1660244236.py\u001b[0m in \u001b[0;36mpreprocess\u001b[1;34m(sentence)\u001b[0m\n\u001b[0;32m      2\u001b[0m     \u001b[0msentence\u001b[0m\u001b[1;33m=\u001b[0m\u001b[0mre\u001b[0m\u001b[1;33m.\u001b[0m\u001b[0msub\u001b[0m\u001b[1;33m(\u001b[0m\u001b[1;34m'[^a-zA-Z]'\u001b[0m\u001b[1;33m,\u001b[0m\u001b[1;34m''\u001b[0m\u001b[1;33m,\u001b[0m\u001b[0mstr\u001b[0m\u001b[1;33m(\u001b[0m\u001b[0msentence\u001b[0m\u001b[1;33m)\u001b[0m\u001b[1;33m)\u001b[0m\u001b[1;33m\u001b[0m\u001b[1;33m\u001b[0m\u001b[0m\n\u001b[0;32m      3\u001b[0m     \u001b[0msentence\u001b[0m\u001b[1;33m=\u001b[0m\u001b[0msentence\u001b[0m\u001b[1;33m.\u001b[0m\u001b[0msplit\u001b[0m\u001b[1;33m(\u001b[0m\u001b[1;33m)\u001b[0m\u001b[1;33m\u001b[0m\u001b[1;33m\u001b[0m\u001b[0m\n\u001b[1;32m----> 4\u001b[1;33m     \u001b[0msentence\u001b[0m\u001b[1;33m=\u001b[0m\u001b[1;33m[\u001b[0m\u001b[0mwnl\u001b[0m\u001b[1;33m.\u001b[0m\u001b[0mlemmatize\u001b[0m\u001b[1;33m(\u001b[0m\u001b[0mword\u001b[0m\u001b[1;33m)\u001b[0m\u001b[1;32mfor\u001b[0m \u001b[0mword\u001b[0m \u001b[1;32min\u001b[0m \u001b[0msentence\u001b[0m\u001b[1;33m]\u001b[0m\u001b[1;33m\u001b[0m\u001b[1;33m\u001b[0m\u001b[0m\n\u001b[0m\u001b[0;32m      5\u001b[0m     \u001b[0msentence\u001b[0m\u001b[1;33m=\u001b[0m\u001b[1;33m[\u001b[0m\u001b[0mword\u001b[0m \u001b[1;32mfor\u001b[0m \u001b[0mword\u001b[0m \u001b[1;32min\u001b[0m \u001b[0msentence\u001b[0m \u001b[1;32mif\u001b[0m \u001b[0mword\u001b[0m \u001b[1;32mnot\u001b[0m \u001b[1;32min\u001b[0m \u001b[0mset\u001b[0m\u001b[1;33m(\u001b[0m\u001b[0mstopwords\u001b[0m\u001b[1;33m.\u001b[0m\u001b[0mwords\u001b[0m\u001b[1;33m(\u001b[0m\u001b[1;34m'english'\u001b[0m\u001b[1;33m)\u001b[0m\u001b[1;33m)\u001b[0m\u001b[1;33m]\u001b[0m\u001b[1;33m\u001b[0m\u001b[1;33m\u001b[0m\u001b[0m\n\u001b[0;32m      6\u001b[0m     \u001b[0msentence\u001b[0m \u001b[1;33m=\u001b[0m \u001b[1;34m\" \"\u001b[0m\u001b[1;33m.\u001b[0m\u001b[0mjoin\u001b[0m\u001b[1;33m(\u001b[0m\u001b[0msentence\u001b[0m\u001b[1;33m)\u001b[0m\u001b[1;33m\u001b[0m\u001b[1;33m\u001b[0m\u001b[0m\n",
      "\u001b[1;32m~\\AppData\\Local\\Temp\\ipykernel_9028\\1660244236.py\u001b[0m in \u001b[0;36m<listcomp>\u001b[1;34m(.0)\u001b[0m\n\u001b[0;32m      2\u001b[0m     \u001b[0msentence\u001b[0m\u001b[1;33m=\u001b[0m\u001b[0mre\u001b[0m\u001b[1;33m.\u001b[0m\u001b[0msub\u001b[0m\u001b[1;33m(\u001b[0m\u001b[1;34m'[^a-zA-Z]'\u001b[0m\u001b[1;33m,\u001b[0m\u001b[1;34m''\u001b[0m\u001b[1;33m,\u001b[0m\u001b[0mstr\u001b[0m\u001b[1;33m(\u001b[0m\u001b[0msentence\u001b[0m\u001b[1;33m)\u001b[0m\u001b[1;33m)\u001b[0m\u001b[1;33m\u001b[0m\u001b[1;33m\u001b[0m\u001b[0m\n\u001b[0;32m      3\u001b[0m     \u001b[0msentence\u001b[0m\u001b[1;33m=\u001b[0m\u001b[0msentence\u001b[0m\u001b[1;33m.\u001b[0m\u001b[0msplit\u001b[0m\u001b[1;33m(\u001b[0m\u001b[1;33m)\u001b[0m\u001b[1;33m\u001b[0m\u001b[1;33m\u001b[0m\u001b[0m\n\u001b[1;32m----> 4\u001b[1;33m     \u001b[0msentence\u001b[0m\u001b[1;33m=\u001b[0m\u001b[1;33m[\u001b[0m\u001b[0mwnl\u001b[0m\u001b[1;33m.\u001b[0m\u001b[0mlemmatize\u001b[0m\u001b[1;33m(\u001b[0m\u001b[0mword\u001b[0m\u001b[1;33m)\u001b[0m\u001b[1;32mfor\u001b[0m \u001b[0mword\u001b[0m \u001b[1;32min\u001b[0m \u001b[0msentence\u001b[0m\u001b[1;33m]\u001b[0m\u001b[1;33m\u001b[0m\u001b[1;33m\u001b[0m\u001b[0m\n\u001b[0m\u001b[0;32m      5\u001b[0m     \u001b[0msentence\u001b[0m\u001b[1;33m=\u001b[0m\u001b[1;33m[\u001b[0m\u001b[0mword\u001b[0m \u001b[1;32mfor\u001b[0m \u001b[0mword\u001b[0m \u001b[1;32min\u001b[0m \u001b[0msentence\u001b[0m \u001b[1;32mif\u001b[0m \u001b[0mword\u001b[0m \u001b[1;32mnot\u001b[0m \u001b[1;32min\u001b[0m \u001b[0mset\u001b[0m\u001b[1;33m(\u001b[0m\u001b[0mstopwords\u001b[0m\u001b[1;33m.\u001b[0m\u001b[0mwords\u001b[0m\u001b[1;33m(\u001b[0m\u001b[1;34m'english'\u001b[0m\u001b[1;33m)\u001b[0m\u001b[1;33m)\u001b[0m\u001b[1;33m]\u001b[0m\u001b[1;33m\u001b[0m\u001b[1;33m\u001b[0m\u001b[0m\n\u001b[0;32m      6\u001b[0m     \u001b[0msentence\u001b[0m \u001b[1;33m=\u001b[0m \u001b[1;34m\" \"\u001b[0m\u001b[1;33m.\u001b[0m\u001b[0mjoin\u001b[0m\u001b[1;33m(\u001b[0m\u001b[0msentence\u001b[0m\u001b[1;33m)\u001b[0m\u001b[1;33m\u001b[0m\u001b[1;33m\u001b[0m\u001b[0m\n",
      "\u001b[1;32mC:\\ProgramData\\Anaconda3\\lib\\site-packages\\nltk\\stem\\wordnet.py\u001b[0m in \u001b[0;36mlemmatize\u001b[1;34m(self, word, pos)\u001b[0m\n\u001b[0;32m     43\u001b[0m         \u001b[1;33m:\u001b[0m\u001b[1;32mreturn\u001b[0m\u001b[1;33m:\u001b[0m \u001b[0mThe\u001b[0m \u001b[0mlemma\u001b[0m \u001b[0mof\u001b[0m\u001b[0;31m \u001b[0m\u001b[0;31m`\u001b[0m\u001b[0mword\u001b[0m\u001b[0;31m`\u001b[0m\u001b[1;33m,\u001b[0m \u001b[1;32mfor\u001b[0m \u001b[0mthe\u001b[0m \u001b[0mgiven\u001b[0m\u001b[0;31m \u001b[0m\u001b[0;31m`\u001b[0m\u001b[0mpos\u001b[0m\u001b[0;31m`\u001b[0m\u001b[1;33m.\u001b[0m\u001b[1;33m\u001b[0m\u001b[1;33m\u001b[0m\u001b[0m\n\u001b[0;32m     44\u001b[0m         \"\"\"\n\u001b[1;32m---> 45\u001b[1;33m         \u001b[0mlemmas\u001b[0m \u001b[1;33m=\u001b[0m \u001b[0mwn\u001b[0m\u001b[1;33m.\u001b[0m\u001b[0m_morphy\u001b[0m\u001b[1;33m(\u001b[0m\u001b[0mword\u001b[0m\u001b[1;33m,\u001b[0m \u001b[0mpos\u001b[0m\u001b[1;33m)\u001b[0m\u001b[1;33m\u001b[0m\u001b[1;33m\u001b[0m\u001b[0m\n\u001b[0m\u001b[0;32m     46\u001b[0m         \u001b[1;32mreturn\u001b[0m \u001b[0mmin\u001b[0m\u001b[1;33m(\u001b[0m\u001b[0mlemmas\u001b[0m\u001b[1;33m,\u001b[0m \u001b[0mkey\u001b[0m\u001b[1;33m=\u001b[0m\u001b[0mlen\u001b[0m\u001b[1;33m)\u001b[0m \u001b[1;32mif\u001b[0m \u001b[0mlemmas\u001b[0m \u001b[1;32melse\u001b[0m \u001b[0mword\u001b[0m\u001b[1;33m\u001b[0m\u001b[1;33m\u001b[0m\u001b[0m\n\u001b[0;32m     47\u001b[0m \u001b[1;33m\u001b[0m\u001b[0m\n",
      "\u001b[1;32mC:\\ProgramData\\Anaconda3\\lib\\site-packages\\nltk\\corpus\\util.py\u001b[0m in \u001b[0;36m__getattr__\u001b[1;34m(self, attr)\u001b[0m\n\u001b[0;32m    119\u001b[0m             \u001b[1;32mraise\u001b[0m \u001b[0mAttributeError\u001b[0m\u001b[1;33m(\u001b[0m\u001b[1;34m\"LazyCorpusLoader object has no attribute '__bases__'\"\u001b[0m\u001b[1;33m)\u001b[0m\u001b[1;33m\u001b[0m\u001b[1;33m\u001b[0m\u001b[0m\n\u001b[0;32m    120\u001b[0m \u001b[1;33m\u001b[0m\u001b[0m\n\u001b[1;32m--> 121\u001b[1;33m         \u001b[0mself\u001b[0m\u001b[1;33m.\u001b[0m\u001b[0m__load\u001b[0m\u001b[1;33m(\u001b[0m\u001b[1;33m)\u001b[0m\u001b[1;33m\u001b[0m\u001b[1;33m\u001b[0m\u001b[0m\n\u001b[0m\u001b[0;32m    122\u001b[0m         \u001b[1;31m# This looks circular, but its not, since __load() changes our\u001b[0m\u001b[1;33m\u001b[0m\u001b[1;33m\u001b[0m\u001b[0m\n\u001b[0;32m    123\u001b[0m         \u001b[1;31m# __class__ to something new:\u001b[0m\u001b[1;33m\u001b[0m\u001b[1;33m\u001b[0m\u001b[0m\n",
      "\u001b[1;32mC:\\ProgramData\\Anaconda3\\lib\\site-packages\\nltk\\corpus\\util.py\u001b[0m in \u001b[0;36m__load\u001b[1;34m(self)\u001b[0m\n\u001b[0;32m     87\u001b[0m \u001b[1;33m\u001b[0m\u001b[0m\n\u001b[0;32m     88\u001b[0m         \u001b[1;31m# Load the corpus.\u001b[0m\u001b[1;33m\u001b[0m\u001b[1;33m\u001b[0m\u001b[0m\n\u001b[1;32m---> 89\u001b[1;33m         \u001b[0mcorpus\u001b[0m \u001b[1;33m=\u001b[0m \u001b[0mself\u001b[0m\u001b[1;33m.\u001b[0m\u001b[0m__reader_cls\u001b[0m\u001b[1;33m(\u001b[0m\u001b[0mroot\u001b[0m\u001b[1;33m,\u001b[0m \u001b[1;33m*\u001b[0m\u001b[0mself\u001b[0m\u001b[1;33m.\u001b[0m\u001b[0m__args\u001b[0m\u001b[1;33m,\u001b[0m \u001b[1;33m**\u001b[0m\u001b[0mself\u001b[0m\u001b[1;33m.\u001b[0m\u001b[0m__kwargs\u001b[0m\u001b[1;33m)\u001b[0m\u001b[1;33m\u001b[0m\u001b[1;33m\u001b[0m\u001b[0m\n\u001b[0m\u001b[0;32m     90\u001b[0m \u001b[1;33m\u001b[0m\u001b[0m\n\u001b[0;32m     91\u001b[0m         \u001b[1;31m# This is where the magic happens!  Transform ourselves into\u001b[0m\u001b[1;33m\u001b[0m\u001b[1;33m\u001b[0m\u001b[0m\n",
      "\u001b[1;32mC:\\ProgramData\\Anaconda3\\lib\\site-packages\\nltk\\corpus\\reader\\wordnet.py\u001b[0m in \u001b[0;36m__init__\u001b[1;34m(self, root, omw_reader)\u001b[0m\n\u001b[0;32m   1174\u001b[0m             )\n\u001b[0;32m   1175\u001b[0m         \u001b[1;32melse\u001b[0m\u001b[1;33m:\u001b[0m\u001b[1;33m\u001b[0m\u001b[1;33m\u001b[0m\u001b[0m\n\u001b[1;32m-> 1176\u001b[1;33m             \u001b[0mself\u001b[0m\u001b[1;33m.\u001b[0m\u001b[0mprovenances\u001b[0m \u001b[1;33m=\u001b[0m \u001b[0mself\u001b[0m\u001b[1;33m.\u001b[0m\u001b[0momw_prov\u001b[0m\u001b[1;33m(\u001b[0m\u001b[1;33m)\u001b[0m\u001b[1;33m\u001b[0m\u001b[1;33m\u001b[0m\u001b[0m\n\u001b[0m\u001b[0;32m   1177\u001b[0m \u001b[1;33m\u001b[0m\u001b[0m\n\u001b[0;32m   1178\u001b[0m         \u001b[1;31m# A cache to store the wordnet data of multiple languages\u001b[0m\u001b[1;33m\u001b[0m\u001b[1;33m\u001b[0m\u001b[0m\n",
      "\u001b[1;32mC:\\ProgramData\\Anaconda3\\lib\\site-packages\\nltk\\corpus\\reader\\wordnet.py\u001b[0m in \u001b[0;36momw_prov\u001b[1;34m(self)\u001b[0m\n\u001b[0;32m   1283\u001b[0m         \u001b[0mprovdict\u001b[0m \u001b[1;33m=\u001b[0m \u001b[1;33m{\u001b[0m\u001b[1;33m}\u001b[0m\u001b[1;33m\u001b[0m\u001b[1;33m\u001b[0m\u001b[0m\n\u001b[0;32m   1284\u001b[0m         \u001b[0mprovdict\u001b[0m\u001b[1;33m[\u001b[0m\u001b[1;34m\"eng\"\u001b[0m\u001b[1;33m]\u001b[0m \u001b[1;33m=\u001b[0m \u001b[1;34m\"\"\u001b[0m\u001b[1;33m\u001b[0m\u001b[1;33m\u001b[0m\u001b[0m\n\u001b[1;32m-> 1285\u001b[1;33m         \u001b[0mfileids\u001b[0m \u001b[1;33m=\u001b[0m \u001b[0mself\u001b[0m\u001b[1;33m.\u001b[0m\u001b[0m_omw_reader\u001b[0m\u001b[1;33m.\u001b[0m\u001b[0mfileids\u001b[0m\u001b[1;33m(\u001b[0m\u001b[1;33m)\u001b[0m\u001b[1;33m\u001b[0m\u001b[1;33m\u001b[0m\u001b[0m\n\u001b[0m\u001b[0;32m   1286\u001b[0m         \u001b[1;32mfor\u001b[0m \u001b[0mfileid\u001b[0m \u001b[1;32min\u001b[0m \u001b[0mfileids\u001b[0m\u001b[1;33m:\u001b[0m\u001b[1;33m\u001b[0m\u001b[1;33m\u001b[0m\u001b[0m\n\u001b[0;32m   1287\u001b[0m             \u001b[0mprov\u001b[0m\u001b[1;33m,\u001b[0m \u001b[0mlangfile\u001b[0m \u001b[1;33m=\u001b[0m \u001b[0mos\u001b[0m\u001b[1;33m.\u001b[0m\u001b[0mpath\u001b[0m\u001b[1;33m.\u001b[0m\u001b[0msplit\u001b[0m\u001b[1;33m(\u001b[0m\u001b[0mfileid\u001b[0m\u001b[1;33m)\u001b[0m\u001b[1;33m\u001b[0m\u001b[1;33m\u001b[0m\u001b[0m\n",
      "\u001b[1;32mC:\\ProgramData\\Anaconda3\\lib\\site-packages\\nltk\\corpus\\util.py\u001b[0m in \u001b[0;36m__getattr__\u001b[1;34m(self, attr)\u001b[0m\n\u001b[0;32m    119\u001b[0m             \u001b[1;32mraise\u001b[0m \u001b[0mAttributeError\u001b[0m\u001b[1;33m(\u001b[0m\u001b[1;34m\"LazyCorpusLoader object has no attribute '__bases__'\"\u001b[0m\u001b[1;33m)\u001b[0m\u001b[1;33m\u001b[0m\u001b[1;33m\u001b[0m\u001b[0m\n\u001b[0;32m    120\u001b[0m \u001b[1;33m\u001b[0m\u001b[0m\n\u001b[1;32m--> 121\u001b[1;33m         \u001b[0mself\u001b[0m\u001b[1;33m.\u001b[0m\u001b[0m__load\u001b[0m\u001b[1;33m(\u001b[0m\u001b[1;33m)\u001b[0m\u001b[1;33m\u001b[0m\u001b[1;33m\u001b[0m\u001b[0m\n\u001b[0m\u001b[0;32m    122\u001b[0m         \u001b[1;31m# This looks circular, but its not, since __load() changes our\u001b[0m\u001b[1;33m\u001b[0m\u001b[1;33m\u001b[0m\u001b[0m\n\u001b[0;32m    123\u001b[0m         \u001b[1;31m# __class__ to something new:\u001b[0m\u001b[1;33m\u001b[0m\u001b[1;33m\u001b[0m\u001b[0m\n",
      "\u001b[1;32mC:\\ProgramData\\Anaconda3\\lib\\site-packages\\nltk\\corpus\\util.py\u001b[0m in \u001b[0;36m__load\u001b[1;34m(self)\u001b[0m\n\u001b[0;32m     84\u001b[0m                     \u001b[0mroot\u001b[0m \u001b[1;33m=\u001b[0m \u001b[0mnltk\u001b[0m\u001b[1;33m.\u001b[0m\u001b[0mdata\u001b[0m\u001b[1;33m.\u001b[0m\u001b[0mfind\u001b[0m\u001b[1;33m(\u001b[0m\u001b[1;34mf\"{self.subdir}/{zip_name}\"\u001b[0m\u001b[1;33m)\u001b[0m\u001b[1;33m\u001b[0m\u001b[1;33m\u001b[0m\u001b[0m\n\u001b[0;32m     85\u001b[0m                 \u001b[1;32mexcept\u001b[0m \u001b[0mLookupError\u001b[0m\u001b[1;33m:\u001b[0m\u001b[1;33m\u001b[0m\u001b[1;33m\u001b[0m\u001b[0m\n\u001b[1;32m---> 86\u001b[1;33m                     \u001b[1;32mraise\u001b[0m \u001b[0me\u001b[0m\u001b[1;33m\u001b[0m\u001b[1;33m\u001b[0m\u001b[0m\n\u001b[0m\u001b[0;32m     87\u001b[0m \u001b[1;33m\u001b[0m\u001b[0m\n\u001b[0;32m     88\u001b[0m         \u001b[1;31m# Load the corpus.\u001b[0m\u001b[1;33m\u001b[0m\u001b[1;33m\u001b[0m\u001b[0m\n",
      "\u001b[1;32mC:\\ProgramData\\Anaconda3\\lib\\site-packages\\nltk\\corpus\\util.py\u001b[0m in \u001b[0;36m__load\u001b[1;34m(self)\u001b[0m\n\u001b[0;32m     79\u001b[0m         \u001b[1;32melse\u001b[0m\u001b[1;33m:\u001b[0m\u001b[1;33m\u001b[0m\u001b[1;33m\u001b[0m\u001b[0m\n\u001b[0;32m     80\u001b[0m             \u001b[1;32mtry\u001b[0m\u001b[1;33m:\u001b[0m\u001b[1;33m\u001b[0m\u001b[1;33m\u001b[0m\u001b[0m\n\u001b[1;32m---> 81\u001b[1;33m                 \u001b[0mroot\u001b[0m \u001b[1;33m=\u001b[0m \u001b[0mnltk\u001b[0m\u001b[1;33m.\u001b[0m\u001b[0mdata\u001b[0m\u001b[1;33m.\u001b[0m\u001b[0mfind\u001b[0m\u001b[1;33m(\u001b[0m\u001b[1;34mf\"{self.subdir}/{self.__name}\"\u001b[0m\u001b[1;33m)\u001b[0m\u001b[1;33m\u001b[0m\u001b[1;33m\u001b[0m\u001b[0m\n\u001b[0m\u001b[0;32m     82\u001b[0m             \u001b[1;32mexcept\u001b[0m \u001b[0mLookupError\u001b[0m \u001b[1;32mas\u001b[0m \u001b[0me\u001b[0m\u001b[1;33m:\u001b[0m\u001b[1;33m\u001b[0m\u001b[1;33m\u001b[0m\u001b[0m\n\u001b[0;32m     83\u001b[0m                 \u001b[1;32mtry\u001b[0m\u001b[1;33m:\u001b[0m\u001b[1;33m\u001b[0m\u001b[1;33m\u001b[0m\u001b[0m\n",
      "\u001b[1;32mC:\\ProgramData\\Anaconda3\\lib\\site-packages\\nltk\\data.py\u001b[0m in \u001b[0;36mfind\u001b[1;34m(resource_name, paths)\u001b[0m\n\u001b[0;32m    581\u001b[0m     \u001b[0msep\u001b[0m \u001b[1;33m=\u001b[0m \u001b[1;34m\"*\"\u001b[0m \u001b[1;33m*\u001b[0m \u001b[1;36m70\u001b[0m\u001b[1;33m\u001b[0m\u001b[1;33m\u001b[0m\u001b[0m\n\u001b[0;32m    582\u001b[0m     \u001b[0mresource_not_found\u001b[0m \u001b[1;33m=\u001b[0m \u001b[1;34mf\"\\n{sep}\\n{msg}\\n{sep}\\n\"\u001b[0m\u001b[1;33m\u001b[0m\u001b[1;33m\u001b[0m\u001b[0m\n\u001b[1;32m--> 583\u001b[1;33m     \u001b[1;32mraise\u001b[0m \u001b[0mLookupError\u001b[0m\u001b[1;33m(\u001b[0m\u001b[0mresource_not_found\u001b[0m\u001b[1;33m)\u001b[0m\u001b[1;33m\u001b[0m\u001b[1;33m\u001b[0m\u001b[0m\n\u001b[0m\u001b[0;32m    584\u001b[0m \u001b[1;33m\u001b[0m\u001b[0m\n\u001b[0;32m    585\u001b[0m \u001b[1;33m\u001b[0m\u001b[0m\n",
      "\u001b[1;31mLookupError\u001b[0m: \n**********************************************************************\n  Resource \u001b[93momw-1.4\u001b[0m not found.\n  Please use the NLTK Downloader to obtain the resource:\n\n  \u001b[31m>>> import nltk\n  >>> nltk.download('omw-1.4')\n  \u001b[0m\n  For more information see: https://www.nltk.org/data.html\n\n  Attempted to load \u001b[93mcorpora/omw-1.4\u001b[0m\n\n  Searched in:\n    - 'C:\\\\Users\\\\User/nltk_data'\n    - 'C:\\\\ProgramData\\\\Anaconda3\\\\nltk_data'\n    - 'C:\\\\ProgramData\\\\Anaconda3\\\\share\\\\nltk_data'\n    - 'C:\\\\ProgramData\\\\Anaconda3\\\\lib\\\\nltk_data'\n    - 'C:\\\\Users\\\\User\\\\AppData\\\\Roaming\\\\nltk_data'\n    - 'C:\\\\nltk_data'\n    - 'D:\\\\nltk_data'\n    - 'E:\\\\nltk_data'\n**********************************************************************\n"
     ]
    }
   ],
   "source": [
    "resume_content['lemmatized_content']=resume_content['content'].apply(preprocess)\n",
    "resume_content['lemmatized_content']"
   ]
  },
  {
   "cell_type": "code",
   "execution_count": null,
   "id": "3cc59dfb",
   "metadata": {
    "ExecuteTime": {
     "end_time": "2022-09-10T14:03:47.738670Z",
     "start_time": "2022-09-10T14:03:47.722680Z"
    }
   },
   "outputs": [],
   "source": [
    "resume_content['lemmatized_content']"
   ]
  },
  {
   "cell_type": "code",
   "execution_count": null,
   "id": "e1d8ed4c",
   "metadata": {
    "ExecuteTime": {
     "end_time": "2022-09-10T14:03:49.281752Z",
     "start_time": "2022-09-10T14:03:47.742239Z"
    }
   },
   "outputs": [],
   "source": [
    "resume_content ['content']"
   ]
  },
  {
   "cell_type": "markdown",
   "id": "1db284ca",
   "metadata": {},
   "source": [
    "# analysing data"
   ]
  },
  {
   "cell_type": "code",
   "execution_count": null,
   "id": "b4b6cbc9",
   "metadata": {
    "ExecuteTime": {
     "end_time": "2022-09-10T14:03:53.216558Z",
     "start_time": "2022-09-10T14:03:49.286538Z"
    }
   },
   "outputs": [],
   "source": [
    "pip install textblob\n"
   ]
  },
  {
   "cell_type": "code",
   "execution_count": null,
   "id": "b7796b97",
   "metadata": {
    "ExecuteTime": {
     "end_time": "2022-09-10T14:03:54.155481Z",
     "start_time": "2022-09-10T14:03:53.218446Z"
    }
   },
   "outputs": [],
   "source": [
    "from textblob import TextBlob\n",
    "import matplotlib.pyplot as plt\n",
    "import seaborn as sns"
   ]
  },
  {
   "cell_type": "code",
   "execution_count": null,
   "id": "ea09b1ff",
   "metadata": {},
   "outputs": [],
   "source": []
  },
  {
   "cell_type": "code",
   "execution_count": null,
   "id": "d418bddc",
   "metadata": {
    "ExecuteTime": {
     "end_time": "2022-09-10T14:03:55.268346Z",
     "start_time": "2022-09-10T14:03:54.155481Z"
    }
   },
   "outputs": [],
   "source": [
    "resume_content['lemmatized_content']=resume_content['lemmatized_content'].apply(lambda x : TextBlob(x).sentiment.polarity)\n",
    "resume_content"
   ]
  },
  {
   "cell_type": "code",
   "execution_count": null,
   "id": "bd8bf03c",
   "metadata": {
    "ExecuteTime": {
     "end_time": "2022-09-10T14:03:56.105440Z",
     "start_time": "2022-09-10T14:03:55.274475Z"
    }
   },
   "outputs": [],
   "source": [
    "resume_content['sentiment']=resume_content['content'].apply(lambda x : TextBlob(x).sentiment.polarity)\n",
    "resume_content"
   ]
  },
  {
   "cell_type": "code",
   "execution_count": null,
   "id": "71a9b9f7",
   "metadata": {
    "ExecuteTime": {
     "end_time": "2022-09-10T14:03:58.709397Z",
     "start_time": "2022-09-10T14:03:56.107554Z"
    }
   },
   "outputs": [],
   "source": [
    "plt.figure(figsize=(20,11))\n",
    "plt.hist(resume_content['sentiment'])\n",
    "plt.xlabel('Sentiment',fontsize=15)\n",
    "plt.ylabel('Frequency',fontsize=15)\n",
    "plt.title('Sentimental Distribution',fontsize=20)\n",
    "plt.show()"
   ]
  },
  {
   "cell_type": "code",
   "execution_count": null,
   "id": "0c1f9076",
   "metadata": {
    "ExecuteTime": {
     "end_time": "2022-09-10T14:03:59.112713Z",
     "start_time": "2022-09-10T14:03:58.712351Z"
    }
   },
   "outputs": [],
   "source": [
    "from six import text_type\n",
    "x=resume_content['result'].value_counts()\n",
    "plt.figure(figsize=(20,10))\n",
    "sns.barplot(x.index,x.values)\n",
    "plt.title('Result Distribution ')\n",
    "plt.ylabel('Frequency', fontsize=10)\n",
    "plt.yticks(fontsize=10)\n",
    "plt.xlabel('Resume CLassifiers', fontsize=10)\n",
    "plt.xticks(fontsize=10)\n",
    "plt.show()"
   ]
  },
  {
   "cell_type": "code",
   "execution_count": null,
   "id": "898995ce",
   "metadata": {
    "ExecuteTime": {
     "end_time": "2022-09-10T14:04:01.145217Z",
     "start_time": "2022-09-10T14:03:59.115230Z"
    }
   },
   "outputs": [],
   "source": [
    "plt.figure(figsize=(20,10))\n",
    "resume_content['result'].value_counts().plot(kind='pie',autopct='%1.0f%%')\n",
    "plt.show()"
   ]
  },
  {
   "cell_type": "code",
   "execution_count": null,
   "id": "246b0d85",
   "metadata": {
    "ExecuteTime": {
     "end_time": "2022-09-10T14:04:01.728982Z",
     "start_time": "2022-09-10T14:04:01.151102Z"
    }
   },
   "outputs": [],
   "source": [
    "resume_content.groupby('result')['sentiment'].mean().plot(kind='bar',figsize=(20,10))\n",
    "plt.xlabel('Result', fontsize=20)\n",
    "plt.ylabel('Average Sentiment', fontsize=20)\n",
    "plt.title('Average Sentiment per Result Distribution', fontsize=20)\n",
    "plt.show()"
   ]
  },
  {
   "cell_type": "code",
   "execution_count": null,
   "id": "64f76543",
   "metadata": {
    "ExecuteTime": {
     "end_time": "2022-09-10T14:04:01.873839Z",
     "start_time": "2022-09-10T14:04:01.734874Z"
    }
   },
   "outputs": [],
   "source": [
    "tokenizer = RegexpTokenizer(r'\\w+')\n",
    "resume_content['word_count'] = resume_content['content'].apply(lambda x: len(str(x).split()))\n",
    "resume_content['result_len'] = resume_content['content'].astype(str).apply(len)\n",
    "resume_content['result_len']"
   ]
  },
  {
   "cell_type": "code",
   "execution_count": null,
   "id": "14abe54e",
   "metadata": {
    "ExecuteTime": {
     "end_time": "2022-09-10T14:04:03.028098Z",
     "start_time": "2022-09-10T14:04:01.881716Z"
    },
    "scrolled": true
   },
   "outputs": [],
   "source": [
    "resume_content.groupby('result')['result_len'].mean().plot(kind='bar',figsize=(20,10))\n",
    "plt.xlabel('Result')\n",
    "plt.ylabel('Count of Letters in Result')\n",
    "plt.title('Average Number of Letters per Result Distribution', fontsize=20)\n",
    "plt.show()"
   ]
  },
  {
   "cell_type": "code",
   "execution_count": null,
   "id": "bdef61a3",
   "metadata": {
    "ExecuteTime": {
     "end_time": "2022-09-10T14:04:03.560260Z",
     "start_time": "2022-09-10T14:04:03.033566Z"
    }
   },
   "outputs": [],
   "source": [
    "resume_content.groupby('result')['word_count'].mean().plot(kind='bar',figsize=(20,10))\n",
    "plt.xlabel('Result')\n",
    "plt.ylabel('Count of Words in Result')\n",
    "plt.title('Average Number of words per Result Distribution', fontsize=20)\n",
    "plt.show()"
   ]
  },
  {
   "cell_type": "code",
   "execution_count": null,
   "id": "7991bc49",
   "metadata": {
    "ExecuteTime": {
     "end_time": "2022-09-10T14:04:04.852194Z",
     "start_time": "2022-09-10T14:04:03.562867Z"
    }
   },
   "outputs": [],
   "source": [
    "plt.figure(figsize=(20,10))\n",
    "correlation=resume_content[['result','sentiment','word_count','result_len']].corr()\n",
    "mask = np.zeros_like(correlation)\n",
    "mask[np.triu_indices_from(mask)] = True\n",
    "sns.heatmap(correlation,annot=True,mask=mask)\n",
    "plt.show()"
   ]
  },
  {
   "cell_type": "code",
   "execution_count": null,
   "id": "58e84975",
   "metadata": {
    "ExecuteTime": {
     "end_time": "2022-09-10T14:04:09.676221Z",
     "start_time": "2022-09-10T14:04:04.855038Z"
    }
   },
   "outputs": [],
   "source": [
    "pip install wordcloud"
   ]
  },
  {
   "cell_type": "code",
   "execution_count": null,
   "id": "7351b471",
   "metadata": {
    "ExecuteTime": {
     "end_time": "2022-09-10T14:04:09.694160Z",
     "start_time": "2022-09-10T14:04:09.679261Z"
    }
   },
   "outputs": [],
   "source": [
    "words=resume_content['content']\n",
    "allwords=[]\n",
    "for wordlist in words:\n",
    "    allwords=wordlist\n",
    "print(allwords)\n",
    "print('length of all words : ',len(allwords))"
   ]
  },
  {
   "cell_type": "code",
   "execution_count": null,
   "id": "c4fbf1f8",
   "metadata": {
    "ExecuteTime": {
     "end_time": "2022-09-10T14:04:10.301513Z",
     "start_time": "2022-09-10T14:04:09.709733Z"
    }
   },
   "outputs": [],
   "source": [
    "from nltk.probability import FreqDist\n",
    "mostcommon=FreqDist(words).most_common(100)\n"
   ]
  },
  {
   "cell_type": "code",
   "execution_count": null,
   "id": "3eb0e225",
   "metadata": {
    "ExecuteTime": {
     "end_time": "2022-09-10T14:04:14.975146Z",
     "start_time": "2022-09-10T14:04:10.301513Z"
    }
   },
   "outputs": [],
   "source": [
    "from wordcloud import WordCloud, ImageColorGenerator\n",
    "wordcloud=WordCloud(width=1000, height=600, background_color='black').generate(str(mostcommon))\n",
    "fig = plt.figure(figsize=(20,10), facecolor='white')\n",
    "plt.title('Top 100 Most Common Words', fontsize=50)\n",
    "plt.axis('off')\n",
    "plt.imshow(wordcloud, interpolation=\"bilinear\")\n",
    "plt.tight_layout(pad=0)\n",
    "plt.show()"
   ]
  },
  {
   "cell_type": "code",
   "execution_count": null,
   "id": "42f8e5c0",
   "metadata": {
    "ExecuteTime": {
     "end_time": "2022-09-10T14:04:14.993275Z",
     "start_time": "2022-09-10T14:04:14.979134Z"
    }
   },
   "outputs": [],
   "source": [
    "mostcommon_small=FreqDist(allwords).most_common(50)"
   ]
  },
  {
   "cell_type": "code",
   "execution_count": null,
   "id": "5b7dc12b",
   "metadata": {
    "ExecuteTime": {
     "end_time": "2022-09-10T14:04:16.118408Z",
     "start_time": "2022-09-10T14:04:14.996489Z"
    }
   },
   "outputs": [],
   "source": [
    "x,y=zip(*mostcommon_small)\n",
    "plt.figure(figsize=(20,10))\n",
    "plt.margins(0.03)\n",
    "plt.bar(x,y)\n",
    "plt.xlabel('Words', fontsize=20)\n",
    "plt.ylabel('Frequency of Words', fontsize=20)\n",
    "plt.yticks(fontsize=20)\n",
    "plt.xticks(rotation=90, fontsize=20)\n",
    "plt.title('Frequency of 50 Most Common Words', fontsize=20)\n",
    "plt.show()"
   ]
  },
  {
   "cell_type": "code",
   "execution_count": null,
   "id": "d3225684",
   "metadata": {
    "ExecuteTime": {
     "end_time": "2022-09-10T14:04:16.208175Z",
     "start_time": "2022-09-10T14:04:16.121339Z"
    }
   },
   "outputs": [],
   "source": [
    "from collections import Counter\n",
    "mostfreq=resume_content.groupby('result')['content'].apply(lambda x : Counter(' '.join(x).split()).most_common(50))\n",
    "mostfreq"
   ]
  },
  {
   "cell_type": "code",
   "execution_count": null,
   "id": "cb081b39",
   "metadata": {
    "ExecuteTime": {
     "end_time": "2022-09-10T14:04:18.477506Z",
     "start_time": "2022-09-10T14:04:16.210169Z"
    }
   },
   "outputs": [],
   "source": [
    "peoplesoft_most50=mostfreq.iloc[0]\n",
    "words=list(zip(*peoplesoft_most50))[0]\n",
    "freq=list(zip(*peoplesoft_most50))[1]\n",
    "plt.figure(figsize=(20,10))\n",
    "plt.bar(words, freq)\n",
    "plt.xlabel('Words', fontsize=20)\n",
    "plt.ylabel('Frequency of Words', fontsize=20)\n",
    "plt.yticks(fontsize=20)\n",
    "plt.xticks(rotation=80, fontsize=20)\n",
    "plt.title('Frequency of 50 Most Common Words for Peoplesoft Resume ', fontsize=25)\n",
    "plt.show()"
   ]
  },
  {
   "cell_type": "code",
   "execution_count": null,
   "id": "3971d0f1",
   "metadata": {
    "ExecuteTime": {
     "end_time": "2022-09-10T14:04:19.564323Z",
     "start_time": "2022-09-10T14:04:18.479401Z"
    }
   },
   "outputs": [],
   "source": [
    "developer_most50=mostfreq.iloc[1]\n",
    "words=list(zip(*developer_most50))[0]\n",
    "freq=list(zip(*developer_most50))[1]\n",
    "plt.figure(figsize=(20,10))\n",
    "plt.bar(words, freq)\n",
    "plt.xlabel('Words', fontsize=20)\n",
    "plt.ylabel('Frequency of Words', fontsize=20)\n",
    "plt.yticks(fontsize=20)\n",
    "plt.xticks(rotation=80, fontsize=20)\n",
    "plt.title('Frequency of 50 Most Common Words for developer Resume ', fontsize=25)\n",
    "plt.show()"
   ]
  },
  {
   "cell_type": "code",
   "execution_count": null,
   "id": "ad1c5000",
   "metadata": {
    "ExecuteTime": {
     "end_time": "2022-09-10T14:04:20.599236Z",
     "start_time": "2022-09-10T14:04:19.565354Z"
    }
   },
   "outputs": [],
   "source": [
    "SQLDeveloper_most50=mostfreq.iloc[2]\n",
    "words=list(zip(*SQLDeveloper_most50))[0]\n",
    "freq=list(zip(*SQLDeveloper_most50))[1]\n",
    "plt.figure(figsize=(20,10))\n",
    "plt.bar(words, freq)\n",
    "plt.xlabel('Words', fontsize=20)\n",
    "plt.ylabel('Frequency of Words', fontsize=20)\n",
    "plt.yticks(fontsize=20)\n",
    "plt.xticks(rotation=80, fontsize=20)\n",
    "plt.title('Frequency of 50 Most Common Words for SQL DEVELOPER Resume', fontsize=25)\n",
    "plt.show()"
   ]
  },
  {
   "cell_type": "code",
   "execution_count": null,
   "id": "f6d91041",
   "metadata": {
    "ExecuteTime": {
     "end_time": "2022-09-10T14:04:22.040210Z",
     "start_time": "2022-09-10T14:04:20.601220Z"
    }
   },
   "outputs": [],
   "source": [
    "workday_most50=mostfreq.iloc[3]\n",
    "words=list(zip(*workday_most50))[0]\n",
    "freq=list(zip(*workday_most50))[1]\n",
    "plt.figure(figsize=(20,10))\n",
    "plt.bar(words, freq)\n",
    "plt.xlabel('Words', fontsize=20)\n",
    "plt.ylabel('Frequency of Words', fontsize=20)\n",
    "plt.yticks(fontsize=20)\n",
    "plt.xticks(rotation=80, fontsize=20)\n",
    "plt.title('Frequency of 50 Most Common Words for workday Resume ', fontsize=25)\n",
    "plt.show()"
   ]
  },
  {
   "cell_type": "markdown",
   "id": "432c7d22",
   "metadata": {},
   "source": [
    "# Vectorizering"
   ]
  },
  {
   "cell_type": "code",
   "execution_count": null,
   "id": "3f3114af",
   "metadata": {
    "ExecuteTime": {
     "end_time": "2022-09-10T14:04:22.112709Z",
     "start_time": "2022-09-10T14:04:22.043838Z"
    }
   },
   "outputs": [],
   "source": [
    "tfidf_vect=TfidfVectorizer()\n",
    "X_train_tfidf=tfidf_vect.fit(resume_content['content'])"
   ]
  },
  {
   "cell_type": "code",
   "execution_count": null,
   "id": "7b8b0bc1",
   "metadata": {
    "ExecuteTime": {
     "end_time": "2022-09-10T14:04:23.039455Z",
     "start_time": "2022-09-10T14:04:22.114707Z"
    }
   },
   "outputs": [],
   "source": [
    "X_train_tfiresume_data_transform=X_train_tfidf.transform(resume_content['content'])"
   ]
  },
  {
   "cell_type": "code",
   "execution_count": null,
   "id": "052f8006",
   "metadata": {
    "ExecuteTime": {
     "end_time": "2022-09-10T14:04:23.091423Z",
     "start_time": "2022-09-10T14:04:23.045143Z"
    }
   },
   "outputs": [],
   "source": [
    "X_train, X_test, y_train, y_test = train_test_split(X_train_tfiresume_data_transform,resume_content['result'],test_size=0.5, random_state=30,shuffle=True)"
   ]
  },
  {
   "cell_type": "code",
   "execution_count": null,
   "id": "d473e736",
   "metadata": {
    "ExecuteTime": {
     "end_time": "2022-09-10T14:04:23.240202Z",
     "start_time": "2022-09-10T14:04:23.101057Z"
    }
   },
   "outputs": [],
   "source": [
    "print(X_train.shape,y_train.shape)\n",
    "X_test.shape,y_test.shape"
   ]
  },
  {
   "cell_type": "code",
   "execution_count": null,
   "id": "01191a1a",
   "metadata": {
    "ExecuteTime": {
     "end_time": "2022-09-10T14:04:23.351005Z",
     "start_time": "2022-09-10T14:04:23.240631Z"
    }
   },
   "outputs": [],
   "source": [
    "def accuracy(y_train,y_train_pred,y_test,y_test_pred):\n",
    "    print('Train Accuracy\\n')\n",
    "    print(classification_report(y_train,y_train_pred))\n",
    "    print('\\n',confusion_matrix(y_train,y_train_pred))\n",
    "    print('\\n',accuracy_score(y_train,y_train_pred))\n",
    "    print('*'*100)\n",
    "    print('Test Accuracy\\n')\n",
    "    print(classification_report(y_test,y_test_pred))\n",
    "    print('\\n',confusion_matrix(y_test,y_test_pred))\n",
    "    print('\\n',accuracy_score(y_test,y_test_pred))"
   ]
  },
  {
   "cell_type": "code",
   "execution_count": null,
   "id": "685a0673",
   "metadata": {},
   "outputs": [],
   "source": []
  },
  {
   "cell_type": "markdown",
   "id": "dcab529c",
   "metadata": {},
   "source": [
    "# 1.LOGISTIC REGRESSION"
   ]
  },
  {
   "cell_type": "code",
   "execution_count": null,
   "id": "86ccd86a",
   "metadata": {
    "ExecuteTime": {
     "end_time": "2022-09-10T14:04:23.720105Z",
     "start_time": "2022-09-10T14:04:23.356447Z"
    }
   },
   "outputs": [],
   "source": [
    "lr=LogisticRegression()\n",
    "lr.fit(X_train,y_train)\n",
    "y_train_prediction=lr.predict(X_train)\n",
    "y_test_prediction=lr.predict(X_test)"
   ]
  },
  {
   "cell_type": "code",
   "execution_count": null,
   "id": "be2692d8",
   "metadata": {
    "ExecuteTime": {
     "end_time": "2022-09-10T14:04:23.779009Z",
     "start_time": "2022-09-10T14:04:23.724103Z"
    },
    "scrolled": true
   },
   "outputs": [],
   "source": [
    "accuracy(y_train,y_train_prediction,y_test,y_test_prediction)"
   ]
  },
  {
   "cell_type": "code",
   "execution_count": null,
   "id": "cec253fc",
   "metadata": {
    "ExecuteTime": {
     "end_time": "2022-09-10T14:04:24.004244Z",
     "start_time": "2022-09-10T14:04:23.780007Z"
    }
   },
   "outputs": [],
   "source": [
    "lr=LogisticRegression()\n",
    "lr.fit(X_train,y_train)"
   ]
  },
  {
   "cell_type": "markdown",
   "id": "fba3ee2e",
   "metadata": {},
   "source": [
    "# 2.Multinomial naive bayes"
   ]
  },
  {
   "cell_type": "code",
   "execution_count": null,
   "id": "864e4143",
   "metadata": {
    "ExecuteTime": {
     "end_time": "2022-09-10T14:04:24.021065Z",
     "start_time": "2022-09-10T14:04:24.007562Z"
    }
   },
   "outputs": [],
   "source": [
    "naivebayes=MultinomialNB()\n",
    "naivebayes.fit(X_train,y_train)\n",
    "y_train_prediction=naivebayes.predict(X_train)\n",
    "y_test_prediction=naivebayes.predict(X_test)"
   ]
  },
  {
   "cell_type": "code",
   "execution_count": null,
   "id": "d1e18cb2",
   "metadata": {
    "ExecuteTime": {
     "end_time": "2022-09-10T14:04:24.186738Z",
     "start_time": "2022-09-10T14:04:24.024390Z"
    }
   },
   "outputs": [],
   "source": [
    "accuracy(y_train,y_train_prediction,y_test,y_test_prediction)"
   ]
  },
  {
   "cell_type": "code",
   "execution_count": null,
   "id": "ff545c5a",
   "metadata": {
    "ExecuteTime": {
     "end_time": "2022-09-10T14:04:24.256244Z",
     "start_time": "2022-09-10T14:04:24.190718Z"
    }
   },
   "outputs": [],
   "source": [
    "naivebayes=MultinomialNB()\n",
    "naivebayes.fit(X_train,y_train)"
   ]
  },
  {
   "cell_type": "markdown",
   "id": "e667c0a4",
   "metadata": {},
   "source": [
    "# 3.RandomForestClassifier"
   ]
  },
  {
   "cell_type": "code",
   "execution_count": null,
   "id": "dbdd67a0",
   "metadata": {
    "ExecuteTime": {
     "end_time": "2022-09-10T14:04:24.889611Z",
     "start_time": "2022-09-10T14:04:24.259280Z"
    }
   },
   "outputs": [],
   "source": [
    "randomforest = RandomForestClassifier(max_features=400)\n",
    "randomforest.fit(X_train,y_train)\n",
    "y_train_prediction = randomforest.predict(X_train)\n",
    "y_test_prediction = randomforest.predict(X_test)"
   ]
  },
  {
   "cell_type": "code",
   "execution_count": null,
   "id": "15c0caef",
   "metadata": {
    "ExecuteTime": {
     "end_time": "2022-09-10T14:04:25.001446Z",
     "start_time": "2022-09-10T14:04:24.892594Z"
    }
   },
   "outputs": [],
   "source": [
    "accuracy(y_train,y_train_prediction,y_test,y_test_prediction)"
   ]
  },
  {
   "cell_type": "code",
   "execution_count": null,
   "id": "25d19074",
   "metadata": {
    "ExecuteTime": {
     "end_time": "2022-09-10T14:04:26.066308Z",
     "start_time": "2022-09-10T14:04:25.011159Z"
    },
    "scrolled": true
   },
   "outputs": [],
   "source": [
    "randomforest = RandomForestClassifier()\n",
    "randomforest.fit(X_train,y_train)"
   ]
  },
  {
   "cell_type": "markdown",
   "id": "a9207ff8",
   "metadata": {},
   "source": [
    "# 4.GradientBoostingClassifier"
   ]
  },
  {
   "cell_type": "code",
   "execution_count": null,
   "id": "7aa10e9f",
   "metadata": {
    "ExecuteTime": {
     "end_time": "2022-09-10T14:04:28.538020Z",
     "start_time": "2022-09-10T14:04:26.070452Z"
    }
   },
   "outputs": [],
   "source": [
    "gradientboosting = GradientBoostingClassifier()\n",
    "gradientboosting.fit(X_train,y_train)\n",
    "y_train_prediction = gradientboosting.predict(X_train)\n",
    "y_test_pred = gradientboosting.predict(X_test)"
   ]
  },
  {
   "cell_type": "code",
   "execution_count": null,
   "id": "0a70ea23",
   "metadata": {
    "ExecuteTime": {
     "end_time": "2022-09-10T14:04:28.589093Z",
     "start_time": "2022-09-10T14:04:28.538020Z"
    }
   },
   "outputs": [],
   "source": [
    "accuracy(y_train,y_train_prediction,y_test,y_test_prediction)"
   ]
  },
  {
   "cell_type": "code",
   "execution_count": null,
   "id": "0e0bc3a8",
   "metadata": {
    "ExecuteTime": {
     "end_time": "2022-09-10T14:04:32.338257Z",
     "start_time": "2022-09-10T14:04:28.593663Z"
    }
   },
   "outputs": [],
   "source": [
    "gradientboosting= GradientBoostingClassifier()\n",
    "gradientboosting.fit(X_train,y_train)"
   ]
  },
  {
   "cell_type": "code",
   "execution_count": null,
   "id": "3e26f0a0",
   "metadata": {},
   "outputs": [],
   "source": [
    "\n"
   ]
  },
  {
   "cell_type": "code",
   "execution_count": null,
   "id": "4c0f7ed3",
   "metadata": {
    "ExecuteTime": {
     "end_time": "2022-09-10T14:04:32.347580Z",
     "start_time": "2022-09-10T14:04:32.341592Z"
    }
   },
   "outputs": [],
   "source": [
    "import pickle"
   ]
  },
  {
   "cell_type": "code",
   "execution_count": null,
   "id": "f0046128",
   "metadata": {
    "ExecuteTime": {
     "end_time": "2022-09-10T14:04:33.854544Z",
     "start_time": "2022-09-10T14:04:32.349675Z"
    }
   },
   "outputs": [],
   "source": [
    "pickle.dump(randomforest,open('randomforest.pkl','wb'))"
   ]
  },
  {
   "cell_type": "code",
   "execution_count": null,
   "id": "5a29fbd1",
   "metadata": {
    "ExecuteTime": {
     "end_time": "2022-09-10T14:04:34.460255Z",
     "start_time": "2022-09-10T14:04:33.862516Z"
    }
   },
   "outputs": [],
   "source": [
    "import pickle"
   ]
  },
  {
   "cell_type": "code",
   "execution_count": null,
   "id": "a25ec0f2",
   "metadata": {
    "ExecuteTime": {
     "end_time": "2022-09-10T14:04:34.837017Z",
     "start_time": "2022-09-10T14:04:34.470215Z"
    }
   },
   "outputs": [],
   "source": [
    "pickle.dump(X_train_tfidf,open('vect.pk1','wb'))"
   ]
  },
  {
   "cell_type": "code",
   "execution_count": null,
   "id": "47196fb9",
   "metadata": {
    "ExecuteTime": {
     "end_time": "2022-09-10T14:04:35.059438Z",
     "start_time": "2022-09-10T14:04:34.844549Z"
    }
   },
   "outputs": [],
   "source": [
    "import pickle"
   ]
  },
  {
   "cell_type": "code",
   "execution_count": null,
   "id": "22b7c0e1",
   "metadata": {
    "ExecuteTime": {
     "end_time": "2022-09-10T14:04:35.223606Z",
     "start_time": "2022-09-10T14:04:35.069675Z"
    }
   },
   "outputs": [],
   "source": [
    "pickle.dump(gradientboosting, open('gradientboosting.pkl', 'wb'))"
   ]
  },
  {
   "cell_type": "code",
   "execution_count": null,
   "id": "b9b3d539",
   "metadata": {
    "ExecuteTime": {
     "end_time": "2022-09-10T14:04:35.420460Z",
     "start_time": "2022-09-10T14:04:35.228926Z"
    }
   },
   "outputs": [],
   "source": [
    "pickled_model=pickle.load(open('gradientboosting.pkl','rb'))"
   ]
  },
  {
   "cell_type": "code",
   "execution_count": null,
   "id": "b7c0e1f8",
   "metadata": {},
   "outputs": [],
   "source": []
  },
  {
   "cell_type": "code",
   "execution_count": null,
   "id": "6de37320",
   "metadata": {},
   "outputs": [],
   "source": []
  }
 ],
 "metadata": {
  "kernelspec": {
   "display_name": "Python 3 (ipykernel)",
   "language": "python",
   "name": "python3"
  },
  "language_info": {
   "codemirror_mode": {
    "name": "ipython",
    "version": 3
   },
   "file_extension": ".py",
   "mimetype": "text/x-python",
   "name": "python",
   "nbconvert_exporter": "python",
   "pygments_lexer": "ipython3",
   "version": "3.9.13"
  },
  "varInspector": {
   "cols": {
    "lenName": 16,
    "lenType": 16,
    "lenVar": 40
   },
   "kernels_config": {
    "python": {
     "delete_cmd_postfix": "",
     "delete_cmd_prefix": "del ",
     "library": "var_list.py",
     "varRefreshCmd": "print(var_dic_list())"
    },
    "r": {
     "delete_cmd_postfix": ") ",
     "delete_cmd_prefix": "rm(",
     "library": "var_list.r",
     "varRefreshCmd": "cat(var_dic_list()) "
    }
   },
   "types_to_exclude": [
    "module",
    "function",
    "builtin_function_or_method",
    "instance",
    "_Feature"
   ],
   "window_display": false
  }
 },
 "nbformat": 4,
 "nbformat_minor": 5
}
